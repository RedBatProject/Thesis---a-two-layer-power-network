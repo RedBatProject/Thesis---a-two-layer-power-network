{
  "nbformat": 4,
  "nbformat_minor": 0,
  "metadata": {
    "colab": {
      "provenance": [],
      "collapsed_sections": [
        "7llohALuqDBj"
      ],
      "authorship_tag": "ABX9TyP9R0wWPJQolyzAg0kXhWWt",
      "include_colab_link": true
    },
    "kernelspec": {
      "name": "python3",
      "display_name": "Python 3"
    },
    "language_info": {
      "name": "python"
    }
  },
  "cells": [
    {
      "cell_type": "markdown",
      "metadata": {
        "id": "view-in-github",
        "colab_type": "text"
      },
      "source": [
        "<a href=\"https://colab.research.google.com/github/RedBatProject/Thesis---a-two-layer-power-network/blob/main/Doing_thesis_sep1th.ipynb\" target=\"_parent\"><img src=\"https://colab.research.google.com/assets/colab-badge.svg\" alt=\"Open In Colab\"/></a>"
      ]
    },
    {
      "cell_type": "markdown",
      "source": [
        "# All the imports here"
      ],
      "metadata": {
        "id": "7llohALuqDBj"
      }
    },
    {
      "cell_type": "code",
      "execution_count": 1,
      "metadata": {
        "colab": {
          "base_uri": "https://localhost:8080/"
        },
        "id": "sA2vARFxpl5F",
        "outputId": "995770f7-fb2b-4e0e-e22c-560469173198"
      },
      "outputs": [
        {
          "output_type": "stream",
          "name": "stdout",
          "text": [
            "Collecting pandapower\n",
            "  Downloading pandapower-2.13.1.zip (10.8 MB)\n",
            "\u001b[2K     \u001b[90m━━━━━━━━━━━━━━━━━━━━━━━━━━━━━━━━━━━━━━━━\u001b[0m \u001b[32m10.8/10.8 MB\u001b[0m \u001b[31m21.5 MB/s\u001b[0m eta \u001b[36m0:00:00\u001b[0m\n",
            "\u001b[?25h  Preparing metadata (setup.py) ... \u001b[?25l\u001b[?25hdone\n",
            "Requirement already satisfied: pandas>=1.0 in /usr/local/lib/python3.10/dist-packages (from pandapower) (1.5.3)\n",
            "Requirement already satisfied: networkx>=2.5 in /usr/local/lib/python3.10/dist-packages (from pandapower) (3.1)\n",
            "Requirement already satisfied: scipy in /usr/local/lib/python3.10/dist-packages (from pandapower) (1.10.1)\n",
            "Requirement already satisfied: numpy in /usr/local/lib/python3.10/dist-packages (from pandapower) (1.23.5)\n",
            "Requirement already satisfied: packaging in /usr/local/lib/python3.10/dist-packages (from pandapower) (23.1)\n",
            "Requirement already satisfied: tqdm in /usr/local/lib/python3.10/dist-packages (from pandapower) (4.66.1)\n",
            "Collecting deepdiff (from pandapower)\n",
            "  Downloading deepdiff-6.4.1-py3-none-any.whl (70 kB)\n",
            "\u001b[2K     \u001b[90m━━━━━━━━━━━━━━━━━━━━━━━━━━━━━━━━━━━━━━━━\u001b[0m \u001b[32m70.9/70.9 kB\u001b[0m \u001b[31m7.6 MB/s\u001b[0m eta \u001b[36m0:00:00\u001b[0m\n",
            "\u001b[?25hRequirement already satisfied: python-dateutil>=2.8.1 in /usr/local/lib/python3.10/dist-packages (from pandas>=1.0->pandapower) (2.8.2)\n",
            "Requirement already satisfied: pytz>=2020.1 in /usr/local/lib/python3.10/dist-packages (from pandas>=1.0->pandapower) (2023.3)\n",
            "Collecting ordered-set<4.2.0,>=4.0.2 (from deepdiff->pandapower)\n",
            "  Downloading ordered_set-4.1.0-py3-none-any.whl (7.6 kB)\n",
            "Requirement already satisfied: six>=1.5 in /usr/local/lib/python3.10/dist-packages (from python-dateutil>=2.8.1->pandas>=1.0->pandapower) (1.16.0)\n",
            "Building wheels for collected packages: pandapower\n",
            "  Building wheel for pandapower (setup.py) ... \u001b[?25l\u001b[?25hdone\n",
            "  Created wheel for pandapower: filename=pandapower-2.13.1-py3-none-any.whl size=10803675 sha256=f3d7ebe756cc5f00f1c1fd9a208bff9dc3da56d46b3d55ae3c8b62ece091dff8\n",
            "  Stored in directory: /root/.cache/pip/wheels/6b/58/fb/c5c16044f0046e905e2fe55de3af6c0a43bfcc3219ed5d3af8\n",
            "Successfully built pandapower\n",
            "Installing collected packages: ordered-set, deepdiff, pandapower\n",
            "Successfully installed deepdiff-6.4.1 ordered-set-4.1.0 pandapower-2.13.1\n"
          ]
        }
      ],
      "source": [
        "%pip install pandapower\n",
        "import pandapower as pp\n",
        "import networkx as nx\n",
        "import pandapower.networks as pn\n",
        "import pandas as pd\n",
        "import matplotlib.pyplot as plt\n",
        "import numpy as np\n",
        "import pandapower.topology as top\n",
        "# import networkx as nx\n",
        "from pandapower import plotting\n",
        "from pandapower.plotting import simple_plot, pf_res_plotly,simple_plotly\n",
        "import random as rn\n",
        "import matplotlib.pyplot as plt\n",
        "import numpy as np\n",
        "import pandas as pd\n",
        "import numba\n",
        "# plt.rcParams['figure.dpi'] = 100\n",
        "# plt.rcParams['savefig.dpi'] = 100"
      ]
    },
    {
      "cell_type": "code",
      "source": [
        "import time"
      ],
      "metadata": {
        "id": "mfp0gFqfq6DZ"
      },
      "execution_count": 12,
      "outputs": []
    },
    {
      "cell_type": "code",
      "source": [
        "from google.colab import drive\n",
        "drive.mount('/content/drive')"
      ],
      "metadata": {
        "colab": {
          "base_uri": "https://localhost:8080/"
        },
        "id": "JqDTti1QqGOD",
        "outputId": "29753062-6c8c-4387-eaaa-58cf1afaedc6"
      },
      "execution_count": 2,
      "outputs": [
        {
          "output_type": "stream",
          "name": "stdout",
          "text": [
            "Mounted at /content/drive\n"
          ]
        }
      ]
    },
    {
      "cell_type": "code",
      "source": [
        "seed = 1537\n",
        "alpha = 0.39\n",
        "beta = 0.1\n",
        "gamma = 1-(alpha + beta)\n",
        "alpha,beta,gamma\n",
        "np.random.seed(seed)\n",
        "\n",
        "\n",
        "nodes=101\n",
        "k=4\n",
        "# seed=seed\n",
        "# np.random.seed(seed)\n",
        "\n",
        "p=0.2\n",
        "types=0\n",
        "# G = nx.watts_strogatz_graph(nodes,k,p=p,seed=seed)\n",
        "# edges = list(G.edges())"
      ],
      "metadata": {
        "id": "H5FUxRgHqwqs"
      },
      "execution_count": 8,
      "outputs": []
    },
    {
      "cell_type": "markdown",
      "source": [
        "# The Code"
      ],
      "metadata": {
        "id": "i1-3JF98qfVh"
      }
    },
    {
      "cell_type": "code",
      "source": [
        "def remove_by_fraction(numer_of_nodes,of_set):\n",
        "    p_ = list()\n",
        "    f_ = int(numer_of_nodes * of_set)\n",
        "    while len(p_) < f_:\n",
        "        f1_ = np.random.randint(0,numer_of_nodes)\n",
        "        if f1_ not in p_ and f1_ != target:\n",
        "            p_.append(f1_)\n",
        "    return p_\n",
        "\n",
        "def remove_by_number(numer_of_nodes,of_set):\n",
        "    p_ = list()\n",
        "    f_ = int(of_set)\n",
        "    while len(p_) < f_:\n",
        "        f1_ = np.random.randint(0,numer_of_nodes)\n",
        "        if f1_ not in p_ and f1_ != target:\n",
        "            p_.append(f1_)\n",
        "    return p_\n",
        "\n",
        "# define set of nodes which you want to remove\n",
        "def set_of_nodes(numer_of_nodes,of_set):\n",
        "    if of_set < 1:\n",
        "        p_frac = remove_by_fraction(numer_of_nodes,of_set)\n",
        "    if of_set >= 1:\n",
        "        p_frac = remove_by_number(numer_of_nodes,of_set)\n",
        "    return np.array(p_frac)\n"
      ],
      "metadata": {
        "id": "CLn2WD-tqjAv"
      },
      "execution_count": 5,
      "outputs": []
    },
    {
      "cell_type": "code",
      "source": [
        "# Ok, we have a Net, no we want to create the communication network, for this we use our written model from before\n",
        "def create_net(net):\n",
        "    # np.random.seed(seed)\n",
        "\n",
        "    Net = net\n",
        "    G_power = top.create_nxgraph(net=Net)\n",
        "    # extract some feature for future\n",
        "    G_power_nodes = G_power.nodes()\n",
        "    G_power_nodes_Number = len(G_power_nodes)\n",
        "    G_power_edges = G_power.edges()\n",
        "    target = int(Net.ext_grid['bus'][0])\n",
        "    Static_node_of_power = len(Net.bus)\n",
        "    G_scale_free = nx.scale_free_graph(n= Static_node_of_power, alpha= alpha, beta= beta, gamma= gamma, seed= seed, delta_in=1, delta_out=1 )\n",
        "        # create Com from Scale free\n",
        "    # print(set(G_scale_free.nodes()))\n",
        "    G_com_edges = G_scale_free.edges()\n",
        "    G_com_edges_set = set(G_com_edges)\n",
        "    G_com_edges_set_non_redundancy = []\n",
        "    # print(set(G_com.nodes()))\n",
        "    for G_edge in G_com_edges_set:\n",
        "        if (G_edge[1],G_edge[0]) and (G_edge[0],G_edge[1]) not in G_com_edges_set_non_redundancy:\n",
        "            if G_edge[1] != G_edge[0]:\n",
        "                G_com_edges_set_non_redundancy.append(G_edge)\n",
        "    G_com = nx.MultiGraph()\n",
        "    # print(set(G_com.nodes()))\n",
        "    G_com.add_edges_from(G_com_edges_set_non_redundancy);\n",
        "    if len(set(G_scale_free.nodes() - set(G_com.nodes))) > 0:\n",
        "        for ij in list(set(G_scale_free.nodes() - set(G_com.nodes))):\n",
        "            G_com.add_edges_from([(ij,np.random.randint(len(G_power.nodes())))])\n",
        "    # print(set(G_com.nodes()))\n",
        "        # add a few work to this\n",
        "    mapping = {0:target,target:0}\n",
        "    G_com = nx.relabel_nodes(G_com, mapping)\n",
        "\n",
        "        # extract initial information\n",
        "    G_com_nodes = G_com.nodes()\n",
        "    # print(set(G_com.nodes()))\n",
        "    G_com_edges = G_com.edges()\n",
        "    # print(\"Networks settings are Done!\")\n",
        "    return G_com,Net,G_power,target,G_power_nodes_Number"
      ],
      "metadata": {
        "id": "dcSg8kXGqmUD"
      },
      "execution_count": 6,
      "outputs": []
    },
    {
      "cell_type": "code",
      "source": [
        "net = pn.case30()\n",
        "# nodes = 300\n",
        "G_com,Net,G_power,target,G_power_nodes_Number = create_net(net)"
      ],
      "metadata": {
        "id": "xxA2z9Ttqonr"
      },
      "execution_count": 9,
      "outputs": []
    },
    {
      "cell_type": "code",
      "source": [
        "nodes_from_both = {'power':set(G_power.nodes),'communication':set(G_com.nodes),'disabled':set()}\n",
        "# nodes_from_both"
      ],
      "metadata": {
        "id": "IWfbMJ3zqqli"
      },
      "execution_count": 10,
      "outputs": []
    },
    {
      "cell_type": "code",
      "source": [
        "# we sould find the largest component\n",
        "# we use this code from networkx\n",
        "def Largest_component_with_target(G,target_node):\n",
        "    # np.random.seed(seed)\n",
        "\n",
        "    # check the largest components\n",
        "    components_of_groph = sorted(nx.connected_components(G), key=len, reverse=True)\n",
        "    for component in components_of_groph:\n",
        "        if target_node in component:\n",
        "            G = G.subgraph(component)\n",
        "            G = nx.MultiGraph(G)\n",
        "    return G"
      ],
      "metadata": {
        "id": "8VwvYYiGq2bZ"
      },
      "execution_count": 11,
      "outputs": []
    },
    {
      "cell_type": "code",
      "source": [
        "# Again we write a code for casecading failure in this time\n",
        "# here are what we should do\n",
        "# 1: drop the removed_nodes from power network\n",
        "# 2: drop the coupled_nodes from communication network\n",
        "# 3: modify the power network\n",
        "# 4: let the casecade goes and see where it could go\n",
        "# 5: evaluate\n",
        "\n",
        "# initiate the p_frac\n",
        "def phase_0(p_frac):\n",
        "    # print('im in phase 0')\n",
        "    if len(p_frac) == 0:\n",
        "        # self.node = instance_nodes - nodes\n",
        "        busses = []\n",
        "    elif len(p_frac) == 1:\n",
        "        busses = p_frac\n",
        "    else:\n",
        "\n",
        "        busses = list(p_frac)\n",
        "    return busses\n",
        "\n",
        "\n",
        "# first time removing nodes\n",
        "def phase_0_1(Net,busses):\n",
        "    # print('im in phase 0_1')\n",
        "    # try:\n",
        "    pp.drop_buses(Net,buses=busses,drop_elements = True)\n",
        "    # except:print('[SOMETHING HAPPENED!]')\n",
        "    return Net\n",
        "# removing nodes from power network\n",
        "def phase_1(Net):\n",
        "    # print('im in phase 1')\n",
        "    # we run power for the first time\n",
        "    pp.rundcpp(Net)\n",
        "    # drop all droped element relevants\n",
        "    drop_lines = pp.overloaded_lines(Net)\n",
        "    # drop the lines\n",
        "    pp.drop_lines(Net,drop_lines)\n",
        "    # create a nx network from power network\n",
        "    g_inst_power = top.create_nxgraph(Net)\n",
        "    # look for largest copunent\n",
        "    g_inst_2_power = Largest_component_with_target(g_inst_power,target)\n",
        "    # which nodes are remvoved from network?\n",
        "    set_nodes_2 = set(g_inst_power) - set(g_inst_2_power)\n",
        "    pp.drop_buses(Net,set_nodes_2,drop_elements = True)\n",
        "    return Net,g_inst_2_power,set_nodes_2\n",
        "\n",
        "# now we know what nodes from communication part should get remove\n",
        "def phase_2(G_com,to_com):\n",
        "    # print('im in phase 2')\n",
        "    G_com.remove_nodes_from(to_com)\n",
        "    g_inst_2 = Largest_component_with_target(G_com,target)\n",
        "    set_nodes_2 = set(G_com.nodes) - set(g_inst_2.nodes)\n",
        "    return g_inst_2,set_nodes_2\n",
        "\n",
        "# now the modification part\n",
        "def phase_3(net,gen_frac,pow_frac,is_not_in):\n",
        "    # print('im in phase 3')\n",
        "    imp_gen = list(net.gen['p_mw'].sort_values(ascending=False).index)\n",
        "    if gen_frac <= 1:\n",
        "        s_number = int(len(imp_gen) * gen_frac)\n",
        "    else:\n",
        "        s_number = int(gen_frac)\n",
        "    # for i in imp_gen[0:s_number]:\n",
        "    for i in range(0,s_number):\n",
        "        if i not in is_not_in:\n",
        "            # print(i)\n",
        "            # print(imp_gen)\n",
        "            # print(imp_gen[i])\n",
        "            net.gen['p_mw'].loc[imp_gen[i]] *= 1 + pow_frac\n",
        "            # print(f\"oh, {i} is modified!\")\n",
        "        else:\n",
        "            pass\n",
        "            # print(\"cant modify {} cause we cant reach it\".format(i))\n",
        "    return net\n",
        "\n",
        "# now we should continue the casecading failure\n",
        "def phase_4(Net,G_power,G_com):\n",
        "    # print('im in phase 4')\n",
        "    Net,G_power,to_com = phase_1(Net)\n",
        "    while len(list(to_com)) != 0:\n",
        "        Net,G_power,to_com = phase_1(Net)\n",
        "        # print(to_com)\n",
        "        # G_com,to_power = phase_2(G_com,to_com)\n",
        "    return Net,G_power,G_com\n",
        "def casecading_version_2(Net,G_com,G_power,p_frac,fraction_gen,fraction_power):\n",
        "    nodes_from_both = {'power':set(G_power.nodes),'communication':set(G_com.nodes),'disabled':set()}\n",
        "\n",
        "    busses = phase_0(p_frac)\n",
        "    # remove nodes from power\n",
        "    Net = phase_0_1(Net,busses)\n",
        "    # remove nodes from power network\n",
        "    Net,G_power,to_com = phase_1(Net)\n",
        "    # set the power reminded node\n",
        "    nodes_from_both['power'] = set(G_power.nodes)\n",
        "    # we should remove them from communiaction network too\n",
        "    if len(list(to_com)) != 0:\n",
        "        # remove nodes from communication network\n",
        "        G_com,to_power = phase_2(G_com,to_com)\n",
        "        # set the communication reminded nodes\n",
        "        nodes_from_both['communication'] = set(G_com.nodes)\n",
        "        # set the disabled nodes\n",
        "        nodes_from_both['disabled'] = nodes_from_both['communication'] - nodes_from_both['power']\n",
        "        # modification\n",
        "        Net = phase_3(Net,fraction_gen,fraction_power,nodes_from_both['disabled'])\n",
        "        Net,G_power,G_com = phase_4(Net,G_power,G_com)\n",
        "        return Net,G_power,G_com\n",
        "    else:\n",
        "        return Net,G_power,G_com\n",
        "\n",
        "\n",
        "\n"
      ],
      "metadata": {
        "id": "8I82Dh19q3pg"
      },
      "execution_count": 53,
      "outputs": []
    },
    {
      "cell_type": "code",
      "source": [
        "net = pn.case30()\n",
        "G_com,Net,G_power,target,G_power_nodes_Number = create_net(net)\n",
        "numer_of_nodes,of_set = Net.bus.shape[0], 0.2\n",
        "p_frac = set_of_nodes(numer_of_nodes,of_set)\n",
        "fraction_gen, fraction_power = 0.5,5\n",
        "Net,G_power,G_com = casecading_version_2(Net,G_com,G_power,p_frac,fraction_gen,fraction_power)\n",
        "print(Net.bus.shape[0])"
      ],
      "metadata": {
        "colab": {
          "base_uri": "https://localhost:8080/"
        },
        "id": "E6wjHUJ9q8an",
        "outputId": "b7cbf683-2c3e-45b2-a11b-2e845062c512"
      },
      "execution_count": 54,
      "outputs": [
        {
          "output_type": "stream",
          "name": "stdout",
          "text": [
            "1\n"
          ]
        }
      ]
    },
    {
      "cell_type": "code",
      "source": [
        "20%10 == 0"
      ],
      "metadata": {
        "colab": {
          "base_uri": "https://localhost:8080/"
        },
        "id": "YzXdCGmsLK91",
        "outputId": "4d88d1df-f5ba-46cf-ac5a-2649a9d6d166"
      },
      "execution_count": 55,
      "outputs": [
        {
          "output_type": "execute_result",
          "data": {
            "text/plain": [
              "True"
            ]
          },
          "metadata": {},
          "execution_count": 55
        }
      ]
    },
    {
      "cell_type": "code",
      "source": [
        "k1 = []\n",
        "for ii in range(1000):\n",
        "    net = pn.case30()\n",
        "    G_com,Net,G_power,target,G_power_nodes_Number = create_net(net)\n",
        "    numer_of_nodes,of_set = Net.bus.shape[0], 0.2\n",
        "    p_frac = set_of_nodes(numer_of_nodes,of_set)\n",
        "    fraction_gen, fraction_power = 1,0.2\n",
        "    Net,G_power,G_com = casecading_version_2(Net,G_com,G_power,p_frac,fraction_gen,fraction_power)\n",
        "    k1.append(Net.bus.shape[0])\n",
        "    if ii%100 == 0:\n",
        "        print(\"oh we reached the {:.5}\".format(ii/1000))"
      ],
      "metadata": {
        "colab": {
          "base_uri": "https://localhost:8080/"
        },
        "id": "HeBkbaLhrFxW",
        "outputId": "abba39b0-7659-414a-996d-5f4e7d15cc81"
      },
      "execution_count": 58,
      "outputs": [
        {
          "output_type": "stream",
          "name": "stdout",
          "text": [
            "oh we reached the 0.0\n",
            "oh we reached the 0.1\n",
            "oh we reached the 0.2\n",
            "oh we reached the 0.3\n",
            "oh we reached the 0.4\n",
            "oh we reached the 0.5\n",
            "oh we reached the 0.6\n",
            "oh we reached the 0.7\n",
            "oh we reached the 0.8\n",
            "oh we reached the 0.9\n"
          ]
        }
      ]
    },
    {
      "cell_type": "code",
      "source": [
        "np.mean(k1)\n"
      ],
      "metadata": {
        "colab": {
          "base_uri": "https://localhost:8080/"
        },
        "id": "cNMNnQccM21y",
        "outputId": "4dac025c-5829-4ffe-df6d-a2d75b74ebf6"
      },
      "execution_count": 59,
      "outputs": [
        {
          "output_type": "execute_result",
          "data": {
            "text/plain": [
              "16.09"
            ]
          },
          "metadata": {},
          "execution_count": 59
        }
      ]
    },
    {
      "cell_type": "code",
      "source": [
        "np.mean(k1)"
      ],
      "metadata": {
        "colab": {
          "base_uri": "https://localhost:8080/"
        },
        "id": "IKL1KDa6rKdB",
        "outputId": "0ede3574-e38f-45dd-a369-1c2a9fc2f66f"
      },
      "execution_count": 34,
      "outputs": [
        {
          "output_type": "execute_result",
          "data": {
            "text/plain": [
              "16.2458"
            ]
          },
          "metadata": {},
          "execution_count": 34
        }
      ]
    }
  ]
}