{
  "nbformat": 4,
  "nbformat_minor": 0,
  "metadata": {
    "colab": {
      "name": "intro_with_pandapower.ipynb",
      "provenance": [],
      "collapsed_sections": [
        "tvA9gZw-9GuD",
        "6mWSNC949MLq"
      ],
      "mount_file_id": "1wIxTHgVAGYSPz7m2w_q2fIt0g78rHrGq",
      "authorship_tag": "ABX9TyPrhStHSKYD0/gTmSekrWMO",
      "include_colab_link": true
    },
    "kernelspec": {
      "name": "python3",
      "display_name": "Python 3"
    },
    "language_info": {
      "name": "python"
    }
  },
  "cells": [
    {
      "cell_type": "markdown",
      "metadata": {
        "id": "view-in-github",
        "colab_type": "text"
      },
      "source": [
        "<a href=\"https://colab.research.google.com/github/rizzaesh/Thesis---a-two-layer-power-network/blob/main/intro_with_pandapower.ipynb\" target=\"_parent\"><img src=\"https://colab.research.google.com/assets/colab-badge.svg\" alt=\"Open In Colab\"/></a>"
      ]
    },
    {
      "cell_type": "code",
      "source": [
        "!pip install pydgrid\n",
        "import pydgrid"
      ],
      "metadata": {
        "colab": {
          "base_uri": "https://localhost:8080/"
        },
        "id": "bMiWGtc3BrLH",
        "outputId": "cd3b85e9-9203-456a-c2ad-a299de051b52"
      },
      "execution_count": null,
      "outputs": [
        {
          "output_type": "stream",
          "name": "stdout",
          "text": [
            "Collecting pydgrid\n",
            "  Downloading pydgrid-0.5.3-py2.py3-none-any.whl (4.2 MB)\n",
            "\u001b[K     |████████████████████████████████| 4.2 MB 12.6 MB/s \n",
            "\u001b[?25hInstalling collected packages: pydgrid\n",
            "Successfully installed pydgrid-0.5.3\n"
          ]
        }
      ]
    },
    {
      "cell_type": "code",
      "source": [
        "from pydgrid import grid"
      ],
      "metadata": {
        "id": "8cjiSXZhDHpO"
      },
      "execution_count": null,
      "outputs": []
    },
    {
      "cell_type": "code",
      "source": [
        "!pip install pandapower\n",
        "import pandapower as pp\n",
        "import networkx as nx\n",
        "import pandapower.networks as pn\n",
        "import pandas as pd\n",
        "import matplotlib.pyplot as plt\n",
        "import numpy as np"
      ],
      "metadata": {
        "id": "m1YxBVgRP_w1",
        "colab": {
          "base_uri": "https://localhost:8080/"
        },
        "outputId": "3fdb3da3-1192-45db-c6c3-d4ac9d4a469f"
      },
      "execution_count": 24,
      "outputs": [
        {
          "output_type": "stream",
          "name": "stdout",
          "text": [
            "Requirement already satisfied: pandapower in /usr/local/lib/python3.7/dist-packages (2.9.0)\n",
            "Requirement already satisfied: numpy>=0.11 in /usr/local/lib/python3.7/dist-packages (from pandapower) (1.21.5)\n",
            "Requirement already satisfied: pandas>=0.17 in /usr/local/lib/python3.7/dist-packages (from pandapower) (1.3.5)\n",
            "Requirement already satisfied: tqdm in /usr/local/lib/python3.7/dist-packages (from pandapower) (4.63.0)\n",
            "Requirement already satisfied: packaging in /usr/local/lib/python3.7/dist-packages (from pandapower) (21.3)\n",
            "Requirement already satisfied: networkx>=2.5 in /usr/local/lib/python3.7/dist-packages (from pandapower) (2.6.3)\n",
            "Requirement already satisfied: scipy in /usr/local/lib/python3.7/dist-packages (from pandapower) (1.4.1)\n",
            "Requirement already satisfied: pytz>=2017.3 in /usr/local/lib/python3.7/dist-packages (from pandas>=0.17->pandapower) (2018.9)\n",
            "Requirement already satisfied: python-dateutil>=2.7.3 in /usr/local/lib/python3.7/dist-packages (from pandas>=0.17->pandapower) (2.8.2)\n",
            "Requirement already satisfied: six>=1.5 in /usr/local/lib/python3.7/dist-packages (from python-dateutil>=2.7.3->pandas>=0.17->pandapower) (1.15.0)\n",
            "Requirement already satisfied: pyparsing!=3.0.5,>=2.0.2 in /usr/local/lib/python3.7/dist-packages (from packaging->pandapower) (3.0.7)\n"
          ]
        }
      ]
    },
    {
      "cell_type": "markdown",
      "source": [
        "# pandapower"
      ],
      "metadata": {
        "id": "tvA9gZw-9GuD"
      }
    },
    {
      "cell_type": "code",
      "source": [
        "net = pp.create_empty_network(name=\"power\")"
      ],
      "metadata": {
        "id": "gnXdRhjCQDeS"
      },
      "execution_count": null,
      "outputs": []
    },
    {
      "cell_type": "code",
      "source": [
        "net"
      ],
      "metadata": {
        "colab": {
          "base_uri": "https://localhost:8080/"
        },
        "id": "FhE4r6CEQN-b",
        "outputId": "8ee78b74-3568-40f4-b774-94840d30f954"
      },
      "execution_count": null,
      "outputs": [
        {
          "output_type": "execute_result",
          "data": {
            "text/plain": [
              "This pandapower network includes the following parameter tables:"
            ]
          },
          "metadata": {},
          "execution_count": 5
        }
      ]
    },
    {
      "cell_type": "code",
      "source": [
        "pp.create_bus(net=net,name='bus1',vn_kv=-1)"
      ],
      "metadata": {
        "colab": {
          "base_uri": "https://localhost:8080/"
        },
        "id": "Lod4ECM5QS41",
        "outputId": "57800b7d-983a-41db-ea72-175f661ccff5"
      },
      "execution_count": null,
      "outputs": [
        {
          "output_type": "execute_result",
          "data": {
            "text/plain": [
              "0"
            ]
          },
          "metadata": {},
          "execution_count": 6
        }
      ]
    },
    {
      "cell_type": "code",
      "source": [
        "net"
      ],
      "metadata": {
        "colab": {
          "base_uri": "https://localhost:8080/"
        },
        "id": "yBd2kYjBRFBr",
        "outputId": "abf7e21f-2fd6-4f3d-fe30-e8137ec3f3e9"
      },
      "execution_count": null,
      "outputs": [
        {
          "output_type": "execute_result",
          "data": {
            "text/plain": [
              "This pandapower network includes the following parameter tables:\n",
              "   - bus (1 element)"
            ]
          },
          "metadata": {},
          "execution_count": 7
        }
      ]
    },
    {
      "cell_type": "code",
      "source": [
        "pp.create_line(net=net,from_bus=3,to_bus=5,length_km=1,std_type='NAYY 4x50 SE')"
      ],
      "metadata": {
        "colab": {
          "base_uri": "https://localhost:8080/"
        },
        "id": "8QSCI_ONRG_J",
        "outputId": "ef0c3e70-7073-4931-9e62-aa7c59709006"
      },
      "execution_count": null,
      "outputs": [
        {
          "output_type": "execute_result",
          "data": {
            "text/plain": [
              "7"
            ]
          },
          "metadata": {},
          "execution_count": 30
        }
      ]
    },
    {
      "cell_type": "code",
      "source": [
        "pp.create_load(net=net,bus=5,p_mw=2)"
      ],
      "metadata": {
        "colab": {
          "base_uri": "https://localhost:8080/"
        },
        "id": "2xAEF1BATZEs",
        "outputId": "8c656682-8195-4f3f-b8ca-a90cf45e729c"
      },
      "execution_count": null,
      "outputs": [
        {
          "output_type": "execute_result",
          "data": {
            "text/plain": [
              "5"
            ]
          },
          "metadata": {},
          "execution_count": 38
        }
      ]
    },
    {
      "cell_type": "code",
      "source": [
        "Net"
      ],
      "metadata": {
        "colab": {
          "base_uri": "https://localhost:8080/"
        },
        "id": "TX6ZrS9bTvyw",
        "outputId": "22809288-0dfc-402f-8df2-2e8ae6661d6a"
      },
      "execution_count": null,
      "outputs": [
        {
          "output_type": "execute_result",
          "data": {
            "text/plain": [
              "This pandapower network includes the following parameter tables:\n",
              "   - bus (110 elements)\n",
              "   - load (92 elements)\n",
              "   - gen (50 elements)\n",
              "   - shunt (14 elements)\n",
              "   - ext_grid (1 element)\n",
              "   - line (147 elements)\n",
              "   - trafo (12 elements)\n",
              "   - poly_cost (54 elements)\n",
              "   - bus_geodata (110 elements)\n",
              " and the following results tables:\n",
              "   - res_bus (110 elements)\n",
              "   - res_line (147 elements)\n",
              "   - res_trafo (12 elements)\n",
              "   - res_ext_grid (1 element)\n",
              "   - res_load (92 elements)\n",
              "   - res_shunt (14 elements)\n",
              "   - res_gen (50 elements)"
            ]
          },
          "metadata": {},
          "execution_count": 103
        }
      ]
    },
    {
      "cell_type": "code",
      "source": [
        "pp.create_motor(net=net, bus=0, pn_mech_mw=1,cos_phi=0.9)"
      ],
      "metadata": {
        "colab": {
          "base_uri": "https://localhost:8080/"
        },
        "id": "Z-xllLA5W0Zk",
        "outputId": "7c8abee8-4f3c-4adb-b5c2-7a7acbe9294c"
      },
      "execution_count": null,
      "outputs": [
        {
          "output_type": "execute_result",
          "data": {
            "text/plain": [
              "0"
            ]
          },
          "metadata": {},
          "execution_count": 43
        }
      ]
    },
    {
      "cell_type": "code",
      "source": [
        "pp.create_gen(net=net,bus=3,p_mw=4,slack=True)"
      ],
      "metadata": {
        "colab": {
          "base_uri": "https://localhost:8080/"
        },
        "id": "chNcCBaTYjFO",
        "outputId": "683350a8-e09d-4566-f05b-c6f04bbc8860"
      },
      "execution_count": null,
      "outputs": [
        {
          "output_type": "execute_result",
          "data": {
            "text/plain": [
              "3"
            ]
          },
          "metadata": {},
          "execution_count": 54
        }
      ]
    },
    {
      "cell_type": "code",
      "source": [
        "pp.rundcpp(net=net)"
      ],
      "metadata": {
        "id": "2xnsk6qoXQ-C"
      },
      "execution_count": null,
      "outputs": []
    },
    {
      "cell_type": "code",
      "source": [
        "Net = pn.case9()"
      ],
      "metadata": {
        "id": "6f-VDcFndvRP"
      },
      "execution_count": null,
      "outputs": []
    },
    {
      "cell_type": "code",
      "source": [
        "from_bus = Net.line['from_bus']\n",
        "to_bus = Net.line['to_bus']\n",
        "edges = [(from_bus[i],to_bus[i]) for i in range(len(from_bus))]"
      ],
      "metadata": {
        "id": "yI0f0Kpu80_o"
      },
      "execution_count": null,
      "outputs": []
    },
    {
      "cell_type": "code",
      "source": [
        "pp.rundcpp(net=Net)"
      ],
      "metadata": {
        "id": "7SMUFW6Id0La"
      },
      "execution_count": null,
      "outputs": []
    },
    {
      "cell_type": "code",
      "source": [
        "pp.drop_buses(Net, O0, drop_elements=True)"
      ],
      "metadata": {
        "id": "OtuPoqID1jiq"
      },
      "execution_count": null,
      "outputs": []
    },
    {
      "cell_type": "code",
      "source": [
        "pp.drop_lines(Net,[5,13,15,16,17,168,169])"
      ],
      "metadata": {
        "id": "ahX3pXfG7Nbk"
      },
      "execution_count": null,
      "outputs": []
    },
    {
      "cell_type": "code",
      "source": [
        "pp.overloaded_lines(Net)"
      ],
      "metadata": {
        "colab": {
          "base_uri": "https://localhost:8080/"
        },
        "id": "wpEPxmis7coD",
        "outputId": "70824295-2dc2-44b6-9050-49b6f752f11e"
      },
      "execution_count": null,
      "outputs": [
        {
          "output_type": "execute_result",
          "data": {
            "text/plain": [
              "Int64Index([], dtype='int64')"
            ]
          },
          "metadata": {},
          "execution_count": 296
        }
      ]
    },
    {
      "cell_type": "code",
      "source": [
        "sum(Net.res_line['p_to_mw'])"
      ],
      "metadata": {
        "colab": {
          "base_uri": "https://localhost:8080/"
        },
        "id": "3XUU6SR9JhHw",
        "outputId": "7753e332-573a-439a-ef2c-0123418f54b2"
      },
      "execution_count": null,
      "outputs": [
        {
          "output_type": "execute_result",
          "data": {
            "text/plain": [
              "46.19565217391308"
            ]
          },
          "metadata": {},
          "execution_count": 231
        }
      ]
    },
    {
      "cell_type": "code",
      "source": [
        "Net = pn.case30()"
      ],
      "metadata": {
        "id": "pHPtswJLJvRL"
      },
      "execution_count": null,
      "outputs": []
    },
    {
      "cell_type": "code",
      "source": [
        "Net"
      ],
      "metadata": {
        "colab": {
          "base_uri": "https://localhost:8080/"
        },
        "id": "PjDIovOrJ1JR",
        "outputId": "8a09f03c-72f5-418e-fcab-a1986021a810"
      },
      "execution_count": null,
      "outputs": [
        {
          "output_type": "execute_result",
          "data": {
            "text/plain": [
              "This pandapower network includes the following parameter tables:\n",
              "   - bus (30 elements)\n",
              "   - load (20 elements)\n",
              "   - gen (5 elements)\n",
              "   - shunt (2 elements)\n",
              "   - ext_grid (1 element)\n",
              "   - line (41 elements)\n",
              "   - poly_cost (6 elements)\n",
              "   - bus_geodata (30 elements)"
            ]
          },
          "metadata": {},
          "execution_count": 8
        }
      ]
    },
    {
      "cell_type": "code",
      "source": [
        "pp.create_bus(Net,name=9,vn_kv=0.1)"
      ],
      "metadata": {
        "id": "8bhoCGtRLXvJ"
      },
      "execution_count": null,
      "outputs": []
    },
    {
      "cell_type": "code",
      "source": [
        "pp.create_gen(Net,9,400,)"
      ],
      "metadata": {
        "colab": {
          "base_uri": "https://localhost:8080/"
        },
        "id": "xEllYApkK-K6",
        "outputId": "5c74b1f8-83a6-4e21-be69-9e4eddbc5a0f"
      },
      "execution_count": null,
      "outputs": [
        {
          "output_type": "execute_result",
          "data": {
            "text/plain": [
              "3"
            ]
          },
          "metadata": {},
          "execution_count": 273
        }
      ]
    },
    {
      "cell_type": "code",
      "source": [
        "pp.create_line(Net,from_bus=4,to_bus=9,length_km=1,std_type='NAYY 4x50 SE')"
      ],
      "metadata": {
        "colab": {
          "base_uri": "https://localhost:8080/"
        },
        "id": "-j6W2Nw3L8UH",
        "outputId": "bcd4700c-303b-4a57-feaa-3a38b1963ebe"
      },
      "execution_count": null,
      "outputs": [
        {
          "output_type": "execute_result",
          "data": {
            "text/plain": [
              "14"
            ]
          },
          "metadata": {},
          "execution_count": 286
        }
      ]
    },
    {
      "cell_type": "code",
      "source": [
        "Net.res_bus"
      ],
      "metadata": {
        "colab": {
          "base_uri": "https://localhost:8080/",
          "height": 49
        },
        "id": "02w9HFsAKB9q",
        "outputId": "5b2244d8-b1ca-4d30-b062-acb8df279bbf"
      },
      "execution_count": null,
      "outputs": [
        {
          "output_type": "execute_result",
          "data": {
            "text/plain": [
              "Empty DataFrame\n",
              "Columns: [vm_pu, va_degree, p_mw, q_mvar]\n",
              "Index: []"
            ],
            "text/html": [
              "\n",
              "  <div id=\"df-aa3df669-f098-49e6-a161-759fd216fa00\">\n",
              "    <div class=\"colab-df-container\">\n",
              "      <div>\n",
              "<style scoped>\n",
              "    .dataframe tbody tr th:only-of-type {\n",
              "        vertical-align: middle;\n",
              "    }\n",
              "\n",
              "    .dataframe tbody tr th {\n",
              "        vertical-align: top;\n",
              "    }\n",
              "\n",
              "    .dataframe thead th {\n",
              "        text-align: right;\n",
              "    }\n",
              "</style>\n",
              "<table border=\"1\" class=\"dataframe\">\n",
              "  <thead>\n",
              "    <tr style=\"text-align: right;\">\n",
              "      <th></th>\n",
              "      <th>vm_pu</th>\n",
              "      <th>va_degree</th>\n",
              "      <th>p_mw</th>\n",
              "      <th>q_mvar</th>\n",
              "    </tr>\n",
              "  </thead>\n",
              "  <tbody>\n",
              "  </tbody>\n",
              "</table>\n",
              "</div>\n",
              "      <button class=\"colab-df-convert\" onclick=\"convertToInteractive('df-aa3df669-f098-49e6-a161-759fd216fa00')\"\n",
              "              title=\"Convert this dataframe to an interactive table.\"\n",
              "              style=\"display:none;\">\n",
              "        \n",
              "  <svg xmlns=\"http://www.w3.org/2000/svg\" height=\"24px\"viewBox=\"0 0 24 24\"\n",
              "       width=\"24px\">\n",
              "    <path d=\"M0 0h24v24H0V0z\" fill=\"none\"/>\n",
              "    <path d=\"M18.56 5.44l.94 2.06.94-2.06 2.06-.94-2.06-.94-.94-2.06-.94 2.06-2.06.94zm-11 1L8.5 8.5l.94-2.06 2.06-.94-2.06-.94L8.5 2.5l-.94 2.06-2.06.94zm10 10l.94 2.06.94-2.06 2.06-.94-2.06-.94-.94-2.06-.94 2.06-2.06.94z\"/><path d=\"M17.41 7.96l-1.37-1.37c-.4-.4-.92-.59-1.43-.59-.52 0-1.04.2-1.43.59L10.3 9.45l-7.72 7.72c-.78.78-.78 2.05 0 2.83L4 21.41c.39.39.9.59 1.41.59.51 0 1.02-.2 1.41-.59l7.78-7.78 2.81-2.81c.8-.78.8-2.07 0-2.86zM5.41 20L4 18.59l7.72-7.72 1.47 1.35L5.41 20z\"/>\n",
              "  </svg>\n",
              "      </button>\n",
              "      \n",
              "  <style>\n",
              "    .colab-df-container {\n",
              "      display:flex;\n",
              "      flex-wrap:wrap;\n",
              "      gap: 12px;\n",
              "    }\n",
              "\n",
              "    .colab-df-convert {\n",
              "      background-color: #E8F0FE;\n",
              "      border: none;\n",
              "      border-radius: 50%;\n",
              "      cursor: pointer;\n",
              "      display: none;\n",
              "      fill: #1967D2;\n",
              "      height: 32px;\n",
              "      padding: 0 0 0 0;\n",
              "      width: 32px;\n",
              "    }\n",
              "\n",
              "    .colab-df-convert:hover {\n",
              "      background-color: #E2EBFA;\n",
              "      box-shadow: 0px 1px 2px rgba(60, 64, 67, 0.3), 0px 1px 3px 1px rgba(60, 64, 67, 0.15);\n",
              "      fill: #174EA6;\n",
              "    }\n",
              "\n",
              "    [theme=dark] .colab-df-convert {\n",
              "      background-color: #3B4455;\n",
              "      fill: #D2E3FC;\n",
              "    }\n",
              "\n",
              "    [theme=dark] .colab-df-convert:hover {\n",
              "      background-color: #434B5C;\n",
              "      box-shadow: 0px 1px 3px 1px rgba(0, 0, 0, 0.15);\n",
              "      filter: drop-shadow(0px 1px 2px rgba(0, 0, 0, 0.3));\n",
              "      fill: #FFFFFF;\n",
              "    }\n",
              "  </style>\n",
              "\n",
              "      <script>\n",
              "        const buttonEl =\n",
              "          document.querySelector('#df-aa3df669-f098-49e6-a161-759fd216fa00 button.colab-df-convert');\n",
              "        buttonEl.style.display =\n",
              "          google.colab.kernel.accessAllowed ? 'block' : 'none';\n",
              "\n",
              "        async function convertToInteractive(key) {\n",
              "          const element = document.querySelector('#df-aa3df669-f098-49e6-a161-759fd216fa00');\n",
              "          const dataTable =\n",
              "            await google.colab.kernel.invokeFunction('convertToInteractive',\n",
              "                                                     [key], {});\n",
              "          if (!dataTable) return;\n",
              "\n",
              "          const docLinkHtml = 'Like what you see? Visit the ' +\n",
              "            '<a target=\"_blank\" href=https://colab.research.google.com/notebooks/data_table.ipynb>data table notebook</a>'\n",
              "            + ' to learn more about interactive tables.';\n",
              "          element.innerHTML = '';\n",
              "          dataTable['output_type'] = 'display_data';\n",
              "          await google.colab.output.renderOutput(dataTable, element);\n",
              "          const docLink = document.createElement('div');\n",
              "          docLink.innerHTML = docLinkHtml;\n",
              "          element.appendChild(docLink);\n",
              "        }\n",
              "      </script>\n",
              "    </div>\n",
              "  </div>\n",
              "  "
            ]
          },
          "metadata": {},
          "execution_count": 9
        }
      ]
    },
    {
      "cell_type": "code",
      "source": [
        "Net.res_line"
      ],
      "metadata": {
        "colab": {
          "base_uri": "https://localhost:8080/",
          "height": 238
        },
        "id": "rKm059asHfRT",
        "outputId": "13f1fd71-c392-49f5-8a16-90ecbc8ce406"
      },
      "execution_count": null,
      "outputs": [
        {
          "output_type": "execute_result",
          "data": {
            "text/plain": [
              "   p_from_mw  q_from_mvar  p_to_mw  q_to_mvar  pl_mw  ql_mvar  i_from_ka  \\\n",
              "0      230.0          0.0   -230.0        0.0    0.0      0.0   0.384900   \n",
              "1      105.0          0.0   -105.0        0.0    0.0      0.0   0.175715   \n",
              "2       15.0          0.0    -15.0        0.0    0.0      0.0   0.025102   \n",
              "3       85.0          0.0    -85.0        0.0    0.0      0.0   0.142246   \n",
              "4      100.0          0.0   -100.0        0.0    0.0      0.0   0.167348   \n",
              "8     -125.0          0.0    125.0        0.0    0.0      0.0   0.209185   \n",
              "\n",
              "    i_to_ka      i_ka  vm_from_pu  va_from_degree  vm_to_pu  va_to_degree  \\\n",
              "0  0.384900  0.384900         1.0        0.000000       1.0     -7.590545   \n",
              "1  0.175715  0.175715         1.0       -7.590545       1.0    -13.125317   \n",
              "2  0.025102  0.025102         1.0      -13.125317       1.0    -14.586360   \n",
              "3  0.142246  0.142246         1.0      -11.732457       1.0    -14.586360   \n",
              "4  0.167348  0.167348         1.0      -14.586360       1.0    -20.361774   \n",
              "8  0.209185  0.209185         1.0      -13.678221       1.0     -7.590545   \n",
              "\n",
              "   loading_percent  \n",
              "0        92.000000  \n",
              "1        42.000000  \n",
              "2        10.000000  \n",
              "3        28.333333  \n",
              "4        66.666667  \n",
              "8        50.000000  "
            ],
            "text/html": [
              "\n",
              "  <div id=\"df-72911827-fcee-44e7-bb82-84824f44bbdb\">\n",
              "    <div class=\"colab-df-container\">\n",
              "      <div>\n",
              "<style scoped>\n",
              "    .dataframe tbody tr th:only-of-type {\n",
              "        vertical-align: middle;\n",
              "    }\n",
              "\n",
              "    .dataframe tbody tr th {\n",
              "        vertical-align: top;\n",
              "    }\n",
              "\n",
              "    .dataframe thead th {\n",
              "        text-align: right;\n",
              "    }\n",
              "</style>\n",
              "<table border=\"1\" class=\"dataframe\">\n",
              "  <thead>\n",
              "    <tr style=\"text-align: right;\">\n",
              "      <th></th>\n",
              "      <th>p_from_mw</th>\n",
              "      <th>q_from_mvar</th>\n",
              "      <th>p_to_mw</th>\n",
              "      <th>q_to_mvar</th>\n",
              "      <th>pl_mw</th>\n",
              "      <th>ql_mvar</th>\n",
              "      <th>i_from_ka</th>\n",
              "      <th>i_to_ka</th>\n",
              "      <th>i_ka</th>\n",
              "      <th>vm_from_pu</th>\n",
              "      <th>va_from_degree</th>\n",
              "      <th>vm_to_pu</th>\n",
              "      <th>va_to_degree</th>\n",
              "      <th>loading_percent</th>\n",
              "    </tr>\n",
              "  </thead>\n",
              "  <tbody>\n",
              "    <tr>\n",
              "      <th>0</th>\n",
              "      <td>230.0</td>\n",
              "      <td>0.0</td>\n",
              "      <td>-230.0</td>\n",
              "      <td>0.0</td>\n",
              "      <td>0.0</td>\n",
              "      <td>0.0</td>\n",
              "      <td>0.384900</td>\n",
              "      <td>0.384900</td>\n",
              "      <td>0.384900</td>\n",
              "      <td>1.0</td>\n",
              "      <td>0.000000</td>\n",
              "      <td>1.0</td>\n",
              "      <td>-7.590545</td>\n",
              "      <td>92.000000</td>\n",
              "    </tr>\n",
              "    <tr>\n",
              "      <th>1</th>\n",
              "      <td>105.0</td>\n",
              "      <td>0.0</td>\n",
              "      <td>-105.0</td>\n",
              "      <td>0.0</td>\n",
              "      <td>0.0</td>\n",
              "      <td>0.0</td>\n",
              "      <td>0.175715</td>\n",
              "      <td>0.175715</td>\n",
              "      <td>0.175715</td>\n",
              "      <td>1.0</td>\n",
              "      <td>-7.590545</td>\n",
              "      <td>1.0</td>\n",
              "      <td>-13.125317</td>\n",
              "      <td>42.000000</td>\n",
              "    </tr>\n",
              "    <tr>\n",
              "      <th>2</th>\n",
              "      <td>15.0</td>\n",
              "      <td>0.0</td>\n",
              "      <td>-15.0</td>\n",
              "      <td>0.0</td>\n",
              "      <td>0.0</td>\n",
              "      <td>0.0</td>\n",
              "      <td>0.025102</td>\n",
              "      <td>0.025102</td>\n",
              "      <td>0.025102</td>\n",
              "      <td>1.0</td>\n",
              "      <td>-13.125317</td>\n",
              "      <td>1.0</td>\n",
              "      <td>-14.586360</td>\n",
              "      <td>10.000000</td>\n",
              "    </tr>\n",
              "    <tr>\n",
              "      <th>3</th>\n",
              "      <td>85.0</td>\n",
              "      <td>0.0</td>\n",
              "      <td>-85.0</td>\n",
              "      <td>0.0</td>\n",
              "      <td>0.0</td>\n",
              "      <td>0.0</td>\n",
              "      <td>0.142246</td>\n",
              "      <td>0.142246</td>\n",
              "      <td>0.142246</td>\n",
              "      <td>1.0</td>\n",
              "      <td>-11.732457</td>\n",
              "      <td>1.0</td>\n",
              "      <td>-14.586360</td>\n",
              "      <td>28.333333</td>\n",
              "    </tr>\n",
              "    <tr>\n",
              "      <th>4</th>\n",
              "      <td>100.0</td>\n",
              "      <td>0.0</td>\n",
              "      <td>-100.0</td>\n",
              "      <td>0.0</td>\n",
              "      <td>0.0</td>\n",
              "      <td>0.0</td>\n",
              "      <td>0.167348</td>\n",
              "      <td>0.167348</td>\n",
              "      <td>0.167348</td>\n",
              "      <td>1.0</td>\n",
              "      <td>-14.586360</td>\n",
              "      <td>1.0</td>\n",
              "      <td>-20.361774</td>\n",
              "      <td>66.666667</td>\n",
              "    </tr>\n",
              "    <tr>\n",
              "      <th>8</th>\n",
              "      <td>-125.0</td>\n",
              "      <td>0.0</td>\n",
              "      <td>125.0</td>\n",
              "      <td>0.0</td>\n",
              "      <td>0.0</td>\n",
              "      <td>0.0</td>\n",
              "      <td>0.209185</td>\n",
              "      <td>0.209185</td>\n",
              "      <td>0.209185</td>\n",
              "      <td>1.0</td>\n",
              "      <td>-13.678221</td>\n",
              "      <td>1.0</td>\n",
              "      <td>-7.590545</td>\n",
              "      <td>50.000000</td>\n",
              "    </tr>\n",
              "  </tbody>\n",
              "</table>\n",
              "</div>\n",
              "      <button class=\"colab-df-convert\" onclick=\"convertToInteractive('df-72911827-fcee-44e7-bb82-84824f44bbdb')\"\n",
              "              title=\"Convert this dataframe to an interactive table.\"\n",
              "              style=\"display:none;\">\n",
              "        \n",
              "  <svg xmlns=\"http://www.w3.org/2000/svg\" height=\"24px\"viewBox=\"0 0 24 24\"\n",
              "       width=\"24px\">\n",
              "    <path d=\"M0 0h24v24H0V0z\" fill=\"none\"/>\n",
              "    <path d=\"M18.56 5.44l.94 2.06.94-2.06 2.06-.94-2.06-.94-.94-2.06-.94 2.06-2.06.94zm-11 1L8.5 8.5l.94-2.06 2.06-.94-2.06-.94L8.5 2.5l-.94 2.06-2.06.94zm10 10l.94 2.06.94-2.06 2.06-.94-2.06-.94-.94-2.06-.94 2.06-2.06.94z\"/><path d=\"M17.41 7.96l-1.37-1.37c-.4-.4-.92-.59-1.43-.59-.52 0-1.04.2-1.43.59L10.3 9.45l-7.72 7.72c-.78.78-.78 2.05 0 2.83L4 21.41c.39.39.9.59 1.41.59.51 0 1.02-.2 1.41-.59l7.78-7.78 2.81-2.81c.8-.78.8-2.07 0-2.86zM5.41 20L4 18.59l7.72-7.72 1.47 1.35L5.41 20z\"/>\n",
              "  </svg>\n",
              "      </button>\n",
              "      \n",
              "  <style>\n",
              "    .colab-df-container {\n",
              "      display:flex;\n",
              "      flex-wrap:wrap;\n",
              "      gap: 12px;\n",
              "    }\n",
              "\n",
              "    .colab-df-convert {\n",
              "      background-color: #E8F0FE;\n",
              "      border: none;\n",
              "      border-radius: 50%;\n",
              "      cursor: pointer;\n",
              "      display: none;\n",
              "      fill: #1967D2;\n",
              "      height: 32px;\n",
              "      padding: 0 0 0 0;\n",
              "      width: 32px;\n",
              "    }\n",
              "\n",
              "    .colab-df-convert:hover {\n",
              "      background-color: #E2EBFA;\n",
              "      box-shadow: 0px 1px 2px rgba(60, 64, 67, 0.3), 0px 1px 3px 1px rgba(60, 64, 67, 0.15);\n",
              "      fill: #174EA6;\n",
              "    }\n",
              "\n",
              "    [theme=dark] .colab-df-convert {\n",
              "      background-color: #3B4455;\n",
              "      fill: #D2E3FC;\n",
              "    }\n",
              "\n",
              "    [theme=dark] .colab-df-convert:hover {\n",
              "      background-color: #434B5C;\n",
              "      box-shadow: 0px 1px 3px 1px rgba(0, 0, 0, 0.15);\n",
              "      filter: drop-shadow(0px 1px 2px rgba(0, 0, 0, 0.3));\n",
              "      fill: #FFFFFF;\n",
              "    }\n",
              "  </style>\n",
              "\n",
              "      <script>\n",
              "        const buttonEl =\n",
              "          document.querySelector('#df-72911827-fcee-44e7-bb82-84824f44bbdb button.colab-df-convert');\n",
              "        buttonEl.style.display =\n",
              "          google.colab.kernel.accessAllowed ? 'block' : 'none';\n",
              "\n",
              "        async function convertToInteractive(key) {\n",
              "          const element = document.querySelector('#df-72911827-fcee-44e7-bb82-84824f44bbdb');\n",
              "          const dataTable =\n",
              "            await google.colab.kernel.invokeFunction('convertToInteractive',\n",
              "                                                     [key], {});\n",
              "          if (!dataTable) return;\n",
              "\n",
              "          const docLinkHtml = 'Like what you see? Visit the ' +\n",
              "            '<a target=\"_blank\" href=https://colab.research.google.com/notebooks/data_table.ipynb>data table notebook</a>'\n",
              "            + ' to learn more about interactive tables.';\n",
              "          element.innerHTML = '';\n",
              "          dataTable['output_type'] = 'display_data';\n",
              "          await google.colab.output.renderOutput(dataTable, element);\n",
              "          const docLink = document.createElement('div');\n",
              "          docLink.innerHTML = docLinkHtml;\n",
              "          element.appendChild(docLink);\n",
              "        }\n",
              "      </script>\n",
              "    </div>\n",
              "  </div>\n",
              "  "
            ]
          },
          "metadata": {},
          "execution_count": 328
        }
      ]
    },
    {
      "cell_type": "code",
      "source": [
        "current = pd.DataFrame()"
      ],
      "metadata": {
        "id": "RiV2FNtJStFg"
      },
      "execution_count": null,
      "outputs": []
    },
    {
      "cell_type": "code",
      "source": [
        "Nett = pn.case30()\n",
        "line = pd.DataFrame()\n",
        "from_bus = Nett.line['from_bus']\n",
        "to_bus = Nett.line['to_bus']\n",
        "edges = [(from_bus[i],to_bus[i]) for i in range(len(from_bus))]\n",
        "line[\"line\"] =  edges\n",
        "edges[pp.overloaded_lines(Net)[0]]"
      ],
      "metadata": {
        "id": "EEJGmUbheSgO"
      },
      "execution_count": null,
      "outputs": []
    },
    {
      "cell_type": "code",
      "source": [
        "pp.overloaded_lines(Net)[0]"
      ],
      "metadata": {
        "colab": {
          "base_uri": "https://localhost:8080/"
        },
        "id": "sRJt0oNyn3D1",
        "outputId": "46ea56aa-82e5-4a92-a0f2-5e8c8dc63072"
      },
      "execution_count": null,
      "outputs": [
        {
          "output_type": "execute_result",
          "data": {
            "text/plain": [
              "29"
            ]
          },
          "metadata": {},
          "execution_count": 427
        }
      ]
    },
    {
      "cell_type": "code",
      "source": [
        "h= [9,5]\n",
        "Net = pn.case30();\n",
        "# pp.drop_buses(Net, [23,26,24,25,28,29], drop_elements=True);\n",
        "pp.drop_buses(Net, h, drop_elements=True);\n",
        "linka = []\n",
        "pp.rundcpp(net=Net);\n",
        "while len(pp.overloaded_lines(Net))!= 0:\n",
        "    for i in pp.overloaded_lines(Net):\n",
        "        linka.append(i)\n",
        "    print(pp.overloaded_lines(Net));\n",
        "    pp.drop_lines(Net, lines=pp.overloaded_lines(Net));\n",
        "    pp.rundcpp(net=Net);\n",
        "print(pp.overloaded_lines(Net));\n",
        "current['af_r_7'] = Net.res_line['i_ka'];\n",
        "current['base'].plot(figsize = (9,4));\n",
        "current['af_r_7'].plot(figsize = (9,4));"
      ],
      "metadata": {
        "colab": {
          "base_uri": "https://localhost:8080/",
          "height": 317
        },
        "id": "G_A6kxA1JkTJ",
        "outputId": "49c78eb2-5dc9-49df-d56c-d033d797fc70"
      },
      "execution_count": null,
      "outputs": [
        {
          "output_type": "stream",
          "name": "stdout",
          "text": [
            "Int64Index([31, 32, 34], dtype='int64')\n",
            "Int64Index([29], dtype='int64')\n",
            "Int64Index([], dtype='int64')\n"
          ]
        },
        {
          "output_type": "display_data",
          "data": {
            "text/plain": [
              "<Figure size 648x288 with 1 Axes>"
            ],
            "image/png": "[encoded data removed]"
          },
          "metadata": {
            "needs_background": "light"
          }
        }
      ]
    },
    {
      "cell_type": "code",
      "source": [
        "linka"
      ],
      "metadata": {
        "colab": {
          "base_uri": "https://localhost:8080/"
        },
        "id": "ugLfJVzgtRpz",
        "outputId": "15260943-126c-43b3-d7c2-04e638956bdf"
      },
      "execution_count": null,
      "outputs": [
        {
          "output_type": "execute_result",
          "data": {
            "text/plain": [
              "[31, 32, 34, 29]"
            ]
          },
          "metadata": {},
          "execution_count": 482
        }
      ]
    },
    {
      "cell_type": "code",
      "source": [
        "lost = []\n",
        "for i in range(len(linka)):\n",
        "    lost.append(line[\"line\"][linka].iloc[i])\n",
        "lost"
      ],
      "metadata": {
        "colab": {
          "base_uri": "https://localhost:8080/"
        },
        "id": "exSW_zQ8vUP0",
        "outputId": "e9261d40-ba96-47c8-9876-fc60634b931f"
      },
      "execution_count": null,
      "outputs": [
        {
          "output_type": "execute_result",
          "data": {
            "text/plain": [
              "[(22, 23), (23, 24), (24, 26), (14, 22)]"
            ]
          },
          "metadata": {},
          "execution_count": 45
        }
      ]
    },
    {
      "cell_type": "code",
      "source": [
        "line[\"line\"][linka].iloc[1]"
      ],
      "metadata": {
        "colab": {
          "base_uri": "https://localhost:8080/"
        },
        "id": "fJjJrUED9K8F",
        "outputId": "5dcc61d7-ec6b-47f3-dcda-3ce0b916526a"
      },
      "execution_count": null,
      "outputs": [
        {
          "output_type": "execute_result",
          "data": {
            "text/plain": [
              "(23, 24)"
            ]
          },
          "metadata": {},
          "execution_count": 41
        }
      ]
    },
    {
      "cell_type": "code",
      "source": [
        "g = nx.Graph()\n",
        "g.add_edges_from(edges)\n",
        "pos = nx.spring_layout(g, seed=3068)  # Seed layout for reproducibility\n",
        "# g.remove_nodes_from([23,26,24,25,28,29])\n",
        "g.remove_nodes_from(h)\n",
        "g.remove_edges_from(lost)\n",
        "plt.figure(figsize=(12,12))\n",
        "nx.draw(g,pos=pos,with_labels=True)\n",
        "plt.show()"
      ],
      "metadata": {
        "colab": {
          "base_uri": "https://localhost:8080/",
          "height": 895
        },
        "id": "ySIxcB6jTtEK",
        "outputId": "63b6be92-7ea9-4398-eff1-2521c6c1af01"
      },
      "execution_count": null,
      "outputs": [
        {
          "output_type": "display_data",
          "data": {
            "text/plain": [
              "<Figure size 864x864 with 1 Axes>"
            ],
            "image/png": "[encoded data removed]"
          },
          "metadata": {}
        }
      ]
    },
    {
      "cell_type": "code",
      "source": [
        ""
      ],
      "metadata": {
        "id": "ytI52H68je1a"
      },
      "execution_count": null,
      "outputs": []
    },
    {
      "cell_type": "markdown",
      "source": [
        "# 1 - start with clean attitude"
      ],
      "metadata": {
        "id": "JCRAUhJB4foC"
      }
    },
    {
      "cell_type": "markdown",
      "source": [
        "create a power network from IEEE traditional power networks"
      ],
      "metadata": {
        "id": "pi4Osfkk4zRv"
      }
    },
    {
      "cell_type": "code",
      "source": [
        "Network = pn.case14\n",
        "Net = Network() # in this example we use IEEE network known as 30-buses\n",
        "Net"
      ],
      "metadata": {
        "id": "aBl1uhqM4wmF",
        "colab": {
          "base_uri": "https://localhost:8080/"
        },
        "outputId": "dd096e67-9a04-46d6-ad5c-fc1b4b7028a8"
      },
      "execution_count": 95,
      "outputs": [
        {
          "output_type": "execute_result",
          "data": {
            "text/plain": [
              "This pandapower network includes the following parameter tables:\n",
              "   - bus (14 elements)\n",
              "   - load (11 elements)\n",
              "   - gen (4 elements)\n",
              "   - shunt (1 element)\n",
              "   - ext_grid (1 element)\n",
              "   - line (15 elements)\n",
              "   - trafo (5 elements)\n",
              "   - poly_cost (5 elements)\n",
              "   - bus_geodata (14 elements)"
            ]
          },
          "metadata": {},
          "execution_count": 95
        }
      ]
    },
    {
      "cell_type": "code",
      "source": [
        "import pandapower.topology as top\n",
        "import networkx as nx"
      ],
      "metadata": {
        "id": "YA9rgElkoLcd"
      },
      "execution_count": 109,
      "outputs": []
    },
    {
      "cell_type": "code",
      "source": [
        "G = top.create_nxgraph(Net)"
      ],
      "metadata": {
        "id": "5CsgELxdol6p"
      },
      "execution_count": 110,
      "outputs": []
    },
    {
      "cell_type": "code",
      "source": [
        "nx.draw(G,with_labels=True)"
      ],
      "metadata": {
        "colab": {
          "base_uri": "https://localhost:8080/",
          "height": 319
        },
        "id": "6TdNwm8Vovk9",
        "outputId": "90219342-8a1d-4717-c787-6cffa0a42098"
      },
      "execution_count": 115,
      "outputs": [
        {
          "output_type": "display_data",
          "data": {
            "text/plain": [
              "<Figure size 432x288 with 1 Axes>"
            ],
            "image/png": "[encoded data removed]"
          },
          "metadata": {}
        }
      ]
    },
    {
      "cell_type": "code",
      "source": [
        "from pandapower import plotting"
      ],
      "metadata": {
        "id": "TPK_dIRwji5_"
      },
      "execution_count": 105,
      "outputs": []
    },
    {
      "cell_type": "code",
      "source": [
        "from pandapower.plotting import simple_plot, pf_res_plotly,simple_plotly"
      ],
      "metadata": {
        "id": "SHGPohVvaXfc"
      },
      "execution_count": 103,
      "outputs": []
    },
    {
      "cell_type": "code",
      "source": [
        "simple_plotly(Net)"
      ],
      "metadata": {
        "colab": {
          "base_uri": "https://localhost:8080/",
          "height": 691
        },
        "id": "AjgzsSyPi2fd",
        "outputId": "93917577-12b8-414f-db62-e4fcce36d088"
      },
      "execution_count": 100,
      "outputs": [
        {
          "output_type": "display_data",
          "data": {
            "text/html": [
              "<html>\n",
              "<head><meta charset=\"utf-8\" /></head>\n",
              "<body>\n",
              "    <div>            <script src=\"https://cdnjs.cloudflare.com/ajax/libs/mathjax/2.7.5/MathJax.js?config=TeX-AMS-MML_SVG\"></script><script type=\"text/javascript\">if (window.MathJax) {MathJax.Hub.Config({SVG: {font: \"STIX-Web\"}});}</script>                <script type=\"text/javascript\">window.PlotlyConfig = {MathJaxConfig: 'local'};</script>\n",
              "        <script src=\"https://cdn.plot.ly/plotly-2.8.3.min.js\"></script>                <div id=\"42b20ef6-9a0a-46d3-ab59-1c5ea77fc294\" class=\"plotly-graph-div\" style=\"height:673.8864101460721px; width:700.0px;\"></div>            <script type=\"text/javascript\">                                    window.PLOTLYENV=window.PLOTLYENV || {};                                    if (document.getElementById(\"42b20ef6-9a0a-46d3-ab59-1c5ea77fc294\")) {                    Plotly.newPlot(                        \"42b20ef6-9a0a-46d3-ab59-1c5ea77fc294\",                        [{\"hoverinfo\":\"text\",\"legendgroup\":\"lines\",\"line\":{\"color\":\"rgb(128, 128, 128)\",\"width\":1},\"mode\":\"lines\",\"name\":\"lines\",\"showlegend\":true,\"text\":\"Index: 0<br />Name: None<br />Length: 1.0 km<br />R: 3.532 Ohm<br />X: 10.784 Ohm<br />\",\"x\":[1.9673949894,2.47269010915,2.9779852289],\"y\":[-0.9610198739,-1.00115405525,-1.0412882366],\"type\":\"scatter\"},{\"hoverinfo\":\"text\",\"legendgroup\":\"lines\",\"line\":{\"color\":\"rgb(128, 128, 128)\",\"width\":1},\"mode\":\"lines\",\"name\":\"lines\",\"showlegend\":false,\"text\":\"Index: 1<br />Name: None<br />Length: 1.0 km<br />R: 9.847 Ohm<br />X: 40.649 Ohm<br />\",\"x\":[1.9673949894,2.33055085515,2.6937067209],\"y\":[-0.9610198739,-0.52845136295,-0.095882852],\"type\":\"scatter\"},{\"hoverinfo\":\"text\",\"legendgroup\":\"lines\",\"line\":{\"color\":\"rgb(128, 128, 128)\",\"width\":1},\"mode\":\"lines\",\"name\":\"lines\",\"showlegend\":false,\"text\":\"Index: 2<br />Name: None<br />Length: 1.0 km<br />R: 8.564 Ohm<br />X: 36.08 Ohm<br />\",\"x\":[2.9779852289,3.37932288395,3.780660539],\"y\":[-1.0412882366,-1.3239871026499999,-1.6066859687],\"type\":\"scatter\"},{\"hoverinfo\":\"text\",\"legendgroup\":\"lines\",\"line\":{\"color\":\"rgb(128, 128, 128)\",\"width\":1},\"mode\":\"lines\",\"name\":\"lines\",\"showlegend\":false,\"text\":\"Index: 3<br />Name: None<br />Length: 1.0 km<br />R: 10.591 Ohm<br />X: 32.134 Ohm<br />\",\"x\":[2.9779852289,3.40585985935,3.8337344898],\"y\":[-1.0412882366,-0.7663769810000001,-0.4914657254],\"type\":\"scatter\"},{\"hoverinfo\":\"text\",\"legendgroup\":\"lines\",\"line\":{\"color\":\"rgb(128, 128, 128)\",\"width\":1},\"mode\":\"lines\",\"name\":\"lines\",\"showlegend\":false,\"text\":\"Index: 4<br />Name: None<br />Length: 1.0 km<br />R: 10.379 Ohm<br />X: 31.69 Ohm<br />\",\"x\":[2.9779852289,2.8358459749,2.6937067209],\"y\":[-1.0412882366,-0.5685855443,-0.095882852],\"type\":\"scatter\"},{\"hoverinfo\":\"text\",\"legendgroup\":\"lines\",\"line\":{\"color\":\"rgb(128, 128, 128)\",\"width\":1},\"mode\":\"lines\",\"name\":\"lines\",\"showlegend\":false,\"text\":\"Index: 5<br />Name: None<br />Length: 1.0 km<br />R: 12.213 Ohm<br />X: 31.17 Ohm<br />\",\"x\":[3.780660539,3.8071975144,3.8337344898],\"y\":[-1.6066859687,-1.04907584705,-0.4914657254],\"type\":\"scatter\"},{\"hoverinfo\":\"text\",\"legendgroup\":\"lines\",\"line\":{\"color\":\"rgb(128, 128, 128)\",\"width\":1},\"mode\":\"lines\",\"name\":\"lines\",\"showlegend\":false,\"text\":\"Index: 6<br />Name: None<br />Length: 1.0 km<br />R: 2.433 Ohm<br />X: 7.675 Ohm<br />\",\"x\":[3.8337344898,3.2637206053499996,2.6937067209],\"y\":[-0.4914657254,-0.2936742887,-0.095882852],\"type\":\"scatter\"},{\"hoverinfo\":\"text\",\"legendgroup\":\"lines\",\"line\":{\"color\":\"rgb(128, 128, 128)\",\"width\":1},\"mode\":\"lines\",\"name\":\"lines\",\"showlegend\":false,\"text\":\"Index: 7<br />Name: None<br />Length: 1.0 km<br />R: 0.0 Ohm<br />X: 0.0 Ohm<br />\",\"x\":[2.5321180205,2.1844008912,1.8366837619],\"y\":[1.2056156419,1.1473110784,1.0890065149],\"type\":\"scatter\"},{\"hoverinfo\":\"text\",\"legendgroup\":\"lines\",\"line\":{\"color\":\"rgb(128, 128, 128)\",\"width\":1},\"mode\":\"lines\",\"name\":\"lines\",\"showlegend\":false,\"text\":\"Index: 8<br />Name: None<br />Length: 1.0 km<br />R: 0.0 Ohm<br />X: 0.0 Ohm<br />\",\"x\":[2.5321180205,2.43461733105,2.3371166416],\"y\":[1.2056156419,1.7573893398,2.3091630377],\"type\":\"scatter\"},{\"hoverinfo\":\"text\",\"legendgroup\":\"lines\",\"line\":{\"color\":\"rgb(128, 128, 128)\",\"width\":1},\"mode\":\"lines\",\"name\":\"lines\",\"showlegend\":false,\"text\":\"Index: 9<br />Name: None<br />Length: 1.0 km<br />R: 0.0 Ohm<br />X: 0.0 Ohm<br />\",\"x\":[2.5321180205,2.9208051510999997,3.3094922817],\"y\":[1.2056156419,1.66179797085,2.1179802998],\"type\":\"scatter\"},{\"hoverinfo\":\"text\",\"legendgroup\":\"lines\",\"line\":{\"color\":\"rgb(128, 128, 128)\",\"width\":1},\"mode\":\"lines\",\"name\":\"lines\",\"showlegend\":false,\"text\":\"Index: 10<br />Name: None<br />Length: 1.0 km<br />R: 0.0 Ohm<br />X: 0.0 Ohm<br />\",\"x\":[4.274948799,3.7736277507,3.2723067024],\"y\":[0.5335379916,0.7477614610500001,0.9619849305],\"type\":\"scatter\"},{\"hoverinfo\":\"text\",\"legendgroup\":\"lines\",\"line\":{\"color\":\"rgb(128, 128, 128)\",\"width\":1},\"mode\":\"lines\",\"name\":\"lines\",\"showlegend\":false,\"text\":\"Index: 11<br />Name: None<br />Length: 1.0 km<br />R: 0.0 Ohm<br />X: 0.0 Ohm<br />\",\"x\":[4.274948799,4.3355770428,4.3962052866],\"y\":[0.5335379916,1.1091480690000002,1.6847581464],\"type\":\"scatter\"},{\"hoverinfo\":\"text\",\"legendgroup\":\"lines\",\"line\":{\"color\":\"rgb(128, 128, 128)\",\"width\":1},\"mode\":\"lines\",\"name\":\"lines\",\"showlegend\":false,\"text\":\"Index: 12<br />Name: None<br />Length: 1.0 km<br />R: 0.0 Ohm<br />X: 0.0 Ohm<br />\",\"x\":[3.2723067024,2.55449523215,1.8366837619],\"y\":[0.9619849305,1.0254957227000001,1.0890065149],\"type\":\"scatter\"},{\"hoverinfo\":\"text\",\"legendgroup\":\"lines\",\"line\":{\"color\":\"rgb(128, 128, 128)\",\"width\":1},\"mode\":\"lines\",\"name\":\"lines\",\"showlegend\":false,\"text\":\"Index: 13<br />Name: None<br />Length: 1.0 km<br />R: 0.0 Ohm<br />X: 0.0 Ohm<br />\",\"x\":[2.3371166416,2.8233044616500003,3.3094922817],\"y\":[2.3091630377,2.21357166875,2.1179802998],\"type\":\"scatter\"},{\"hoverinfo\":\"text\",\"legendgroup\":\"lines\",\"line\":{\"color\":\"rgb(128, 128, 128)\",\"width\":1},\"mode\":\"lines\",\"name\":\"lines\",\"showlegend\":false,\"text\":\"Index: 14<br />Name: None<br />Length: 1.0 km<br />R: 0.0 Ohm<br />X: 0.0 Ohm<br />\",\"x\":[3.3094922817,3.85284878415,4.3962052866],\"y\":[2.1179802998,1.9013692231000001,1.6847581464],\"type\":\"scatter\"},{\"hoverinfo\":\"text\",\"legendgroup\":\"lines\",\"marker\":{\"color\":\"rgb(128, 128, 128)\",\"size\":1,\"symbol\":\"circle\"},\"mode\":\"markers\",\"name\":\"edge_center\",\"showlegend\":false,\"text\":[\"Index: 0<br />Name: None<br />Length: 1.0 km<br />R: 3.532 Ohm<br />X: 10.784 Ohm<br />\",\"Index: 1<br />Name: None<br />Length: 1.0 km<br />R: 9.847 Ohm<br />X: 40.649 Ohm<br />\",\"Index: 2<br />Name: None<br />Length: 1.0 km<br />R: 8.564 Ohm<br />X: 36.08 Ohm<br />\",\"Index: 3<br />Name: None<br />Length: 1.0 km<br />R: 10.591 Ohm<br />X: 32.134 Ohm<br />\",\"Index: 4<br />Name: None<br />Length: 1.0 km<br />R: 10.379 Ohm<br />X: 31.69 Ohm<br />\",\"Index: 5<br />Name: None<br />Length: 1.0 km<br />R: 12.213 Ohm<br />X: 31.17 Ohm<br />\",\"Index: 6<br />Name: None<br />Length: 1.0 km<br />R: 2.433 Ohm<br />X: 7.675 Ohm<br />\",\"Index: 7<br />Name: None<br />Length: 1.0 km<br />R: 0.0 Ohm<br />X: 0.0 Ohm<br />\",\"Index: 8<br />Name: None<br />Length: 1.0 km<br />R: 0.0 Ohm<br />X: 0.0 Ohm<br />\",\"Index: 9<br />Name: None<br />Length: 1.0 km<br />R: 0.0 Ohm<br />X: 0.0 Ohm<br />\",\"Index: 10<br />Name: None<br />Length: 1.0 km<br />R: 0.0 Ohm<br />X: 0.0 Ohm<br />\",\"Index: 11<br />Name: None<br />Length: 1.0 km<br />R: 0.0 Ohm<br />X: 0.0 Ohm<br />\",\"Index: 12<br />Name: None<br />Length: 1.0 km<br />R: 0.0 Ohm<br />X: 0.0 Ohm<br />\",\"Index: 13<br />Name: None<br />Length: 1.0 km<br />R: 0.0 Ohm<br />X: 0.0 Ohm<br />\",\"Index: 14<br />Name: None<br />Length: 1.0 km<br />R: 0.0 Ohm<br />X: 0.0 Ohm<br />\"],\"x\":[2.47269010915],\"y\":[-1.00115405525],\"type\":\"scatter\"},{\"hoverinfo\":\"text\",\"legendgroup\":\"transformer\",\"line\":{\"color\":\"rgb(0, 128, 0)\",\"width\":5},\"mode\":\"lines\",\"name\":\"2W transformers\",\"showlegend\":true,\"text\":\"Index: 0<br />Name: None<br />V_n HV: 135.0 kV<br />V_n LV: 14.0 kV<br />Tap pos.: -1.0<br />\",\"x\":[3.8337344898,4.35293757395,4.8721406581],\"y\":[-0.4914657254,-0.38038050395,-0.2692952825],\"type\":\"scatter\"},{\"hoverinfo\":\"text\",\"legendgroup\":\"transformer\",\"line\":{\"color\":\"rgb(0, 128, 0)\",\"width\":5},\"mode\":\"lines\",\"name\":\"2W transformers\",\"showlegend\":false,\"text\":\"Index: 1<br />Name: None<br />V_n HV: 135.0 kV<br />V_n LV: 0.208 kV<br />Tap pos.: -1.0<br />\",\"x\":[3.8337344898,4.0543416444,4.274948799],\"y\":[-0.4914657254,0.02103613310000002,0.5335379916],\"type\":\"scatter\"},{\"hoverinfo\":\"text\",\"legendgroup\":\"transformer\",\"line\":{\"color\":\"rgb(0, 128, 0)\",\"width\":5},\"mode\":\"lines\",\"name\":\"2W transformers\",\"showlegend\":false,\"text\":\"Index: 2<br />Name: None<br />V_n HV: 135.0 kV<br />V_n LV: 0.208 kV<br />Tap pos.: -1.0<br />\",\"x\":[2.6937067209,2.6129123707,2.5321180205],\"y\":[-0.095882852,0.55486639495,1.2056156419],\"type\":\"scatter\"},{\"hoverinfo\":\"text\",\"legendgroup\":\"transformer\",\"line\":{\"color\":\"rgb(0, 128, 0)\",\"width\":5},\"mode\":\"lines\",\"name\":\"2W transformers\",\"showlegend\":false,\"text\":\"Index: 3<br />Name: None<br />V_n HV: 14.0 kV<br />V_n LV: 12.0 kV<br />Tap pos.: nan<br />\",\"x\":[4.8721406581,5.3882077156,5.9042747731],\"y\":[-0.2692952825,-0.404755116,-0.5402149495],\"type\":\"scatter\"},{\"hoverinfo\":\"text\",\"legendgroup\":\"transformer\",\"line\":{\"color\":\"rgb(0, 128, 0)\",\"width\":5},\"mode\":\"lines\",\"name\":\"2W transformers\",\"showlegend\":false,\"text\":\"Index: 4<br />Name: None<br />V_n HV: 14.0 kV<br />V_n LV: 0.208 kV<br />Tap pos.: nan<br />\",\"x\":[4.8721406581,4.57354472855,4.274948799],\"y\":[-0.2692952825,0.13212135455000001,0.5335379916],\"type\":\"scatter\"},{\"hoverinfo\":\"text\",\"legendgroup\":\"transformer\",\"marker\":{\"color\":\"rgb(0, 128, 0)\",\"size\":1,\"symbol\":\"circle\"},\"mode\":\"markers\",\"name\":\"edge_center\",\"showlegend\":false,\"text\":[\"Index: 0<br />Name: None<br />V_n HV: 135.0 kV<br />V_n LV: 14.0 kV<br />Tap pos.: -1.0<br />\",\"Index: 1<br />Name: None<br />V_n HV: 135.0 kV<br />V_n LV: 0.208 kV<br />Tap pos.: -1.0<br />\",\"Index: 2<br />Name: None<br />V_n HV: 135.0 kV<br />V_n LV: 0.208 kV<br />Tap pos.: -1.0<br />\",\"Index: 3<br />Name: None<br />V_n HV: 14.0 kV<br />V_n LV: 12.0 kV<br />Tap pos.: nan<br />\",\"Index: 4<br />Name: None<br />V_n HV: 14.0 kV<br />V_n LV: 0.208 kV<br />Tap pos.: nan<br />\"],\"x\":[4.35293757395],\"y\":[-0.38038050395],\"type\":\"scatter\"},{\"hoverinfo\":\"text\",\"marker\":{\"color\":\"rgb(255, 255, 0)\",\"size\":20.0,\"symbol\":\"square\"},\"mode\":\"markers\",\"name\":\"external grid\",\"text\":[\"Index: 0<br />Name: None<br />V_m: 1.06 p.u.<br />V_a: 0.0 \\u00b0<br />\"],\"x\":[1.9673949894],\"y\":[-0.9610198739],\"type\":\"scatter\"},{\"hoverinfo\":\"text\",\"marker\":{\"color\":\"rgb(0, 0, 255)\",\"size\":10,\"symbol\":\"circle\"},\"mode\":\"markers\",\"name\":\"buses\",\"text\":[\"Index: 0<br />Name: 1<br />V_n: 135.0 kV<br />\",\"Index: 1<br />Name: 2<br />V_n: 135.0 kV<br />Load: 21.700 MW<br />\",\"Index: 2<br />Name: 3<br />V_n: 135.0 kV<br />Load: 94.200 MW<br />\",\"Index: 3<br />Name: 4<br />V_n: 135.0 kV<br />Load: 47.800 MW<br />\",\"Index: 4<br />Name: 5<br />V_n: 135.0 kV<br />Load: 7.600 MW<br />\",\"Index: 5<br />Name: 6<br />V_n: 0.208 kV<br />Load: 11.200 MW<br />\",\"Index: 6<br />Name: 7<br />V_n: 14.0 kV<br />\",\"Index: 7<br />Name: 8<br />V_n: 12.0 kV<br />\",\"Index: 8<br />Name: 9<br />V_n: 0.208 kV<br />Load: 29.500 MW<br />\",\"Index: 9<br />Name: 10<br />V_n: 0.208 kV<br />Load: 9.000 MW<br />\",\"Index: 10<br />Name: 11<br />V_n: 0.208 kV<br />Load: 3.500 MW<br />\",\"Index: 11<br />Name: 12<br />V_n: 0.208 kV<br />Load: 6.100 MW<br />\",\"Index: 12<br />Name: 13<br />V_n: 0.208 kV<br />Load: 13.500 MW<br />\",\"Index: 13<br />Name: 14<br />V_n: 0.208 kV<br />Load: 14.900 MW<br />\"],\"x\":[1.9673949894,2.9779852289,3.780660539,3.8337344898,2.6937067209,2.5321180205,4.8721406581,5.9042747731,4.274948799,3.2723067024,1.8366837619,2.3371166416,3.3094922817,4.3962052866],\"y\":[-0.9610198739,-1.0412882366,-1.6066859687,-0.4914657254,-0.095882852,1.2056156419,-0.2692952825,-0.5402149495,0.5335379916,0.9619849305,1.0890065149,2.3091630377,2.1179802998,1.6847581464],\"type\":\"scatter\"}],                        {\"autosize\":true,\"hovermode\":\"closest\",\"margin\":{\"b\":5,\"l\":5,\"r\":5,\"t\":5},\"showlegend\":true,\"title\":{\"font\":{\"size\":16}},\"xaxis\":{\"showgrid\":false,\"showticklabels\":false,\"zeroline\":false},\"yaxis\":{\"showgrid\":false,\"showticklabels\":false,\"zeroline\":false},\"template\":{\"data\":{\"bar\":[{\"error_x\":{\"color\":\"#2a3f5f\"},\"error_y\":{\"color\":\"#2a3f5f\"},\"marker\":{\"line\":{\"color\":\"#E5ECF6\",\"width\":0.5},\"pattern\":{\"fillmode\":\"overlay\",\"size\":10,\"solidity\":0.2}},\"type\":\"bar\"}],\"barpolar\":[{\"marker\":{\"line\":{\"color\":\"#E5ECF6\",\"width\":0.5},\"pattern\":{\"fillmode\":\"overlay\",\"size\":10,\"solidity\":0.2}},\"type\":\"barpolar\"}],\"carpet\":[{\"aaxis\":{\"endlinecolor\":\"#2a3f5f\",\"gridcolor\":\"white\",\"linecolor\":\"white\",\"minorgridcolor\":\"white\",\"startlinecolor\":\"#2a3f5f\"},\"baxis\":{\"endlinecolor\":\"#2a3f5f\",\"gridcolor\":\"white\",\"linecolor\":\"white\",\"minorgridcolor\":\"white\",\"startlinecolor\":\"#2a3f5f\"},\"type\":\"carpet\"}],\"choropleth\":[{\"colorbar\":{\"outlinewidth\":0,\"ticks\":\"\"},\"type\":\"choropleth\"}],\"contour\":[{\"colorbar\":{\"outlinewidth\":0,\"ticks\":\"\"},\"colorscale\":[[0.0,\"#0d0887\"],[0.1111111111111111,\"#46039f\"],[0.2222222222222222,\"#7201a8\"],[0.3333333333333333,\"#9c179e\"],[0.4444444444444444,\"#bd3786\"],[0.5555555555555556,\"#d8576b\"],[0.6666666666666666,\"#ed7953\"],[0.7777777777777778,\"#fb9f3a\"],[0.8888888888888888,\"#fdca26\"],[1.0,\"#f0f921\"]],\"type\":\"contour\"}],\"contourcarpet\":[{\"colorbar\":{\"outlinewidth\":0,\"ticks\":\"\"},\"type\":\"contourcarpet\"}],\"heatmap\":[{\"colorbar\":{\"outlinewidth\":0,\"ticks\":\"\"},\"colorscale\":[[0.0,\"#0d0887\"],[0.1111111111111111,\"#46039f\"],[0.2222222222222222,\"#7201a8\"],[0.3333333333333333,\"#9c179e\"],[0.4444444444444444,\"#bd3786\"],[0.5555555555555556,\"#d8576b\"],[0.6666666666666666,\"#ed7953\"],[0.7777777777777778,\"#fb9f3a\"],[0.8888888888888888,\"#fdca26\"],[1.0,\"#f0f921\"]],\"type\":\"heatmap\"}],\"heatmapgl\":[{\"colorbar\":{\"outlinewidth\":0,\"ticks\":\"\"},\"colorscale\":[[0.0,\"#0d0887\"],[0.1111111111111111,\"#46039f\"],[0.2222222222222222,\"#7201a8\"],[0.3333333333333333,\"#9c179e\"],[0.4444444444444444,\"#bd3786\"],[0.5555555555555556,\"#d8576b\"],[0.6666666666666666,\"#ed7953\"],[0.7777777777777778,\"#fb9f3a\"],[0.8888888888888888,\"#fdca26\"],[1.0,\"#f0f921\"]],\"type\":\"heatmapgl\"}],\"histogram\":[{\"marker\":{\"pattern\":{\"fillmode\":\"overlay\",\"size\":10,\"solidity\":0.2}},\"type\":\"histogram\"}],\"histogram2d\":[{\"colorbar\":{\"outlinewidth\":0,\"ticks\":\"\"},\"colorscale\":[[0.0,\"#0d0887\"],[0.1111111111111111,\"#46039f\"],[0.2222222222222222,\"#7201a8\"],[0.3333333333333333,\"#9c179e\"],[0.4444444444444444,\"#bd3786\"],[0.5555555555555556,\"#d8576b\"],[0.6666666666666666,\"#ed7953\"],[0.7777777777777778,\"#fb9f3a\"],[0.8888888888888888,\"#fdca26\"],[1.0,\"#f0f921\"]],\"type\":\"histogram2d\"}],\"histogram2dcontour\":[{\"colorbar\":{\"outlinewidth\":0,\"ticks\":\"\"},\"colorscale\":[[0.0,\"#0d0887\"],[0.1111111111111111,\"#46039f\"],[0.2222222222222222,\"#7201a8\"],[0.3333333333333333,\"#9c179e\"],[0.4444444444444444,\"#bd3786\"],[0.5555555555555556,\"#d8576b\"],[0.6666666666666666,\"#ed7953\"],[0.7777777777777778,\"#fb9f3a\"],[0.8888888888888888,\"#fdca26\"],[1.0,\"#f0f921\"]],\"type\":\"histogram2dcontour\"}],\"mesh3d\":[{\"colorbar\":{\"outlinewidth\":0,\"ticks\":\"\"},\"type\":\"mesh3d\"}],\"parcoords\":[{\"line\":{\"colorbar\":{\"outlinewidth\":0,\"ticks\":\"\"}},\"type\":\"parcoords\"}],\"pie\":[{\"automargin\":true,\"type\":\"pie\"}],\"scatter\":[{\"marker\":{\"colorbar\":{\"outlinewidth\":0,\"ticks\":\"\"}},\"type\":\"scatter\"}],\"scatter3d\":[{\"line\":{\"colorbar\":{\"outlinewidth\":0,\"ticks\":\"\"}},\"marker\":{\"colorbar\":{\"outlinewidth\":0,\"ticks\":\"\"}},\"type\":\"scatter3d\"}],\"scattercarpet\":[{\"marker\":{\"colorbar\":{\"outlinewidth\":0,\"ticks\":\"\"}},\"type\":\"scattercarpet\"}],\"scattergeo\":[{\"marker\":{\"colorbar\":{\"outlinewidth\":0,\"ticks\":\"\"}},\"type\":\"scattergeo\"}],\"scattergl\":[{\"marker\":{\"colorbar\":{\"outlinewidth\":0,\"ticks\":\"\"}},\"type\":\"scattergl\"}],\"scattermapbox\":[{\"marker\":{\"colorbar\":{\"outlinewidth\":0,\"ticks\":\"\"}},\"type\":\"scattermapbox\"}],\"scatterpolar\":[{\"marker\":{\"colorbar\":{\"outlinewidth\":0,\"ticks\":\"\"}},\"type\":\"scatterpolar\"}],\"scatterpolargl\":[{\"marker\":{\"colorbar\":{\"outlinewidth\":0,\"ticks\":\"\"}},\"type\":\"scatterpolargl\"}],\"scatterternary\":[{\"marker\":{\"colorbar\":{\"outlinewidth\":0,\"ticks\":\"\"}},\"type\":\"scatterternary\"}],\"surface\":[{\"colorbar\":{\"outlinewidth\":0,\"ticks\":\"\"},\"colorscale\":[[0.0,\"#0d0887\"],[0.1111111111111111,\"#46039f\"],[0.2222222222222222,\"#7201a8\"],[0.3333333333333333,\"#9c179e\"],[0.4444444444444444,\"#bd3786\"],[0.5555555555555556,\"#d8576b\"],[0.6666666666666666,\"#ed7953\"],[0.7777777777777778,\"#fb9f3a\"],[0.8888888888888888,\"#fdca26\"],[1.0,\"#f0f921\"]],\"type\":\"surface\"}],\"table\":[{\"cells\":{\"fill\":{\"color\":\"#EBF0F8\"},\"line\":{\"color\":\"white\"}},\"header\":{\"fill\":{\"color\":\"#C8D4E3\"},\"line\":{\"color\":\"white\"}},\"type\":\"table\"}]},\"layout\":{\"annotationdefaults\":{\"arrowcolor\":\"#2a3f5f\",\"arrowhead\":0,\"arrowwidth\":1},\"autotypenumbers\":\"strict\",\"coloraxis\":{\"colorbar\":{\"outlinewidth\":0,\"ticks\":\"\"}},\"colorscale\":{\"diverging\":[[0,\"#8e0152\"],[0.1,\"#c51b7d\"],[0.2,\"#de77ae\"],[0.3,\"#f1b6da\"],[0.4,\"#fde0ef\"],[0.5,\"#f7f7f7\"],[0.6,\"#e6f5d0\"],[0.7,\"#b8e186\"],[0.8,\"#7fbc41\"],[0.9,\"#4d9221\"],[1,\"#276419\"]],\"sequential\":[[0.0,\"#0d0887\"],[0.1111111111111111,\"#46039f\"],[0.2222222222222222,\"#7201a8\"],[0.3333333333333333,\"#9c179e\"],[0.4444444444444444,\"#bd3786\"],[0.5555555555555556,\"#d8576b\"],[0.6666666666666666,\"#ed7953\"],[0.7777777777777778,\"#fb9f3a\"],[0.8888888888888888,\"#fdca26\"],[1.0,\"#f0f921\"]],\"sequentialminus\":[[0.0,\"#0d0887\"],[0.1111111111111111,\"#46039f\"],[0.2222222222222222,\"#7201a8\"],[0.3333333333333333,\"#9c179e\"],[0.4444444444444444,\"#bd3786\"],[0.5555555555555556,\"#d8576b\"],[0.6666666666666666,\"#ed7953\"],[0.7777777777777778,\"#fb9f3a\"],[0.8888888888888888,\"#fdca26\"],[1.0,\"#f0f921\"]]},\"colorway\":[\"#636efa\",\"#EF553B\",\"#00cc96\",\"#ab63fa\",\"#FFA15A\",\"#19d3f3\",\"#FF6692\",\"#B6E880\",\"#FF97FF\",\"#FECB52\"],\"font\":{\"color\":\"#2a3f5f\"},\"geo\":{\"bgcolor\":\"white\",\"lakecolor\":\"white\",\"landcolor\":\"#E5ECF6\",\"showlakes\":true,\"showland\":true,\"subunitcolor\":\"white\"},\"hoverlabel\":{\"align\":\"left\"},\"hovermode\":\"closest\",\"mapbox\":{\"style\":\"light\"},\"paper_bgcolor\":\"white\",\"plot_bgcolor\":\"#E5ECF6\",\"polar\":{\"angularaxis\":{\"gridcolor\":\"white\",\"linecolor\":\"white\",\"ticks\":\"\"},\"bgcolor\":\"#E5ECF6\",\"radialaxis\":{\"gridcolor\":\"white\",\"linecolor\":\"white\",\"ticks\":\"\"}},\"scene\":{\"xaxis\":{\"backgroundcolor\":\"#E5ECF6\",\"gridcolor\":\"white\",\"gridwidth\":2,\"linecolor\":\"white\",\"showbackground\":true,\"ticks\":\"\",\"zerolinecolor\":\"white\"},\"yaxis\":{\"backgroundcolor\":\"#E5ECF6\",\"gridcolor\":\"white\",\"gridwidth\":2,\"linecolor\":\"white\",\"showbackground\":true,\"ticks\":\"\",\"zerolinecolor\":\"white\"},\"zaxis\":{\"backgroundcolor\":\"#E5ECF6\",\"gridcolor\":\"white\",\"gridwidth\":2,\"linecolor\":\"white\",\"showbackground\":true,\"ticks\":\"\",\"zerolinecolor\":\"white\"}},\"shapedefaults\":{\"line\":{\"color\":\"#2a3f5f\"}},\"ternary\":{\"aaxis\":{\"gridcolor\":\"white\",\"linecolor\":\"white\",\"ticks\":\"\"},\"baxis\":{\"gridcolor\":\"white\",\"linecolor\":\"white\",\"ticks\":\"\"},\"bgcolor\":\"#E5ECF6\",\"caxis\":{\"gridcolor\":\"white\",\"linecolor\":\"white\",\"ticks\":\"\"}},\"title\":{\"x\":0.05},\"xaxis\":{\"automargin\":true,\"gridcolor\":\"white\",\"linecolor\":\"white\",\"ticks\":\"\",\"title\":{\"standoff\":15},\"zerolinecolor\":\"white\",\"zerolinewidth\":2},\"yaxis\":{\"automargin\":true,\"gridcolor\":\"white\",\"linecolor\":\"white\",\"ticks\":\"\",\"title\":{\"standoff\":15},\"zerolinecolor\":\"white\",\"zerolinewidth\":2}}},\"width\":700.0,\"height\":673.8864101460721},                        {\"responsive\": true}                    ).then(function(){\n",
              "                            \n",
              "var gd = document.getElementById('42b20ef6-9a0a-46d3-ab59-1c5ea77fc294');\n",
              "var x = new MutationObserver(function (mutations, observer) {{\n",
              "        var display = window.getComputedStyle(gd).display;\n",
              "        if (!display || display === 'none') {{\n",
              "            console.log([gd, 'removed!']);\n",
              "            Plotly.purge(gd);\n",
              "            observer.disconnect();\n",
              "        }}\n",
              "}});\n",
              "\n",
              "// Listen for the removal of the full notebook cells\n",
              "var notebookContainer = gd.closest('#notebook-container');\n",
              "if (notebookContainer) {{\n",
              "    x.observe(notebookContainer, {childList: true});\n",
              "}}\n",
              "\n",
              "// Listen for the clearing of the current output cell\n",
              "var outputEl = gd.closest('.output');\n",
              "if (outputEl) {{\n",
              "    x.observe(outputEl, {childList: true});\n",
              "}}\n",
              "\n",
              "                        })                };                            </script>        </div>\n",
              "</body>\n",
              "</html>"
            ]
          },
          "metadata": {}
        }
      ]
    },
    {
      "cell_type": "code",
      "source": [
        "pp.rundcpp(net=Net) #we will solve the current equation"
      ],
      "metadata": {
        "id": "g8RLBneOditO"
      },
      "execution_count": 96,
      "outputs": []
    },
    {
      "cell_type": "code",
      "source": [
        "pp.drop_buses(Net, [22], drop_elements=True); # drop the nodes"
      ],
      "metadata": {
        "id": "-_qkH8ZXdrEx"
      },
      "execution_count": 84,
      "outputs": []
    },
    {
      "cell_type": "code",
      "source": [
        "Net.bus['vn_kv'][10] = 110"
      ],
      "metadata": {
        "id": "8SQo4B-SeqsM"
      },
      "execution_count": 91,
      "outputs": []
    },
    {
      "cell_type": "code",
      "source": [
        "pf_res_plotly(Net)"
      ],
      "metadata": {
        "colab": {
          "base_uri": "https://localhost:8080/",
          "height": 691
        },
        "id": "lFH6g6JBajT8",
        "outputId": "d26845a5-867c-431e-8a9e-7b91d8d57db3"
      },
      "execution_count": 97,
      "outputs": [
        {
          "output_type": "display_data",
          "data": {
            "text/html": [
              "<html>\n",
              "<head><meta charset=\"utf-8\" /></head>\n",
              "<body>\n",
              "    <div>            <script src=\"https://cdnjs.cloudflare.com/ajax/libs/mathjax/2.7.5/MathJax.js?config=TeX-AMS-MML_SVG\"></script><script type=\"text/javascript\">if (window.MathJax) {MathJax.Hub.Config({SVG: {font: \"STIX-Web\"}});}</script>                <script type=\"text/javascript\">window.PlotlyConfig = {MathJaxConfig: 'local'};</script>\n",
              "        <script src=\"https://cdn.plot.ly/plotly-2.8.3.min.js\"></script>                <div id=\"943e6e80-ce59-4b34-9c2a-48c9d139bea4\" class=\"plotly-graph-div\" style=\"height:673.8864101460721px; width:700.0px;\"></div>            <script type=\"text/javascript\">                                    window.PLOTLYENV=window.PLOTLYENV || {};                                    if (document.getElementById(\"943e6e80-ce59-4b34-9c2a-48c9d139bea4\")) {                    Plotly.newPlot(                        \"943e6e80-ce59-4b34-9c2a-48c9d139bea4\",                        [{\"hoverinfo\":\"text\",\"legendgroup\":\"lines\",\"line\":{\"color\":\"rgb(0.0,0.0,141.13636363636363)\",\"width\":2},\"mode\":\"lines\",\"name\":\"lines\",\"showlegend\":true,\"text\":\"None<br />I = 1.429 %<br />I_from = 0.596 kA<br />I_to = 0.605 kA<br />\",\"x\":[1.9673949894,2.47269010915,2.9779852289],\"y\":[-0.9610198739,-1.00115405525,-1.0412882366],\"type\":\"scatter\"},{\"hoverinfo\":\"text\",\"legendgroup\":\"lines\",\"line\":{\"color\":\"rgb(0.0,0.0,132.04545454545453)\",\"width\":2},\"mode\":\"lines\",\"name\":\"lines\",\"showlegend\":false,\"text\":\"None<br />I = 0.719 %<br />I_from = 0.287 kA<br />I_to = 0.304 kA<br />\",\"x\":[1.9673949894,2.33055085515,2.6937067209],\"y\":[-0.9610198739,-0.52845136295,-0.095882852],\"type\":\"scatter\"},{\"hoverinfo\":\"text\",\"legendgroup\":\"lines\",\"line\":{\"color\":\"rgb(0.0,0.0,132.04545454545453)\",\"width\":2},\"mode\":\"lines\",\"name\":\"lines\",\"showlegend\":false,\"text\":\"None<br />I = 0.7 %<br />I_from = 0.287 kA<br />I_to = 0.296 kA<br />\",\"x\":[2.9779852289,3.37932288395,3.780660539],\"y\":[-1.0412882366,-1.3239871026499999,-1.6066859687],\"type\":\"scatter\"},{\"hoverinfo\":\"text\",\"legendgroup\":\"lines\",\"line\":{\"color\":\"rgb(0.0,0.0,132.04545454545453)\",\"width\":2},\"mode\":\"lines\",\"name\":\"lines\",\"showlegend\":false,\"text\":\"None<br />I = 0.557 %<br />I_from = 0.226 kA<br />I_to = 0.236 kA<br />\",\"x\":[2.9779852289,3.40585985935,3.8337344898],\"y\":[-1.0412882366,-0.7663769810000001,-0.4914657254],\"type\":\"scatter\"},{\"hoverinfo\":\"text\",\"legendgroup\":\"lines\",\"line\":{\"color\":\"rgb(0.0,0.0,132.04545454545453)\",\"width\":2},\"mode\":\"lines\",\"name\":\"lines\",\"showlegend\":false,\"text\":\"None<br />I = 0.414 %<br />I_from = 0.168 kA<br />I_to = 0.175 kA<br />\",\"x\":[2.9779852289,2.8358459749,2.6937067209],\"y\":[-1.0412882366,-0.5685855443,-0.095882852],\"type\":\"scatter\"},{\"hoverinfo\":\"text\",\"legendgroup\":\"lines\",\"line\":{\"color\":\"rgb(0.0,0.0,127.5)\",\"width\":2},\"mode\":\"lines\",\"name\":\"lines\",\"showlegend\":false,\"text\":\"None<br />I = 0.244 %<br />I_from = 0.102 kA<br />I_to = 0.103 kA<br />\",\"x\":[3.780660539,3.8071975144,3.8337344898],\"y\":[-1.6066859687,-1.04907584705,-0.4914657254],\"type\":\"scatter\"},{\"hoverinfo\":\"text\",\"legendgroup\":\"lines\",\"line\":{\"color\":\"rgb(0.0,0.0,132.04545454545453)\",\"width\":2},\"mode\":\"lines\",\"name\":\"lines\",\"showlegend\":false,\"text\":\"None<br />I = 0.624 %<br />I_from = 0.264 kA<br />I_to = 0.264 kA<br />\",\"x\":[3.8337344898,3.2637206053499996,2.6937067209],\"y\":[-0.4914657254,-0.2936742887,-0.095882852],\"type\":\"scatter\"},{\"hoverinfo\":\"text\",\"legendgroup\":\"lines\",\"line\":{\"color\":\"rgb(0.0,0.0,127.5)\",\"width\":2},\"mode\":\"lines\",\"name\":\"lines\",\"showlegend\":false,\"text\":\"None<br />I = 0.068 %<br />I_from = 17.454 kA<br />I_to = 18.676 kA<br />\",\"x\":[2.5321180205,2.1844008912,1.8366837619],\"y\":[1.2056156419,1.1473110784,1.0890065149],\"type\":\"scatter\"},{\"hoverinfo\":\"text\",\"legendgroup\":\"lines\",\"line\":{\"color\":\"rgb(0.0,0.0,127.5)\",\"width\":2},\"mode\":\"lines\",\"name\":\"lines\",\"showlegend\":false,\"text\":\"None<br />I = 0.077 %<br />I_from = 19.734 kA<br />I_to = 21.116 kA<br />\",\"x\":[2.5321180205,2.43461733105,2.3371166416],\"y\":[1.2056156419,1.7573893398,2.3091630377],\"type\":\"scatter\"},{\"hoverinfo\":\"text\",\"legendgroup\":\"lines\",\"line\":{\"color\":\"rgb(0.0,0.0,127.5)\",\"width\":2},\"mode\":\"lines\",\"name\":\"lines\",\"showlegend\":false,\"text\":\"None<br />I = 0.174 %<br />I_from = 44.752 kA<br />I_to = 47.885 kA<br />\",\"x\":[2.5321180205,2.9208051510999997,3.3094922817],\"y\":[1.2056156419,1.66179797085,2.1179802998],\"type\":\"scatter\"},{\"hoverinfo\":\"text\",\"legendgroup\":\"lines\",\"line\":{\"color\":\"rgb(0.0,0.0,127.5)\",\"width\":2},\"mode\":\"lines\",\"name\":\"lines\",\"showlegend\":false,\"text\":\"None<br />I = 0.058 %<br />I_from = 16.021 kA<br />I_to = 16.021 kA<br />\",\"x\":[4.274948799,3.7736277507,3.2723067024],\"y\":[0.5335379916,0.7477614610500001,0.9619849305],\"type\":\"scatter\"},{\"hoverinfo\":\"text\",\"legendgroup\":\"lines\",\"line\":{\"color\":\"rgb(0.0,0.0,127.5)\",\"width\":2},\"mode\":\"lines\",\"name\":\"lines\",\"showlegend\":false,\"text\":\"None<br />I = 0.097 %<br />I_from = 26.762 kA<br />I_to = 26.762 kA<br />\",\"x\":[4.274948799,4.3355770428,4.3962052866],\"y\":[0.5335379916,1.1091480690000002,1.6847581464],\"type\":\"scatter\"},{\"hoverinfo\":\"text\",\"legendgroup\":\"lines\",\"line\":{\"color\":\"rgb(0.0,0.0,127.5)\",\"width\":2},\"mode\":\"lines\",\"name\":\"lines\",\"showlegend\":false,\"text\":\"None<br />I = 0.033 %<br />I_from = 8.961 kA<br />I_to = 8.961 kA<br />\",\"x\":[3.2723067024,2.55449523215,1.8366837619],\"y\":[0.9619849305,1.0254957227000001,1.0890065149],\"type\":\"scatter\"},{\"hoverinfo\":\"text\",\"legendgroup\":\"lines\",\"line\":{\"color\":\"rgb(0.0,0.0,127.5)\",\"width\":2},\"mode\":\"lines\",\"name\":\"lines\",\"showlegend\":false,\"text\":\"None<br />I = 0.015 %<br />I_from = 4.184 kA<br />I_to = 4.184 kA<br />\",\"x\":[2.3371166416,2.8233044616500003,3.3094922817],\"y\":[2.3091630377,2.21357166875,2.1179802998],\"type\":\"scatter\"},{\"hoverinfo\":\"text\",\"legendgroup\":\"lines\",\"line\":{\"color\":\"rgb(0.0,0.0,127.5)\",\"width\":2},\"mode\":\"lines\",\"name\":\"lines\",\"showlegend\":false,\"text\":\"None<br />I = 0.053 %<br />I_from = 14.597 kA<br />I_to = 14.597 kA<br />\",\"x\":[3.3094922817,3.85284878415,4.3962052866],\"y\":[2.1179802998,1.9013692231000001,1.6847581464],\"type\":\"scatter\"},{\"marker\":{\"cmax\":100,\"cmin\":0,\"color\":\"rgb(255,255,255)\",\"colorbar\":{\"thickness\":10,\"title\":{\"side\":\"right\",\"text\":\"Line Loading [%]\"},\"x\":1.1},\"colorscale\":[[0.0,\"rgb(0,0,131)\"],[0.2,\"rgb(0,60,170)\"],[0.4,\"rgb(5,255,255)\"],[0.6,\"rgb(255,255,0)\"],[0.8,\"rgb(250,0,0)\"],[1.0,\"rgb(128,0,0)\"]],\"opacity\":0,\"size\":0},\"mode\":\"markers\",\"x\":[1.9673949894],\"y\":[-0.9610198739],\"type\":\"scatter\"},{\"hoverinfo\":\"text\",\"legendgroup\":\"lines\",\"marker\":{\"color\":\"rgb(128, 128, 128)\",\"size\":1,\"symbol\":\"circle\"},\"mode\":\"markers\",\"name\":\"edge_center\",\"showlegend\":false,\"text\":[\"None<br />I = 1.429 %<br />I_from = 0.596 kA<br />I_to = 0.605 kA<br />\",\"None<br />I = 0.719 %<br />I_from = 0.287 kA<br />I_to = 0.304 kA<br />\",\"None<br />I = 0.7 %<br />I_from = 0.287 kA<br />I_to = 0.296 kA<br />\",\"None<br />I = 0.557 %<br />I_from = 0.226 kA<br />I_to = 0.236 kA<br />\",\"None<br />I = 0.414 %<br />I_from = 0.168 kA<br />I_to = 0.175 kA<br />\",\"None<br />I = 0.244 %<br />I_from = 0.102 kA<br />I_to = 0.103 kA<br />\",\"None<br />I = 0.624 %<br />I_from = 0.264 kA<br />I_to = 0.264 kA<br />\",\"None<br />I = 0.068 %<br />I_from = 17.454 kA<br />I_to = 18.676 kA<br />\",\"None<br />I = 0.077 %<br />I_from = 19.734 kA<br />I_to = 21.116 kA<br />\",\"None<br />I = 0.174 %<br />I_from = 44.752 kA<br />I_to = 47.885 kA<br />\",\"None<br />I = 0.058 %<br />I_from = 16.021 kA<br />I_to = 16.021 kA<br />\",\"None<br />I = 0.097 %<br />I_from = 26.762 kA<br />I_to = 26.762 kA<br />\",\"None<br />I = 0.033 %<br />I_from = 8.961 kA<br />I_to = 8.961 kA<br />\",\"None<br />I = 0.015 %<br />I_from = 4.184 kA<br />I_to = 4.184 kA<br />\",\"None<br />I = 0.053 %<br />I_from = 14.597 kA<br />I_to = 14.597 kA<br />\"],\"x\":[2.47269010915],\"y\":[-1.00115405525],\"type\":\"scatter\"},{\"hoverinfo\":\"text\",\"legendgroup\":\"transformer\",\"line\":{\"color\":\"rgb(0.0,0.0,127.5)\",\"width\":3.0},\"mode\":\"lines\",\"name\":\"2W transformers\",\"showlegend\":true,\"text\":\"None<br />I = 0.286 %<br />I_hv = 0.121 kA<br />I_lv = 1.17 kA<br />\",\"x\":[3.8337344898,4.35293757395,4.8721406581],\"y\":[-0.4914657254,-0.38038050395,-0.2692952825],\"type\":\"scatter\"},{\"hoverinfo\":\"text\",\"legendgroup\":\"transformer\",\"line\":{\"color\":\"rgb(0.0,0.0,127.5)\",\"width\":3.0},\"mode\":\"lines\",\"name\":\"2W transformers\",\"showlegend\":false,\"text\":\"None<br />I = 0.167 %<br />I_hv = 0.071 kA<br />I_lv = 45.943 kA<br />\",\"x\":[3.8337344898,4.0543416444,4.274948799],\"y\":[-0.4914657254,0.02103613310000002,0.5335379916],\"type\":\"scatter\"},{\"hoverinfo\":\"text\",\"legendgroup\":\"transformer\",\"line\":{\"color\":\"rgb(0.0,0.0,132.04545454545453)\",\"width\":3.0},\"mode\":\"lines\",\"name\":\"2W transformers\",\"showlegend\":false,\"text\":\"None<br />I = 0.432 %<br />I_hv = 0.183 kA<br />I_lv = 110.995 kA<br />\",\"x\":[2.6937067209,2.6129123707,2.5321180205],\"y\":[-0.095882852,0.55486639495,1.2056156419],\"type\":\"scatter\"},{\"hoverinfo\":\"text\",\"legendgroup\":\"transformer\",\"line\":{\"color\":\"rgb(0.0,0.0,127.5)\",\"width\":3.0},\"mode\":\"lines\",\"name\":\"2W transformers\",\"showlegend\":false,\"text\":\"None<br />I = 0.0 %<br />I_hv = 0.0 kA<br />I_lv = 0.0 kA<br />\",\"x\":[4.8721406581,5.3882077156,5.9042747731],\"y\":[-0.2692952825,-0.404755116,-0.5402149495],\"type\":\"scatter\"},{\"hoverinfo\":\"text\",\"legendgroup\":\"transformer\",\"line\":{\"color\":\"rgb(0.0,0.0,127.5)\",\"width\":3.0},\"mode\":\"lines\",\"name\":\"2W transformers\",\"showlegend\":false,\"text\":\"None<br />I = 0.286 %<br />I_hv = 1.17 kA<br />I_lv = 78.723 kA<br />\",\"x\":[4.8721406581,4.57354472855,4.274948799],\"y\":[-0.2692952825,0.13212135455000001,0.5335379916],\"type\":\"scatter\"},{\"hoverinfo\":\"text\",\"legendgroup\":\"transformer\",\"marker\":{\"color\":\"rgb(0.0,0.0,127.5)\",\"size\":1,\"symbol\":\"circle\"},\"mode\":\"markers\",\"name\":\"edge_center\",\"showlegend\":false,\"text\":[\"None<br />I = 0.286 %<br />I_hv = 0.121 kA<br />I_lv = 1.17 kA<br />\",\"None<br />I = 0.167 %<br />I_hv = 0.071 kA<br />I_lv = 45.943 kA<br />\",\"None<br />I = 0.432 %<br />I_hv = 0.183 kA<br />I_lv = 110.995 kA<br />\",\"None<br />I = 0.0 %<br />I_hv = 0.0 kA<br />I_lv = 0.0 kA<br />\",\"None<br />I = 0.286 %<br />I_hv = 1.17 kA<br />I_lv = 78.723 kA<br />\"],\"x\":[4.35293757395],\"y\":[-0.38038050395],\"type\":\"scatter\"},{\"hoverinfo\":\"text\",\"marker\":{\"color\":\"rgb(128, 128, 128)\",\"size\":20,\"symbol\":\"square\"},\"mode\":\"markers\",\"name\":\"external_grid\",\"text\":[1],\"x\":[1.9673949894],\"y\":[-0.9610198739],\"type\":\"scatter\"},{\"hoverinfo\":\"text\",\"marker\":{\"cmax\":1.1,\"cmin\":0.9,\"color\":[null,null,null,null,null,null,null,null,null,null,null,null,null,null],\"colorbar\":{\"thickness\":10,\"title\":{\"side\":\"right\",\"text\":\"Bus Voltage [pu]\"},\"x\":1.0},\"colorscale\":[[0.0,\"rgb(0,0,131)\"],[0.2,\"rgb(0,60,170)\"],[0.4,\"rgb(5,255,255)\"],[0.6,\"rgb(255,255,0)\"],[0.8,\"rgb(250,0,0)\"],[1.0,\"rgb(128,0,0)\"]],\"size\":10,\"symbol\":\"circle\"},\"mode\":\"markers\",\"name\":\"buses\",\"text\":[\"1<br />V_m = nan pu<br />V_m = nan kV<br />V_a = 0.0 deg\",\"2<br />V_m = nan pu<br />V_m = nan kV<br />V_a = -5.012 deg\",\"3<br />V_m = nan pu<br />V_m = nan kV<br />V_a = -12.954 deg\",\"4<br />V_m = nan pu<br />V_m = nan kV<br />V_a = -10.584 deg\",\"5<br />V_m = nan pu<br />V_m = nan kV<br />V_a = -9.094 deg\",\"6<br />V_m = nan pu<br />V_m = nan kV<br />V_a = -14.852 deg\",\"7<br />V_m = nan pu<br />V_m = nan kV<br />V_a = -13.907 deg\",\"8<br />V_m = nan pu<br />V_m = nan kV<br />V_a = -13.907 deg\",\"9<br />V_m = nan pu<br />V_m = nan kV<br />V_a = -15.695 deg\",\"10<br />V_m = nan pu<br />V_m = nan kV<br />V_a = -15.974 deg\",\"11<br />V_m = nan pu<br />V_m = nan kV<br />V_a = -15.619 deg\",\"12<br />V_m = nan pu<br />V_m = nan kV<br />V_a = -15.967 deg\",\"13<br />V_m = nan pu<br />V_m = nan kV<br />V_a = -16.14 deg\",\"14<br />V_m = nan pu<br />V_m = nan kV<br />V_a = -17.188 deg\"],\"x\":[1.9673949894,2.9779852289,3.780660539,3.8337344898,2.6937067209,2.5321180205,4.8721406581,5.9042747731,4.274948799,3.2723067024,1.8366837619,2.3371166416,3.3094922817,4.3962052866],\"y\":[-0.9610198739,-1.0412882366,-1.6066859687,-0.4914657254,-0.095882852,1.2056156419,-0.2692952825,-0.5402149495,0.5335379916,0.9619849305,1.0890065149,2.3091630377,2.1179802998,1.6847581464],\"type\":\"scatter\"}],                        {\"autosize\":true,\"hovermode\":\"closest\",\"margin\":{\"b\":5,\"l\":5,\"r\":5,\"t\":5},\"showlegend\":false,\"title\":{\"font\":{\"size\":16}},\"xaxis\":{\"showgrid\":false,\"showticklabels\":false,\"zeroline\":false},\"yaxis\":{\"showgrid\":false,\"showticklabels\":false,\"zeroline\":false},\"template\":{\"data\":{\"bar\":[{\"error_x\":{\"color\":\"#2a3f5f\"},\"error_y\":{\"color\":\"#2a3f5f\"},\"marker\":{\"line\":{\"color\":\"#E5ECF6\",\"width\":0.5},\"pattern\":{\"fillmode\":\"overlay\",\"size\":10,\"solidity\":0.2}},\"type\":\"bar\"}],\"barpolar\":[{\"marker\":{\"line\":{\"color\":\"#E5ECF6\",\"width\":0.5},\"pattern\":{\"fillmode\":\"overlay\",\"size\":10,\"solidity\":0.2}},\"type\":\"barpolar\"}],\"carpet\":[{\"aaxis\":{\"endlinecolor\":\"#2a3f5f\",\"gridcolor\":\"white\",\"linecolor\":\"white\",\"minorgridcolor\":\"white\",\"startlinecolor\":\"#2a3f5f\"},\"baxis\":{\"endlinecolor\":\"#2a3f5f\",\"gridcolor\":\"white\",\"linecolor\":\"white\",\"minorgridcolor\":\"white\",\"startlinecolor\":\"#2a3f5f\"},\"type\":\"carpet\"}],\"choropleth\":[{\"colorbar\":{\"outlinewidth\":0,\"ticks\":\"\"},\"type\":\"choropleth\"}],\"contour\":[{\"colorbar\":{\"outlinewidth\":0,\"ticks\":\"\"},\"colorscale\":[[0.0,\"#0d0887\"],[0.1111111111111111,\"#46039f\"],[0.2222222222222222,\"#7201a8\"],[0.3333333333333333,\"#9c179e\"],[0.4444444444444444,\"#bd3786\"],[0.5555555555555556,\"#d8576b\"],[0.6666666666666666,\"#ed7953\"],[0.7777777777777778,\"#fb9f3a\"],[0.8888888888888888,\"#fdca26\"],[1.0,\"#f0f921\"]],\"type\":\"contour\"}],\"contourcarpet\":[{\"colorbar\":{\"outlinewidth\":0,\"ticks\":\"\"},\"type\":\"contourcarpet\"}],\"heatmap\":[{\"colorbar\":{\"outlinewidth\":0,\"ticks\":\"\"},\"colorscale\":[[0.0,\"#0d0887\"],[0.1111111111111111,\"#46039f\"],[0.2222222222222222,\"#7201a8\"],[0.3333333333333333,\"#9c179e\"],[0.4444444444444444,\"#bd3786\"],[0.5555555555555556,\"#d8576b\"],[0.6666666666666666,\"#ed7953\"],[0.7777777777777778,\"#fb9f3a\"],[0.8888888888888888,\"#fdca26\"],[1.0,\"#f0f921\"]],\"type\":\"heatmap\"}],\"heatmapgl\":[{\"colorbar\":{\"outlinewidth\":0,\"ticks\":\"\"},\"colorscale\":[[0.0,\"#0d0887\"],[0.1111111111111111,\"#46039f\"],[0.2222222222222222,\"#7201a8\"],[0.3333333333333333,\"#9c179e\"],[0.4444444444444444,\"#bd3786\"],[0.5555555555555556,\"#d8576b\"],[0.6666666666666666,\"#ed7953\"],[0.7777777777777778,\"#fb9f3a\"],[0.8888888888888888,\"#fdca26\"],[1.0,\"#f0f921\"]],\"type\":\"heatmapgl\"}],\"histogram\":[{\"marker\":{\"pattern\":{\"fillmode\":\"overlay\",\"size\":10,\"solidity\":0.2}},\"type\":\"histogram\"}],\"histogram2d\":[{\"colorbar\":{\"outlinewidth\":0,\"ticks\":\"\"},\"colorscale\":[[0.0,\"#0d0887\"],[0.1111111111111111,\"#46039f\"],[0.2222222222222222,\"#7201a8\"],[0.3333333333333333,\"#9c179e\"],[0.4444444444444444,\"#bd3786\"],[0.5555555555555556,\"#d8576b\"],[0.6666666666666666,\"#ed7953\"],[0.7777777777777778,\"#fb9f3a\"],[0.8888888888888888,\"#fdca26\"],[1.0,\"#f0f921\"]],\"type\":\"histogram2d\"}],\"histogram2dcontour\":[{\"colorbar\":{\"outlinewidth\":0,\"ticks\":\"\"},\"colorscale\":[[0.0,\"#0d0887\"],[0.1111111111111111,\"#46039f\"],[0.2222222222222222,\"#7201a8\"],[0.3333333333333333,\"#9c179e\"],[0.4444444444444444,\"#bd3786\"],[0.5555555555555556,\"#d8576b\"],[0.6666666666666666,\"#ed7953\"],[0.7777777777777778,\"#fb9f3a\"],[0.8888888888888888,\"#fdca26\"],[1.0,\"#f0f921\"]],\"type\":\"histogram2dcontour\"}],\"mesh3d\":[{\"colorbar\":{\"outlinewidth\":0,\"ticks\":\"\"},\"type\":\"mesh3d\"}],\"parcoords\":[{\"line\":{\"colorbar\":{\"outlinewidth\":0,\"ticks\":\"\"}},\"type\":\"parcoords\"}],\"pie\":[{\"automargin\":true,\"type\":\"pie\"}],\"scatter\":[{\"marker\":{\"colorbar\":{\"outlinewidth\":0,\"ticks\":\"\"}},\"type\":\"scatter\"}],\"scatter3d\":[{\"line\":{\"colorbar\":{\"outlinewidth\":0,\"ticks\":\"\"}},\"marker\":{\"colorbar\":{\"outlinewidth\":0,\"ticks\":\"\"}},\"type\":\"scatter3d\"}],\"scattercarpet\":[{\"marker\":{\"colorbar\":{\"outlinewidth\":0,\"ticks\":\"\"}},\"type\":\"scattercarpet\"}],\"scattergeo\":[{\"marker\":{\"colorbar\":{\"outlinewidth\":0,\"ticks\":\"\"}},\"type\":\"scattergeo\"}],\"scattergl\":[{\"marker\":{\"colorbar\":{\"outlinewidth\":0,\"ticks\":\"\"}},\"type\":\"scattergl\"}],\"scattermapbox\":[{\"marker\":{\"colorbar\":{\"outlinewidth\":0,\"ticks\":\"\"}},\"type\":\"scattermapbox\"}],\"scatterpolar\":[{\"marker\":{\"colorbar\":{\"outlinewidth\":0,\"ticks\":\"\"}},\"type\":\"scatterpolar\"}],\"scatterpolargl\":[{\"marker\":{\"colorbar\":{\"outlinewidth\":0,\"ticks\":\"\"}},\"type\":\"scatterpolargl\"}],\"scatterternary\":[{\"marker\":{\"colorbar\":{\"outlinewidth\":0,\"ticks\":\"\"}},\"type\":\"scatterternary\"}],\"surface\":[{\"colorbar\":{\"outlinewidth\":0,\"ticks\":\"\"},\"colorscale\":[[0.0,\"#0d0887\"],[0.1111111111111111,\"#46039f\"],[0.2222222222222222,\"#7201a8\"],[0.3333333333333333,\"#9c179e\"],[0.4444444444444444,\"#bd3786\"],[0.5555555555555556,\"#d8576b\"],[0.6666666666666666,\"#ed7953\"],[0.7777777777777778,\"#fb9f3a\"],[0.8888888888888888,\"#fdca26\"],[1.0,\"#f0f921\"]],\"type\":\"surface\"}],\"table\":[{\"cells\":{\"fill\":{\"color\":\"#EBF0F8\"},\"line\":{\"color\":\"white\"}},\"header\":{\"fill\":{\"color\":\"#C8D4E3\"},\"line\":{\"color\":\"white\"}},\"type\":\"table\"}]},\"layout\":{\"annotationdefaults\":{\"arrowcolor\":\"#2a3f5f\",\"arrowhead\":0,\"arrowwidth\":1},\"autotypenumbers\":\"strict\",\"coloraxis\":{\"colorbar\":{\"outlinewidth\":0,\"ticks\":\"\"}},\"colorscale\":{\"diverging\":[[0,\"#8e0152\"],[0.1,\"#c51b7d\"],[0.2,\"#de77ae\"],[0.3,\"#f1b6da\"],[0.4,\"#fde0ef\"],[0.5,\"#f7f7f7\"],[0.6,\"#e6f5d0\"],[0.7,\"#b8e186\"],[0.8,\"#7fbc41\"],[0.9,\"#4d9221\"],[1,\"#276419\"]],\"sequential\":[[0.0,\"#0d0887\"],[0.1111111111111111,\"#46039f\"],[0.2222222222222222,\"#7201a8\"],[0.3333333333333333,\"#9c179e\"],[0.4444444444444444,\"#bd3786\"],[0.5555555555555556,\"#d8576b\"],[0.6666666666666666,\"#ed7953\"],[0.7777777777777778,\"#fb9f3a\"],[0.8888888888888888,\"#fdca26\"],[1.0,\"#f0f921\"]],\"sequentialminus\":[[0.0,\"#0d0887\"],[0.1111111111111111,\"#46039f\"],[0.2222222222222222,\"#7201a8\"],[0.3333333333333333,\"#9c179e\"],[0.4444444444444444,\"#bd3786\"],[0.5555555555555556,\"#d8576b\"],[0.6666666666666666,\"#ed7953\"],[0.7777777777777778,\"#fb9f3a\"],[0.8888888888888888,\"#fdca26\"],[1.0,\"#f0f921\"]]},\"colorway\":[\"#636efa\",\"#EF553B\",\"#00cc96\",\"#ab63fa\",\"#FFA15A\",\"#19d3f3\",\"#FF6692\",\"#B6E880\",\"#FF97FF\",\"#FECB52\"],\"font\":{\"color\":\"#2a3f5f\"},\"geo\":{\"bgcolor\":\"white\",\"lakecolor\":\"white\",\"landcolor\":\"#E5ECF6\",\"showlakes\":true,\"showland\":true,\"subunitcolor\":\"white\"},\"hoverlabel\":{\"align\":\"left\"},\"hovermode\":\"closest\",\"mapbox\":{\"style\":\"light\"},\"paper_bgcolor\":\"white\",\"plot_bgcolor\":\"#E5ECF6\",\"polar\":{\"angularaxis\":{\"gridcolor\":\"white\",\"linecolor\":\"white\",\"ticks\":\"\"},\"bgcolor\":\"#E5ECF6\",\"radialaxis\":{\"gridcolor\":\"white\",\"linecolor\":\"white\",\"ticks\":\"\"}},\"scene\":{\"xaxis\":{\"backgroundcolor\":\"#E5ECF6\",\"gridcolor\":\"white\",\"gridwidth\":2,\"linecolor\":\"white\",\"showbackground\":true,\"ticks\":\"\",\"zerolinecolor\":\"white\"},\"yaxis\":{\"backgroundcolor\":\"#E5ECF6\",\"gridcolor\":\"white\",\"gridwidth\":2,\"linecolor\":\"white\",\"showbackground\":true,\"ticks\":\"\",\"zerolinecolor\":\"white\"},\"zaxis\":{\"backgroundcolor\":\"#E5ECF6\",\"gridcolor\":\"white\",\"gridwidth\":2,\"linecolor\":\"white\",\"showbackground\":true,\"ticks\":\"\",\"zerolinecolor\":\"white\"}},\"shapedefaults\":{\"line\":{\"color\":\"#2a3f5f\"}},\"ternary\":{\"aaxis\":{\"gridcolor\":\"white\",\"linecolor\":\"white\",\"ticks\":\"\"},\"baxis\":{\"gridcolor\":\"white\",\"linecolor\":\"white\",\"ticks\":\"\"},\"bgcolor\":\"#E5ECF6\",\"caxis\":{\"gridcolor\":\"white\",\"linecolor\":\"white\",\"ticks\":\"\"}},\"title\":{\"x\":0.05},\"xaxis\":{\"automargin\":true,\"gridcolor\":\"white\",\"linecolor\":\"white\",\"ticks\":\"\",\"title\":{\"standoff\":15},\"zerolinecolor\":\"white\",\"zerolinewidth\":2},\"yaxis\":{\"automargin\":true,\"gridcolor\":\"white\",\"linecolor\":\"white\",\"ticks\":\"\",\"title\":{\"standoff\":15},\"zerolinecolor\":\"white\",\"zerolinewidth\":2}}},\"width\":700.0,\"height\":673.8864101460721},                        {\"responsive\": true}                    ).then(function(){\n",
              "                            \n",
              "var gd = document.getElementById('943e6e80-ce59-4b34-9c2a-48c9d139bea4');\n",
              "var x = new MutationObserver(function (mutations, observer) {{\n",
              "        var display = window.getComputedStyle(gd).display;\n",
              "        if (!display || display === 'none') {{\n",
              "            console.log([gd, 'removed!']);\n",
              "            Plotly.purge(gd);\n",
              "            observer.disconnect();\n",
              "        }}\n",
              "}});\n",
              "\n",
              "// Listen for the removal of the full notebook cells\n",
              "var notebookContainer = gd.closest('#notebook-container');\n",
              "if (notebookContainer) {{\n",
              "    x.observe(notebookContainer, {childList: true});\n",
              "}}\n",
              "\n",
              "// Listen for the clearing of the current output cell\n",
              "var outputEl = gd.closest('.output');\n",
              "if (outputEl) {{\n",
              "    x.observe(outputEl, {childList: true});\n",
              "}}\n",
              "\n",
              "                        })                };                            </script>        </div>\n",
              "</body>\n",
              "</html>"
            ]
          },
          "metadata": {}
        }
      ]
    },
    {
      "cell_type": "code",
      "source": [
        "G = nx.Graph()        \n",
        "line = pd.DataFrame()                                           # In here we extract the nodes and\n",
        "from_bus = Net.line['from_bus']                                 # edges from this network for basic\n",
        "to_bus = Net.line['to_bus']                                     # visualization.\n",
        "edges = [(from_bus[i],to_bus[i]) for i in range(len(from_bus))] # the final edges is list of all the edges\n",
        "line[\"line\"] =  edges                  # use matplotlib visual\n",
        "G.add_edges_from(edges)\n",
        "pos = nx.spring_layout(G, seed=3068)    # Seed layout for reproducibility)\n",
        "plt.figure(figsize=(6,6))\n",
        "nx.draw(G,pos=pos,with_labels=True)\n",
        "plt.show()"
      ],
      "metadata": {
        "colab": {
          "base_uri": "https://localhost:8080/",
          "height": 463
        },
        "id": "RCjHQIgda2JV",
        "outputId": "4f6073be-0780-4461-bf62-6803938ee15a"
      },
      "execution_count": 29,
      "outputs": [
        {
          "output_type": "display_data",
          "data": {
            "text/plain": [
              "<Figure size 432x432 with 1 Axes>"
            ],
            "image/png": "[encoded data removed]"
          },
          "metadata": {}
        }
      ]
    },
    {
      "cell_type": "code",
      "source": [
        "pp.create_line(net=Net,from_bus=1,to_bus=3,length_km=2,std_type=\"70-AL1/11-ST1A 20.0\",max_loading_percent=100)"
      ],
      "metadata": {
        "colab": {
          "base_uri": "https://localhost:8080/"
        },
        "id": "Nl_FjQOf-l_d",
        "outputId": "d73e733e-65c4-4804-f07c-8a69d2405de8"
      },
      "execution_count": null,
      "outputs": [
        {
          "output_type": "execute_result",
          "data": {
            "text/plain": [
              "44"
            ]
          },
          "metadata": {},
          "execution_count": 28
        }
      ]
    },
    {
      "cell_type": "code",
      "source": [
        "Net."
      ],
      "metadata": {
        "colab": {
          "base_uri": "https://localhost:8080/",
          "height": 206
        },
        "id": "E3cZ0bSZ0rox",
        "outputId": "42b39601-29ff-4730-a045-877054d2c2c0"
      },
      "execution_count": null,
      "outputs": [
        {
          "output_type": "execute_result",
          "data": {
            "text/plain": [
              "   element        et  cp0_eur  cp1_eur_per_mw  cp2_eur_per_mw2  cq0_eur  \\\n",
              "0        0  ext_grid      0.0            20.0         0.043029      0.0   \n",
              "1        0       gen      0.0            20.0         0.250000      0.0   \n",
              "2        1       gen      0.0            40.0         0.010000      0.0   \n",
              "3        2       gen      0.0            40.0         0.010000      0.0   \n",
              "4        3       gen      0.0            40.0         0.010000      0.0   \n",
              "\n",
              "   cq1_eur_per_mvar  cq2_eur_per_mvar2  \n",
              "0               0.0                0.0  \n",
              "1               0.0                0.0  \n",
              "2               0.0                0.0  \n",
              "3               0.0                0.0  \n",
              "4               0.0                0.0  "
            ],
            "text/html": [
              "\n",
              "  <div id=\"df-32847953-1056-40d3-84c8-300fbb519aac\">\n",
              "    <div class=\"colab-df-container\">\n",
              "      <div>\n",
              "<style scoped>\n",
              "    .dataframe tbody tr th:only-of-type {\n",
              "        vertical-align: middle;\n",
              "    }\n",
              "\n",
              "    .dataframe tbody tr th {\n",
              "        vertical-align: top;\n",
              "    }\n",
              "\n",
              "    .dataframe thead th {\n",
              "        text-align: right;\n",
              "    }\n",
              "</style>\n",
              "<table border=\"1\" class=\"dataframe\">\n",
              "  <thead>\n",
              "    <tr style=\"text-align: right;\">\n",
              "      <th></th>\n",
              "      <th>element</th>\n",
              "      <th>et</th>\n",
              "      <th>cp0_eur</th>\n",
              "      <th>cp1_eur_per_mw</th>\n",
              "      <th>cp2_eur_per_mw2</th>\n",
              "      <th>cq0_eur</th>\n",
              "      <th>cq1_eur_per_mvar</th>\n",
              "      <th>cq2_eur_per_mvar2</th>\n",
              "    </tr>\n",
              "  </thead>\n",
              "  <tbody>\n",
              "    <tr>\n",
              "      <th>0</th>\n",
              "      <td>0</td>\n",
              "      <td>ext_grid</td>\n",
              "      <td>0.0</td>\n",
              "      <td>20.0</td>\n",
              "      <td>0.043029</td>\n",
              "      <td>0.0</td>\n",
              "      <td>0.0</td>\n",
              "      <td>0.0</td>\n",
              "    </tr>\n",
              "    <tr>\n",
              "      <th>1</th>\n",
              "      <td>0</td>\n",
              "      <td>gen</td>\n",
              "      <td>0.0</td>\n",
              "      <td>20.0</td>\n",
              "      <td>0.250000</td>\n",
              "      <td>0.0</td>\n",
              "      <td>0.0</td>\n",
              "      <td>0.0</td>\n",
              "    </tr>\n",
              "    <tr>\n",
              "      <th>2</th>\n",
              "      <td>1</td>\n",
              "      <td>gen</td>\n",
              "      <td>0.0</td>\n",
              "      <td>40.0</td>\n",
              "      <td>0.010000</td>\n",
              "      <td>0.0</td>\n",
              "      <td>0.0</td>\n",
              "      <td>0.0</td>\n",
              "    </tr>\n",
              "    <tr>\n",
              "      <th>3</th>\n",
              "      <td>2</td>\n",
              "      <td>gen</td>\n",
              "      <td>0.0</td>\n",
              "      <td>40.0</td>\n",
              "      <td>0.010000</td>\n",
              "      <td>0.0</td>\n",
              "      <td>0.0</td>\n",
              "      <td>0.0</td>\n",
              "    </tr>\n",
              "    <tr>\n",
              "      <th>4</th>\n",
              "      <td>3</td>\n",
              "      <td>gen</td>\n",
              "      <td>0.0</td>\n",
              "      <td>40.0</td>\n",
              "      <td>0.010000</td>\n",
              "      <td>0.0</td>\n",
              "      <td>0.0</td>\n",
              "      <td>0.0</td>\n",
              "    </tr>\n",
              "  </tbody>\n",
              "</table>\n",
              "</div>\n",
              "      <button class=\"colab-df-convert\" onclick=\"convertToInteractive('df-32847953-1056-40d3-84c8-300fbb519aac')\"\n",
              "              title=\"Convert this dataframe to an interactive table.\"\n",
              "              style=\"display:none;\">\n",
              "        \n",
              "  <svg xmlns=\"http://www.w3.org/2000/svg\" height=\"24px\"viewBox=\"0 0 24 24\"\n",
              "       width=\"24px\">\n",
              "    <path d=\"M0 0h24v24H0V0z\" fill=\"none\"/>\n",
              "    <path d=\"M18.56 5.44l.94 2.06.94-2.06 2.06-.94-2.06-.94-.94-2.06-.94 2.06-2.06.94zm-11 1L8.5 8.5l.94-2.06 2.06-.94-2.06-.94L8.5 2.5l-.94 2.06-2.06.94zm10 10l.94 2.06.94-2.06 2.06-.94-2.06-.94-.94-2.06-.94 2.06-2.06.94z\"/><path d=\"M17.41 7.96l-1.37-1.37c-.4-.4-.92-.59-1.43-.59-.52 0-1.04.2-1.43.59L10.3 9.45l-7.72 7.72c-.78.78-.78 2.05 0 2.83L4 21.41c.39.39.9.59 1.41.59.51 0 1.02-.2 1.41-.59l7.78-7.78 2.81-2.81c.8-.78.8-2.07 0-2.86zM5.41 20L4 18.59l7.72-7.72 1.47 1.35L5.41 20z\"/>\n",
              "  </svg>\n",
              "      </button>\n",
              "      \n",
              "  <style>\n",
              "    .colab-df-container {\n",
              "      display:flex;\n",
              "      flex-wrap:wrap;\n",
              "      gap: 12px;\n",
              "    }\n",
              "\n",
              "    .colab-df-convert {\n",
              "      background-color: #E8F0FE;\n",
              "      border: none;\n",
              "      border-radius: 50%;\n",
              "      cursor: pointer;\n",
              "      display: none;\n",
              "      fill: #1967D2;\n",
              "      height: 32px;\n",
              "      padding: 0 0 0 0;\n",
              "      width: 32px;\n",
              "    }\n",
              "\n",
              "    .colab-df-convert:hover {\n",
              "      background-color: #E2EBFA;\n",
              "      box-shadow: 0px 1px 2px rgba(60, 64, 67, 0.3), 0px 1px 3px 1px rgba(60, 64, 67, 0.15);\n",
              "      fill: #174EA6;\n",
              "    }\n",
              "\n",
              "    [theme=dark] .colab-df-convert {\n",
              "      background-color: #3B4455;\n",
              "      fill: #D2E3FC;\n",
              "    }\n",
              "\n",
              "    [theme=dark] .colab-df-convert:hover {\n",
              "      background-color: #434B5C;\n",
              "      box-shadow: 0px 1px 3px 1px rgba(0, 0, 0, 0.15);\n",
              "      filter: drop-shadow(0px 1px 2px rgba(0, 0, 0, 0.3));\n",
              "      fill: #FFFFFF;\n",
              "    }\n",
              "  </style>\n",
              "\n",
              "      <script>\n",
              "        const buttonEl =\n",
              "          document.querySelector('#df-32847953-1056-40d3-84c8-300fbb519aac button.colab-df-convert');\n",
              "        buttonEl.style.display =\n",
              "          google.colab.kernel.accessAllowed ? 'block' : 'none';\n",
              "\n",
              "        async function convertToInteractive(key) {\n",
              "          const element = document.querySelector('#df-32847953-1056-40d3-84c8-300fbb519aac');\n",
              "          const dataTable =\n",
              "            await google.colab.kernel.invokeFunction('convertToInteractive',\n",
              "                                                     [key], {});\n",
              "          if (!dataTable) return;\n",
              "\n",
              "          const docLinkHtml = 'Like what you see? Visit the ' +\n",
              "            '<a target=\"_blank\" href=https://colab.research.google.com/notebooks/data_table.ipynb>data table notebook</a>'\n",
              "            + ' to learn more about interactive tables.';\n",
              "          element.innerHTML = '';\n",
              "          dataTable['output_type'] = 'display_data';\n",
              "          await google.colab.output.renderOutput(dataTable, element);\n",
              "          const docLink = document.createElement('div');\n",
              "          docLink.innerHTML = docLinkHtml;\n",
              "          element.appendChild(docLink);\n",
              "        }\n",
              "      </script>\n",
              "    </div>\n",
              "  </div>\n",
              "  "
            ]
          },
          "metadata": {},
          "execution_count": 22
        }
      ]
    },
    {
      "cell_type": "code",
      "source": [
        "Net.line"
      ],
      "metadata": {
        "colab": {
          "base_uri": "https://localhost:8080/",
          "height": 520
        },
        "id": "HY0wWIxq1aEK",
        "outputId": "298a2380-0ce3-47d4-ac5b-5c03296db2a7"
      },
      "execution_count": null,
      "outputs": [
        {
          "output_type": "execute_result",
          "data": {
            "text/plain": [
              "    c_nf_per_km   df  from_bus  g_us_per_km  in_service  length_km  \\\n",
              "0    768.484773  1.0         0          0.0        True        1.0   \n",
              "1    716.088084  1.0         0          0.0        True        1.0   \n",
              "2    637.493051  1.0         1          0.0        True        1.0   \n",
              "3    494.857619  1.0         1          0.0        True        1.0   \n",
              "4    503.590401  1.0         1          0.0        True        1.0   \n",
              "5    186.299339  1.0         2          0.0        True        1.0   \n",
              "6      0.000000  1.0         3          0.0        True        1.0   \n",
              "7      0.000000  1.0         5          0.0        True        1.0   \n",
              "8      0.000000  1.0         5          0.0        True        1.0   \n",
              "9      0.000000  1.0         5          0.0        True        1.0   \n",
              "10     0.000000  1.0         8          0.0        True        1.0   \n",
              "11     0.000000  1.0         8          0.0        True        1.0   \n",
              "12     0.000000  1.0         9          0.0        True        1.0   \n",
              "13     0.000000  1.0        11          0.0        True        1.0   \n",
              "14     0.000000  1.0        12          0.0        True        1.0   \n",
              "\n",
              "        max_i_ka  max_loading_percent  name  parallel  r_ohm_per_km std_type  \\\n",
              "0      42.339020                100.0  None         1      3.532005     None   \n",
              "1      42.339020                100.0  None         1      9.846967     None   \n",
              "2      42.339020                100.0  None         1      8.563928     None   \n",
              "3      42.339020                100.0  None         1     10.590547     None   \n",
              "4      42.339020                100.0  None         1     10.379138     None   \n",
              "5      42.339020                100.0  None         1     12.212573     None   \n",
              "6      42.339020                100.0  None         1      2.433038     None   \n",
              "7   27479.652235                100.0  None         1      0.000041     None   \n",
              "8   27479.652235                100.0  None         1      0.000053     None   \n",
              "9   27479.652235                100.0  None         1      0.000029     None   \n",
              "10  27479.652235                100.0  None         1      0.000014     None   \n",
              "11  27479.652235                100.0  None         1      0.000055     None   \n",
              "12  27479.652235                100.0  None         1      0.000035     None   \n",
              "13  27479.652235                100.0  None         1      0.000096     None   \n",
              "14  27479.652235                100.0  None         1      0.000074     None   \n",
              "\n",
              "    to_bus type  x_ohm_per_km  \n",
              "0        1   ol     10.783732  \n",
              "1        4   ol     40.649040  \n",
              "2        2   ol     36.080033  \n",
              "3        3   ol     32.134320  \n",
              "4        4   ol     31.689630  \n",
              "5        3   ol     31.170217  \n",
              "6        4   ol      7.674548  \n",
              "7       10   ol      0.000086  \n",
              "8       11   ol      0.000111  \n",
              "9       12   ol      0.000056  \n",
              "10       9   ol      0.000037  \n",
              "11      13   ol      0.000117  \n",
              "12      10   ol      0.000083  \n",
              "13      12   ol      0.000086  \n",
              "14      13   ol      0.000151  "
            ],
            "text/html": [
              "\n",
              "  <div id=\"df-a4c48182-4aaf-4feb-9c5f-8b86efc90171\">\n",
              "    <div class=\"colab-df-container\">\n",
              "      <div>\n",
              "<style scoped>\n",
              "    .dataframe tbody tr th:only-of-type {\n",
              "        vertical-align: middle;\n",
              "    }\n",
              "\n",
              "    .dataframe tbody tr th {\n",
              "        vertical-align: top;\n",
              "    }\n",
              "\n",
              "    .dataframe thead th {\n",
              "        text-align: right;\n",
              "    }\n",
              "</style>\n",
              "<table border=\"1\" class=\"dataframe\">\n",
              "  <thead>\n",
              "    <tr style=\"text-align: right;\">\n",
              "      <th></th>\n",
              "      <th>c_nf_per_km</th>\n",
              "      <th>df</th>\n",
              "      <th>from_bus</th>\n",
              "      <th>g_us_per_km</th>\n",
              "      <th>in_service</th>\n",
              "      <th>length_km</th>\n",
              "      <th>max_i_ka</th>\n",
              "      <th>max_loading_percent</th>\n",
              "      <th>name</th>\n",
              "      <th>parallel</th>\n",
              "      <th>r_ohm_per_km</th>\n",
              "      <th>std_type</th>\n",
              "      <th>to_bus</th>\n",
              "      <th>type</th>\n",
              "      <th>x_ohm_per_km</th>\n",
              "    </tr>\n",
              "  </thead>\n",
              "  <tbody>\n",
              "    <tr>\n",
              "      <th>0</th>\n",
              "      <td>768.484773</td>\n",
              "      <td>1.0</td>\n",
              "      <td>0</td>\n",
              "      <td>0.0</td>\n",
              "      <td>True</td>\n",
              "      <td>1.0</td>\n",
              "      <td>42.339020</td>\n",
              "      <td>100.0</td>\n",
              "      <td>None</td>\n",
              "      <td>1</td>\n",
              "      <td>3.532005</td>\n",
              "      <td>None</td>\n",
              "      <td>1</td>\n",
              "      <td>ol</td>\n",
              "      <td>10.783732</td>\n",
              "    </tr>\n",
              "    <tr>\n",
              "      <th>1</th>\n",
              "      <td>716.088084</td>\n",
              "      <td>1.0</td>\n",
              "      <td>0</td>\n",
              "      <td>0.0</td>\n",
              "      <td>True</td>\n",
              "      <td>1.0</td>\n",
              "      <td>42.339020</td>\n",
              "      <td>100.0</td>\n",
              "      <td>None</td>\n",
              "      <td>1</td>\n",
              "      <td>9.846967</td>\n",
              "      <td>None</td>\n",
              "      <td>4</td>\n",
              "      <td>ol</td>\n",
              "      <td>40.649040</td>\n",
              "    </tr>\n",
              "    <tr>\n",
              "      <th>2</th>\n",
              "      <td>637.493051</td>\n",
              "      <td>1.0</td>\n",
              "      <td>1</td>\n",
              "      <td>0.0</td>\n",
              "      <td>True</td>\n",
              "      <td>1.0</td>\n",
              "      <td>42.339020</td>\n",
              "      <td>100.0</td>\n",
              "      <td>None</td>\n",
              "      <td>1</td>\n",
              "      <td>8.563928</td>\n",
              "      <td>None</td>\n",
              "      <td>2</td>\n",
              "      <td>ol</td>\n",
              "      <td>36.080033</td>\n",
              "    </tr>\n",
              "    <tr>\n",
              "      <th>3</th>\n",
              "      <td>494.857619</td>\n",
              "      <td>1.0</td>\n",
              "      <td>1</td>\n",
              "      <td>0.0</td>\n",
              "      <td>True</td>\n",
              "      <td>1.0</td>\n",
              "      <td>42.339020</td>\n",
              "      <td>100.0</td>\n",
              "      <td>None</td>\n",
              "      <td>1</td>\n",
              "      <td>10.590547</td>\n",
              "      <td>None</td>\n",
              "      <td>3</td>\n",
              "      <td>ol</td>\n",
              "      <td>32.134320</td>\n",
              "    </tr>\n",
              "    <tr>\n",
              "      <th>4</th>\n",
              "      <td>503.590401</td>\n",
              "      <td>1.0</td>\n",
              "      <td>1</td>\n",
              "      <td>0.0</td>\n",
              "      <td>True</td>\n",
              "      <td>1.0</td>\n",
              "      <td>42.339020</td>\n",
              "      <td>100.0</td>\n",
              "      <td>None</td>\n",
              "      <td>1</td>\n",
              "      <td>10.379138</td>\n",
              "      <td>None</td>\n",
              "      <td>4</td>\n",
              "      <td>ol</td>\n",
              "      <td>31.689630</td>\n",
              "    </tr>\n",
              "    <tr>\n",
              "      <th>5</th>\n",
              "      <td>186.299339</td>\n",
              "      <td>1.0</td>\n",
              "      <td>2</td>\n",
              "      <td>0.0</td>\n",
              "      <td>True</td>\n",
              "      <td>1.0</td>\n",
              "      <td>42.339020</td>\n",
              "      <td>100.0</td>\n",
              "      <td>None</td>\n",
              "      <td>1</td>\n",
              "      <td>12.212573</td>\n",
              "      <td>None</td>\n",
              "      <td>3</td>\n",
              "      <td>ol</td>\n",
              "      <td>31.170217</td>\n",
              "    </tr>\n",
              "    <tr>\n",
              "      <th>6</th>\n",
              "      <td>0.000000</td>\n",
              "      <td>1.0</td>\n",
              "      <td>3</td>\n",
              "      <td>0.0</td>\n",
              "      <td>True</td>\n",
              "      <td>1.0</td>\n",
              "      <td>42.339020</td>\n",
              "      <td>100.0</td>\n",
              "      <td>None</td>\n",
              "      <td>1</td>\n",
              "      <td>2.433038</td>\n",
              "      <td>None</td>\n",
              "      <td>4</td>\n",
              "      <td>ol</td>\n",
              "      <td>7.674548</td>\n",
              "    </tr>\n",
              "    <tr>\n",
              "      <th>7</th>\n",
              "      <td>0.000000</td>\n",
              "      <td>1.0</td>\n",
              "      <td>5</td>\n",
              "      <td>0.0</td>\n",
              "      <td>True</td>\n",
              "      <td>1.0</td>\n",
              "      <td>27479.652235</td>\n",
              "      <td>100.0</td>\n",
              "      <td>None</td>\n",
              "      <td>1</td>\n",
              "      <td>0.000041</td>\n",
              "      <td>None</td>\n",
              "      <td>10</td>\n",
              "      <td>ol</td>\n",
              "      <td>0.000086</td>\n",
              "    </tr>\n",
              "    <tr>\n",
              "      <th>8</th>\n",
              "      <td>0.000000</td>\n",
              "      <td>1.0</td>\n",
              "      <td>5</td>\n",
              "      <td>0.0</td>\n",
              "      <td>True</td>\n",
              "      <td>1.0</td>\n",
              "      <td>27479.652235</td>\n",
              "      <td>100.0</td>\n",
              "      <td>None</td>\n",
              "      <td>1</td>\n",
              "      <td>0.000053</td>\n",
              "      <td>None</td>\n",
              "      <td>11</td>\n",
              "      <td>ol</td>\n",
              "      <td>0.000111</td>\n",
              "    </tr>\n",
              "    <tr>\n",
              "      <th>9</th>\n",
              "      <td>0.000000</td>\n",
              "      <td>1.0</td>\n",
              "      <td>5</td>\n",
              "      <td>0.0</td>\n",
              "      <td>True</td>\n",
              "      <td>1.0</td>\n",
              "      <td>27479.652235</td>\n",
              "      <td>100.0</td>\n",
              "      <td>None</td>\n",
              "      <td>1</td>\n",
              "      <td>0.000029</td>\n",
              "      <td>None</td>\n",
              "      <td>12</td>\n",
              "      <td>ol</td>\n",
              "      <td>0.000056</td>\n",
              "    </tr>\n",
              "    <tr>\n",
              "      <th>10</th>\n",
              "      <td>0.000000</td>\n",
              "      <td>1.0</td>\n",
              "      <td>8</td>\n",
              "      <td>0.0</td>\n",
              "      <td>True</td>\n",
              "      <td>1.0</td>\n",
              "      <td>27479.652235</td>\n",
              "      <td>100.0</td>\n",
              "      <td>None</td>\n",
              "      <td>1</td>\n",
              "      <td>0.000014</td>\n",
              "      <td>None</td>\n",
              "      <td>9</td>\n",
              "      <td>ol</td>\n",
              "      <td>0.000037</td>\n",
              "    </tr>\n",
              "    <tr>\n",
              "      <th>11</th>\n",
              "      <td>0.000000</td>\n",
              "      <td>1.0</td>\n",
              "      <td>8</td>\n",
              "      <td>0.0</td>\n",
              "      <td>True</td>\n",
              "      <td>1.0</td>\n",
              "      <td>27479.652235</td>\n",
              "      <td>100.0</td>\n",
              "      <td>None</td>\n",
              "      <td>1</td>\n",
              "      <td>0.000055</td>\n",
              "      <td>None</td>\n",
              "      <td>13</td>\n",
              "      <td>ol</td>\n",
              "      <td>0.000117</td>\n",
              "    </tr>\n",
              "    <tr>\n",
              "      <th>12</th>\n",
              "      <td>0.000000</td>\n",
              "      <td>1.0</td>\n",
              "      <td>9</td>\n",
              "      <td>0.0</td>\n",
              "      <td>True</td>\n",
              "      <td>1.0</td>\n",
              "      <td>27479.652235</td>\n",
              "      <td>100.0</td>\n",
              "      <td>None</td>\n",
              "      <td>1</td>\n",
              "      <td>0.000035</td>\n",
              "      <td>None</td>\n",
              "      <td>10</td>\n",
              "      <td>ol</td>\n",
              "      <td>0.000083</td>\n",
              "    </tr>\n",
              "    <tr>\n",
              "      <th>13</th>\n",
              "      <td>0.000000</td>\n",
              "      <td>1.0</td>\n",
              "      <td>11</td>\n",
              "      <td>0.0</td>\n",
              "      <td>True</td>\n",
              "      <td>1.0</td>\n",
              "      <td>27479.652235</td>\n",
              "      <td>100.0</td>\n",
              "      <td>None</td>\n",
              "      <td>1</td>\n",
              "      <td>0.000096</td>\n",
              "      <td>None</td>\n",
              "      <td>12</td>\n",
              "      <td>ol</td>\n",
              "      <td>0.000086</td>\n",
              "    </tr>\n",
              "    <tr>\n",
              "      <th>14</th>\n",
              "      <td>0.000000</td>\n",
              "      <td>1.0</td>\n",
              "      <td>12</td>\n",
              "      <td>0.0</td>\n",
              "      <td>True</td>\n",
              "      <td>1.0</td>\n",
              "      <td>27479.652235</td>\n",
              "      <td>100.0</td>\n",
              "      <td>None</td>\n",
              "      <td>1</td>\n",
              "      <td>0.000074</td>\n",
              "      <td>None</td>\n",
              "      <td>13</td>\n",
              "      <td>ol</td>\n",
              "      <td>0.000151</td>\n",
              "    </tr>\n",
              "  </tbody>\n",
              "</table>\n",
              "</div>\n",
              "      <button class=\"colab-df-convert\" onclick=\"convertToInteractive('df-a4c48182-4aaf-4feb-9c5f-8b86efc90171')\"\n",
              "              title=\"Convert this dataframe to an interactive table.\"\n",
              "              style=\"display:none;\">\n",
              "        \n",
              "  <svg xmlns=\"http://www.w3.org/2000/svg\" height=\"24px\"viewBox=\"0 0 24 24\"\n",
              "       width=\"24px\">\n",
              "    <path d=\"M0 0h24v24H0V0z\" fill=\"none\"/>\n",
              "    <path d=\"M18.56 5.44l.94 2.06.94-2.06 2.06-.94-2.06-.94-.94-2.06-.94 2.06-2.06.94zm-11 1L8.5 8.5l.94-2.06 2.06-.94-2.06-.94L8.5 2.5l-.94 2.06-2.06.94zm10 10l.94 2.06.94-2.06 2.06-.94-2.06-.94-.94-2.06-.94 2.06-2.06.94z\"/><path d=\"M17.41 7.96l-1.37-1.37c-.4-.4-.92-.59-1.43-.59-.52 0-1.04.2-1.43.59L10.3 9.45l-7.72 7.72c-.78.78-.78 2.05 0 2.83L4 21.41c.39.39.9.59 1.41.59.51 0 1.02-.2 1.41-.59l7.78-7.78 2.81-2.81c.8-.78.8-2.07 0-2.86zM5.41 20L4 18.59l7.72-7.72 1.47 1.35L5.41 20z\"/>\n",
              "  </svg>\n",
              "      </button>\n",
              "      \n",
              "  <style>\n",
              "    .colab-df-container {\n",
              "      display:flex;\n",
              "      flex-wrap:wrap;\n",
              "      gap: 12px;\n",
              "    }\n",
              "\n",
              "    .colab-df-convert {\n",
              "      background-color: #E8F0FE;\n",
              "      border: none;\n",
              "      border-radius: 50%;\n",
              "      cursor: pointer;\n",
              "      display: none;\n",
              "      fill: #1967D2;\n",
              "      height: 32px;\n",
              "      padding: 0 0 0 0;\n",
              "      width: 32px;\n",
              "    }\n",
              "\n",
              "    .colab-df-convert:hover {\n",
              "      background-color: #E2EBFA;\n",
              "      box-shadow: 0px 1px 2px rgba(60, 64, 67, 0.3), 0px 1px 3px 1px rgba(60, 64, 67, 0.15);\n",
              "      fill: #174EA6;\n",
              "    }\n",
              "\n",
              "    [theme=dark] .colab-df-convert {\n",
              "      background-color: #3B4455;\n",
              "      fill: #D2E3FC;\n",
              "    }\n",
              "\n",
              "    [theme=dark] .colab-df-convert:hover {\n",
              "      background-color: #434B5C;\n",
              "      box-shadow: 0px 1px 3px 1px rgba(0, 0, 0, 0.15);\n",
              "      filter: drop-shadow(0px 1px 2px rgba(0, 0, 0, 0.3));\n",
              "      fill: #FFFFFF;\n",
              "    }\n",
              "  </style>\n",
              "\n",
              "      <script>\n",
              "        const buttonEl =\n",
              "          document.querySelector('#df-a4c48182-4aaf-4feb-9c5f-8b86efc90171 button.colab-df-convert');\n",
              "        buttonEl.style.display =\n",
              "          google.colab.kernel.accessAllowed ? 'block' : 'none';\n",
              "\n",
              "        async function convertToInteractive(key) {\n",
              "          const element = document.querySelector('#df-a4c48182-4aaf-4feb-9c5f-8b86efc90171');\n",
              "          const dataTable =\n",
              "            await google.colab.kernel.invokeFunction('convertToInteractive',\n",
              "                                                     [key], {});\n",
              "          if (!dataTable) return;\n",
              "\n",
              "          const docLinkHtml = 'Like what you see? Visit the ' +\n",
              "            '<a target=\"_blank\" href=https://colab.research.google.com/notebooks/data_table.ipynb>data table notebook</a>'\n",
              "            + ' to learn more about interactive tables.';\n",
              "          element.innerHTML = '';\n",
              "          dataTable['output_type'] = 'display_data';\n",
              "          await google.colab.output.renderOutput(dataTable, element);\n",
              "          const docLink = document.createElement('div');\n",
              "          docLink.innerHTML = docLinkHtml;\n",
              "          element.appendChild(docLink);\n",
              "        }\n",
              "      </script>\n",
              "    </div>\n",
              "  </div>\n",
              "  "
            ]
          },
          "metadata": {},
          "execution_count": 18
        }
      ]
    },
    {
      "cell_type": "code",
      "source": [
        ""
      ],
      "metadata": {
        "id": "x8ADaVRL1aAO"
      },
      "execution_count": null,
      "outputs": []
    },
    {
      "cell_type": "code",
      "source": [
        "Net # we could see diffrent properties of this power network here (before solving current problem)"
      ],
      "metadata": {
        "id": "OMW4Q-zg5Kx3",
        "colab": {
          "base_uri": "https://localhost:8080/"
        },
        "outputId": "c9623118-e49b-41f4-87df-e39ccb438e62"
      },
      "execution_count": null,
      "outputs": [
        {
          "output_type": "execute_result",
          "data": {
            "text/plain": [
              "This pandapower network includes the following parameter tables:\n",
              "   - bus (30 elements)\n",
              "   - load (20 elements)\n",
              "   - gen (5 elements)\n",
              "   - shunt (2 elements)\n",
              "   - ext_grid (1 element)\n",
              "   - line (43 elements)\n",
              "   - poly_cost (6 elements)\n",
              "   - bus_geodata (30 elements)\n",
              " and the following results tables:\n",
              "   - res_bus (30 elements)\n",
              "   - res_line (43 elements)\n",
              "   - res_ext_grid (1 element)\n",
              "   - res_load (20 elements)\n",
              "   - res_shunt (2 elements)\n",
              "   - res_gen (5 elements)"
            ]
          },
          "metadata": {},
          "execution_count": 20
        }
      ]
    },
    {
      "cell_type": "code",
      "source": [
        "Net.res_line"
      ],
      "metadata": {
        "colab": {
          "base_uri": "https://localhost:8080/",
          "height": 49
        },
        "id": "CyfxYqqNk9dC",
        "outputId": "fad18442-ab1e-4f84-92f2-a3ff9b4849d8"
      },
      "execution_count": null,
      "outputs": [
        {
          "output_type": "execute_result",
          "data": {
            "text/plain": [
              "Empty DataFrame\n",
              "Columns: [p_from_mw, q_from_mvar, p_to_mw, q_to_mvar, pl_mw, ql_mvar, i_from_ka, i_to_ka, i_ka, vm_from_pu, va_from_degree, vm_to_pu, va_to_degree, loading_percent]\n",
              "Index: []"
            ],
            "text/html": [
              "\n",
              "  <div id=\"df-96417a61-1540-4b47-8020-bbaaa4e05d6a\">\n",
              "    <div class=\"colab-df-container\">\n",
              "      <div>\n",
              "<style scoped>\n",
              "    .dataframe tbody tr th:only-of-type {\n",
              "        vertical-align: middle;\n",
              "    }\n",
              "\n",
              "    .dataframe tbody tr th {\n",
              "        vertical-align: top;\n",
              "    }\n",
              "\n",
              "    .dataframe thead th {\n",
              "        text-align: right;\n",
              "    }\n",
              "</style>\n",
              "<table border=\"1\" class=\"dataframe\">\n",
              "  <thead>\n",
              "    <tr style=\"text-align: right;\">\n",
              "      <th></th>\n",
              "      <th>p_from_mw</th>\n",
              "      <th>q_from_mvar</th>\n",
              "      <th>p_to_mw</th>\n",
              "      <th>q_to_mvar</th>\n",
              "      <th>pl_mw</th>\n",
              "      <th>ql_mvar</th>\n",
              "      <th>i_from_ka</th>\n",
              "      <th>i_to_ka</th>\n",
              "      <th>i_ka</th>\n",
              "      <th>vm_from_pu</th>\n",
              "      <th>va_from_degree</th>\n",
              "      <th>vm_to_pu</th>\n",
              "      <th>va_to_degree</th>\n",
              "      <th>loading_percent</th>\n",
              "    </tr>\n",
              "  </thead>\n",
              "  <tbody>\n",
              "  </tbody>\n",
              "</table>\n",
              "</div>\n",
              "      <button class=\"colab-df-convert\" onclick=\"convertToInteractive('df-96417a61-1540-4b47-8020-bbaaa4e05d6a')\"\n",
              "              title=\"Convert this dataframe to an interactive table.\"\n",
              "              style=\"display:none;\">\n",
              "        \n",
              "  <svg xmlns=\"http://www.w3.org/2000/svg\" height=\"24px\"viewBox=\"0 0 24 24\"\n",
              "       width=\"24px\">\n",
              "    <path d=\"M0 0h24v24H0V0z\" fill=\"none\"/>\n",
              "    <path d=\"M18.56 5.44l.94 2.06.94-2.06 2.06-.94-2.06-.94-.94-2.06-.94 2.06-2.06.94zm-11 1L8.5 8.5l.94-2.06 2.06-.94-2.06-.94L8.5 2.5l-.94 2.06-2.06.94zm10 10l.94 2.06.94-2.06 2.06-.94-2.06-.94-.94-2.06-.94 2.06-2.06.94z\"/><path d=\"M17.41 7.96l-1.37-1.37c-.4-.4-.92-.59-1.43-.59-.52 0-1.04.2-1.43.59L10.3 9.45l-7.72 7.72c-.78.78-.78 2.05 0 2.83L4 21.41c.39.39.9.59 1.41.59.51 0 1.02-.2 1.41-.59l7.78-7.78 2.81-2.81c.8-.78.8-2.07 0-2.86zM5.41 20L4 18.59l7.72-7.72 1.47 1.35L5.41 20z\"/>\n",
              "  </svg>\n",
              "      </button>\n",
              "      \n",
              "  <style>\n",
              "    .colab-df-container {\n",
              "      display:flex;\n",
              "      flex-wrap:wrap;\n",
              "      gap: 12px;\n",
              "    }\n",
              "\n",
              "    .colab-df-convert {\n",
              "      background-color: #E8F0FE;\n",
              "      border: none;\n",
              "      border-radius: 50%;\n",
              "      cursor: pointer;\n",
              "      display: none;\n",
              "      fill: #1967D2;\n",
              "      height: 32px;\n",
              "      padding: 0 0 0 0;\n",
              "      width: 32px;\n",
              "    }\n",
              "\n",
              "    .colab-df-convert:hover {\n",
              "      background-color: #E2EBFA;\n",
              "      box-shadow: 0px 1px 2px rgba(60, 64, 67, 0.3), 0px 1px 3px 1px rgba(60, 64, 67, 0.15);\n",
              "      fill: #174EA6;\n",
              "    }\n",
              "\n",
              "    [theme=dark] .colab-df-convert {\n",
              "      background-color: #3B4455;\n",
              "      fill: #D2E3FC;\n",
              "    }\n",
              "\n",
              "    [theme=dark] .colab-df-convert:hover {\n",
              "      background-color: #434B5C;\n",
              "      box-shadow: 0px 1px 3px 1px rgba(0, 0, 0, 0.15);\n",
              "      filter: drop-shadow(0px 1px 2px rgba(0, 0, 0, 0.3));\n",
              "      fill: #FFFFFF;\n",
              "    }\n",
              "  </style>\n",
              "\n",
              "      <script>\n",
              "        const buttonEl =\n",
              "          document.querySelector('#df-96417a61-1540-4b47-8020-bbaaa4e05d6a button.colab-df-convert');\n",
              "        buttonEl.style.display =\n",
              "          google.colab.kernel.accessAllowed ? 'block' : 'none';\n",
              "\n",
              "        async function convertToInteractive(key) {\n",
              "          const element = document.querySelector('#df-96417a61-1540-4b47-8020-bbaaa4e05d6a');\n",
              "          const dataTable =\n",
              "            await google.colab.kernel.invokeFunction('convertToInteractive',\n",
              "                                                     [key], {});\n",
              "          if (!dataTable) return;\n",
              "\n",
              "          const docLinkHtml = 'Like what you see? Visit the ' +\n",
              "            '<a target=\"_blank\" href=https://colab.research.google.com/notebooks/data_table.ipynb>data table notebook</a>'\n",
              "            + ' to learn more about interactive tables.';\n",
              "          element.innerHTML = '';\n",
              "          dataTable['output_type'] = 'display_data';\n",
              "          await google.colab.output.renderOutput(dataTable, element);\n",
              "          const docLink = document.createElement('div');\n",
              "          docLink.innerHTML = docLinkHtml;\n",
              "          element.appendChild(docLink);\n",
              "        }\n",
              "      </script>\n",
              "    </div>\n",
              "  </div>\n",
              "  "
            ]
          },
          "metadata": {},
          "execution_count": 17
        }
      ]
    },
    {
      "cell_type": "code",
      "source": [
        "line = pd.DataFrame()                                           # In here we extract the nodes and\n",
        "from_bus = Net.line['from_bus']                                 # edges from this network for basic\n",
        "to_bus = Net.line['to_bus']                                     # visualization.\n",
        "edges = [(from_bus[i],to_bus[i]) for i in range(len(from_bus))] # the final edges is list of all the edges\n",
        "line[\"line\"] =  edges"
      ],
      "metadata": {
        "id": "hQyL4RxF5aYU"
      },
      "execution_count": null,
      "outputs": []
    },
    {
      "cell_type": "code",
      "source": [
        "pp.rundcpp(net=Net) #we will solve the current equation"
      ],
      "metadata": {
        "id": "206VHWXV6UVq"
      },
      "execution_count": 35,
      "outputs": []
    },
    {
      "cell_type": "code",
      "source": [
        "pp.overloaded_lines(Net) # this line will show the overloaded lines"
      ],
      "metadata": {
        "colab": {
          "base_uri": "https://localhost:8080/"
        },
        "id": "2J8_I4wO6tKx",
        "outputId": "44d0e585-48e7-486d-adf4-ad99f884f7ea"
      },
      "execution_count": null,
      "outputs": [
        {
          "output_type": "execute_result",
          "data": {
            "text/plain": [
              "Int64Index([], dtype='int64')"
            ]
          },
          "metadata": {},
          "execution_count": 7
        }
      ]
    },
    {
      "cell_type": "code",
      "source": [
        "Net.load"
      ],
      "metadata": {
        "id": "bKvXvU5DYcqn"
      },
      "execution_count": null,
      "outputs": []
    },
    {
      "cell_type": "code",
      "source": [
        "name = list(Net.bus['name'])\n",
        "name"
      ],
      "metadata": {
        "id": "b5HXrkPVdNiz"
      },
      "execution_count": null,
      "outputs": []
    },
    {
      "cell_type": "code",
      "source": [
        "Net.load['bus']"
      ],
      "metadata": {
        "id": "Y_Ll7IB_cRAI"
      },
      "execution_count": null,
      "outputs": []
    },
    {
      "cell_type": "code",
      "source": [
        "p = set(loads)\n",
        "len(p)"
      ],
      "metadata": {
        "colab": {
          "base_uri": "https://localhost:8080/"
        },
        "id": "-R68DJpQga26",
        "outputId": "c5f059d9-e052-4745-dfed-60cc117b11e3"
      },
      "execution_count": null,
      "outputs": [
        {
          "output_type": "execute_result",
          "data": {
            "text/plain": [
              "29"
            ]
          },
          "metadata": {},
          "execution_count": 114
        }
      ]
    },
    {
      "cell_type": "code",
      "source": [
        "for i in name:\n",
        "    if i not in p:\n",
        "        print(i)"
      ],
      "metadata": {
        "id": "rQcmHGv-hPNo"
      },
      "execution_count": null,
      "outputs": []
    },
    {
      "cell_type": "code",
      "source": [
        "Net.ext_grid"
      ],
      "metadata": {
        "colab": {
          "base_uri": "https://localhost:8080/",
          "height": 81
        },
        "id": "Dsj9ul3Qhv7s",
        "outputId": "41bfd8e1-3694-4e2b-8ce9-cf1ce89e6022"
      },
      "execution_count": null,
      "outputs": [
        {
          "output_type": "execute_result",
          "data": {
            "text/plain": [
              "   bus  in_service  name  va_degree  vm_pu  max_p_mw  min_p_mw  max_q_mvar  \\\n",
              "0   30        True  None        0.0  0.982     646.0       0.0       300.0   \n",
              "\n",
              "   min_q_mvar  slack_weight  \n",
              "0      -100.0           1.0  "
            ],
            "text/html": [
              "\n",
              "  <div id=\"df-d026906f-1d1a-4000-a7ec-1db910268a36\">\n",
              "    <div class=\"colab-df-container\">\n",
              "      <div>\n",
              "<style scoped>\n",
              "    .dataframe tbody tr th:only-of-type {\n",
              "        vertical-align: middle;\n",
              "    }\n",
              "\n",
              "    .dataframe tbody tr th {\n",
              "        vertical-align: top;\n",
              "    }\n",
              "\n",
              "    .dataframe thead th {\n",
              "        text-align: right;\n",
              "    }\n",
              "</style>\n",
              "<table border=\"1\" class=\"dataframe\">\n",
              "  <thead>\n",
              "    <tr style=\"text-align: right;\">\n",
              "      <th></th>\n",
              "      <th>bus</th>\n",
              "      <th>in_service</th>\n",
              "      <th>name</th>\n",
              "      <th>va_degree</th>\n",
              "      <th>vm_pu</th>\n",
              "      <th>max_p_mw</th>\n",
              "      <th>min_p_mw</th>\n",
              "      <th>max_q_mvar</th>\n",
              "      <th>min_q_mvar</th>\n",
              "      <th>slack_weight</th>\n",
              "    </tr>\n",
              "  </thead>\n",
              "  <tbody>\n",
              "    <tr>\n",
              "      <th>0</th>\n",
              "      <td>30</td>\n",
              "      <td>True</td>\n",
              "      <td>None</td>\n",
              "      <td>0.0</td>\n",
              "      <td>0.982</td>\n",
              "      <td>646.0</td>\n",
              "      <td>0.0</td>\n",
              "      <td>300.0</td>\n",
              "      <td>-100.0</td>\n",
              "      <td>1.0</td>\n",
              "    </tr>\n",
              "  </tbody>\n",
              "</table>\n",
              "</div>\n",
              "      <button class=\"colab-df-convert\" onclick=\"convertToInteractive('df-d026906f-1d1a-4000-a7ec-1db910268a36')\"\n",
              "              title=\"Convert this dataframe to an interactive table.\"\n",
              "              style=\"display:none;\">\n",
              "        \n",
              "  <svg xmlns=\"http://www.w3.org/2000/svg\" height=\"24px\"viewBox=\"0 0 24 24\"\n",
              "       width=\"24px\">\n",
              "    <path d=\"M0 0h24v24H0V0z\" fill=\"none\"/>\n",
              "    <path d=\"M18.56 5.44l.94 2.06.94-2.06 2.06-.94-2.06-.94-.94-2.06-.94 2.06-2.06.94zm-11 1L8.5 8.5l.94-2.06 2.06-.94-2.06-.94L8.5 2.5l-.94 2.06-2.06.94zm10 10l.94 2.06.94-2.06 2.06-.94-2.06-.94-.94-2.06-.94 2.06-2.06.94z\"/><path d=\"M17.41 7.96l-1.37-1.37c-.4-.4-.92-.59-1.43-.59-.52 0-1.04.2-1.43.59L10.3 9.45l-7.72 7.72c-.78.78-.78 2.05 0 2.83L4 21.41c.39.39.9.59 1.41.59.51 0 1.02-.2 1.41-.59l7.78-7.78 2.81-2.81c.8-.78.8-2.07 0-2.86zM5.41 20L4 18.59l7.72-7.72 1.47 1.35L5.41 20z\"/>\n",
              "  </svg>\n",
              "      </button>\n",
              "      \n",
              "  <style>\n",
              "    .colab-df-container {\n",
              "      display:flex;\n",
              "      flex-wrap:wrap;\n",
              "      gap: 12px;\n",
              "    }\n",
              "\n",
              "    .colab-df-convert {\n",
              "      background-color: #E8F0FE;\n",
              "      border: none;\n",
              "      border-radius: 50%;\n",
              "      cursor: pointer;\n",
              "      display: none;\n",
              "      fill: #1967D2;\n",
              "      height: 32px;\n",
              "      padding: 0 0 0 0;\n",
              "      width: 32px;\n",
              "    }\n",
              "\n",
              "    .colab-df-convert:hover {\n",
              "      background-color: #E2EBFA;\n",
              "      box-shadow: 0px 1px 2px rgba(60, 64, 67, 0.3), 0px 1px 3px 1px rgba(60, 64, 67, 0.15);\n",
              "      fill: #174EA6;\n",
              "    }\n",
              "\n",
              "    [theme=dark] .colab-df-convert {\n",
              "      background-color: #3B4455;\n",
              "      fill: #D2E3FC;\n",
              "    }\n",
              "\n",
              "    [theme=dark] .colab-df-convert:hover {\n",
              "      background-color: #434B5C;\n",
              "      box-shadow: 0px 1px 3px 1px rgba(0, 0, 0, 0.15);\n",
              "      filter: drop-shadow(0px 1px 2px rgba(0, 0, 0, 0.3));\n",
              "      fill: #FFFFFF;\n",
              "    }\n",
              "  </style>\n",
              "\n",
              "      <script>\n",
              "        const buttonEl =\n",
              "          document.querySelector('#df-d026906f-1d1a-4000-a7ec-1db910268a36 button.colab-df-convert');\n",
              "        buttonEl.style.display =\n",
              "          google.colab.kernel.accessAllowed ? 'block' : 'none';\n",
              "\n",
              "        async function convertToInteractive(key) {\n",
              "          const element = document.querySelector('#df-d026906f-1d1a-4000-a7ec-1db910268a36');\n",
              "          const dataTable =\n",
              "            await google.colab.kernel.invokeFunction('convertToInteractive',\n",
              "                                                     [key], {});\n",
              "          if (!dataTable) return;\n",
              "\n",
              "          const docLinkHtml = 'Like what you see? Visit the ' +\n",
              "            '<a target=\"_blank\" href=https://colab.research.google.com/notebooks/data_table.ipynb>data table notebook</a>'\n",
              "            + ' to learn more about interactive tables.';\n",
              "          element.innerHTML = '';\n",
              "          dataTable['output_type'] = 'display_data';\n",
              "          await google.colab.output.renderOutput(dataTable, element);\n",
              "          const docLink = document.createElement('div');\n",
              "          docLink.innerHTML = docLinkHtml;\n",
              "          element.appendChild(docLink);\n",
              "        }\n",
              "      </script>\n",
              "    </div>\n",
              "  </div>\n",
              "  "
            ]
          },
          "metadata": {},
          "execution_count": 121
        }
      ]
    },
    {
      "cell_type": "code",
      "source": [
        "loads = list(Net.load['bus'])\n",
        "gens = list(Net.gen['bus'])\n",
        "shunts = list(Net.shunt['bus'])\n",
        "ext = list(Net.ext_grid['bus'])"
      ],
      "metadata": {
        "id": "zlhkZ6-MWqiU"
      },
      "execution_count": null,
      "outputs": []
    },
    {
      "cell_type": "code",
      "source": [
        "ext['max_p_mw']"
      ],
      "metadata": {
        "colab": {
          "base_uri": "https://localhost:8080/"
        },
        "id": "YK5F5gDRX1gh",
        "outputId": "b8c00357-4675-4ce8-bb6d-af81905c4c6e"
      },
      "execution_count": null,
      "outputs": [
        {
          "output_type": "execute_result",
          "data": {
            "text/plain": [
              "0    646.0\n",
              "Name: max_p_mw, dtype: float64"
            ]
          },
          "metadata": {},
          "execution_count": 40
        }
      ]
    },
    {
      "cell_type": "code",
      "source": [
        "sum(gens['p_mw']) + 646"
      ],
      "metadata": {
        "colab": {
          "base_uri": "https://localhost:8080/"
        },
        "id": "QroS4445XKtq",
        "outputId": "b6af9d93-1365-4932-e495-3167ea67d4b2"
      },
      "execution_count": null,
      "outputs": [
        {
          "output_type": "execute_result",
          "data": {
            "text/plain": [
              "6266.0"
            ]
          },
          "metadata": {},
          "execution_count": 41
        }
      ]
    },
    {
      "cell_type": "code",
      "source": [
        "lk = list(loads['bus'])\n",
        "ln = [0 for i in range(len(lk))]"
      ],
      "metadata": {
        "id": "Ucol_tcqW-wX"
      },
      "execution_count": null,
      "outputs": []
    },
    {
      "cell_type": "code",
      "source": [
        "lke = list(ext['bus'])\n",
        "lne = [1 for i in range(len(lke))]"
      ],
      "metadata": {
        "id": "5zNVllR7ZQAJ"
      },
      "execution_count": null,
      "outputs": []
    },
    {
      "cell_type": "code",
      "source": [
        "lkg = list(gens['bus'])\n",
        "lng = [12 for i in range(len(lkg))]"
      ],
      "metadata": {
        "id": "vs4_k4RqZfPT"
      },
      "execution_count": null,
      "outputs": []
    },
    {
      "cell_type": "code",
      "source": [
        "lk.extend(lke)\n"
      ],
      "metadata": {
        "id": "ZzP375deZja3"
      },
      "execution_count": null,
      "outputs": []
    },
    {
      "cell_type": "code",
      "source": [
        "pp.drop_buses(Net, [9], drop_elements=True); # drop the nodes"
      ],
      "metadata": {
        "id": "pOn6A8TXZoVx"
      },
      "execution_count": null,
      "outputs": []
    },
    {
      "cell_type": "code",
      "source": [
        "G = top.create_nxgraph(Net)\n",
        "pos = nx.spring_layout(G, seed=3068)    # Seed layout for reproducibility)\n",
        "plt.figure(figsize=(6,6))\n",
        "nx.draw(G,pos=pos,with_labels=True)\n",
        "plt.show()"
      ],
      "metadata": {
        "colab": {
          "base_uri": "https://localhost:8080/",
          "height": 463
        },
        "id": "jRS21kRUBQhh",
        "outputId": "0c9cf736-21ec-4b93-d0b2-7010b66b14d2"
      },
      "execution_count": 116,
      "outputs": [
        {
          "output_type": "display_data",
          "data": {
            "text/plain": [
              "<Figure size 432x432 with 1 Axes>"
            ],
            "image/png": "[encoded data removed]"
          },
          "metadata": {}
        }
      ]
    },
    {
      "cell_type": "code",
      "source": [
        "centrry(G)"
      ],
      "metadata": {
        "colab": {
          "base_uri": "https://localhost:8080/"
        },
        "id": "IyOudXiCWgZq",
        "outputId": "a647b9f9-caa2-4045-f5e7-e82d522687cd"
      },
      "execution_count": null,
      "outputs": [
        {
          "output_type": "stream",
          "name": "stdout",
          "text": [
            "source vertex {target:length, }\n",
            "0 {0: 0, 1: 1, 4: 1, 2: 2, 3: 2} \n",
            "1 {1: 0, 0: 1, 2: 1, 3: 1, 4: 1} \n",
            "4 {4: 0, 0: 1, 1: 1, 3: 1, 2: 2} \n",
            "2 {2: 0, 1: 1, 3: 1, 0: 2, 4: 2} \n",
            "3 {3: 0, 1: 1, 2: 1, 4: 1, 0: 2} \n",
            "5 {5: 0, 10: 1, 11: 1, 12: 1, 9: 2, 13: 2, 8: 3} \n",
            "10 {10: 0, 9: 1, 5: 1, 8: 2, 11: 2, 12: 2, 13: 3} \n",
            "11 {11: 0, 12: 1, 5: 1, 10: 2, 13: 2, 8: 3, 9: 3} \n",
            "12 {12: 0, 13: 1, 11: 1, 5: 1, 8: 2, 10: 2, 9: 3} \n",
            "8 {8: 0, 9: 1, 13: 1, 10: 2, 12: 2, 11: 3, 5: 3} \n",
            "9 {9: 0, 8: 1, 10: 1, 5: 2, 13: 2, 11: 3, 12: 3} \n",
            "13 {13: 0, 8: 1, 12: 1, 9: 2, 5: 2, 11: 2, 10: 3} \n",
            "\n",
            "average shortest path length 1.4054054054054055\n",
            "with lenght X we have y path\n",
            "0 12\n",
            "1 30\n",
            "2 22\n",
            "3 10\n",
            "some shit happens because of parted grapg\n"
          ]
        }
      ]
    },
    {
      "cell_type": "markdown",
      "source": [
        "# jjjjjjjjjjjjjjjjjjjj"
      ],
      "metadata": {
        "id": "bVYdHgSwWcO4"
      }
    },
    {
      "cell_type": "markdown",
      "source": [
        ""
      ],
      "metadata": {
        "id": "b27nAdsKVHyP"
      }
    },
    {
      "cell_type": "code",
      "source": [
        "def centrry(G):\n",
        "    pathlengths = []\n",
        "    print(\"source vertex {target:length, }\")\n",
        "    for v in G.nodes():\n",
        "        spl = dict(nx.single_source_shortest_path_length(G, v))\n",
        "        print(f\"{v} {spl} \")\n",
        "        for p in spl:\n",
        "            pathlengths.append(spl[p])\n",
        "\n",
        "    print()\n",
        "    print(f\"average shortest path length {sum(pathlengths) / len(pathlengths)}\")\n",
        "\n",
        "    # histogram of path lengths\n",
        "    dist = {}\n",
        "    for p in pathlengths:\n",
        "        if p in dist:\n",
        "            dist[p] += 1\n",
        "        else:\n",
        "            dist[p] = 1\n",
        "\n",
        "    # print()\n",
        "    print(\"with lenght X we have y path\")\n",
        "    verts = dist.keys()\n",
        "    for d in sorted(verts):\n",
        "        print(f\"{d} {dist[d]}\")\n",
        "    try:\n",
        "        print(f\"radius: {nx.radius(G)}\")\n",
        "        print(f\"diameter: {nx.diameter(G)}\") #maximum lenght\n",
        "        print(f\"eccentricity: {nx.eccentricity(G)}\")\n",
        "        print(f\"center: {nx.center(G)}\")\n",
        "        print(f\"periphery: {nx.periphery(G)}\") # nodes with max lenght\n",
        "        print(f\"density: {nx.density(G)}\")\n",
        "    except:print(\"some shit happens because of parted grapg\")"
      ],
      "metadata": {
        "id": "yPJ6sb2joBfg"
      },
      "execution_count": 118,
      "outputs": []
    },
    {
      "cell_type": "code",
      "source": [
        "G0 = biggest_sub(G)"
      ],
      "metadata": {
        "id": "H3UEthZ9wE9a",
        "colab": {
          "base_uri": "https://localhost:8080/",
          "height": 167
        },
        "outputId": "b83de44d-e766-45c1-f72d-a4b184e98122"
      },
      "execution_count": 117,
      "outputs": [
        {
          "output_type": "error",
          "ename": "NameError",
          "evalue": "ignored",
          "traceback": [
            "\u001b[0;31m---------------------------------------------------------------------------\u001b[0m",
            "\u001b[0;31mNameError\u001b[0m                                 Traceback (most recent call last)",
            "\u001b[0;32m<ipython-input-117-0c50ad959d4d>\u001b[0m in \u001b[0;36m<module>\u001b[0;34m()\u001b[0m\n\u001b[0;32m----> 1\u001b[0;31m \u001b[0mG0\u001b[0m \u001b[0;34m=\u001b[0m \u001b[0mbiggest_sub\u001b[0m\u001b[0;34m(\u001b[0m\u001b[0mG\u001b[0m\u001b[0;34m)\u001b[0m\u001b[0;34m\u001b[0m\u001b[0;34m\u001b[0m\u001b[0m\n\u001b[0m",
            "\u001b[0;31mNameError\u001b[0m: name 'biggest_sub' is not defined"
          ]
        }
      ]
    },
    {
      "cell_type": "code",
      "source": [
        "centrry(G)"
      ],
      "metadata": {
        "id": "UefY0gCTvPGv",
        "colab": {
          "base_uri": "https://localhost:8080/"
        },
        "outputId": "62e6e6dc-c795-4117-f042-f89289ecc062"
      },
      "execution_count": 119,
      "outputs": [
        {
          "output_type": "stream",
          "name": "stdout",
          "text": [
            "source vertex {target:length, }\n",
            "0 {0: 0, 1: 1, 4: 1, 2: 2, 3: 2, 5: 2, 6: 3, 8: 3, 10: 3, 11: 3, 12: 3, 7: 4, 9: 4, 13: 4} \n",
            "1 {1: 0, 0: 1, 2: 1, 3: 1, 4: 1, 5: 2, 6: 2, 8: 2, 7: 3, 9: 3, 10: 3, 11: 3, 12: 3, 13: 3} \n",
            "4 {4: 0, 0: 1, 1: 1, 3: 1, 5: 1, 2: 2, 6: 2, 8: 2, 10: 2, 11: 2, 12: 2, 7: 3, 9: 3, 13: 3} \n",
            "2 {2: 0, 1: 1, 3: 1, 0: 2, 4: 2, 6: 2, 8: 2, 5: 3, 7: 3, 9: 3, 13: 3, 10: 4, 11: 4, 12: 4} \n",
            "3 {3: 0, 1: 1, 2: 1, 4: 1, 6: 1, 8: 1, 0: 2, 5: 2, 7: 2, 9: 2, 13: 2, 10: 3, 11: 3, 12: 3} \n",
            "5 {5: 0, 10: 1, 11: 1, 12: 1, 4: 1, 0: 2, 1: 2, 3: 2, 9: 2, 13: 2, 2: 3, 6: 3, 8: 3, 7: 4} \n",
            "10 {10: 0, 9: 1, 5: 1, 4: 2, 8: 2, 11: 2, 12: 2, 0: 3, 1: 3, 3: 3, 6: 3, 13: 3, 2: 4, 7: 4} \n",
            "11 {11: 0, 12: 1, 5: 1, 4: 2, 10: 2, 13: 2, 0: 3, 1: 3, 3: 3, 8: 3, 9: 3, 2: 4, 6: 4, 7: 5} \n",
            "12 {12: 0, 13: 1, 11: 1, 5: 1, 4: 2, 8: 2, 10: 2, 0: 3, 1: 3, 3: 3, 6: 3, 9: 3, 2: 4, 7: 4} \n",
            "8 {8: 0, 9: 1, 3: 1, 13: 1, 6: 1, 1: 2, 2: 2, 4: 2, 7: 2, 10: 2, 12: 2, 0: 3, 5: 3, 11: 3} \n",
            "9 {9: 0, 8: 1, 10: 1, 3: 2, 5: 2, 6: 2, 13: 2, 1: 3, 2: 3, 4: 3, 7: 3, 11: 3, 12: 3, 0: 4} \n",
            "13 {13: 0, 8: 1, 12: 1, 3: 2, 5: 2, 6: 2, 9: 2, 11: 2, 1: 3, 2: 3, 4: 3, 7: 3, 10: 3, 0: 4} \n",
            "6 {6: 0, 8: 1, 3: 1, 7: 1, 1: 2, 2: 2, 4: 2, 9: 2, 13: 2, 0: 3, 5: 3, 10: 3, 12: 3, 11: 4} \n",
            "7 {7: 0, 6: 1, 8: 2, 3: 2, 1: 3, 2: 3, 4: 3, 9: 3, 13: 3, 0: 4, 5: 4, 10: 4, 12: 4, 11: 5} \n",
            "\n",
            "average shortest path length 2.204081632653061\n",
            "with lenght X we have y path\n",
            "0 14\n",
            "1 40\n",
            "2 58\n",
            "3 62\n",
            "4 20\n",
            "5 2\n",
            "radius: 3\n",
            "diameter: 5\n",
            "eccentricity: {0: 4, 1: 3, 4: 3, 2: 4, 3: 3, 5: 4, 10: 4, 11: 5, 12: 4, 8: 3, 9: 4, 13: 4, 6: 4, 7: 5}\n",
            "center: [1, 4, 3, 8]\n",
            "periphery: [11, 7]\n",
            "density: 0.21978021978021978\n"
          ]
        }
      ]
    },
    {
      "cell_type": "markdown",
      "source": [
        "Example-1: a quick and shor implementation."
      ],
      "metadata": {
        "id": "DyAaDvd466qp"
      }
    },
    {
      "cell_type": "code",
      "source": [
        "current = pd.DataFrame() # just some visualization\n",
        "h= [6] # this is list of nodes that we want to remove in first place\n",
        "# h = remove_edges\n",
        "Net = Network(); # create a new network each time we run\n",
        "pp.rundcpp(net=Net); # run the current equation \n",
        "current['base'] = Net.res_line['i_ka'];\n",
        "pp.drop_buses(Net, h, drop_elements=True); # drop the nodes\n",
        "linka = []  # list o removed lines\n",
        "pp.rundcpp(net=Net); # run the current equation \n",
        "while len(pp.overloaded_lines(Net))!= 0:\n",
        "    for i in pp.overloaded_lines(Net):\n",
        "        linka.append(i)\n",
        "    print(pp.overloaded_lines(Net));\n",
        "    pp.drop_lines(Net, lines=pp.overloaded_lines(Net));\n",
        "    pp.rundcpp(net=Net);\n",
        "print(pp.overloaded_lines(Net));\n",
        "current['af_r_7'] = Net.res_line['i_ka'];\n",
        "current['base'].plot(figsize = (9,4));\n",
        "current['af_r_7'].plot(figsize = (9,4));"
      ],
      "metadata": {
        "colab": {
          "base_uri": "https://localhost:8080/",
          "height": 282
        },
        "id": "8BgUn43h62yv",
        "outputId": "5cda0d32-8d04-4868-8676-d1d29c0ff699"
      },
      "execution_count": 120,
      "outputs": [
        {
          "output_type": "stream",
          "name": "stdout",
          "text": [
            "Int64Index([], dtype='int64')\n"
          ]
        },
        {
          "output_type": "display_data",
          "data": {
            "text/plain": [
              "<Figure size 648x288 with 1 Axes>"
            ],
            "image/png": "[encoded data removed]"
          },
          "metadata": {
            "needs_background": "light"
          }
        }
      ]
    },
    {
      "cell_type": "code",
      "source": [
        "lost = []                                       # list of edges that \n",
        "for i in range(len(linka)):                     # must be removed\n",
        "    lost.append(line[\"line\"][linka].iloc[i])\n",
        "print(lost)\n",
        "#-------------------------------------------------------------------------------\n",
        "G = top.create_nxgraph(Net)\n",
        "original_nodes = G.nodes()\n",
        "pos = nx.spring_layout(G, seed=3068)    # Seed layout for reproducibility)\n",
        "G.remove_nodes_from(h)\n",
        "G.remove_edges_from(lost)\n",
        "plt.figure(figsize=(6,6))\n",
        "nx.draw(G,pos=pos,with_labels=True)\n",
        "plt.show()"
      ],
      "metadata": {
        "colab": {
          "base_uri": "https://localhost:8080/",
          "height": 480
        },
        "id": "2Vw95bKm-FQu",
        "outputId": "6da55dcc-6a12-4209-81b0-80bc9b1cf841"
      },
      "execution_count": 121,
      "outputs": [
        {
          "output_type": "stream",
          "name": "stdout",
          "text": [
            "[]\n"
          ]
        },
        {
          "output_type": "display_data",
          "data": {
            "text/plain": [
              "<Figure size 432x432 with 1 Axes>"
            ],
            "image/png": "[encoded data removed]"
          },
          "metadata": {}
        }
      ]
    },
    {
      "cell_type": "code",
      "source": [
        "def biggest_sub(G):\n",
        "    # identify largest connected component\n",
        "    old_nodes = set(G.nodes())\n",
        "    Gcc = sorted(nx.connected_components(G), key=len, reverse=True)\n",
        "    return G.subgraph(Gcc[0])"
      ],
      "metadata": {
        "id": "WVTdBDsNv9Cu"
      },
      "execution_count": 122,
      "outputs": []
    },
    {
      "cell_type": "code",
      "source": [
        "H = sorted(nx.connected_components(G), key=len, reverse=True)\n",
        "print(H)\n",
        "#! check if ext_bus is in there else go next\n",
        "print(\"presentage of reminders: {}\".format(len(H[0])/len(G.nodes)))"
      ],
      "metadata": {
        "colab": {
          "base_uri": "https://localhost:8080/"
        },
        "id": "tBHAOy3UOyZG",
        "outputId": "eb3f21ac-6a02-4c88-ecda-6f2f8ca353fa"
      },
      "execution_count": 123,
      "outputs": [
        {
          "output_type": "stream",
          "name": "stdout",
          "text": [
            "[{0, 1, 2, 3, 4, 5, 8, 9, 10, 11, 12, 13}, {7}]\n",
            "presentage of reminders: 0.9230769230769231\n"
          ]
        }
      ]
    },
    {
      "cell_type": "code",
      "source": [
        "# identify largest connected component\n",
        "old_nodes = set(G.nodes())\n",
        "Gcc = sorted(nx.connected_components(G), key=len, reverse=True)\n",
        "G0 = G.subgraph(Gcc[0])\n",
        "New_nodes = set(Gcc[0])\n",
        "remove_edges = old_nodes-New_nodes\n",
        "print(\"len of the largest component is: {}\".format(len(New_nodes)))\n",
        "print(\"presentage of the reminded nodes are: {}\".format(len(New_nodes)/(len(original_nodes)+1)))\n",
        "#------------------------------------\n",
        "# plot lorgest component\n",
        "#------------------------------------\n",
        "he = remove_edges\n",
        "pp.drop_buses(Net, he, drop_elements=True); # drop the nodes\n",
        "G.remove_nodes_from(he)\n",
        "plt.figure(figsize=(6,6))\n",
        "nx.draw(G,pos=pos,with_labels=True)\n",
        "plt.show()"
      ],
      "metadata": {
        "colab": {
          "base_uri": "https://localhost:8080/",
          "height": 498
        },
        "id": "B2GalLSO_CWr",
        "outputId": "15c9946a-eff3-4070-e334-8fab43f0fc1f"
      },
      "execution_count": 124,
      "outputs": [
        {
          "output_type": "stream",
          "name": "stdout",
          "text": [
            "len of the largest component is: 12\n",
            "presentage of the reminded nodes are: 0.8571428571428571\n"
          ]
        },
        {
          "output_type": "display_data",
          "data": {
            "text/plain": [
              "<Figure size 432x432 with 1 Axes>"
            ],
            "image/png": "[encoded data removed]"
          },
          "metadata": {}
        }
      ]
    },
    {
      "cell_type": "markdown",
      "source": [
        "largest component by renadom removing nodes"
      ],
      "metadata": {
        "id": "NouFtL7tCvGY"
      }
    },
    {
      "cell_type": "code",
      "source": [
        "c = np.random.randint(low=0,high=2868,size=10)\n",
        "c"
      ],
      "metadata": {
        "colab": {
          "base_uri": "https://localhost:8080/"
        },
        "id": "gIOrfRhBrGti",
        "outputId": "f7f5580a-2736-4548-82dc-12f46a49b289"
      },
      "execution_count": null,
      "outputs": [
        {
          "output_type": "execute_result",
          "data": {
            "text/plain": [
              "array([1682, 2730, 2493, 1084, 2283, 2734, 2760, 1564,  116, 2764])"
            ]
          },
          "metadata": {},
          "execution_count": 74
        }
      ]
    },
    {
      "cell_type": "code",
      "source": [
        "Net.bus"
      ],
      "metadata": {
        "colab": {
          "base_uri": "https://localhost:8080/",
          "height": 457
        },
        "id": "UW5m_2E_pxT1",
        "outputId": "7c76a028-dcc4-4985-eebb-a110fa91ecb8"
      },
      "execution_count": null,
      "outputs": [
        {
          "output_type": "execute_result",
          "data": {
            "text/plain": [
              "    in_service  max_vm_pu  min_vm_pu name type    vn_kv zone\n",
              "0         True       1.06       0.94    1    b  135.000  1.0\n",
              "1         True       1.06       0.94    2    b  135.000  1.0\n",
              "2         True       1.06       0.94    3    b  135.000  1.0\n",
              "3         True       1.06       0.94    4    b  135.000  1.0\n",
              "4         True       1.06       0.94    5    b  135.000  1.0\n",
              "5         True       1.06       0.94    6    b    0.208  1.0\n",
              "6         True       1.06       0.94    7    b   14.000  1.0\n",
              "7         True       1.06       0.94    8    b   12.000  1.0\n",
              "8         True       1.06       0.94    9    b    0.208  1.0\n",
              "9         True       1.06       0.94   10    b    0.208  1.0\n",
              "10        True       1.06       0.94   11    b    0.208  1.0\n",
              "12        True       1.06       0.94   13    b    0.208  1.0\n",
              "13        True       1.06       0.94   14    b    0.208  1.0"
            ],
            "text/html": [
              "\n",
              "  <div id=\"df-881859d1-ddfb-4bb2-b2c2-9ef8b78b6a1f\">\n",
              "    <div class=\"colab-df-container\">\n",
              "      <div>\n",
              "<style scoped>\n",
              "    .dataframe tbody tr th:only-of-type {\n",
              "        vertical-align: middle;\n",
              "    }\n",
              "\n",
              "    .dataframe tbody tr th {\n",
              "        vertical-align: top;\n",
              "    }\n",
              "\n",
              "    .dataframe thead th {\n",
              "        text-align: right;\n",
              "    }\n",
              "</style>\n",
              "<table border=\"1\" class=\"dataframe\">\n",
              "  <thead>\n",
              "    <tr style=\"text-align: right;\">\n",
              "      <th></th>\n",
              "      <th>in_service</th>\n",
              "      <th>max_vm_pu</th>\n",
              "      <th>min_vm_pu</th>\n",
              "      <th>name</th>\n",
              "      <th>type</th>\n",
              "      <th>vn_kv</th>\n",
              "      <th>zone</th>\n",
              "    </tr>\n",
              "  </thead>\n",
              "  <tbody>\n",
              "    <tr>\n",
              "      <th>0</th>\n",
              "      <td>True</td>\n",
              "      <td>1.06</td>\n",
              "      <td>0.94</td>\n",
              "      <td>1</td>\n",
              "      <td>b</td>\n",
              "      <td>135.000</td>\n",
              "      <td>1.0</td>\n",
              "    </tr>\n",
              "    <tr>\n",
              "      <th>1</th>\n",
              "      <td>True</td>\n",
              "      <td>1.06</td>\n",
              "      <td>0.94</td>\n",
              "      <td>2</td>\n",
              "      <td>b</td>\n",
              "      <td>135.000</td>\n",
              "      <td>1.0</td>\n",
              "    </tr>\n",
              "    <tr>\n",
              "      <th>2</th>\n",
              "      <td>True</td>\n",
              "      <td>1.06</td>\n",
              "      <td>0.94</td>\n",
              "      <td>3</td>\n",
              "      <td>b</td>\n",
              "      <td>135.000</td>\n",
              "      <td>1.0</td>\n",
              "    </tr>\n",
              "    <tr>\n",
              "      <th>3</th>\n",
              "      <td>True</td>\n",
              "      <td>1.06</td>\n",
              "      <td>0.94</td>\n",
              "      <td>4</td>\n",
              "      <td>b</td>\n",
              "      <td>135.000</td>\n",
              "      <td>1.0</td>\n",
              "    </tr>\n",
              "    <tr>\n",
              "      <th>4</th>\n",
              "      <td>True</td>\n",
              "      <td>1.06</td>\n",
              "      <td>0.94</td>\n",
              "      <td>5</td>\n",
              "      <td>b</td>\n",
              "      <td>135.000</td>\n",
              "      <td>1.0</td>\n",
              "    </tr>\n",
              "    <tr>\n",
              "      <th>5</th>\n",
              "      <td>True</td>\n",
              "      <td>1.06</td>\n",
              "      <td>0.94</td>\n",
              "      <td>6</td>\n",
              "      <td>b</td>\n",
              "      <td>0.208</td>\n",
              "      <td>1.0</td>\n",
              "    </tr>\n",
              "    <tr>\n",
              "      <th>6</th>\n",
              "      <td>True</td>\n",
              "      <td>1.06</td>\n",
              "      <td>0.94</td>\n",
              "      <td>7</td>\n",
              "      <td>b</td>\n",
              "      <td>14.000</td>\n",
              "      <td>1.0</td>\n",
              "    </tr>\n",
              "    <tr>\n",
              "      <th>7</th>\n",
              "      <td>True</td>\n",
              "      <td>1.06</td>\n",
              "      <td>0.94</td>\n",
              "      <td>8</td>\n",
              "      <td>b</td>\n",
              "      <td>12.000</td>\n",
              "      <td>1.0</td>\n",
              "    </tr>\n",
              "    <tr>\n",
              "      <th>8</th>\n",
              "      <td>True</td>\n",
              "      <td>1.06</td>\n",
              "      <td>0.94</td>\n",
              "      <td>9</td>\n",
              "      <td>b</td>\n",
              "      <td>0.208</td>\n",
              "      <td>1.0</td>\n",
              "    </tr>\n",
              "    <tr>\n",
              "      <th>9</th>\n",
              "      <td>True</td>\n",
              "      <td>1.06</td>\n",
              "      <td>0.94</td>\n",
              "      <td>10</td>\n",
              "      <td>b</td>\n",
              "      <td>0.208</td>\n",
              "      <td>1.0</td>\n",
              "    </tr>\n",
              "    <tr>\n",
              "      <th>10</th>\n",
              "      <td>True</td>\n",
              "      <td>1.06</td>\n",
              "      <td>0.94</td>\n",
              "      <td>11</td>\n",
              "      <td>b</td>\n",
              "      <td>0.208</td>\n",
              "      <td>1.0</td>\n",
              "    </tr>\n",
              "    <tr>\n",
              "      <th>12</th>\n",
              "      <td>True</td>\n",
              "      <td>1.06</td>\n",
              "      <td>0.94</td>\n",
              "      <td>13</td>\n",
              "      <td>b</td>\n",
              "      <td>0.208</td>\n",
              "      <td>1.0</td>\n",
              "    </tr>\n",
              "    <tr>\n",
              "      <th>13</th>\n",
              "      <td>True</td>\n",
              "      <td>1.06</td>\n",
              "      <td>0.94</td>\n",
              "      <td>14</td>\n",
              "      <td>b</td>\n",
              "      <td>0.208</td>\n",
              "      <td>1.0</td>\n",
              "    </tr>\n",
              "  </tbody>\n",
              "</table>\n",
              "</div>\n",
              "      <button class=\"colab-df-convert\" onclick=\"convertToInteractive('df-881859d1-ddfb-4bb2-b2c2-9ef8b78b6a1f')\"\n",
              "              title=\"Convert this dataframe to an interactive table.\"\n",
              "              style=\"display:none;\">\n",
              "        \n",
              "  <svg xmlns=\"http://www.w3.org/2000/svg\" height=\"24px\"viewBox=\"0 0 24 24\"\n",
              "       width=\"24px\">\n",
              "    <path d=\"M0 0h24v24H0V0z\" fill=\"none\"/>\n",
              "    <path d=\"M18.56 5.44l.94 2.06.94-2.06 2.06-.94-2.06-.94-.94-2.06-.94 2.06-2.06.94zm-11 1L8.5 8.5l.94-2.06 2.06-.94-2.06-.94L8.5 2.5l-.94 2.06-2.06.94zm10 10l.94 2.06.94-2.06 2.06-.94-2.06-.94-.94-2.06-.94 2.06-2.06.94z\"/><path d=\"M17.41 7.96l-1.37-1.37c-.4-.4-.92-.59-1.43-.59-.52 0-1.04.2-1.43.59L10.3 9.45l-7.72 7.72c-.78.78-.78 2.05 0 2.83L4 21.41c.39.39.9.59 1.41.59.51 0 1.02-.2 1.41-.59l7.78-7.78 2.81-2.81c.8-.78.8-2.07 0-2.86zM5.41 20L4 18.59l7.72-7.72 1.47 1.35L5.41 20z\"/>\n",
              "  </svg>\n",
              "      </button>\n",
              "      \n",
              "  <style>\n",
              "    .colab-df-container {\n",
              "      display:flex;\n",
              "      flex-wrap:wrap;\n",
              "      gap: 12px;\n",
              "    }\n",
              "\n",
              "    .colab-df-convert {\n",
              "      background-color: #E8F0FE;\n",
              "      border: none;\n",
              "      border-radius: 50%;\n",
              "      cursor: pointer;\n",
              "      display: none;\n",
              "      fill: #1967D2;\n",
              "      height: 32px;\n",
              "      padding: 0 0 0 0;\n",
              "      width: 32px;\n",
              "    }\n",
              "\n",
              "    .colab-df-convert:hover {\n",
              "      background-color: #E2EBFA;\n",
              "      box-shadow: 0px 1px 2px rgba(60, 64, 67, 0.3), 0px 1px 3px 1px rgba(60, 64, 67, 0.15);\n",
              "      fill: #174EA6;\n",
              "    }\n",
              "\n",
              "    [theme=dark] .colab-df-convert {\n",
              "      background-color: #3B4455;\n",
              "      fill: #D2E3FC;\n",
              "    }\n",
              "\n",
              "    [theme=dark] .colab-df-convert:hover {\n",
              "      background-color: #434B5C;\n",
              "      box-shadow: 0px 1px 3px 1px rgba(0, 0, 0, 0.15);\n",
              "      filter: drop-shadow(0px 1px 2px rgba(0, 0, 0, 0.3));\n",
              "      fill: #FFFFFF;\n",
              "    }\n",
              "  </style>\n",
              "\n",
              "      <script>\n",
              "        const buttonEl =\n",
              "          document.querySelector('#df-881859d1-ddfb-4bb2-b2c2-9ef8b78b6a1f button.colab-df-convert');\n",
              "        buttonEl.style.display =\n",
              "          google.colab.kernel.accessAllowed ? 'block' : 'none';\n",
              "\n",
              "        async function convertToInteractive(key) {\n",
              "          const element = document.querySelector('#df-881859d1-ddfb-4bb2-b2c2-9ef8b78b6a1f');\n",
              "          const dataTable =\n",
              "            await google.colab.kernel.invokeFunction('convertToInteractive',\n",
              "                                                     [key], {});\n",
              "          if (!dataTable) return;\n",
              "\n",
              "          const docLinkHtml = 'Like what you see? Visit the ' +\n",
              "            '<a target=\"_blank\" href=https://colab.research.google.com/notebooks/data_table.ipynb>data table notebook</a>'\n",
              "            + ' to learn more about interactive tables.';\n",
              "          element.innerHTML = '';\n",
              "          dataTable['output_type'] = 'display_data';\n",
              "          await google.colab.output.renderOutput(dataTable, element);\n",
              "          const docLink = document.createElement('div');\n",
              "          docLink.innerHTML = docLinkHtml;\n",
              "          element.appendChild(docLink);\n",
              "        }\n",
              "      </script>\n",
              "    </div>\n",
              "  </div>\n",
              "  "
            ]
          },
          "metadata": {},
          "execution_count": 151
        }
      ]
    },
    {
      "cell_type": "code",
      "source": [
        "Net.bus"
      ],
      "metadata": {
        "colab": {
          "base_uri": "https://localhost:8080/",
          "height": 457
        },
        "id": "9riLPbXHp8I8",
        "outputId": "4801fcc6-5f9d-474b-a753-396ff43d720d"
      },
      "execution_count": null,
      "outputs": [
        {
          "output_type": "execute_result",
          "data": {
            "text/plain": [
              "    in_service  max_vm_pu  min_vm_pu name type    vn_kv zone\n",
              "0         True       1.06       0.94    1    b  135.000  1.0\n",
              "1         True       1.06       0.94    2    b  135.000  1.0\n",
              "2         True       1.06       0.94    3    b  135.000  1.0\n",
              "3         True       1.06       0.94    4    b  135.000  1.0\n",
              "4         True       1.06       0.94    5    b  135.000  1.0\n",
              "5         True       1.06       0.94    6    b    0.208  1.0\n",
              "6         True       1.06       0.94    7    b   14.000  1.0\n",
              "7         True       1.06       0.94    8    b   12.000  1.0\n",
              "8         True       1.06       0.94    9    b    0.208  1.0\n",
              "9         True       1.06       0.94   10    b    0.208  1.0\n",
              "10        True       1.06       0.94   11    b    0.208  1.0\n",
              "11        True       1.06       0.94   12    b    0.208  1.0\n",
              "12        True       1.06       0.94   13    b    0.208  1.0"
            ],
            "text/html": [
              "\n",
              "  <div id=\"df-5dbab7a8-bdce-4cc6-a80f-95640e6d9d5f\">\n",
              "    <div class=\"colab-df-container\">\n",
              "      <div>\n",
              "<style scoped>\n",
              "    .dataframe tbody tr th:only-of-type {\n",
              "        vertical-align: middle;\n",
              "    }\n",
              "\n",
              "    .dataframe tbody tr th {\n",
              "        vertical-align: top;\n",
              "    }\n",
              "\n",
              "    .dataframe thead th {\n",
              "        text-align: right;\n",
              "    }\n",
              "</style>\n",
              "<table border=\"1\" class=\"dataframe\">\n",
              "  <thead>\n",
              "    <tr style=\"text-align: right;\">\n",
              "      <th></th>\n",
              "      <th>in_service</th>\n",
              "      <th>max_vm_pu</th>\n",
              "      <th>min_vm_pu</th>\n",
              "      <th>name</th>\n",
              "      <th>type</th>\n",
              "      <th>vn_kv</th>\n",
              "      <th>zone</th>\n",
              "    </tr>\n",
              "  </thead>\n",
              "  <tbody>\n",
              "    <tr>\n",
              "      <th>0</th>\n",
              "      <td>True</td>\n",
              "      <td>1.06</td>\n",
              "      <td>0.94</td>\n",
              "      <td>1</td>\n",
              "      <td>b</td>\n",
              "      <td>135.000</td>\n",
              "      <td>1.0</td>\n",
              "    </tr>\n",
              "    <tr>\n",
              "      <th>1</th>\n",
              "      <td>True</td>\n",
              "      <td>1.06</td>\n",
              "      <td>0.94</td>\n",
              "      <td>2</td>\n",
              "      <td>b</td>\n",
              "      <td>135.000</td>\n",
              "      <td>1.0</td>\n",
              "    </tr>\n",
              "    <tr>\n",
              "      <th>2</th>\n",
              "      <td>True</td>\n",
              "      <td>1.06</td>\n",
              "      <td>0.94</td>\n",
              "      <td>3</td>\n",
              "      <td>b</td>\n",
              "      <td>135.000</td>\n",
              "      <td>1.0</td>\n",
              "    </tr>\n",
              "    <tr>\n",
              "      <th>3</th>\n",
              "      <td>True</td>\n",
              "      <td>1.06</td>\n",
              "      <td>0.94</td>\n",
              "      <td>4</td>\n",
              "      <td>b</td>\n",
              "      <td>135.000</td>\n",
              "      <td>1.0</td>\n",
              "    </tr>\n",
              "    <tr>\n",
              "      <th>4</th>\n",
              "      <td>True</td>\n",
              "      <td>1.06</td>\n",
              "      <td>0.94</td>\n",
              "      <td>5</td>\n",
              "      <td>b</td>\n",
              "      <td>135.000</td>\n",
              "      <td>1.0</td>\n",
              "    </tr>\n",
              "    <tr>\n",
              "      <th>5</th>\n",
              "      <td>True</td>\n",
              "      <td>1.06</td>\n",
              "      <td>0.94</td>\n",
              "      <td>6</td>\n",
              "      <td>b</td>\n",
              "      <td>0.208</td>\n",
              "      <td>1.0</td>\n",
              "    </tr>\n",
              "    <tr>\n",
              "      <th>6</th>\n",
              "      <td>True</td>\n",
              "      <td>1.06</td>\n",
              "      <td>0.94</td>\n",
              "      <td>7</td>\n",
              "      <td>b</td>\n",
              "      <td>14.000</td>\n",
              "      <td>1.0</td>\n",
              "    </tr>\n",
              "    <tr>\n",
              "      <th>7</th>\n",
              "      <td>True</td>\n",
              "      <td>1.06</td>\n",
              "      <td>0.94</td>\n",
              "      <td>8</td>\n",
              "      <td>b</td>\n",
              "      <td>12.000</td>\n",
              "      <td>1.0</td>\n",
              "    </tr>\n",
              "    <tr>\n",
              "      <th>8</th>\n",
              "      <td>True</td>\n",
              "      <td>1.06</td>\n",
              "      <td>0.94</td>\n",
              "      <td>9</td>\n",
              "      <td>b</td>\n",
              "      <td>0.208</td>\n",
              "      <td>1.0</td>\n",
              "    </tr>\n",
              "    <tr>\n",
              "      <th>9</th>\n",
              "      <td>True</td>\n",
              "      <td>1.06</td>\n",
              "      <td>0.94</td>\n",
              "      <td>10</td>\n",
              "      <td>b</td>\n",
              "      <td>0.208</td>\n",
              "      <td>1.0</td>\n",
              "    </tr>\n",
              "    <tr>\n",
              "      <th>10</th>\n",
              "      <td>True</td>\n",
              "      <td>1.06</td>\n",
              "      <td>0.94</td>\n",
              "      <td>11</td>\n",
              "      <td>b</td>\n",
              "      <td>0.208</td>\n",
              "      <td>1.0</td>\n",
              "    </tr>\n",
              "    <tr>\n",
              "      <th>11</th>\n",
              "      <td>True</td>\n",
              "      <td>1.06</td>\n",
              "      <td>0.94</td>\n",
              "      <td>12</td>\n",
              "      <td>b</td>\n",
              "      <td>0.208</td>\n",
              "      <td>1.0</td>\n",
              "    </tr>\n",
              "    <tr>\n",
              "      <th>12</th>\n",
              "      <td>True</td>\n",
              "      <td>1.06</td>\n",
              "      <td>0.94</td>\n",
              "      <td>13</td>\n",
              "      <td>b</td>\n",
              "      <td>0.208</td>\n",
              "      <td>1.0</td>\n",
              "    </tr>\n",
              "  </tbody>\n",
              "</table>\n",
              "</div>\n",
              "      <button class=\"colab-df-convert\" onclick=\"convertToInteractive('df-5dbab7a8-bdce-4cc6-a80f-95640e6d9d5f')\"\n",
              "              title=\"Convert this dataframe to an interactive table.\"\n",
              "              style=\"display:none;\">\n",
              "        \n",
              "  <svg xmlns=\"http://www.w3.org/2000/svg\" height=\"24px\"viewBox=\"0 0 24 24\"\n",
              "       width=\"24px\">\n",
              "    <path d=\"M0 0h24v24H0V0z\" fill=\"none\"/>\n",
              "    <path d=\"M18.56 5.44l.94 2.06.94-2.06 2.06-.94-2.06-.94-.94-2.06-.94 2.06-2.06.94zm-11 1L8.5 8.5l.94-2.06 2.06-.94-2.06-.94L8.5 2.5l-.94 2.06-2.06.94zm10 10l.94 2.06.94-2.06 2.06-.94-2.06-.94-.94-2.06-.94 2.06-2.06.94z\"/><path d=\"M17.41 7.96l-1.37-1.37c-.4-.4-.92-.59-1.43-.59-.52 0-1.04.2-1.43.59L10.3 9.45l-7.72 7.72c-.78.78-.78 2.05 0 2.83L4 21.41c.39.39.9.59 1.41.59.51 0 1.02-.2 1.41-.59l7.78-7.78 2.81-2.81c.8-.78.8-2.07 0-2.86zM5.41 20L4 18.59l7.72-7.72 1.47 1.35L5.41 20z\"/>\n",
              "  </svg>\n",
              "      </button>\n",
              "      \n",
              "  <style>\n",
              "    .colab-df-container {\n",
              "      display:flex;\n",
              "      flex-wrap:wrap;\n",
              "      gap: 12px;\n",
              "    }\n",
              "\n",
              "    .colab-df-convert {\n",
              "      background-color: #E8F0FE;\n",
              "      border: none;\n",
              "      border-radius: 50%;\n",
              "      cursor: pointer;\n",
              "      display: none;\n",
              "      fill: #1967D2;\n",
              "      height: 32px;\n",
              "      padding: 0 0 0 0;\n",
              "      width: 32px;\n",
              "    }\n",
              "\n",
              "    .colab-df-convert:hover {\n",
              "      background-color: #E2EBFA;\n",
              "      box-shadow: 0px 1px 2px rgba(60, 64, 67, 0.3), 0px 1px 3px 1px rgba(60, 64, 67, 0.15);\n",
              "      fill: #174EA6;\n",
              "    }\n",
              "\n",
              "    [theme=dark] .colab-df-convert {\n",
              "      background-color: #3B4455;\n",
              "      fill: #D2E3FC;\n",
              "    }\n",
              "\n",
              "    [theme=dark] .colab-df-convert:hover {\n",
              "      background-color: #434B5C;\n",
              "      box-shadow: 0px 1px 3px 1px rgba(0, 0, 0, 0.15);\n",
              "      filter: drop-shadow(0px 1px 2px rgba(0, 0, 0, 0.3));\n",
              "      fill: #FFFFFF;\n",
              "    }\n",
              "  </style>\n",
              "\n",
              "      <script>\n",
              "        const buttonEl =\n",
              "          document.querySelector('#df-5dbab7a8-bdce-4cc6-a80f-95640e6d9d5f button.colab-df-convert');\n",
              "        buttonEl.style.display =\n",
              "          google.colab.kernel.accessAllowed ? 'block' : 'none';\n",
              "\n",
              "        async function convertToInteractive(key) {\n",
              "          const element = document.querySelector('#df-5dbab7a8-bdce-4cc6-a80f-95640e6d9d5f');\n",
              "          const dataTable =\n",
              "            await google.colab.kernel.invokeFunction('convertToInteractive',\n",
              "                                                     [key], {});\n",
              "          if (!dataTable) return;\n",
              "\n",
              "          const docLinkHtml = 'Like what you see? Visit the ' +\n",
              "            '<a target=\"_blank\" href=https://colab.research.google.com/notebooks/data_table.ipynb>data table notebook</a>'\n",
              "            + ' to learn more about interactive tables.';\n",
              "          element.innerHTML = '';\n",
              "          dataTable['output_type'] = 'display_data';\n",
              "          await google.colab.output.renderOutput(dataTable, element);\n",
              "          const docLink = document.createElement('div');\n",
              "          docLink.innerHTML = docLinkHtml;\n",
              "          element.appendChild(docLink);\n",
              "        }\n",
              "      </script>\n",
              "    </div>\n",
              "  </div>\n",
              "  "
            ]
          },
          "metadata": {},
          "execution_count": 193
        }
      ]
    },
    {
      "cell_type": "code",
      "source": [
        "netbus = Net.bus['name'] -1"
      ],
      "metadata": {
        "colab": {
          "base_uri": "https://localhost:8080/"
        },
        "id": "o-HajQ80y6FT",
        "outputId": "fbea2cac-6dde-4242-e936-8117ea41f22e"
      },
      "execution_count": null,
      "outputs": [
        {
          "output_type": "execute_result",
          "data": {
            "text/plain": [
              "0      0\n",
              "1      1\n",
              "2      2\n",
              "3      3\n",
              "4      4\n",
              "5      5\n",
              "6      6\n",
              "7      7\n",
              "8      8\n",
              "9      9\n",
              "10    10\n",
              "11    11\n",
              "12    12\n",
              "13    13\n",
              "Name: name, dtype: object"
            ]
          },
          "metadata": {},
          "execution_count": 203
        }
      ]
    },
    {
      "cell_type": "code",
      "source": [
        ""
      ],
      "metadata": {
        "id": "sJK4IwDPy5_5"
      },
      "execution_count": null,
      "outputs": []
    },
    {
      "cell_type": "code",
      "source": [
        "G = top.create_nxgraph(Net)\n",
        "print(len(G.nodes()))\n",
        "nx.draw(G,with_labels=True)"
      ],
      "metadata": {
        "colab": {
          "base_uri": "https://localhost:8080/",
          "height": 336
        },
        "id": "n93d-q38xuNq",
        "outputId": "1af2c81a-82c6-41b1-9ae7-577f938d9e8d"
      },
      "execution_count": 126,
      "outputs": [
        {
          "output_type": "stream",
          "name": "stdout",
          "text": [
            "12\n"
          ]
        },
        {
          "output_type": "display_data",
          "data": {
            "text/plain": [
              "<Figure size 432x288 with 1 Axes>"
            ],
            "image/png": "[encoded data removed]"
          },
          "metadata": {}
        }
      ]
    },
    {
      "cell_type": "code",
      "source": [
        "pp.different_voltage_levels_connected(net=Net)"
      ],
      "metadata": {
        "id": "UKBXEWbjx2-g"
      },
      "execution_count": null,
      "outputs": []
    },
    {
      "cell_type": "code",
      "source": [
        "Net"
      ],
      "metadata": {
        "id": "Zx5qaXnyx25J"
      },
      "execution_count": null,
      "outputs": []
    },
    {
      "cell_type": "code",
      "source": [
        "Network = pn.case118\n",
        "Net = Network(); # create a new network\n",
        "shunt = list(Net.shunt['bus'])\n",
        "load = list(Net.load['bus'])\n",
        "gen = list(Net.gen['bus'])\n",
        "ext_grid = list(Net.ext_grid['bus'])\n",
        "from_bus = Net.line['from_bus']                                # edges from this network for basic\n",
        "to_bus = Net.line['to_bus']                                    # visualization.\n",
        "\n",
        "g = top.create_nxgraph(Net)\n",
        "original_nodes = g.nodes()\n",
        "high = len(original_nodes)\n",
        "print(high)\n",
        "outages = pd.DataFrame()\n",
        "# pos = nx.spring_layout(g, seed=3068)    # Seed layout for reproducibility)\n",
        "# old_nodes1 = set(g.nodes())\n",
        "#-------------------------------------------------------------------------------\n",
        "num = 50\n",
        "outage_num = []\n",
        "outage = []\n",
        "outage_link = []\n",
        "remove_nodes = []\n",
        "kind = []\n",
        "for j in original_nodes:\n",
        "    c = [j,76,48,36,74,33]\n",
        "    # c0 = np.random.randint(low=0,high=high,size=2)\n",
        "    # c.extend(c0)\n",
        "    # c[0] = 5\n",
        "    if int(Net.ext_grid['bus']) not in c:\n",
        "        if j in shunt:\n",
        "            kin = 'shunt'\n",
        "        elif j in gen:\n",
        "            kin = 'gen'\n",
        "        elif j in load:\n",
        "            kin = 'load'\n",
        "        else:\n",
        "            # print(\"shit {}\".format(j))\n",
        "            kin = 'hub'\n",
        "        kind.append(kin)\n",
        "        outage_num.append(c)\n",
        "        h= c # this is list of nodes that we want to remove in first place\n",
        "        # h = c\n",
        "        Net = Network(); # create a new network each time we run\n",
        "        pp.drop_buses(Net, h, drop_elements=True); # drop the nodes\n",
        "        linka = []  # list o removed lines\n",
        "        pp.rundcpp(net=Net); # run the current equation \n",
        "        while len(pp.overloaded_lines(Net))!= 0:\n",
        "            for i in pp.overloaded_lines(Net):\n",
        "                linka.append(i)\n",
        "            pp.drop_lines(Net, lines=pp.overloaded_lines(Net));\n",
        "            pp.rundcpp(net=Net);\n",
        "        #-------------------------------------------------------------------------------\n",
        "        lost = []                                       # list of edges that \n",
        "        for i in range(len(linka)):                     # must be removed\n",
        "            lost.append(line[\"line\"][linka].iloc[i])\n",
        "        lost\n",
        "        # print(linka)\n",
        "        outage_link.append(len(lost))\n",
        "        #-------------------------------------------------------------------------------\n",
        "        g = nx.Graph()                          # use matplotlib visual\n",
        "        g.add_edges_from(edges)\n",
        "        # original_nodes = g.nodes()\n",
        "\n",
        "        g.remove_nodes_from(h)\n",
        "        g.remove_edges_from(lost)\n",
        "        #-------------------------------------------------------------------------------\n",
        "        # identify largest connected component\n",
        "        old_nodes = set(g.nodes())\n",
        "        Gcc = sorted(nx.connected_components(g), key=len, reverse=True)\n",
        "        # G0 = g.subgraph(Gcc[0])\n",
        "        for k in Gcc:\n",
        "            if int(Net.ext_grid['bus']) in k:\n",
        "                New_nodes = set(k)\n",
        "        # print(New_nodes)\n",
        "        remove_node = original_nodes-New_nodes\n",
        "        # remove_nodes.append(len(remove_node))\n",
        "        remove_nodes.append(len(remove_node))\n",
        "        outage.append(1-(len(New_nodes)/len(original_nodes)))\n",
        "        # print(\"node {} and amount {}\".format(c,outage[c]))\n",
        "        # print(\"len of the largest component is: {}\".format(len(New_nodes)))\n",
        "        # print(\"presentage of the reminded nodes are: {}\".format(len(New_nodes)/len(original_nodes)))\n",
        "    else:\n",
        "        pass\n",
        "        # outage.append(1)\n",
        "        # outage_num.append([c,c2])\n",
        "        # outage_link.append(np.nan)\n",
        "    # print(j)  \n",
        "outages['otages_rand_num'] = outage_num\n",
        "outages['kind'] = kind    \n",
        "outages['otages_rand'] = outage\n",
        "outages['outage_link'] = outage_link\n",
        "outages['remove_nodes'] = remove_nodes  \n",
        "#------------------------------------\n",
        "# plot lorgest component\n",
        "#------------------------------------\n",
        "# he = remove_edges\n",
        "# pp.drop_buses(Net, he, drop_elements=True); # drop the nodes\n",
        "# g.remove_nodes_from(he)\n",
        "# plt.figure(figsize=(6,6))\n",
        "# nx.draw(g,pos=pos,with_labels=True)\n",
        "# plt.show()\n",
        "outages"
      ],
      "metadata": {
        "colab": {
          "base_uri": "https://localhost:8080/",
          "height": 441
        },
        "id": "nh-I6Y9v-dd5",
        "outputId": "441696e0-391c-41ec-ac7c-f8beebbd2002"
      },
      "execution_count": 160,
      "outputs": [
        {
          "output_type": "stream",
          "name": "stdout",
          "text": [
            "118\n"
          ]
        },
        {
          "output_type": "execute_result",
          "data": {
            "text/plain": [
              "               otages_rand_num   kind  otages_rand  outage_link  remove_nodes\n",
              "0      [0, 76, 48, 36, 74, 33]    gen     0.635593            0            75\n",
              "1      [1, 76, 48, 36, 74, 33]   load     0.635593            0            75\n",
              "2      [2, 76, 48, 36, 74, 33]   load     0.635593            0            75\n",
              "3      [3, 76, 48, 36, 74, 33]    gen     0.635593            0            75\n",
              "4      [4, 76, 48, 36, 74, 33]  shunt     0.635593            0            75\n",
              "..                         ...    ...          ...          ...           ...\n",
              "112  [117, 76, 48, 36, 74, 33]   load     0.627119            0            74\n",
              "113   [67, 76, 48, 36, 74, 33]    hub     0.627119            0            74\n",
              "114   [80, 76, 48, 36, 74, 33]    hub     0.627119            0            74\n",
              "115   [86, 76, 48, 36, 74, 33]    gen     0.627119            0            74\n",
              "116  [115, 76, 48, 36, 74, 33]    gen     0.627119            0            74\n",
              "\n",
              "[117 rows x 5 columns]"
            ],
            "text/html": [
              "\n",
              "  <div id=\"df-b30aa849-c09a-4fb2-8497-8332797ece69\">\n",
              "    <div class=\"colab-df-container\">\n",
              "      <div>\n",
              "<style scoped>\n",
              "    .dataframe tbody tr th:only-of-type {\n",
              "        vertical-align: middle;\n",
              "    }\n",
              "\n",
              "    .dataframe tbody tr th {\n",
              "        vertical-align: top;\n",
              "    }\n",
              "\n",
              "    .dataframe thead th {\n",
              "        text-align: right;\n",
              "    }\n",
              "</style>\n",
              "<table border=\"1\" class=\"dataframe\">\n",
              "  <thead>\n",
              "    <tr style=\"text-align: right;\">\n",
              "      <th></th>\n",
              "      <th>otages_rand_num</th>\n",
              "      <th>kind</th>\n",
              "      <th>otages_rand</th>\n",
              "      <th>outage_link</th>\n",
              "      <th>remove_nodes</th>\n",
              "    </tr>\n",
              "  </thead>\n",
              "  <tbody>\n",
              "    <tr>\n",
              "      <th>0</th>\n",
              "      <td>[0, 76, 48, 36, 74, 33]</td>\n",
              "      <td>gen</td>\n",
              "      <td>0.635593</td>\n",
              "      <td>0</td>\n",
              "      <td>75</td>\n",
              "    </tr>\n",
              "    <tr>\n",
              "      <th>1</th>\n",
              "      <td>[1, 76, 48, 36, 74, 33]</td>\n",
              "      <td>load</td>\n",
              "      <td>0.635593</td>\n",
              "      <td>0</td>\n",
              "      <td>75</td>\n",
              "    </tr>\n",
              "    <tr>\n",
              "      <th>2</th>\n",
              "      <td>[2, 76, 48, 36, 74, 33]</td>\n",
              "      <td>load</td>\n",
              "      <td>0.635593</td>\n",
              "      <td>0</td>\n",
              "      <td>75</td>\n",
              "    </tr>\n",
              "    <tr>\n",
              "      <th>3</th>\n",
              "      <td>[3, 76, 48, 36, 74, 33]</td>\n",
              "      <td>gen</td>\n",
              "      <td>0.635593</td>\n",
              "      <td>0</td>\n",
              "      <td>75</td>\n",
              "    </tr>\n",
              "    <tr>\n",
              "      <th>4</th>\n",
              "      <td>[4, 76, 48, 36, 74, 33]</td>\n",
              "      <td>shunt</td>\n",
              "      <td>0.635593</td>\n",
              "      <td>0</td>\n",
              "      <td>75</td>\n",
              "    </tr>\n",
              "    <tr>\n",
              "      <th>...</th>\n",
              "      <td>...</td>\n",
              "      <td>...</td>\n",
              "      <td>...</td>\n",
              "      <td>...</td>\n",
              "      <td>...</td>\n",
              "    </tr>\n",
              "    <tr>\n",
              "      <th>112</th>\n",
              "      <td>[117, 76, 48, 36, 74, 33]</td>\n",
              "      <td>load</td>\n",
              "      <td>0.627119</td>\n",
              "      <td>0</td>\n",
              "      <td>74</td>\n",
              "    </tr>\n",
              "    <tr>\n",
              "      <th>113</th>\n",
              "      <td>[67, 76, 48, 36, 74, 33]</td>\n",
              "      <td>hub</td>\n",
              "      <td>0.627119</td>\n",
              "      <td>0</td>\n",
              "      <td>74</td>\n",
              "    </tr>\n",
              "    <tr>\n",
              "      <th>114</th>\n",
              "      <td>[80, 76, 48, 36, 74, 33]</td>\n",
              "      <td>hub</td>\n",
              "      <td>0.627119</td>\n",
              "      <td>0</td>\n",
              "      <td>74</td>\n",
              "    </tr>\n",
              "    <tr>\n",
              "      <th>115</th>\n",
              "      <td>[86, 76, 48, 36, 74, 33]</td>\n",
              "      <td>gen</td>\n",
              "      <td>0.627119</td>\n",
              "      <td>0</td>\n",
              "      <td>74</td>\n",
              "    </tr>\n",
              "    <tr>\n",
              "      <th>116</th>\n",
              "      <td>[115, 76, 48, 36, 74, 33]</td>\n",
              "      <td>gen</td>\n",
              "      <td>0.627119</td>\n",
              "      <td>0</td>\n",
              "      <td>74</td>\n",
              "    </tr>\n",
              "  </tbody>\n",
              "</table>\n",
              "<p>117 rows × 5 columns</p>\n",
              "</div>\n",
              "      <button class=\"colab-df-convert\" onclick=\"convertToInteractive('df-b30aa849-c09a-4fb2-8497-8332797ece69')\"\n",
              "              title=\"Convert this dataframe to an interactive table.\"\n",
              "              style=\"display:none;\">\n",
              "        \n",
              "  <svg xmlns=\"http://www.w3.org/2000/svg\" height=\"24px\"viewBox=\"0 0 24 24\"\n",
              "       width=\"24px\">\n",
              "    <path d=\"M0 0h24v24H0V0z\" fill=\"none\"/>\n",
              "    <path d=\"M18.56 5.44l.94 2.06.94-2.06 2.06-.94-2.06-.94-.94-2.06-.94 2.06-2.06.94zm-11 1L8.5 8.5l.94-2.06 2.06-.94-2.06-.94L8.5 2.5l-.94 2.06-2.06.94zm10 10l.94 2.06.94-2.06 2.06-.94-2.06-.94-.94-2.06-.94 2.06-2.06.94z\"/><path d=\"M17.41 7.96l-1.37-1.37c-.4-.4-.92-.59-1.43-.59-.52 0-1.04.2-1.43.59L10.3 9.45l-7.72 7.72c-.78.78-.78 2.05 0 2.83L4 21.41c.39.39.9.59 1.41.59.51 0 1.02-.2 1.41-.59l7.78-7.78 2.81-2.81c.8-.78.8-2.07 0-2.86zM5.41 20L4 18.59l7.72-7.72 1.47 1.35L5.41 20z\"/>\n",
              "  </svg>\n",
              "      </button>\n",
              "      \n",
              "  <style>\n",
              "    .colab-df-container {\n",
              "      display:flex;\n",
              "      flex-wrap:wrap;\n",
              "      gap: 12px;\n",
              "    }\n",
              "\n",
              "    .colab-df-convert {\n",
              "      background-color: #E8F0FE;\n",
              "      border: none;\n",
              "      border-radius: 50%;\n",
              "      cursor: pointer;\n",
              "      display: none;\n",
              "      fill: #1967D2;\n",
              "      height: 32px;\n",
              "      padding: 0 0 0 0;\n",
              "      width: 32px;\n",
              "    }\n",
              "\n",
              "    .colab-df-convert:hover {\n",
              "      background-color: #E2EBFA;\n",
              "      box-shadow: 0px 1px 2px rgba(60, 64, 67, 0.3), 0px 1px 3px 1px rgba(60, 64, 67, 0.15);\n",
              "      fill: #174EA6;\n",
              "    }\n",
              "\n",
              "    [theme=dark] .colab-df-convert {\n",
              "      background-color: #3B4455;\n",
              "      fill: #D2E3FC;\n",
              "    }\n",
              "\n",
              "    [theme=dark] .colab-df-convert:hover {\n",
              "      background-color: #434B5C;\n",
              "      box-shadow: 0px 1px 3px 1px rgba(0, 0, 0, 0.15);\n",
              "      filter: drop-shadow(0px 1px 2px rgba(0, 0, 0, 0.3));\n",
              "      fill: #FFFFFF;\n",
              "    }\n",
              "  </style>\n",
              "\n",
              "      <script>\n",
              "        const buttonEl =\n",
              "          document.querySelector('#df-b30aa849-c09a-4fb2-8497-8332797ece69 button.colab-df-convert');\n",
              "        buttonEl.style.display =\n",
              "          google.colab.kernel.accessAllowed ? 'block' : 'none';\n",
              "\n",
              "        async function convertToInteractive(key) {\n",
              "          const element = document.querySelector('#df-b30aa849-c09a-4fb2-8497-8332797ece69');\n",
              "          const dataTable =\n",
              "            await google.colab.kernel.invokeFunction('convertToInteractive',\n",
              "                                                     [key], {});\n",
              "          if (!dataTable) return;\n",
              "\n",
              "          const docLinkHtml = 'Like what you see? Visit the ' +\n",
              "            '<a target=\"_blank\" href=https://colab.research.google.com/notebooks/data_table.ipynb>data table notebook</a>'\n",
              "            + ' to learn more about interactive tables.';\n",
              "          element.innerHTML = '';\n",
              "          dataTable['output_type'] = 'display_data';\n",
              "          await google.colab.output.renderOutput(dataTable, element);\n",
              "          const docLink = document.createElement('div');\n",
              "          docLink.innerHTML = docLinkHtml;\n",
              "          element.appendChild(docLink);\n",
              "        }\n",
              "      </script>\n",
              "    </div>\n",
              "  </div>\n",
              "  "
            ]
          },
          "metadata": {},
          "execution_count": 160
        }
      ]
    },
    {
      "cell_type": "code",
      "source": [
        "outages[outages['remove_nodes'] > 80]"
      ],
      "metadata": {
        "colab": {
          "base_uri": "https://localhost:8080/",
          "height": 143
        },
        "id": "SKfBpiVFwe61",
        "outputId": "a8191c29-1f54-4b1e-b037-a9f818c1f40d"
      },
      "execution_count": 163,
      "outputs": [
        {
          "output_type": "execute_result",
          "data": {
            "text/plain": [
              "             otages_rand_num  kind  otages_rand  outage_link  remove_nodes\n",
              "22  [22, 76, 48, 36, 74, 33]  load     0.889831            0           105\n",
              "23  [23, 76, 48, 36, 74, 33]   gen     0.898305            0           106\n",
              "67  [69, 76, 48, 36, 74, 33]   gen     0.940678            0           111"
            ],
            "text/html": [
              "\n",
              "  <div id=\"df-c1126090-12fd-4f53-ab1a-a050d43849f2\">\n",
              "    <div class=\"colab-df-container\">\n",
              "      <div>\n",
              "<style scoped>\n",
              "    .dataframe tbody tr th:only-of-type {\n",
              "        vertical-align: middle;\n",
              "    }\n",
              "\n",
              "    .dataframe tbody tr th {\n",
              "        vertical-align: top;\n",
              "    }\n",
              "\n",
              "    .dataframe thead th {\n",
              "        text-align: right;\n",
              "    }\n",
              "</style>\n",
              "<table border=\"1\" class=\"dataframe\">\n",
              "  <thead>\n",
              "    <tr style=\"text-align: right;\">\n",
              "      <th></th>\n",
              "      <th>otages_rand_num</th>\n",
              "      <th>kind</th>\n",
              "      <th>otages_rand</th>\n",
              "      <th>outage_link</th>\n",
              "      <th>remove_nodes</th>\n",
              "    </tr>\n",
              "  </thead>\n",
              "  <tbody>\n",
              "    <tr>\n",
              "      <th>22</th>\n",
              "      <td>[22, 76, 48, 36, 74, 33]</td>\n",
              "      <td>load</td>\n",
              "      <td>0.889831</td>\n",
              "      <td>0</td>\n",
              "      <td>105</td>\n",
              "    </tr>\n",
              "    <tr>\n",
              "      <th>23</th>\n",
              "      <td>[23, 76, 48, 36, 74, 33]</td>\n",
              "      <td>gen</td>\n",
              "      <td>0.898305</td>\n",
              "      <td>0</td>\n",
              "      <td>106</td>\n",
              "    </tr>\n",
              "    <tr>\n",
              "      <th>67</th>\n",
              "      <td>[69, 76, 48, 36, 74, 33]</td>\n",
              "      <td>gen</td>\n",
              "      <td>0.940678</td>\n",
              "      <td>0</td>\n",
              "      <td>111</td>\n",
              "    </tr>\n",
              "  </tbody>\n",
              "</table>\n",
              "</div>\n",
              "      <button class=\"colab-df-convert\" onclick=\"convertToInteractive('df-c1126090-12fd-4f53-ab1a-a050d43849f2')\"\n",
              "              title=\"Convert this dataframe to an interactive table.\"\n",
              "              style=\"display:none;\">\n",
              "        \n",
              "  <svg xmlns=\"http://www.w3.org/2000/svg\" height=\"24px\"viewBox=\"0 0 24 24\"\n",
              "       width=\"24px\">\n",
              "    <path d=\"M0 0h24v24H0V0z\" fill=\"none\"/>\n",
              "    <path d=\"M18.56 5.44l.94 2.06.94-2.06 2.06-.94-2.06-.94-.94-2.06-.94 2.06-2.06.94zm-11 1L8.5 8.5l.94-2.06 2.06-.94-2.06-.94L8.5 2.5l-.94 2.06-2.06.94zm10 10l.94 2.06.94-2.06 2.06-.94-2.06-.94-.94-2.06-.94 2.06-2.06.94z\"/><path d=\"M17.41 7.96l-1.37-1.37c-.4-.4-.92-.59-1.43-.59-.52 0-1.04.2-1.43.59L10.3 9.45l-7.72 7.72c-.78.78-.78 2.05 0 2.83L4 21.41c.39.39.9.59 1.41.59.51 0 1.02-.2 1.41-.59l7.78-7.78 2.81-2.81c.8-.78.8-2.07 0-2.86zM5.41 20L4 18.59l7.72-7.72 1.47 1.35L5.41 20z\"/>\n",
              "  </svg>\n",
              "      </button>\n",
              "      \n",
              "  <style>\n",
              "    .colab-df-container {\n",
              "      display:flex;\n",
              "      flex-wrap:wrap;\n",
              "      gap: 12px;\n",
              "    }\n",
              "\n",
              "    .colab-df-convert {\n",
              "      background-color: #E8F0FE;\n",
              "      border: none;\n",
              "      border-radius: 50%;\n",
              "      cursor: pointer;\n",
              "      display: none;\n",
              "      fill: #1967D2;\n",
              "      height: 32px;\n",
              "      padding: 0 0 0 0;\n",
              "      width: 32px;\n",
              "    }\n",
              "\n",
              "    .colab-df-convert:hover {\n",
              "      background-color: #E2EBFA;\n",
              "      box-shadow: 0px 1px 2px rgba(60, 64, 67, 0.3), 0px 1px 3px 1px rgba(60, 64, 67, 0.15);\n",
              "      fill: #174EA6;\n",
              "    }\n",
              "\n",
              "    [theme=dark] .colab-df-convert {\n",
              "      background-color: #3B4455;\n",
              "      fill: #D2E3FC;\n",
              "    }\n",
              "\n",
              "    [theme=dark] .colab-df-convert:hover {\n",
              "      background-color: #434B5C;\n",
              "      box-shadow: 0px 1px 3px 1px rgba(0, 0, 0, 0.15);\n",
              "      filter: drop-shadow(0px 1px 2px rgba(0, 0, 0, 0.3));\n",
              "      fill: #FFFFFF;\n",
              "    }\n",
              "  </style>\n",
              "\n",
              "      <script>\n",
              "        const buttonEl =\n",
              "          document.querySelector('#df-c1126090-12fd-4f53-ab1a-a050d43849f2 button.colab-df-convert');\n",
              "        buttonEl.style.display =\n",
              "          google.colab.kernel.accessAllowed ? 'block' : 'none';\n",
              "\n",
              "        async function convertToInteractive(key) {\n",
              "          const element = document.querySelector('#df-c1126090-12fd-4f53-ab1a-a050d43849f2');\n",
              "          const dataTable =\n",
              "            await google.colab.kernel.invokeFunction('convertToInteractive',\n",
              "                                                     [key], {});\n",
              "          if (!dataTable) return;\n",
              "\n",
              "          const docLinkHtml = 'Like what you see? Visit the ' +\n",
              "            '<a target=\"_blank\" href=https://colab.research.google.com/notebooks/data_table.ipynb>data table notebook</a>'\n",
              "            + ' to learn more about interactive tables.';\n",
              "          element.innerHTML = '';\n",
              "          dataTable['output_type'] = 'display_data';\n",
              "          await google.colab.output.renderOutput(dataTable, element);\n",
              "          const docLink = document.createElement('div');\n",
              "          docLink.innerHTML = docLinkHtml;\n",
              "          element.appendChild(docLink);\n",
              "        }\n",
              "      </script>\n",
              "    </div>\n",
              "  </div>\n",
              "  "
            ]
          },
          "metadata": {},
          "execution_count": 163
        }
      ]
    },
    {
      "cell_type": "code",
      "source": [
        "outages['kind']"
      ],
      "metadata": {
        "colab": {
          "base_uri": "https://localhost:8080/"
        },
        "id": "NZcrjZjOtxob",
        "outputId": "405f0e5a-9579-4e29-b73b-25d62834938d"
      },
      "execution_count": null,
      "outputs": [
        {
          "output_type": "execute_result",
          "data": {
            "text/plain": [
              "0        gen\n",
              "1       load\n",
              "2       load\n",
              "3        gen\n",
              "4      shunt\n",
              "       ...  \n",
              "108      gen\n",
              "109     load\n",
              "110     load\n",
              "111     load\n",
              "112     load\n",
              "Name: kind, Length: 113, dtype: object"
            ]
          },
          "metadata": {},
          "execution_count": 163
        }
      ]
    },
    {
      "cell_type": "code",
      "source": [
        "outages['otages_rand'].describe()"
      ],
      "metadata": {
        "colab": {
          "base_uri": "https://localhost:8080/"
        },
        "id": "_wU1ca1QzhMC",
        "outputId": "b7c66051-f7eb-424e-c430-695c73d9989e"
      },
      "execution_count": null,
      "outputs": [
        {
          "output_type": "execute_result",
          "data": {
            "text/plain": [
              "count    113.000000\n",
              "mean       0.091678\n",
              "std        0.031124\n",
              "min        0.078947\n",
              "25%        0.087719\n",
              "50%        0.087719\n",
              "75%        0.087719\n",
              "max        0.377193\n",
              "Name: otages_rand, dtype: float64"
            ]
          },
          "metadata": {},
          "execution_count": 99
        }
      ]
    },
    {
      "cell_type": "code",
      "source": [
        "outages[outages['otages_rand']>0.15]"
      ],
      "metadata": {
        "colab": {
          "base_uri": "https://localhost:8080/",
          "height": 292
        },
        "id": "Ye-jQhwFyebc",
        "outputId": "c137b55a-a8e7-419d-fe11-3ef5c9575d39"
      },
      "execution_count": null,
      "outputs": [
        {
          "output_type": "execute_result",
          "data": {
            "text/plain": [
              "   otages_rand_num kind  otages_rand  outage_link  \\\n",
              "48            [48]  gen     0.219298            0   \n",
              "75            [76]  gen     0.377193            0   \n",
              "98            [99]  gen     0.175439            0   \n",
              "\n",
              "                                         remove_nodes  \n",
              "48  {7, 8, 9, 25, 29, 37, 48, 49, 50, 51, 52, 53, ...  \n",
              "75  {7, 8, 9, 25, 29, 37, 62, 63, 64, 76, 77, 78, ...  \n",
              "98  {7, 8, 9, 25, 29, 37, 62, 63, 64, 99, 102, 103...  "
            ],
            "text/html": [
              "\n",
              "  <div id=\"df-fa4da4bb-dd61-4197-91ed-3b9f09e68b11\">\n",
              "    <div class=\"colab-df-container\">\n",
              "      <div>\n",
              "<style scoped>\n",
              "    .dataframe tbody tr th:only-of-type {\n",
              "        vertical-align: middle;\n",
              "    }\n",
              "\n",
              "    .dataframe tbody tr th {\n",
              "        vertical-align: top;\n",
              "    }\n",
              "\n",
              "    .dataframe thead th {\n",
              "        text-align: right;\n",
              "    }\n",
              "</style>\n",
              "<table border=\"1\" class=\"dataframe\">\n",
              "  <thead>\n",
              "    <tr style=\"text-align: right;\">\n",
              "      <th></th>\n",
              "      <th>otages_rand_num</th>\n",
              "      <th>kind</th>\n",
              "      <th>otages_rand</th>\n",
              "      <th>outage_link</th>\n",
              "      <th>remove_nodes</th>\n",
              "    </tr>\n",
              "  </thead>\n",
              "  <tbody>\n",
              "    <tr>\n",
              "      <th>48</th>\n",
              "      <td>[48]</td>\n",
              "      <td>gen</td>\n",
              "      <td>0.219298</td>\n",
              "      <td>0</td>\n",
              "      <td>{7, 8, 9, 25, 29, 37, 48, 49, 50, 51, 52, 53, ...</td>\n",
              "    </tr>\n",
              "    <tr>\n",
              "      <th>75</th>\n",
              "      <td>[76]</td>\n",
              "      <td>gen</td>\n",
              "      <td>0.377193</td>\n",
              "      <td>0</td>\n",
              "      <td>{7, 8, 9, 25, 29, 37, 62, 63, 64, 76, 77, 78, ...</td>\n",
              "    </tr>\n",
              "    <tr>\n",
              "      <th>98</th>\n",
              "      <td>[99]</td>\n",
              "      <td>gen</td>\n",
              "      <td>0.175439</td>\n",
              "      <td>0</td>\n",
              "      <td>{7, 8, 9, 25, 29, 37, 62, 63, 64, 99, 102, 103...</td>\n",
              "    </tr>\n",
              "  </tbody>\n",
              "</table>\n",
              "</div>\n",
              "      <button class=\"colab-df-convert\" onclick=\"convertToInteractive('df-fa4da4bb-dd61-4197-91ed-3b9f09e68b11')\"\n",
              "              title=\"Convert this dataframe to an interactive table.\"\n",
              "              style=\"display:none;\">\n",
              "        \n",
              "  <svg xmlns=\"http://www.w3.org/2000/svg\" height=\"24px\"viewBox=\"0 0 24 24\"\n",
              "       width=\"24px\">\n",
              "    <path d=\"M0 0h24v24H0V0z\" fill=\"none\"/>\n",
              "    <path d=\"M18.56 5.44l.94 2.06.94-2.06 2.06-.94-2.06-.94-.94-2.06-.94 2.06-2.06.94zm-11 1L8.5 8.5l.94-2.06 2.06-.94-2.06-.94L8.5 2.5l-.94 2.06-2.06.94zm10 10l.94 2.06.94-2.06 2.06-.94-2.06-.94-.94-2.06-.94 2.06-2.06.94z\"/><path d=\"M17.41 7.96l-1.37-1.37c-.4-.4-.92-.59-1.43-.59-.52 0-1.04.2-1.43.59L10.3 9.45l-7.72 7.72c-.78.78-.78 2.05 0 2.83L4 21.41c.39.39.9.59 1.41.59.51 0 1.02-.2 1.41-.59l7.78-7.78 2.81-2.81c.8-.78.8-2.07 0-2.86zM5.41 20L4 18.59l7.72-7.72 1.47 1.35L5.41 20z\"/>\n",
              "  </svg>\n",
              "      </button>\n",
              "      \n",
              "  <style>\n",
              "    .colab-df-container {\n",
              "      display:flex;\n",
              "      flex-wrap:wrap;\n",
              "      gap: 12px;\n",
              "    }\n",
              "\n",
              "    .colab-df-convert {\n",
              "      background-color: #E8F0FE;\n",
              "      border: none;\n",
              "      border-radius: 50%;\n",
              "      cursor: pointer;\n",
              "      display: none;\n",
              "      fill: #1967D2;\n",
              "      height: 32px;\n",
              "      padding: 0 0 0 0;\n",
              "      width: 32px;\n",
              "    }\n",
              "\n",
              "    .colab-df-convert:hover {\n",
              "      background-color: #E2EBFA;\n",
              "      box-shadow: 0px 1px 2px rgba(60, 64, 67, 0.3), 0px 1px 3px 1px rgba(60, 64, 67, 0.15);\n",
              "      fill: #174EA6;\n",
              "    }\n",
              "\n",
              "    [theme=dark] .colab-df-convert {\n",
              "      background-color: #3B4455;\n",
              "      fill: #D2E3FC;\n",
              "    }\n",
              "\n",
              "    [theme=dark] .colab-df-convert:hover {\n",
              "      background-color: #434B5C;\n",
              "      box-shadow: 0px 1px 3px 1px rgba(0, 0, 0, 0.15);\n",
              "      filter: drop-shadow(0px 1px 2px rgba(0, 0, 0, 0.3));\n",
              "      fill: #FFFFFF;\n",
              "    }\n",
              "  </style>\n",
              "\n",
              "      <script>\n",
              "        const buttonEl =\n",
              "          document.querySelector('#df-fa4da4bb-dd61-4197-91ed-3b9f09e68b11 button.colab-df-convert');\n",
              "        buttonEl.style.display =\n",
              "          google.colab.kernel.accessAllowed ? 'block' : 'none';\n",
              "\n",
              "        async function convertToInteractive(key) {\n",
              "          const element = document.querySelector('#df-fa4da4bb-dd61-4197-91ed-3b9f09e68b11');\n",
              "          const dataTable =\n",
              "            await google.colab.kernel.invokeFunction('convertToInteractive',\n",
              "                                                     [key], {});\n",
              "          if (!dataTable) return;\n",
              "\n",
              "          const docLinkHtml = 'Like what you see? Visit the ' +\n",
              "            '<a target=\"_blank\" href=https://colab.research.google.com/notebooks/data_table.ipynb>data table notebook</a>'\n",
              "            + ' to learn more about interactive tables.';\n",
              "          element.innerHTML = '';\n",
              "          dataTable['output_type'] = 'display_data';\n",
              "          await google.colab.output.renderOutput(dataTable, element);\n",
              "          const docLink = document.createElement('div');\n",
              "          docLink.innerHTML = docLinkHtml;\n",
              "          element.appendChild(docLink);\n",
              "        }\n",
              "      </script>\n",
              "    </div>\n",
              "  </div>\n",
              "  "
            ]
          },
          "metadata": {},
          "execution_count": 102
        }
      ]
    },
    {
      "cell_type": "code",
      "source": [
        "Net = Network();\n",
        "Net"
      ],
      "metadata": {
        "colab": {
          "base_uri": "https://localhost:8080/"
        },
        "id": "cUdEzw2b_woF",
        "outputId": "10b81212-afd4-44a5-e9ee-dea6b2822c49"
      },
      "execution_count": null,
      "outputs": [
        {
          "output_type": "execute_result",
          "data": {
            "text/plain": [
              "This pandapower network includes the following parameter tables:\n",
              "   - bus (30 elements)\n",
              "   - load (20 elements)\n",
              "   - gen (5 elements)\n",
              "   - shunt (2 elements)\n",
              "   - ext_grid (1 element)\n",
              "   - line (41 elements)\n",
              "   - poly_cost (6 elements)\n",
              "   - bus_geodata (30 elements)"
            ]
          },
          "metadata": {},
          "execution_count": 89
        }
      ]
    },
    {
      "cell_type": "code",
      "source": [
        "shunt = list(Net.shunt['bus'])\n",
        "load = list(Net.load['bus'])\n",
        "gen = list(Net.gen['bus'])\n",
        "ext_grid = list(Net.ext_grid['bus'])\n"
      ],
      "metadata": {
        "colab": {
          "base_uri": "https://localhost:8080/"
        },
        "id": "KFpJTL-u_5Ap",
        "outputId": "23ad95ca-e8da-4068-f794-d05ad7f49565"
      },
      "execution_count": null,
      "outputs": [
        {
          "output_type": "execute_result",
          "data": {
            "text/plain": [
              "[4, 23]"
            ]
          },
          "metadata": {},
          "execution_count": 96
        }
      ]
    },
    {
      "cell_type": "code",
      "source": [
        "Net.gen"
      ],
      "metadata": {
        "colab": {
          "base_uri": "https://localhost:8080/",
          "height": 206
        },
        "id": "Vwr5zyAqHNQr",
        "outputId": "58110cb8-b01d-455b-8af4-12c4bb72d1f4"
      },
      "execution_count": null,
      "outputs": [
        {
          "output_type": "execute_result",
          "data": {
            "text/plain": [
              "   bus  controllable  in_service  name   p_mw  scaling  sn_mva  type  vm_pu  \\\n",
              "0    1          True        True  None  60.97      1.0     NaN  None    1.0   \n",
              "1   21          True        True  None  21.59      1.0     NaN  None    1.0   \n",
              "2   26          True        True  None  26.91      1.0     NaN  None    1.0   \n",
              "3   22          True        True  None  19.20      1.0     NaN  None    1.0   \n",
              "4   12          True        True  None  37.00      1.0     NaN  None    1.0   \n",
              "\n",
              "   slack  max_p_mw  min_p_mw  max_q_mvar  min_q_mvar  slack_weight  \n",
              "0  False      80.0       0.0        60.0       -20.0           0.0  \n",
              "1  False      50.0       0.0        62.5       -15.0           0.0  \n",
              "2  False      55.0       0.0        48.7       -15.0           0.0  \n",
              "3  False      30.0       0.0        40.0       -10.0           0.0  \n",
              "4  False      40.0       0.0        44.7       -15.0           0.0  "
            ],
            "text/html": [
              "\n",
              "  <div id=\"df-3ccc68f0-ac8a-4d01-904f-5a75d6731b63\">\n",
              "    <div class=\"colab-df-container\">\n",
              "      <div>\n",
              "<style scoped>\n",
              "    .dataframe tbody tr th:only-of-type {\n",
              "        vertical-align: middle;\n",
              "    }\n",
              "\n",
              "    .dataframe tbody tr th {\n",
              "        vertical-align: top;\n",
              "    }\n",
              "\n",
              "    .dataframe thead th {\n",
              "        text-align: right;\n",
              "    }\n",
              "</style>\n",
              "<table border=\"1\" class=\"dataframe\">\n",
              "  <thead>\n",
              "    <tr style=\"text-align: right;\">\n",
              "      <th></th>\n",
              "      <th>bus</th>\n",
              "      <th>controllable</th>\n",
              "      <th>in_service</th>\n",
              "      <th>name</th>\n",
              "      <th>p_mw</th>\n",
              "      <th>scaling</th>\n",
              "      <th>sn_mva</th>\n",
              "      <th>type</th>\n",
              "      <th>vm_pu</th>\n",
              "      <th>slack</th>\n",
              "      <th>max_p_mw</th>\n",
              "      <th>min_p_mw</th>\n",
              "      <th>max_q_mvar</th>\n",
              "      <th>min_q_mvar</th>\n",
              "      <th>slack_weight</th>\n",
              "    </tr>\n",
              "  </thead>\n",
              "  <tbody>\n",
              "    <tr>\n",
              "      <th>0</th>\n",
              "      <td>1</td>\n",
              "      <td>True</td>\n",
              "      <td>True</td>\n",
              "      <td>None</td>\n",
              "      <td>60.97</td>\n",
              "      <td>1.0</td>\n",
              "      <td>NaN</td>\n",
              "      <td>None</td>\n",
              "      <td>1.0</td>\n",
              "      <td>False</td>\n",
              "      <td>80.0</td>\n",
              "      <td>0.0</td>\n",
              "      <td>60.0</td>\n",
              "      <td>-20.0</td>\n",
              "      <td>0.0</td>\n",
              "    </tr>\n",
              "    <tr>\n",
              "      <th>1</th>\n",
              "      <td>21</td>\n",
              "      <td>True</td>\n",
              "      <td>True</td>\n",
              "      <td>None</td>\n",
              "      <td>21.59</td>\n",
              "      <td>1.0</td>\n",
              "      <td>NaN</td>\n",
              "      <td>None</td>\n",
              "      <td>1.0</td>\n",
              "      <td>False</td>\n",
              "      <td>50.0</td>\n",
              "      <td>0.0</td>\n",
              "      <td>62.5</td>\n",
              "      <td>-15.0</td>\n",
              "      <td>0.0</td>\n",
              "    </tr>\n",
              "    <tr>\n",
              "      <th>2</th>\n",
              "      <td>26</td>\n",
              "      <td>True</td>\n",
              "      <td>True</td>\n",
              "      <td>None</td>\n",
              "      <td>26.91</td>\n",
              "      <td>1.0</td>\n",
              "      <td>NaN</td>\n",
              "      <td>None</td>\n",
              "      <td>1.0</td>\n",
              "      <td>False</td>\n",
              "      <td>55.0</td>\n",
              "      <td>0.0</td>\n",
              "      <td>48.7</td>\n",
              "      <td>-15.0</td>\n",
              "      <td>0.0</td>\n",
              "    </tr>\n",
              "    <tr>\n",
              "      <th>3</th>\n",
              "      <td>22</td>\n",
              "      <td>True</td>\n",
              "      <td>True</td>\n",
              "      <td>None</td>\n",
              "      <td>19.20</td>\n",
              "      <td>1.0</td>\n",
              "      <td>NaN</td>\n",
              "      <td>None</td>\n",
              "      <td>1.0</td>\n",
              "      <td>False</td>\n",
              "      <td>30.0</td>\n",
              "      <td>0.0</td>\n",
              "      <td>40.0</td>\n",
              "      <td>-10.0</td>\n",
              "      <td>0.0</td>\n",
              "    </tr>\n",
              "    <tr>\n",
              "      <th>4</th>\n",
              "      <td>12</td>\n",
              "      <td>True</td>\n",
              "      <td>True</td>\n",
              "      <td>None</td>\n",
              "      <td>37.00</td>\n",
              "      <td>1.0</td>\n",
              "      <td>NaN</td>\n",
              "      <td>None</td>\n",
              "      <td>1.0</td>\n",
              "      <td>False</td>\n",
              "      <td>40.0</td>\n",
              "      <td>0.0</td>\n",
              "      <td>44.7</td>\n",
              "      <td>-15.0</td>\n",
              "      <td>0.0</td>\n",
              "    </tr>\n",
              "  </tbody>\n",
              "</table>\n",
              "</div>\n",
              "      <button class=\"colab-df-convert\" onclick=\"convertToInteractive('df-3ccc68f0-ac8a-4d01-904f-5a75d6731b63')\"\n",
              "              title=\"Convert this dataframe to an interactive table.\"\n",
              "              style=\"display:none;\">\n",
              "        \n",
              "  <svg xmlns=\"http://www.w3.org/2000/svg\" height=\"24px\"viewBox=\"0 0 24 24\"\n",
              "       width=\"24px\">\n",
              "    <path d=\"M0 0h24v24H0V0z\" fill=\"none\"/>\n",
              "    <path d=\"M18.56 5.44l.94 2.06.94-2.06 2.06-.94-2.06-.94-.94-2.06-.94 2.06-2.06.94zm-11 1L8.5 8.5l.94-2.06 2.06-.94-2.06-.94L8.5 2.5l-.94 2.06-2.06.94zm10 10l.94 2.06.94-2.06 2.06-.94-2.06-.94-.94-2.06-.94 2.06-2.06.94z\"/><path d=\"M17.41 7.96l-1.37-1.37c-.4-.4-.92-.59-1.43-.59-.52 0-1.04.2-1.43.59L10.3 9.45l-7.72 7.72c-.78.78-.78 2.05 0 2.83L4 21.41c.39.39.9.59 1.41.59.51 0 1.02-.2 1.41-.59l7.78-7.78 2.81-2.81c.8-.78.8-2.07 0-2.86zM5.41 20L4 18.59l7.72-7.72 1.47 1.35L5.41 20z\"/>\n",
              "  </svg>\n",
              "      </button>\n",
              "      \n",
              "  <style>\n",
              "    .colab-df-container {\n",
              "      display:flex;\n",
              "      flex-wrap:wrap;\n",
              "      gap: 12px;\n",
              "    }\n",
              "\n",
              "    .colab-df-convert {\n",
              "      background-color: #E8F0FE;\n",
              "      border: none;\n",
              "      border-radius: 50%;\n",
              "      cursor: pointer;\n",
              "      display: none;\n",
              "      fill: #1967D2;\n",
              "      height: 32px;\n",
              "      padding: 0 0 0 0;\n",
              "      width: 32px;\n",
              "    }\n",
              "\n",
              "    .colab-df-convert:hover {\n",
              "      background-color: #E2EBFA;\n",
              "      box-shadow: 0px 1px 2px rgba(60, 64, 67, 0.3), 0px 1px 3px 1px rgba(60, 64, 67, 0.15);\n",
              "      fill: #174EA6;\n",
              "    }\n",
              "\n",
              "    [theme=dark] .colab-df-convert {\n",
              "      background-color: #3B4455;\n",
              "      fill: #D2E3FC;\n",
              "    }\n",
              "\n",
              "    [theme=dark] .colab-df-convert:hover {\n",
              "      background-color: #434B5C;\n",
              "      box-shadow: 0px 1px 3px 1px rgba(0, 0, 0, 0.15);\n",
              "      filter: drop-shadow(0px 1px 2px rgba(0, 0, 0, 0.3));\n",
              "      fill: #FFFFFF;\n",
              "    }\n",
              "  </style>\n",
              "\n",
              "      <script>\n",
              "        const buttonEl =\n",
              "          document.querySelector('#df-3ccc68f0-ac8a-4d01-904f-5a75d6731b63 button.colab-df-convert');\n",
              "        buttonEl.style.display =\n",
              "          google.colab.kernel.accessAllowed ? 'block' : 'none';\n",
              "\n",
              "        async function convertToInteractive(key) {\n",
              "          const element = document.querySelector('#df-3ccc68f0-ac8a-4d01-904f-5a75d6731b63');\n",
              "          const dataTable =\n",
              "            await google.colab.kernel.invokeFunction('convertToInteractive',\n",
              "                                                     [key], {});\n",
              "          if (!dataTable) return;\n",
              "\n",
              "          const docLinkHtml = 'Like what you see? Visit the ' +\n",
              "            '<a target=\"_blank\" href=https://colab.research.google.com/notebooks/data_table.ipynb>data table notebook</a>'\n",
              "            + ' to learn more about interactive tables.';\n",
              "          element.innerHTML = '';\n",
              "          dataTable['output_type'] = 'display_data';\n",
              "          await google.colab.output.renderOutput(dataTable, element);\n",
              "          const docLink = document.createElement('div');\n",
              "          docLink.innerHTML = docLinkHtml;\n",
              "          element.appendChild(docLink);\n",
              "        }\n",
              "      </script>\n",
              "    </div>\n",
              "  </div>\n",
              "  "
            ]
          },
          "metadata": {},
          "execution_count": 102
        }
      ]
    },
    {
      "cell_type": "code",
      "source": [
        "Net"
      ],
      "metadata": {
        "colab": {
          "base_uri": "https://localhost:8080/"
        },
        "id": "TA1ou2lQKc3w",
        "outputId": "3c55f7dd-274d-4c3d-f10e-c8a95a97c00a"
      },
      "execution_count": null,
      "outputs": [
        {
          "output_type": "execute_result",
          "data": {
            "text/plain": [
              "This pandapower network includes the following parameter tables:\n",
              "   - bus (2866 elements)\n",
              "   - load (1309 elements)\n",
              "   - sgen (179 elements)\n",
              "   - gen (509 elements)\n",
              "   - shunt (2194 elements)\n",
              "   - ext_grid (1 element)\n",
              "   - line (4046 elements)\n",
              "   - trafo (530 elements)\n",
              "   - poly_cost (510 elements)\n",
              "   - bus_geodata (2866 elements)\n",
              " and the following results tables:\n",
              "   - res_bus (2866 elements)\n",
              "   - res_line (4046 elements)\n",
              "   - res_trafo (530 elements)\n",
              "   - res_ext_grid (1 element)\n",
              "   - res_load (1309 elements)\n",
              "   - res_sgen (179 elements)\n",
              "   - res_shunt (2194 elements)\n",
              "   - res_gen (509 elements)"
            ]
          },
          "metadata": {},
          "execution_count": 72
        }
      ]
    },
    {
      "cell_type": "markdown",
      "source": [
        "# Graph"
      ],
      "metadata": {
        "id": "2ssTBeK_9KZV"
      }
    },
    {
      "cell_type": "markdown",
      "source": [
        "# Implemetation"
      ],
      "metadata": {
        "id": "6mWSNC949MLq"
      }
    },
    {
      "cell_type": "code",
      "source": [
        "import matplotlib.pyplot as plt\n"
      ],
      "metadata": {
        "id": "iNrc_eKH_S5L"
      },
      "execution_count": null,
      "outputs": []
    },
    {
      "cell_type": "code",
      "source": [
        "g = nx.Graph()\n",
        "g.add_edges_from(edges)\n",
        "pos = nx.spring_layout(g, seed=3068)  # Seed layout for reproducibility\n",
        "g.remove_node(h)\n",
        "plt.figure(figsize=(12,12))\n",
        "nx.draw(g,pos=pos,with_labels=True)\n",
        "plt.show()"
      ],
      "metadata": {
        "id": "XOhx48nTTcLS"
      },
      "execution_count": null,
      "outputs": []
    },
    {
      "cell_type": "code",
      "source": [
        "edges"
      ],
      "metadata": {
        "id": "ToUamnvn9PO5"
      },
      "execution_count": null,
      "outputs": []
    },
    {
      "cell_type": "code",
      "source": [
        "g = nx.Graph()\n",
        "g.add_edges_from(edges)\n"
      ],
      "metadata": {
        "id": "aCR55l7C9W8U"
      },
      "execution_count": null,
      "outputs": []
    },
    {
      "cell_type": "code",
      "source": [
        "pos = nx.spring_layout(g, seed=3068)  # Seed layout for reproducibility"
      ],
      "metadata": {
        "id": "qlejy0CySOez"
      },
      "execution_count": null,
      "outputs": []
    },
    {
      "cell_type": "code",
      "source": [
        "plt.figure(figsize=(12,12))\n",
        "nx.draw(g,pos=pos,with_labels=True)\n",
        "plt.show()"
      ],
      "metadata": {
        "colab": {
          "base_uri": "https://localhost:8080/",
          "height": 895
        },
        "id": "uQc4jDZW9lBh",
        "outputId": "6ffe2aa1-6a2d-441a-d18f-2f61f19554b4"
      },
      "execution_count": null,
      "outputs": [
        {
          "output_type": "display_data",
          "data": {
            "text/plain": [
              "<Figure size 864x864 with 1 Axes>"
            ],
            "image/png": "[encoded data removed]"
          },
          "metadata": {}
        }
      ]
    },
    {
      "cell_type": "code",
      "source": [
        "Gcc = sorted(nx.connected_components(g), key=len, reverse=True)\n",
        "Gcc"
      ],
      "metadata": {
        "id": "EVilyZEeEv5y"
      },
      "execution_count": null,
      "outputs": []
    },
    {
      "cell_type": "code",
      "source": [
        "O0 = Gcc[1]\n",
        "O0"
      ],
      "metadata": {
        "colab": {
          "base_uri": "https://localhost:8080/"
        },
        "id": "pZOQkudHGgJK",
        "outputId": "d4789226-fbdb-4fc1-c5da-d06cb58c83fb"
      },
      "execution_count": null,
      "outputs": [
        {
          "output_type": "execute_result",
          "data": {
            "text/plain": [
              "{7, 8, 9, 25, 29, 37, 62, 63, 64}"
            ]
          },
          "metadata": {},
          "execution_count": 185
        }
      ]
    },
    {
      "cell_type": "code",
      "source": [
        "O1 = list(Net.gen['bus'])"
      ],
      "metadata": {
        "id": "r-ZJXaeqGL_I"
      },
      "execution_count": null,
      "outputs": []
    },
    {
      "cell_type": "code",
      "source": [
        "for i in O1:\n",
        "    if i in O0:\n",
        "        print(i)"
      ],
      "metadata": {
        "colab": {
          "base_uri": "https://localhost:8080/"
        },
        "id": "C6Mq59rIGm_1",
        "outputId": "7bfff2c0-0ec2-42c6-ef2c-63b28e696dac"
      },
      "execution_count": null,
      "outputs": [
        {
          "output_type": "stream",
          "name": "stdout",
          "text": [
            "7\n",
            "9\n",
            "25\n",
            "64\n"
          ]
        }
      ]
    },
    {
      "cell_type": "code",
      "source": [
        "largest_cc = max(nx.connected_components(g), key=len)\n",
        "largest_cc"
      ],
      "metadata": {
        "id": "yk4vW7SnFYKK"
      },
      "execution_count": null,
      "outputs": []
    },
    {
      "cell_type": "code",
      "source": [
        "Gcc = sorted(nx.connected_components(g), key=len, reverse=True)\n",
        "G0 = g.subgraph(Gcc[0])"
      ],
      "metadata": {
        "id": "qsOmYFDZCJZs"
      },
      "execution_count": null,
      "outputs": []
    },
    {
      "cell_type": "code",
      "source": [
        "plt.figure(figsize=(12,12))\n",
        "nx.draw(G0,pos=pos,with_labels=True)\n",
        "plt.show()"
      ],
      "metadata": {
        "colab": {
          "base_uri": "https://localhost:8080/",
          "height": 895
        },
        "id": "-7Zyw5y4COBS",
        "outputId": "34486825-5726-42c5-9df4-b6dbc8530d0b"
      },
      "execution_count": null,
      "outputs": [
        {
          "output_type": "display_data",
          "data": {
            "text/plain": [
              "<Figure size 864x864 with 1 Axes>"
            ],
            "image/png": "[encoded data removed]"
          },
          "metadata": {}
        }
      ]
    },
    {
      "cell_type": "code",
      "source": [
        "G = nx.Graph()\n",
        "G.add_edges_from(edges)\n",
        "pathlengths = []\n",
        "\n",
        "print(\"source vertex {target:length, }\")\n",
        "for v in G.nodes():\n",
        "    spl = dict(nx.single_source_shortest_path_length(G, v))\n",
        "    print(f\"{v} {spl} \")\n",
        "    for p in spl:\n",
        "        pathlengths.append(spl[p])\n",
        "\n",
        "print()\n",
        "print(f\"average shortest path length {sum(pathlengths) / len(pathlengths)}\")\n",
        "\n",
        "# histogram of path lengths\n",
        "dist = {}\n",
        "for p in pathlengths:\n",
        "    if p in dist:\n",
        "        dist[p] += 1\n",
        "    else:\n",
        "        dist[p] = 1\n",
        "\n",
        "print()\n",
        "print(\"with lenght X we have y path\")\n",
        "verts = dist.keys()\n",
        "for d in sorted(verts):\n",
        "    print(f\"{d} {dist[d]}\")\n",
        "\n",
        "# print(f\"radius: {nx.radius(G)}\")\n",
        "# print(f\"diameter: {nx.diameter(G)}\") #maximum lenght\n",
        "# print(f\"eccentricity: {nx.eccentricity(G)}\")\n",
        "# print(f\"center: {nx.center(G)}\")\n",
        "# print(f\"periphery: {nx.periphery(G)}\") # nodes with max lenght\n",
        "# print(f\"density: {nx.density(G)}\")\n",
        "\n",
        "pos = nx.spring_layout(G, seed=3068)  # Seed layout for reproducibility\n",
        "\n",
        "# options = {\n",
        "#     \"node_color\": \"#A0CBE2\",\n",
        "#     \"edge_color\": \"#A4CBE2\",\n",
        "#     \"width\": 4,\n",
        "#     \"edge_cmap\": plt.cm.Blues,\n",
        "#     \"with_labels\": False,\n",
        "# }\n",
        "# nx.draw(G, pos=pos, **options)\n",
        "\n",
        "nx.draw(G, pos=pos, with_labels=True,width=1,node_size=2)\n",
        "plt.show()\n",
        "# atlas(G)\n"
      ],
      "metadata": {
        "colab": {
          "base_uri": "https://localhost:8080/",
          "height": 1000
        },
        "id": "0IWkLLVa95W7",
        "outputId": "ecb6bfad-cb04-4165-cfc7-2e2e6dd99e7c"
      },
      "execution_count": null,
      "outputs": [
        {
          "output_type": "stream",
          "name": "stdout",
          "text": [
            "source vertex {target:length, }\n",
            "0 {0: 0, 1: 1, 2: 1, 11: 2, 4: 2, 3: 3, 5: 3, 6: 3, 10: 3, 13: 3, 15: 3, 116: 3, 12: 4, 14: 4, 16: 4, 32: 5, 17: 5, 18: 5, 112: 5, 30: 5, 33: 6, 36: 6, 19: 6, 28: 6, 31: 6, 34: 7, 35: 7, 38: 7, 39: 7, 42: 7, 113: 7, 20: 7, 22: 7, 26: 7, 27: 7, 40: 8, 41: 8, 43: 8, 114: 8, 21: 8, 23: 8, 24: 8, 69: 9, 71: 9, 44: 9, 48: 9, 65: 10, 68: 10, 70: 10, 73: 10, 74: 10, 45: 10, 46: 10, 47: 10, 49: 10, 50: 10, 53: 10, 51: 11, 52: 11, 54: 11, 55: 11, 56: 11, 57: 11, 58: 11, 61: 11, 66: 11, 72: 11, 76: 11, 117: 11, 59: 12, 60: 12, 75: 12, 77: 12, 79: 12, 81: 12, 96: 13, 97: 13, 98: 13, 78: 13, 82: 13, 95: 13, 99: 14, 83: 14, 84: 14, 93: 14, 94: 14, 100: 15, 102: 15, 103: 15, 105: 15, 85: 15, 87: 15, 88: 15, 91: 15, 92: 15, 101: 16, 104: 16, 106: 16, 109: 16, 89: 16, 90: 16, 107: 17, 108: 17, 110: 17, 111: 17} \n",
            "1 {1: 0, 0: 1, 11: 1, 2: 2, 6: 2, 10: 2, 13: 2, 15: 2, 116: 2, 3: 3, 4: 3, 5: 3, 12: 3, 14: 3, 16: 3, 32: 4, 17: 4, 18: 4, 112: 4, 30: 4, 33: 5, 36: 5, 19: 5, 28: 5, 31: 5, 34: 6, 35: 6, 38: 6, 39: 6, 42: 6, 113: 6, 20: 6, 22: 6, 26: 6, 27: 6, 40: 7, 41: 7, 43: 7, 114: 7, 21: 7, 23: 7, 24: 7, 69: 8, 71: 8, 44: 8, 48: 8, 65: 9, 68: 9, 70: 9, 73: 9, 74: 9, 45: 9, 46: 9, 47: 9, 49: 9, 50: 9, 53: 9, 51: 10, 52: 10, 54: 10, 55: 10, 56: 10, 57: 10, 58: 10, 61: 10, 66: 10, 72: 10, 76: 10, 117: 10, 59: 11, 60: 11, 75: 11, 77: 11, 79: 11, 81: 11, 96: 12, 97: 12, 98: 12, 78: 12, 82: 12, 95: 12, 99: 13, 83: 13, 84: 13, 93: 13, 94: 13, 100: 14, 102: 14, 103: 14, 105: 14, 85: 14, 87: 14, 88: 14, 91: 14, 92: 14, 101: 15, 104: 15, 106: 15, 109: 15, 89: 15, 90: 15, 107: 16, 108: 16, 110: 16, 111: 16} \n",
            "2 {2: 0, 0: 1, 11: 1, 4: 1, 1: 2, 3: 2, 5: 2, 6: 2, 10: 2, 13: 2, 15: 2, 116: 2, 12: 3, 14: 3, 16: 3, 32: 4, 17: 4, 18: 4, 112: 4, 30: 4, 33: 5, 36: 5, 19: 5, 28: 5, 31: 5, 34: 6, 35: 6, 38: 6, 39: 6, 42: 6, 113: 6, 20: 6, 22: 6, 26: 6, 27: 6, 40: 7, 41: 7, 43: 7, 114: 7, 21: 7, 23: 7, 24: 7, 69: 8, 71: 8, 44: 8, 48: 8, 65: 9, 68: 9, 70: 9, 73: 9, 74: 9, 45: 9, 46: 9, 47: 9, 49: 9, 50: 9, 53: 9, 51: 10, 52: 10, 54: 10, 55: 10, 56: 10, 57: 10, 58: 10, 61: 10, 66: 10, 72: 10, 76: 10, 117: 10, 59: 11, 60: 11, 75: 11, 77: 11, 79: 11, 81: 11, 96: 12, 97: 12, 98: 12, 78: 12, 82: 12, 95: 12, 99: 13, 83: 13, 84: 13, 93: 13, 94: 13, 100: 14, 102: 14, 103: 14, 105: 14, 85: 14, 87: 14, 88: 14, 91: 14, 92: 14, 101: 15, 104: 15, 106: 15, 109: 15, 89: 15, 90: 15, 107: 16, 108: 16, 110: 16, 111: 16} \n",
            "3 {3: 0, 10: 1, 4: 1, 2: 2, 5: 2, 11: 2, 12: 2, 0: 3, 1: 3, 6: 3, 13: 3, 14: 3, 15: 3, 116: 3, 32: 4, 16: 4, 18: 4, 33: 5, 36: 5, 112: 5, 17: 5, 19: 5, 30: 5, 34: 6, 35: 6, 38: 6, 39: 6, 42: 6, 20: 6, 28: 6, 31: 6, 40: 7, 41: 7, 43: 7, 113: 7, 21: 7, 22: 7, 26: 7, 27: 7, 44: 8, 48: 8, 114: 8, 23: 8, 24: 8, 65: 9, 68: 9, 69: 9, 71: 9, 45: 9, 46: 9, 47: 9, 49: 9, 50: 9, 53: 9, 51: 10, 52: 10, 54: 10, 55: 10, 56: 10, 57: 10, 58: 10, 61: 10, 66: 10, 70: 10, 73: 10, 74: 10, 76: 10, 59: 11, 60: 11, 72: 11, 75: 11, 77: 11, 79: 11, 81: 11, 117: 11, 96: 12, 97: 12, 98: 12, 78: 12, 82: 12, 95: 12, 99: 13, 83: 13, 84: 13, 93: 13, 94: 13, 100: 14, 102: 14, 103: 14, 105: 14, 85: 14, 87: 14, 88: 14, 91: 14, 92: 14, 101: 15, 104: 15, 106: 15, 109: 15, 89: 15, 90: 15, 107: 16, 108: 16, 110: 16, 111: 16} \n",
            "4 {4: 0, 10: 1, 2: 1, 3: 1, 5: 1, 0: 2, 6: 2, 11: 2, 12: 2, 1: 3, 13: 3, 14: 3, 15: 3, 116: 3, 32: 4, 16: 4, 18: 4, 33: 5, 36: 5, 112: 5, 17: 5, 19: 5, 30: 5, 34: 6, 35: 6, 38: 6, 39: 6, 42: 6, 20: 6, 28: 6, 31: 6, 40: 7, 41: 7, 43: 7, 113: 7, 21: 7, 22: 7, 26: 7, 27: 7, 44: 8, 48: 8, 114: 8, 23: 8, 24: 8, 65: 9, 68: 9, 69: 9, 71: 9, 45: 9, 46: 9, 47: 9, 49: 9, 50: 9, 53: 9, 51: 10, 52: 10, 54: 10, 55: 10, 56: 10, 57: 10, 58: 10, 61: 10, 66: 10, 70: 10, 73: 10, 74: 10, 76: 10, 59: 11, 60: 11, 72: 11, 75: 11, 77: 11, 79: 11, 81: 11, 117: 11, 96: 12, 97: 12, 98: 12, 78: 12, 82: 12, 95: 12, 99: 13, 83: 13, 84: 13, 93: 13, 94: 13, 100: 14, 102: 14, 103: 14, 105: 14, 85: 14, 87: 14, 88: 14, 91: 14, 92: 14, 101: 15, 104: 15, 106: 15, 109: 15, 89: 15, 90: 15, 107: 16, 108: 16, 110: 16, 111: 16} \n",
            "5 {5: 0, 4: 1, 6: 1, 2: 2, 3: 2, 10: 2, 11: 2, 0: 3, 1: 3, 12: 3, 13: 3, 15: 3, 116: 3, 14: 4, 16: 4, 32: 5, 17: 5, 18: 5, 112: 5, 30: 5, 33: 6, 36: 6, 19: 6, 28: 6, 31: 6, 34: 7, 35: 7, 38: 7, 39: 7, 42: 7, 113: 7, 20: 7, 22: 7, 26: 7, 27: 7, 40: 8, 41: 8, 43: 8, 114: 8, 21: 8, 23: 8, 24: 8, 69: 9, 71: 9, 44: 9, 48: 9, 65: 10, 68: 10, 70: 10, 73: 10, 74: 10, 45: 10, 46: 10, 47: 10, 49: 10, 50: 10, 53: 10, 51: 11, 52: 11, 54: 11, 55: 11, 56: 11, 57: 11, 58: 11, 61: 11, 66: 11, 72: 11, 76: 11, 117: 11, 59: 12, 60: 12, 75: 12, 77: 12, 79: 12, 81: 12, 96: 13, 97: 13, 98: 13, 78: 13, 82: 13, 95: 13, 99: 14, 83: 14, 84: 14, 93: 14, 94: 14, 100: 15, 102: 15, 103: 15, 105: 15, 85: 15, 87: 15, 88: 15, 91: 15, 92: 15, 101: 16, 104: 16, 106: 16, 109: 16, 89: 16, 90: 16, 107: 17, 108: 17, 110: 17, 111: 17} \n",
            "6 {6: 0, 11: 1, 5: 1, 1: 2, 2: 2, 4: 2, 10: 2, 13: 2, 15: 2, 116: 2, 0: 3, 3: 3, 12: 3, 14: 3, 16: 3, 32: 4, 17: 4, 18: 4, 112: 4, 30: 4, 33: 5, 36: 5, 19: 5, 28: 5, 31: 5, 34: 6, 35: 6, 38: 6, 39: 6, 42: 6, 113: 6, 20: 6, 22: 6, 26: 6, 27: 6, 40: 7, 41: 7, 43: 7, 114: 7, 21: 7, 23: 7, 24: 7, 69: 8, 71: 8, 44: 8, 48: 8, 65: 9, 68: 9, 70: 9, 73: 9, 74: 9, 45: 9, 46: 9, 47: 9, 49: 9, 50: 9, 53: 9, 51: 10, 52: 10, 54: 10, 55: 10, 56: 10, 57: 10, 58: 10, 61: 10, 66: 10, 72: 10, 76: 10, 117: 10, 59: 11, 60: 11, 75: 11, 77: 11, 79: 11, 81: 11, 96: 12, 97: 12, 98: 12, 78: 12, 82: 12, 95: 12, 99: 13, 83: 13, 84: 13, 93: 13, 94: 13, 100: 14, 102: 14, 103: 14, 105: 14, 85: 14, 87: 14, 88: 14, 91: 14, 92: 14, 101: 15, 104: 15, 106: 15, 109: 15, 89: 15, 90: 15, 107: 16, 108: 16, 110: 16, 111: 16} \n",
            "7 {7: 0, 8: 1, 29: 1, 9: 2, 37: 2, 25: 2, 64: 3, 63: 4, 62: 5} \n",
            "8 {8: 0, 9: 1, 7: 1, 29: 2, 25: 3, 37: 3, 64: 4, 63: 5, 62: 6} \n",
            "9 {9: 0, 8: 1, 7: 2, 29: 3, 25: 4, 37: 4, 64: 5, 63: 6, 62: 7} \n",
            "10 {10: 0, 11: 1, 3: 1, 4: 1, 12: 1, 1: 2, 2: 2, 5: 2, 6: 2, 13: 2, 14: 2, 15: 2, 116: 2, 0: 3, 32: 3, 16: 3, 18: 3, 33: 4, 36: 4, 112: 4, 17: 4, 19: 4, 30: 4, 34: 5, 35: 5, 38: 5, 39: 5, 42: 5, 20: 5, 28: 5, 31: 5, 40: 6, 41: 6, 43: 6, 113: 6, 21: 6, 22: 6, 26: 6, 27: 6, 44: 7, 48: 7, 114: 7, 23: 7, 24: 7, 65: 8, 68: 8, 69: 8, 71: 8, 45: 8, 46: 8, 47: 8, 49: 8, 50: 8, 53: 8, 51: 9, 52: 9, 54: 9, 55: 9, 56: 9, 57: 9, 58: 9, 61: 9, 66: 9, 70: 9, 73: 9, 74: 9, 76: 9, 59: 10, 60: 10, 72: 10, 75: 10, 77: 10, 79: 10, 81: 10, 117: 10, 96: 11, 97: 11, 98: 11, 78: 11, 82: 11, 95: 11, 99: 12, 83: 12, 84: 12, 93: 12, 94: 12, 100: 13, 102: 13, 103: 13, 105: 13, 85: 13, 87: 13, 88: 13, 91: 13, 92: 13, 101: 14, 104: 14, 106: 14, 109: 14, 89: 14, 90: 14, 107: 15, 108: 15, 110: 15, 111: 15} \n",
            "11 {11: 0, 1: 1, 2: 1, 6: 1, 10: 1, 13: 1, 15: 1, 116: 1, 0: 2, 3: 2, 4: 2, 5: 2, 12: 2, 14: 2, 16: 2, 32: 3, 17: 3, 18: 3, 112: 3, 30: 3, 33: 4, 36: 4, 19: 4, 28: 4, 31: 4, 34: 5, 35: 5, 38: 5, 39: 5, 42: 5, 113: 5, 20: 5, 22: 5, 26: 5, 27: 5, 40: 6, 41: 6, 43: 6, 114: 6, 21: 6, 23: 6, 24: 6, 69: 7, 71: 7, 44: 7, 48: 7, 65: 8, 68: 8, 70: 8, 73: 8, 74: 8, 45: 8, 46: 8, 47: 8, 49: 8, 50: 8, 53: 8, 51: 9, 52: 9, 54: 9, 55: 9, 56: 9, 57: 9, 58: 9, 61: 9, 66: 9, 72: 9, 76: 9, 117: 9, 59: 10, 60: 10, 75: 10, 77: 10, 79: 10, 81: 10, 96: 11, 97: 11, 98: 11, 78: 11, 82: 11, 95: 11, 99: 12, 83: 12, 84: 12, 93: 12, 94: 12, 100: 13, 102: 13, 103: 13, 105: 13, 85: 13, 87: 13, 88: 13, 91: 13, 92: 13, 101: 14, 104: 14, 106: 14, 109: 14, 89: 14, 90: 14, 107: 15, 108: 15, 110: 15, 111: 15} \n",
            "12 {12: 0, 10: 1, 14: 1, 32: 2, 3: 2, 4: 2, 11: 2, 13: 2, 16: 2, 18: 2, 1: 3, 2: 3, 36: 3, 5: 3, 6: 3, 33: 3, 15: 3, 112: 3, 17: 3, 19: 3, 116: 3, 30: 3, 0: 4, 34: 4, 38: 4, 39: 4, 35: 4, 42: 4, 20: 4, 28: 4, 31: 4, 21: 5, 22: 5, 26: 5, 27: 5, 40: 5, 41: 5, 43: 5, 113: 5, 44: 6, 48: 6, 114: 6, 23: 6, 24: 6, 65: 7, 68: 7, 69: 7, 71: 7, 45: 7, 46: 7, 47: 7, 49: 7, 50: 7, 53: 7, 51: 8, 52: 8, 54: 8, 55: 8, 56: 8, 57: 8, 58: 8, 61: 8, 66: 8, 70: 8, 73: 8, 74: 8, 76: 8, 59: 9, 60: 9, 72: 9, 75: 9, 77: 9, 79: 9, 81: 9, 117: 9, 96: 10, 97: 10, 98: 10, 78: 10, 82: 10, 95: 10, 99: 11, 83: 11, 84: 11, 93: 11, 94: 11, 100: 12, 102: 12, 103: 12, 105: 12, 85: 12, 87: 12, 88: 12, 91: 12, 92: 12, 101: 13, 104: 13, 106: 13, 109: 13, 89: 13, 90: 13, 107: 14, 108: 14, 110: 14, 111: 14} \n",
            "13 {13: 0, 11: 1, 14: 1, 32: 2, 1: 2, 2: 2, 6: 2, 10: 2, 12: 2, 15: 2, 16: 2, 18: 2, 116: 2, 0: 3, 33: 3, 3: 3, 36: 3, 4: 3, 5: 3, 17: 3, 112: 3, 19: 3, 30: 3, 20: 4, 28: 4, 31: 4, 34: 4, 35: 4, 38: 4, 39: 4, 42: 4, 40: 5, 41: 5, 43: 5, 113: 5, 21: 5, 22: 5, 26: 5, 27: 5, 44: 6, 48: 6, 114: 6, 23: 6, 24: 6, 65: 7, 68: 7, 69: 7, 71: 7, 45: 7, 46: 7, 47: 7, 49: 7, 50: 7, 53: 7, 51: 8, 52: 8, 54: 8, 55: 8, 56: 8, 57: 8, 58: 8, 61: 8, 66: 8, 70: 8, 73: 8, 74: 8, 76: 8, 59: 9, 60: 9, 72: 9, 75: 9, 77: 9, 79: 9, 81: 9, 117: 9, 96: 10, 97: 10, 98: 10, 78: 10, 82: 10, 95: 10, 99: 11, 83: 11, 84: 11, 93: 11, 94: 11, 100: 12, 102: 12, 103: 12, 105: 12, 85: 12, 87: 12, 88: 12, 91: 12, 92: 12, 101: 13, 104: 13, 106: 13, 109: 13, 89: 13, 90: 13, 107: 14, 108: 14, 110: 14, 111: 14} \n",
            "14 {14: 0, 32: 1, 12: 1, 13: 1, 16: 1, 18: 1, 33: 2, 36: 2, 10: 2, 11: 2, 15: 2, 112: 2, 17: 2, 19: 2, 30: 2, 1: 3, 2: 3, 3: 3, 4: 3, 6: 3, 20: 3, 28: 3, 31: 3, 34: 3, 35: 3, 38: 3, 39: 3, 42: 3, 116: 3, 0: 4, 5: 4, 21: 4, 22: 4, 26: 4, 27: 4, 40: 4, 41: 4, 43: 4, 113: 4, 23: 5, 24: 5, 44: 5, 48: 5, 114: 5, 65: 6, 68: 6, 69: 6, 71: 6, 45: 6, 46: 6, 47: 6, 49: 6, 50: 6, 53: 6, 51: 7, 52: 7, 54: 7, 55: 7, 56: 7, 57: 7, 58: 7, 61: 7, 66: 7, 70: 7, 73: 7, 74: 7, 76: 7, 59: 8, 60: 8, 72: 8, 75: 8, 77: 8, 79: 8, 81: 8, 117: 8, 96: 9, 97: 9, 98: 9, 78: 9, 82: 9, 95: 9, 99: 10, 83: 10, 84: 10, 93: 10, 94: 10, 100: 11, 102: 11, 103: 11, 105: 11, 85: 11, 87: 11, 88: 11, 91: 11, 92: 11, 101: 12, 104: 12, 106: 12, 109: 12, 89: 12, 90: 12, 107: 13, 108: 13, 110: 13, 111: 13} \n",
            "15 {15: 0, 16: 1, 11: 1, 1: 2, 2: 2, 6: 2, 10: 2, 13: 2, 14: 2, 112: 2, 17: 2, 116: 2, 30: 2, 0: 3, 32: 3, 3: 3, 4: 3, 5: 3, 12: 3, 18: 3, 28: 3, 31: 3, 36: 4, 33: 4, 113: 4, 19: 4, 22: 4, 26: 4, 27: 4, 34: 5, 35: 5, 38: 5, 39: 5, 42: 5, 114: 5, 20: 5, 21: 5, 23: 5, 24: 5, 69: 6, 40: 6, 41: 6, 71: 6, 43: 6, 68: 7, 70: 7, 73: 7, 74: 7, 44: 7, 48: 7, 45: 8, 46: 8, 47: 8, 49: 8, 50: 8, 53: 8, 65: 8, 72: 8, 76: 8, 117: 8, 51: 9, 52: 9, 54: 9, 55: 9, 56: 9, 57: 9, 58: 9, 61: 9, 66: 9, 75: 9, 77: 9, 79: 9, 81: 9, 59: 10, 60: 10, 78: 10, 82: 10, 95: 10, 96: 10, 97: 10, 98: 10, 99: 11, 83: 11, 84: 11, 93: 11, 94: 11, 100: 12, 102: 12, 103: 12, 105: 12, 85: 12, 87: 12, 88: 12, 91: 12, 92: 12, 101: 13, 104: 13, 106: 13, 109: 13, 89: 13, 90: 13, 107: 14, 108: 14, 110: 14, 111: 14} \n",
            "16 {16: 0, 14: 1, 15: 1, 112: 1, 17: 1, 30: 1, 32: 2, 11: 2, 12: 2, 13: 2, 18: 2, 28: 2, 31: 2, 1: 3, 2: 3, 6: 3, 10: 3, 19: 3, 22: 3, 26: 3, 27: 3, 33: 3, 36: 3, 113: 3, 116: 3, 0: 4, 3: 4, 4: 4, 5: 4, 20: 4, 21: 4, 23: 4, 24: 4, 34: 4, 35: 4, 38: 4, 39: 4, 42: 4, 114: 4, 40: 5, 41: 5, 43: 5, 69: 5, 71: 5, 68: 6, 70: 6, 73: 6, 44: 6, 74: 6, 48: 6, 45: 7, 46: 7, 47: 7, 49: 7, 50: 7, 53: 7, 65: 7, 72: 7, 76: 7, 117: 7, 51: 8, 52: 8, 54: 8, 55: 8, 56: 8, 57: 8, 58: 8, 61: 8, 66: 8, 75: 8, 77: 8, 79: 8, 81: 8, 59: 9, 60: 9, 78: 9, 82: 9, 95: 9, 96: 9, 97: 9, 98: 9, 99: 10, 83: 10, 84: 10, 93: 10, 94: 10, 100: 11, 102: 11, 103: 11, 105: 11, 85: 11, 87: 11, 88: 11, 91: 11, 92: 11, 101: 12, 104: 12, 106: 12, 109: 12, 89: 12, 90: 12, 107: 13, 108: 13, 110: 13, 111: 13} \n",
            "17 {17: 0, 16: 1, 18: 1, 33: 2, 14: 2, 15: 2, 112: 2, 19: 2, 30: 2, 32: 3, 35: 3, 36: 3, 42: 3, 11: 3, 12: 3, 13: 3, 20: 3, 28: 3, 31: 3, 1: 4, 2: 4, 6: 4, 10: 4, 21: 4, 22: 4, 26: 4, 27: 4, 34: 4, 38: 4, 39: 4, 43: 4, 113: 4, 116: 4, 0: 5, 3: 5, 4: 5, 5: 5, 23: 5, 24: 5, 40: 5, 41: 5, 44: 5, 114: 5, 69: 6, 71: 6, 45: 6, 48: 6, 65: 7, 68: 7, 70: 7, 73: 7, 74: 7, 46: 7, 47: 7, 49: 7, 50: 7, 53: 7, 51: 8, 52: 8, 54: 8, 55: 8, 56: 8, 57: 8, 58: 8, 61: 8, 66: 8, 72: 8, 76: 8, 117: 8, 59: 9, 60: 9, 75: 9, 77: 9, 79: 9, 81: 9, 96: 10, 97: 10, 98: 10, 78: 10, 82: 10, 95: 10, 99: 11, 83: 11, 84: 11, 93: 11, 94: 11, 100: 12, 102: 12, 103: 12, 105: 12, 85: 12, 87: 12, 88: 12, 91: 12, 92: 12, 101: 13, 104: 13, 106: 13, 109: 13, 89: 13, 90: 13, 107: 14, 108: 14, 110: 14, 111: 14} \n",
            "18 {18: 0, 17: 1, 19: 1, 14: 1, 33: 1, 32: 2, 35: 2, 36: 2, 42: 2, 12: 2, 13: 2, 16: 2, 20: 2, 34: 3, 38: 3, 39: 3, 10: 3, 43: 3, 11: 3, 15: 3, 112: 3, 21: 3, 30: 3, 1: 4, 2: 4, 3: 4, 4: 4, 6: 4, 22: 4, 28: 4, 31: 4, 40: 4, 41: 4, 44: 4, 116: 4, 0: 5, 5: 5, 23: 5, 24: 5, 26: 5, 27: 5, 45: 5, 48: 5, 113: 5, 46: 6, 47: 6, 49: 6, 50: 6, 53: 6, 65: 6, 68: 6, 69: 6, 71: 6, 114: 6, 51: 7, 52: 7, 54: 7, 55: 7, 56: 7, 57: 7, 58: 7, 61: 7, 66: 7, 70: 7, 73: 7, 74: 7, 76: 7, 59: 8, 60: 8, 72: 8, 75: 8, 77: 8, 79: 8, 81: 8, 117: 8, 96: 9, 97: 9, 98: 9, 78: 9, 82: 9, 95: 9, 99: 10, 83: 10, 84: 10, 93: 10, 94: 10, 100: 11, 102: 11, 103: 11, 105: 11, 85: 11, 87: 11, 88: 11, 91: 11, 92: 11, 101: 12, 104: 12, 106: 12, 109: 12, 89: 12, 90: 12, 107: 13, 108: 13, 110: 13, 111: 13} \n",
            "19 {19: 0, 18: 1, 20: 1, 33: 2, 14: 2, 17: 2, 21: 2, 32: 3, 35: 3, 36: 3, 42: 3, 12: 3, 13: 3, 16: 3, 22: 3, 34: 4, 38: 4, 39: 4, 10: 4, 43: 4, 11: 4, 15: 4, 112: 4, 23: 4, 24: 4, 30: 4, 31: 4, 1: 5, 2: 5, 3: 5, 4: 5, 6: 5, 26: 5, 28: 5, 40: 5, 41: 5, 44: 5, 69: 5, 71: 5, 113: 5, 116: 5, 0: 6, 5: 6, 27: 6, 45: 6, 48: 6, 68: 6, 70: 6, 73: 6, 74: 6, 114: 6, 46: 7, 47: 7, 49: 7, 50: 7, 53: 7, 65: 7, 72: 7, 76: 7, 117: 7, 66: 8, 75: 8, 77: 8, 79: 8, 81: 8, 51: 8, 52: 8, 54: 8, 55: 8, 56: 8, 57: 8, 58: 8, 61: 8, 59: 9, 60: 9, 78: 9, 82: 9, 95: 9, 96: 9, 97: 9, 98: 9, 99: 10, 83: 10, 84: 10, 93: 10, 94: 10, 100: 11, 102: 11, 103: 11, 105: 11, 85: 11, 87: 11, 88: 11, 91: 11, 92: 11, 101: 12, 104: 12, 106: 12, 109: 12, 89: 12, 90: 12, 107: 13, 108: 13, 110: 13, 111: 13} \n",
            "20 {20: 0, 19: 1, 21: 1, 18: 2, 22: 2, 33: 3, 14: 3, 17: 3, 23: 3, 24: 3, 31: 3, 32: 4, 35: 4, 36: 4, 69: 4, 71: 4, 42: 4, 12: 4, 13: 4, 16: 4, 112: 4, 113: 4, 26: 4, 30: 4, 10: 5, 11: 5, 15: 5, 27: 5, 28: 5, 34: 5, 38: 5, 39: 5, 43: 5, 68: 5, 70: 5, 73: 5, 74: 5, 114: 5, 1: 6, 2: 6, 3: 6, 4: 6, 6: 6, 40: 6, 41: 6, 44: 6, 46: 6, 48: 6, 72: 6, 76: 6, 116: 6, 117: 6, 0: 7, 5: 7, 45: 7, 47: 7, 49: 7, 50: 7, 53: 7, 65: 7, 75: 7, 77: 7, 79: 7, 81: 7, 51: 8, 52: 8, 54: 8, 55: 8, 56: 8, 57: 8, 58: 8, 61: 8, 66: 8, 78: 8, 82: 8, 95: 8, 96: 8, 97: 8, 98: 8, 59: 9, 60: 9, 83: 9, 84: 9, 93: 9, 94: 9, 99: 9, 85: 10, 87: 10, 88: 10, 91: 10, 92: 10, 100: 10, 102: 10, 103: 10, 105: 10, 101: 11, 104: 11, 106: 11, 109: 11, 89: 11, 90: 11, 107: 12, 108: 12, 110: 12, 111: 12} \n",
            "21 {21: 0, 20: 1, 22: 1, 19: 2, 23: 2, 24: 2, 31: 2, 69: 3, 71: 3, 112: 3, 113: 3, 18: 3, 26: 3, 30: 3, 33: 4, 68: 4, 70: 4, 73: 4, 74: 4, 14: 4, 16: 4, 17: 4, 114: 4, 27: 4, 28: 4, 12: 5, 13: 5, 15: 5, 32: 5, 35: 5, 36: 5, 42: 5, 46: 5, 48: 5, 72: 5, 76: 5, 117: 5, 10: 6, 11: 6, 34: 6, 38: 6, 39: 6, 41: 6, 43: 6, 44: 6, 45: 6, 47: 6, 49: 6, 50: 6, 53: 6, 65: 6, 75: 6, 77: 6, 79: 6, 81: 6, 1: 7, 2: 7, 3: 7, 4: 7, 6: 7, 40: 7, 51: 7, 52: 7, 54: 7, 55: 7, 56: 7, 57: 7, 58: 7, 61: 7, 66: 7, 78: 7, 82: 7, 95: 7, 96: 7, 97: 7, 98: 7, 116: 7, 0: 8, 5: 8, 59: 8, 60: 8, 83: 8, 84: 8, 93: 8, 94: 8, 99: 8, 85: 9, 87: 9, 88: 9, 91: 9, 92: 9, 100: 9, 102: 9, 103: 9, 105: 9, 101: 10, 104: 10, 106: 10, 109: 10, 89: 10, 90: 10, 107: 11, 108: 11, 110: 11, 111: 11} \n",
            "22 {22: 0, 24: 1, 31: 1, 21: 1, 23: 1, 69: 2, 71: 2, 112: 2, 113: 2, 20: 2, 26: 2, 30: 2, 68: 3, 70: 3, 73: 3, 74: 3, 16: 3, 114: 3, 19: 3, 27: 3, 28: 3, 14: 4, 15: 4, 17: 4, 18: 4, 46: 4, 48: 4, 72: 4, 76: 4, 117: 4, 11: 5, 12: 5, 13: 5, 32: 5, 33: 5, 41: 5, 44: 5, 45: 5, 47: 5, 49: 5, 50: 5, 53: 5, 65: 5, 75: 5, 77: 5, 79: 5, 81: 5, 1: 6, 2: 6, 6: 6, 10: 6, 35: 6, 36: 6, 39: 6, 40: 6, 42: 6, 43: 6, 51: 6, 52: 6, 54: 6, 55: 6, 56: 6, 57: 6, 58: 6, 61: 6, 66: 6, 78: 6, 82: 6, 95: 6, 96: 6, 97: 6, 98: 6, 116: 6, 0: 7, 3: 7, 4: 7, 5: 7, 34: 7, 38: 7, 59: 7, 60: 7, 83: 7, 84: 7, 93: 7, 94: 7, 99: 7, 85: 8, 87: 8, 88: 8, 91: 8, 92: 8, 100: 8, 102: 8, 103: 8, 105: 8, 101: 9, 104: 9, 106: 9, 109: 9, 89: 9, 90: 9, 107: 10, 108: 10, 110: 10, 111: 10} \n",
            "23 {23: 0, 69: 1, 22: 1, 71: 1, 68: 2, 70: 2, 73: 2, 74: 2, 21: 2, 24: 2, 31: 2, 72: 3, 76: 3, 46: 3, 48: 3, 112: 3, 113: 3, 20: 3, 117: 3, 26: 3, 30: 3, 16: 4, 19: 4, 27: 4, 28: 4, 41: 4, 44: 4, 45: 4, 47: 4, 49: 4, 50: 4, 53: 4, 65: 4, 75: 4, 77: 4, 79: 4, 81: 4, 114: 4, 14: 5, 15: 5, 17: 5, 18: 5, 39: 5, 40: 5, 43: 5, 51: 5, 52: 5, 54: 5, 55: 5, 56: 5, 57: 5, 58: 5, 61: 5, 66: 5, 78: 5, 82: 5, 95: 5, 96: 5, 97: 5, 98: 5, 11: 6, 12: 6, 13: 6, 32: 6, 33: 6, 36: 6, 38: 6, 42: 6, 59: 6, 60: 6, 83: 6, 84: 6, 93: 6, 94: 6, 99: 6, 1: 7, 2: 7, 6: 7, 10: 7, 34: 7, 35: 7, 85: 7, 87: 7, 88: 7, 91: 7, 92: 7, 100: 7, 102: 7, 103: 7, 105: 7, 116: 7, 0: 8, 3: 8, 4: 8, 5: 8, 89: 8, 90: 8, 101: 8, 104: 8, 106: 8, 109: 8, 107: 9, 108: 9, 110: 9, 111: 9} \n",
            "24 {24: 0, 26: 1, 22: 1, 114: 2, 21: 2, 23: 2, 27: 2, 31: 2, 69: 3, 71: 3, 112: 3, 113: 3, 20: 3, 28: 3, 30: 3, 68: 4, 70: 4, 73: 4, 74: 4, 16: 4, 19: 4, 72: 5, 76: 5, 46: 5, 14: 5, 48: 5, 15: 5, 17: 5, 18: 5, 117: 5, 11: 6, 12: 6, 13: 6, 32: 6, 33: 6, 41: 6, 44: 6, 45: 6, 47: 6, 49: 6, 50: 6, 53: 6, 65: 6, 75: 6, 77: 6, 79: 6, 81: 6, 1: 7, 2: 7, 6: 7, 10: 7, 35: 7, 36: 7, 39: 7, 40: 7, 42: 7, 43: 7, 51: 7, 52: 7, 54: 7, 55: 7, 56: 7, 57: 7, 58: 7, 61: 7, 66: 7, 78: 7, 82: 7, 95: 7, 96: 7, 97: 7, 98: 7, 116: 7, 0: 8, 3: 8, 4: 8, 5: 8, 34: 8, 38: 8, 59: 8, 60: 8, 83: 8, 84: 8, 93: 8, 94: 8, 99: 8, 85: 9, 87: 9, 88: 9, 91: 9, 92: 9, 100: 9, 102: 9, 103: 9, 105: 9, 101: 10, 104: 10, 106: 10, 109: 10, 89: 10, 90: 10, 107: 11, 108: 11, 110: 11, 111: 11} \n",
            "26 {26: 0, 24: 1, 114: 1, 27: 1, 31: 1, 112: 2, 113: 2, 22: 2, 28: 2, 30: 2, 16: 3, 21: 3, 23: 3, 69: 4, 71: 4, 14: 4, 15: 4, 17: 4, 20: 4, 32: 5, 68: 5, 70: 5, 73: 5, 74: 5, 11: 5, 12: 5, 13: 5, 18: 5, 19: 5, 1: 6, 2: 6, 6: 6, 10: 6, 33: 6, 36: 6, 46: 6, 48: 6, 72: 6, 76: 6, 116: 6, 117: 6, 0: 7, 3: 7, 4: 7, 5: 7, 34: 7, 35: 7, 38: 7, 39: 7, 41: 7, 42: 7, 44: 7, 45: 7, 47: 7, 49: 7, 50: 7, 53: 7, 65: 7, 75: 7, 77: 7, 79: 7, 81: 7, 40: 8, 43: 8, 51: 8, 52: 8, 54: 8, 55: 8, 56: 8, 57: 8, 58: 8, 61: 8, 66: 8, 78: 8, 82: 8, 95: 8, 96: 8, 97: 8, 98: 8, 59: 9, 60: 9, 83: 9, 84: 9, 93: 9, 94: 9, 99: 9, 85: 10, 87: 10, 88: 10, 91: 10, 92: 10, 100: 10, 102: 10, 103: 10, 105: 10, 101: 11, 104: 11, 106: 11, 109: 11, 89: 11, 90: 11, 107: 12, 108: 12, 110: 12, 111: 12} \n",
            "27 {27: 0, 26: 1, 28: 1, 114: 2, 24: 2, 30: 2, 31: 2, 16: 3, 113: 3, 112: 3, 22: 3, 14: 4, 15: 4, 17: 4, 21: 4, 23: 4, 32: 5, 69: 5, 71: 5, 11: 5, 12: 5, 13: 5, 18: 5, 20: 5, 1: 6, 2: 6, 6: 6, 10: 6, 19: 6, 33: 6, 36: 6, 68: 6, 70: 6, 73: 6, 74: 6, 116: 6, 0: 7, 3: 7, 4: 7, 5: 7, 34: 7, 35: 7, 38: 7, 39: 7, 42: 7, 46: 7, 48: 7, 72: 7, 76: 7, 117: 7, 40: 8, 41: 8, 43: 8, 44: 8, 45: 8, 47: 8, 49: 8, 50: 8, 53: 8, 65: 8, 75: 8, 77: 8, 79: 8, 81: 8, 51: 9, 52: 9, 54: 9, 55: 9, 56: 9, 57: 9, 58: 9, 61: 9, 66: 9, 78: 9, 82: 9, 95: 9, 96: 9, 97: 9, 98: 9, 59: 10, 60: 10, 83: 10, 84: 10, 93: 10, 94: 10, 99: 10, 85: 11, 87: 11, 88: 11, 91: 11, 92: 11, 100: 11, 102: 11, 103: 11, 105: 11, 101: 12, 104: 12, 106: 12, 109: 12, 89: 12, 90: 12, 107: 13, 108: 13, 110: 13, 111: 13} \n",
            "28 {28: 0, 27: 1, 30: 1, 16: 2, 26: 2, 31: 2, 14: 3, 15: 3, 112: 3, 17: 3, 114: 3, 113: 3, 22: 3, 24: 3, 32: 4, 11: 4, 12: 4, 13: 4, 18: 4, 21: 4, 23: 4, 1: 5, 2: 5, 33: 5, 36: 5, 69: 5, 6: 5, 71: 5, 10: 5, 19: 5, 116: 5, 20: 5, 0: 6, 3: 6, 4: 6, 5: 6, 34: 6, 35: 6, 38: 6, 39: 6, 42: 6, 68: 6, 70: 6, 73: 6, 74: 6, 40: 7, 41: 7, 43: 7, 46: 7, 48: 7, 72: 7, 76: 7, 117: 7, 44: 8, 45: 8, 47: 8, 49: 8, 50: 8, 53: 8, 65: 8, 75: 8, 77: 8, 79: 8, 81: 8, 51: 9, 52: 9, 54: 9, 55: 9, 56: 9, 57: 9, 58: 9, 61: 9, 66: 9, 78: 9, 82: 9, 95: 9, 96: 9, 97: 9, 98: 9, 59: 10, 60: 10, 83: 10, 84: 10, 93: 10, 94: 10, 99: 10, 85: 11, 87: 11, 88: 11, 91: 11, 92: 11, 100: 11, 102: 11, 103: 11, 105: 11, 101: 12, 104: 12, 106: 12, 109: 12, 89: 12, 90: 12, 107: 13, 108: 13, 110: 13, 111: 13} \n",
            "29 {29: 0, 25: 1, 37: 1, 7: 1, 64: 2, 8: 2, 9: 3, 63: 3, 62: 4} \n",
            "25 {25: 0, 29: 1, 37: 2, 7: 2, 64: 3, 8: 3, 9: 4, 63: 4, 62: 5} \n",
            "30 {30: 0, 16: 1, 28: 1, 31: 1, 14: 2, 15: 2, 112: 2, 17: 2, 113: 2, 22: 2, 26: 2, 27: 2, 32: 3, 11: 3, 12: 3, 13: 3, 18: 3, 114: 3, 21: 3, 23: 3, 24: 3, 1: 4, 2: 4, 6: 4, 10: 4, 19: 4, 20: 4, 33: 4, 36: 4, 69: 4, 71: 4, 116: 4, 0: 5, 3: 5, 4: 5, 5: 5, 34: 5, 35: 5, 38: 5, 39: 5, 42: 5, 68: 5, 70: 5, 73: 5, 74: 5, 40: 6, 41: 6, 43: 6, 46: 6, 48: 6, 72: 6, 76: 6, 117: 6, 44: 7, 45: 7, 47: 7, 49: 7, 50: 7, 53: 7, 65: 7, 75: 7, 77: 7, 79: 7, 81: 7, 51: 8, 52: 8, 54: 8, 55: 8, 56: 8, 57: 8, 58: 8, 61: 8, 66: 8, 78: 8, 82: 8, 95: 8, 96: 8, 97: 8, 98: 8, 59: 9, 60: 9, 83: 9, 84: 9, 93: 9, 94: 9, 99: 9, 85: 10, 87: 10, 88: 10, 91: 10, 92: 10, 100: 10, 102: 10, 103: 10, 105: 10, 101: 11, 104: 11, 106: 11, 109: 11, 89: 11, 90: 11, 107: 12, 108: 12, 110: 12, 111: 12} \n",
            "31 {31: 0, 112: 1, 113: 1, 22: 1, 26: 1, 30: 1, 16: 2, 114: 2, 21: 2, 23: 2, 24: 2, 27: 2, 28: 2, 69: 3, 71: 3, 14: 3, 15: 3, 17: 3, 20: 3, 32: 4, 68: 4, 70: 4, 73: 4, 74: 4, 11: 4, 12: 4, 13: 4, 18: 4, 19: 4, 1: 5, 2: 5, 6: 5, 10: 5, 33: 5, 36: 5, 46: 5, 48: 5, 72: 5, 76: 5, 116: 5, 117: 5, 0: 6, 3: 6, 4: 6, 5: 6, 34: 6, 35: 6, 38: 6, 39: 6, 41: 6, 42: 6, 44: 6, 45: 6, 47: 6, 49: 6, 50: 6, 53: 6, 65: 6, 75: 6, 77: 6, 79: 6, 81: 6, 40: 7, 43: 7, 51: 7, 52: 7, 54: 7, 55: 7, 56: 7, 57: 7, 58: 7, 61: 7, 66: 7, 78: 7, 82: 7, 95: 7, 96: 7, 97: 7, 98: 7, 59: 8, 60: 8, 83: 8, 84: 8, 93: 8, 94: 8, 99: 8, 85: 9, 87: 9, 88: 9, 91: 9, 92: 9, 100: 9, 102: 9, 103: 9, 105: 9, 101: 10, 104: 10, 106: 10, 109: 10, 89: 10, 90: 10, 107: 11, 108: 11, 110: 11, 111: 11} \n",
            "32 {32: 0, 36: 1, 14: 1, 33: 2, 34: 2, 38: 2, 39: 2, 12: 2, 13: 2, 16: 2, 18: 2, 35: 3, 40: 3, 41: 3, 42: 3, 10: 3, 11: 3, 15: 3, 112: 3, 17: 3, 19: 3, 30: 3, 1: 4, 2: 4, 3: 4, 4: 4, 6: 4, 20: 4, 28: 4, 31: 4, 43: 4, 48: 4, 116: 4, 0: 5, 5: 5, 21: 5, 22: 5, 26: 5, 27: 5, 44: 5, 46: 5, 47: 5, 49: 5, 50: 5, 53: 5, 65: 5, 68: 5, 113: 5, 23: 6, 24: 6, 45: 6, 51: 6, 52: 6, 54: 6, 55: 6, 56: 6, 57: 6, 58: 6, 61: 6, 66: 6, 69: 6, 74: 6, 76: 6, 114: 6, 59: 7, 60: 7, 70: 7, 71: 7, 73: 7, 75: 7, 77: 7, 79: 7, 81: 7, 117: 7, 72: 8, 78: 8, 82: 8, 95: 8, 96: 8, 97: 8, 98: 8, 99: 9, 83: 9, 84: 9, 93: 9, 94: 9, 100: 10, 102: 10, 103: 10, 105: 10, 85: 10, 87: 10, 88: 10, 91: 10, 92: 10, 101: 11, 104: 11, 106: 11, 109: 11, 89: 11, 90: 11, 107: 12, 108: 12, 110: 12, 111: 12} \n",
            "33 {33: 0, 18: 1, 35: 1, 36: 1, 42: 1, 32: 2, 34: 2, 38: 2, 39: 2, 43: 2, 14: 2, 17: 2, 19: 2, 40: 3, 41: 3, 44: 3, 12: 3, 13: 3, 16: 3, 20: 3, 10: 4, 11: 4, 45: 4, 15: 4, 48: 4, 112: 4, 21: 4, 30: 4, 1: 5, 2: 5, 3: 5, 4: 5, 6: 5, 22: 5, 28: 5, 31: 5, 46: 5, 47: 5, 49: 5, 50: 5, 53: 5, 65: 5, 68: 5, 116: 5, 0: 6, 5: 6, 23: 6, 24: 6, 26: 6, 27: 6, 51: 6, 52: 6, 54: 6, 55: 6, 56: 6, 57: 6, 58: 6, 61: 6, 66: 6, 69: 6, 74: 6, 76: 6, 113: 6, 59: 7, 60: 7, 70: 7, 71: 7, 73: 7, 75: 7, 77: 7, 79: 7, 81: 7, 114: 7, 117: 7, 72: 8, 78: 8, 82: 8, 95: 8, 96: 8, 97: 8, 98: 8, 99: 9, 83: 9, 84: 9, 93: 9, 94: 9, 100: 10, 102: 10, 103: 10, 105: 10, 85: 10, 87: 10, 88: 10, 91: 10, 92: 10, 101: 11, 104: 11, 106: 11, 109: 11, 89: 11, 90: 11, 107: 12, 108: 12, 110: 12, 111: 12} \n",
            "34 {34: 0, 35: 1, 36: 1, 32: 2, 33: 2, 38: 2, 39: 2, 40: 3, 41: 3, 42: 3, 14: 3, 18: 3, 43: 4, 12: 4, 13: 4, 48: 4, 16: 4, 17: 4, 19: 4, 10: 5, 11: 5, 15: 5, 20: 5, 30: 5, 44: 5, 46: 5, 47: 5, 49: 5, 50: 5, 53: 5, 65: 5, 68: 5, 112: 5, 1: 6, 2: 6, 3: 6, 4: 6, 6: 6, 21: 6, 28: 6, 31: 6, 45: 6, 51: 6, 52: 6, 54: 6, 55: 6, 56: 6, 57: 6, 58: 6, 61: 6, 66: 6, 69: 6, 74: 6, 76: 6, 116: 6, 0: 7, 5: 7, 22: 7, 23: 7, 26: 7, 27: 7, 59: 7, 60: 7, 70: 7, 73: 7, 75: 7, 77: 7, 79: 7, 81: 7, 113: 7, 117: 7, 24: 8, 71: 8, 72: 8, 78: 8, 82: 8, 95: 8, 96: 8, 97: 8, 98: 8, 114: 8, 99: 9, 83: 9, 84: 9, 93: 9, 94: 9, 100: 10, 102: 10, 103: 10, 105: 10, 85: 10, 87: 10, 88: 10, 91: 10, 92: 10, 101: 11, 104: 11, 106: 11, 109: 11, 89: 11, 90: 11, 107: 12, 108: 12, 110: 12, 111: 12} \n",
            "35 {35: 0, 33: 1, 34: 1, 18: 2, 36: 2, 42: 2, 32: 3, 38: 3, 39: 3, 43: 3, 14: 3, 17: 3, 19: 3, 40: 4, 41: 4, 44: 4, 12: 4, 13: 4, 16: 4, 20: 4, 10: 5, 11: 5, 45: 5, 15: 5, 48: 5, 112: 5, 21: 5, 30: 5, 1: 6, 2: 6, 3: 6, 4: 6, 6: 6, 22: 6, 28: 6, 31: 6, 46: 6, 47: 6, 49: 6, 50: 6, 53: 6, 65: 6, 68: 6, 116: 6, 0: 7, 5: 7, 23: 7, 24: 7, 26: 7, 27: 7, 51: 7, 52: 7, 54: 7, 55: 7, 56: 7, 57: 7, 58: 7, 61: 7, 66: 7, 69: 7, 74: 7, 76: 7, 113: 7, 59: 8, 60: 8, 70: 8, 71: 8, 73: 8, 75: 8, 77: 8, 79: 8, 81: 8, 114: 8, 117: 8, 72: 9, 78: 9, 82: 9, 95: 9, 96: 9, 97: 9, 98: 9, 99: 10, 83: 10, 84: 10, 93: 10, 94: 10, 100: 11, 102: 11, 103: 11, 105: 11, 85: 11, 87: 11, 88: 11, 91: 11, 92: 11, 101: 12, 104: 12, 106: 12, 109: 12, 89: 12, 90: 12, 107: 13, 108: 13, 110: 13, 111: 13} \n",
            "36 {36: 0, 32: 1, 33: 1, 34: 1, 38: 1, 39: 1, 35: 2, 40: 2, 41: 2, 42: 2, 14: 2, 18: 2, 43: 3, 12: 3, 13: 3, 48: 3, 16: 3, 17: 3, 19: 3, 10: 4, 11: 4, 15: 4, 20: 4, 30: 4, 44: 4, 46: 4, 47: 4, 49: 4, 50: 4, 53: 4, 65: 4, 68: 4, 112: 4, 1: 5, 2: 5, 3: 5, 4: 5, 6: 5, 21: 5, 28: 5, 31: 5, 45: 5, 51: 5, 52: 5, 54: 5, 55: 5, 56: 5, 57: 5, 58: 5, 61: 5, 66: 5, 69: 5, 74: 5, 76: 5, 116: 5, 0: 6, 5: 6, 22: 6, 23: 6, 26: 6, 27: 6, 59: 6, 60: 6, 70: 6, 73: 6, 75: 6, 77: 6, 79: 6, 81: 6, 113: 6, 117: 6, 24: 7, 71: 7, 72: 7, 78: 7, 82: 7, 95: 7, 96: 7, 97: 7, 98: 7, 114: 7, 99: 8, 83: 8, 84: 8, 93: 8, 94: 8, 100: 9, 102: 9, 103: 9, 105: 9, 85: 9, 87: 9, 88: 9, 91: 9, 92: 9, 101: 10, 104: 10, 106: 10, 109: 10, 89: 10, 90: 10, 107: 11, 108: 11, 110: 11, 111: 11} \n",
            "38 {38: 0, 36: 1, 39: 1, 32: 2, 33: 2, 34: 2, 40: 2, 41: 2, 35: 3, 42: 3, 14: 3, 48: 3, 18: 3, 12: 4, 13: 4, 16: 4, 17: 4, 19: 4, 43: 4, 44: 4, 46: 4, 47: 4, 49: 4, 50: 4, 53: 4, 65: 4, 68: 4, 10: 5, 11: 5, 15: 5, 20: 5, 30: 5, 45: 5, 51: 5, 52: 5, 54: 5, 55: 5, 56: 5, 57: 5, 58: 5, 61: 5, 66: 5, 69: 5, 74: 5, 76: 5, 112: 5, 1: 6, 2: 6, 3: 6, 4: 6, 6: 6, 21: 6, 23: 6, 28: 6, 31: 6, 59: 6, 60: 6, 70: 6, 73: 6, 75: 6, 77: 6, 79: 6, 81: 6, 116: 6, 117: 6, 0: 7, 5: 7, 22: 7, 26: 7, 27: 7, 71: 7, 72: 7, 78: 7, 82: 7, 95: 7, 96: 7, 97: 7, 98: 7, 113: 7, 24: 8, 83: 8, 84: 8, 93: 8, 94: 8, 99: 8, 114: 8, 85: 9, 87: 9, 88: 9, 91: 9, 92: 9, 100: 9, 102: 9, 103: 9, 105: 9, 101: 10, 104: 10, 106: 10, 109: 10, 89: 10, 90: 10, 107: 11, 108: 11, 110: 11, 111: 11} \n",
            "39 {39: 0, 40: 1, 41: 1, 36: 1, 38: 1, 32: 2, 33: 2, 34: 2, 48: 2, 65: 3, 35: 3, 68: 3, 42: 3, 44: 3, 14: 3, 46: 3, 47: 3, 49: 3, 18: 3, 50: 3, 53: 3, 12: 4, 13: 4, 16: 4, 17: 4, 19: 4, 43: 4, 45: 4, 51: 4, 52: 4, 54: 4, 55: 4, 56: 4, 57: 4, 58: 4, 61: 4, 66: 4, 69: 4, 74: 4, 76: 4, 10: 5, 11: 5, 15: 5, 20: 5, 23: 5, 30: 5, 59: 5, 60: 5, 70: 5, 73: 5, 75: 5, 77: 5, 79: 5, 81: 5, 112: 5, 117: 5, 1: 6, 2: 6, 3: 6, 4: 6, 6: 6, 21: 6, 22: 6, 28: 6, 31: 6, 71: 6, 72: 6, 78: 6, 82: 6, 95: 6, 96: 6, 97: 6, 98: 6, 116: 6, 0: 7, 5: 7, 24: 7, 26: 7, 27: 7, 83: 7, 84: 7, 93: 7, 94: 7, 99: 7, 113: 7, 85: 8, 87: 8, 88: 8, 91: 8, 92: 8, 100: 8, 102: 8, 103: 8, 105: 8, 114: 8, 101: 9, 104: 9, 106: 9, 109: 9, 89: 9, 90: 9, 107: 10, 108: 10, 110: 10, 111: 10} \n",
            "37 {37: 0, 64: 1, 29: 1, 25: 2, 7: 2, 63: 2, 8: 3, 62: 3, 9: 4} \n",
            "40 {40: 0, 41: 1, 39: 1, 36: 2, 38: 2, 48: 2, 32: 3, 33: 3, 34: 3, 65: 3, 68: 3, 44: 3, 46: 3, 47: 3, 49: 3, 50: 3, 53: 3, 14: 4, 18: 4, 35: 4, 42: 4, 43: 4, 45: 4, 51: 4, 52: 4, 54: 4, 55: 4, 56: 4, 57: 4, 58: 4, 61: 4, 66: 4, 69: 4, 74: 4, 76: 4, 12: 5, 13: 5, 16: 5, 17: 5, 19: 5, 23: 5, 59: 5, 60: 5, 70: 5, 73: 5, 75: 5, 77: 5, 79: 5, 81: 5, 117: 5, 10: 6, 11: 6, 15: 6, 20: 6, 22: 6, 30: 6, 71: 6, 72: 6, 78: 6, 82: 6, 95: 6, 96: 6, 97: 6, 98: 6, 112: 6, 1: 7, 2: 7, 3: 7, 4: 7, 6: 7, 21: 7, 24: 7, 28: 7, 31: 7, 83: 7, 84: 7, 93: 7, 94: 7, 99: 7, 116: 7, 0: 8, 5: 8, 26: 8, 27: 8, 85: 8, 87: 8, 88: 8, 91: 8, 92: 8, 100: 8, 102: 8, 103: 8, 105: 8, 113: 8, 89: 9, 90: 9, 101: 9, 104: 9, 106: 9, 109: 9, 114: 9, 107: 10, 108: 10, 110: 10, 111: 10} \n",
            "41 {41: 0, 40: 1, 48: 1, 39: 1, 65: 2, 68: 2, 36: 2, 38: 2, 44: 2, 46: 2, 47: 2, 49: 2, 50: 2, 53: 2, 32: 3, 33: 3, 34: 3, 43: 3, 45: 3, 51: 3, 52: 3, 54: 3, 55: 3, 56: 3, 57: 3, 58: 3, 61: 3, 66: 3, 69: 3, 74: 3, 76: 3, 14: 4, 18: 4, 23: 4, 35: 4, 42: 4, 59: 4, 60: 4, 70: 4, 73: 4, 75: 4, 77: 4, 79: 4, 81: 4, 117: 4, 12: 5, 13: 5, 16: 5, 17: 5, 19: 5, 22: 5, 71: 5, 72: 5, 78: 5, 82: 5, 95: 5, 96: 5, 97: 5, 98: 5, 10: 6, 11: 6, 15: 6, 20: 6, 21: 6, 24: 6, 30: 6, 31: 6, 83: 6, 84: 6, 93: 6, 94: 6, 99: 6, 112: 6, 1: 7, 2: 7, 3: 7, 4: 7, 6: 7, 26: 7, 28: 7, 85: 7, 87: 7, 88: 7, 91: 7, 92: 7, 100: 7, 102: 7, 103: 7, 105: 7, 113: 7, 116: 7, 0: 8, 5: 8, 27: 8, 89: 8, 90: 8, 101: 8, 104: 8, 106: 8, 109: 8, 114: 8, 107: 9, 108: 9, 110: 9, 111: 9} \n",
            "42 {42: 0, 33: 1, 43: 1, 35: 2, 36: 2, 44: 2, 18: 2, 32: 3, 34: 3, 38: 3, 39: 3, 45: 3, 14: 3, 48: 3, 17: 3, 19: 3, 12: 4, 13: 4, 16: 4, 20: 4, 40: 4, 41: 4, 46: 4, 47: 4, 49: 4, 50: 4, 53: 4, 65: 4, 68: 4, 10: 5, 11: 5, 15: 5, 21: 5, 30: 5, 51: 5, 52: 5, 54: 5, 55: 5, 56: 5, 57: 5, 58: 5, 61: 5, 66: 5, 69: 5, 74: 5, 76: 5, 112: 5, 1: 6, 2: 6, 3: 6, 4: 6, 6: 6, 22: 6, 23: 6, 28: 6, 31: 6, 59: 6, 60: 6, 70: 6, 73: 6, 75: 6, 77: 6, 79: 6, 81: 6, 116: 6, 117: 6, 0: 7, 5: 7, 24: 7, 26: 7, 27: 7, 71: 7, 72: 7, 78: 7, 82: 7, 95: 7, 96: 7, 97: 7, 98: 7, 113: 7, 83: 8, 84: 8, 93: 8, 94: 8, 99: 8, 114: 8, 85: 9, 87: 9, 88: 9, 91: 9, 92: 9, 100: 9, 102: 9, 103: 9, 105: 9, 101: 10, 104: 10, 106: 10, 109: 10, 89: 10, 90: 10, 107: 11, 108: 11, 110: 11, 111: 11} \n",
            "43 {43: 0, 42: 1, 44: 1, 48: 2, 33: 2, 45: 2, 65: 3, 35: 3, 68: 3, 36: 3, 41: 3, 46: 3, 47: 3, 49: 3, 50: 3, 18: 3, 53: 3, 14: 4, 17: 4, 19: 4, 32: 4, 34: 4, 38: 4, 39: 4, 40: 4, 51: 4, 52: 4, 54: 4, 55: 4, 56: 4, 57: 4, 58: 4, 61: 4, 66: 4, 69: 4, 74: 4, 76: 4, 12: 5, 13: 5, 16: 5, 20: 5, 23: 5, 59: 5, 60: 5, 70: 5, 73: 5, 75: 5, 77: 5, 79: 5, 81: 5, 117: 5, 10: 6, 11: 6, 15: 6, 21: 6, 22: 6, 30: 6, 71: 6, 72: 6, 78: 6, 82: 6, 95: 6, 96: 6, 97: 6, 98: 6, 112: 6, 1: 7, 2: 7, 3: 7, 4: 7, 6: 7, 24: 7, 28: 7, 31: 7, 83: 7, 84: 7, 93: 7, 94: 7, 99: 7, 116: 7, 0: 8, 5: 8, 26: 8, 27: 8, 85: 8, 87: 8, 88: 8, 91: 8, 92: 8, 100: 8, 102: 8, 103: 8, 105: 8, 113: 8, 89: 9, 90: 9, 101: 9, 104: 9, 106: 9, 109: 9, 114: 9, 107: 10, 108: 10, 110: 10, 111: 10} \n",
            "44 {44: 0, 48: 1, 43: 1, 45: 1, 65: 2, 68: 2, 41: 2, 42: 2, 46: 2, 47: 2, 49: 2, 50: 2, 53: 2, 33: 3, 39: 3, 40: 3, 51: 3, 52: 3, 54: 3, 55: 3, 56: 3, 57: 3, 58: 3, 61: 3, 66: 3, 69: 3, 74: 3, 76: 3, 18: 4, 23: 4, 35: 4, 36: 4, 38: 4, 59: 4, 60: 4, 70: 4, 73: 4, 75: 4, 77: 4, 79: 4, 81: 4, 117: 4, 14: 5, 17: 5, 19: 5, 22: 5, 32: 5, 34: 5, 71: 5, 72: 5, 78: 5, 82: 5, 95: 5, 96: 5, 97: 5, 98: 5, 12: 6, 13: 6, 16: 6, 20: 6, 21: 6, 24: 6, 31: 6, 83: 6, 84: 6, 93: 6, 94: 6, 99: 6, 10: 7, 11: 7, 15: 7, 26: 7, 30: 7, 85: 7, 87: 7, 88: 7, 91: 7, 92: 7, 100: 7, 102: 7, 103: 7, 105: 7, 112: 7, 113: 7, 1: 8, 2: 8, 3: 8, 4: 8, 6: 8, 27: 8, 28: 8, 89: 8, 90: 8, 101: 8, 104: 8, 106: 8, 109: 8, 114: 8, 116: 8, 0: 9, 5: 9, 107: 9, 108: 9, 110: 9, 111: 9} \n",
            "45 {45: 0, 44: 1, 46: 1, 47: 1, 48: 2, 43: 2, 68: 2, 65: 3, 69: 3, 41: 3, 42: 3, 74: 3, 76: 3, 49: 3, 50: 3, 53: 3, 23: 4, 33: 4, 39: 4, 40: 4, 51: 4, 52: 4, 54: 4, 55: 4, 56: 4, 57: 4, 58: 4, 61: 4, 66: 4, 70: 4, 73: 4, 75: 4, 77: 4, 79: 4, 81: 4, 117: 4, 18: 5, 22: 5, 35: 5, 36: 5, 38: 5, 59: 5, 60: 5, 71: 5, 72: 5, 78: 5, 82: 5, 95: 5, 96: 5, 97: 5, 98: 5, 14: 6, 17: 6, 19: 6, 21: 6, 24: 6, 31: 6, 32: 6, 34: 6, 83: 6, 84: 6, 93: 6, 94: 6, 99: 6, 12: 7, 13: 7, 16: 7, 20: 7, 26: 7, 30: 7, 85: 7, 87: 7, 88: 7, 91: 7, 92: 7, 100: 7, 102: 7, 103: 7, 105: 7, 112: 7, 113: 7, 10: 8, 11: 8, 15: 8, 27: 8, 28: 8, 89: 8, 90: 8, 101: 8, 104: 8, 106: 8, 109: 8, 114: 8, 1: 9, 2: 9, 3: 9, 4: 9, 6: 9, 107: 9, 108: 9, 110: 9, 111: 9, 116: 9, 0: 10, 5: 10} \n",
            "46 {46: 0, 48: 1, 68: 1, 45: 1, 65: 2, 69: 2, 41: 2, 74: 2, 44: 2, 76: 2, 47: 2, 49: 2, 50: 2, 53: 2, 23: 3, 39: 3, 40: 3, 43: 3, 51: 3, 52: 3, 54: 3, 55: 3, 56: 3, 57: 3, 58: 3, 61: 3, 66: 3, 70: 3, 73: 3, 75: 3, 77: 3, 79: 3, 81: 3, 117: 3, 22: 4, 36: 4, 38: 4, 42: 4, 59: 4, 60: 4, 71: 4, 72: 4, 78: 4, 82: 4, 95: 4, 96: 4, 97: 4, 98: 4, 21: 5, 24: 5, 31: 5, 32: 5, 33: 5, 34: 5, 83: 5, 84: 5, 93: 5, 94: 5, 99: 5, 14: 6, 18: 6, 20: 6, 26: 6, 30: 6, 35: 6, 85: 6, 87: 6, 88: 6, 91: 6, 92: 6, 100: 6, 102: 6, 103: 6, 105: 6, 112: 6, 113: 6, 12: 7, 13: 7, 16: 7, 17: 7, 19: 7, 27: 7, 28: 7, 89: 7, 90: 7, 101: 7, 104: 7, 106: 7, 109: 7, 114: 7, 10: 8, 11: 8, 15: 8, 107: 8, 108: 8, 110: 8, 111: 8, 1: 9, 2: 9, 3: 9, 4: 9, 6: 9, 116: 9, 0: 10, 5: 10} \n",
            "47 {47: 0, 48: 1, 45: 1, 65: 2, 68: 2, 41: 2, 44: 2, 46: 2, 49: 2, 50: 2, 53: 2, 39: 3, 40: 3, 43: 3, 51: 3, 52: 3, 54: 3, 55: 3, 56: 3, 57: 3, 58: 3, 61: 3, 66: 3, 69: 3, 74: 3, 76: 3, 23: 4, 36: 4, 38: 4, 42: 4, 59: 4, 60: 4, 70: 4, 73: 4, 75: 4, 77: 4, 79: 4, 81: 4, 117: 4, 22: 5, 32: 5, 33: 5, 34: 5, 71: 5, 72: 5, 78: 5, 82: 5, 95: 5, 96: 5, 97: 5, 98: 5, 14: 6, 18: 6, 21: 6, 24: 6, 31: 6, 35: 6, 83: 6, 84: 6, 93: 6, 94: 6, 99: 6, 12: 7, 13: 7, 16: 7, 17: 7, 19: 7, 20: 7, 26: 7, 30: 7, 85: 7, 87: 7, 88: 7, 91: 7, 92: 7, 100: 7, 102: 7, 103: 7, 105: 7, 112: 7, 113: 7, 10: 8, 11: 8, 15: 8, 27: 8, 28: 8, 89: 8, 90: 8, 101: 8, 104: 8, 106: 8, 109: 8, 114: 8, 1: 9, 2: 9, 3: 9, 4: 9, 6: 9, 107: 9, 108: 9, 110: 9, 111: 9, 116: 9, 0: 10, 5: 10} \n",
            "48 {48: 0, 65: 1, 68: 1, 41: 1, 44: 1, 46: 1, 47: 1, 49: 1, 50: 1, 53: 1, 39: 2, 40: 2, 43: 2, 45: 2, 51: 2, 52: 2, 54: 2, 55: 2, 56: 2, 57: 2, 58: 2, 61: 2, 66: 2, 69: 2, 74: 2, 76: 2, 23: 3, 36: 3, 38: 3, 42: 3, 59: 3, 60: 3, 70: 3, 73: 3, 75: 3, 77: 3, 79: 3, 81: 3, 117: 3, 22: 4, 32: 4, 33: 4, 34: 4, 71: 4, 72: 4, 78: 4, 82: 4, 95: 4, 96: 4, 97: 4, 98: 4, 14: 5, 18: 5, 21: 5, 24: 5, 31: 5, 35: 5, 83: 5, 84: 5, 93: 5, 94: 5, 99: 5, 12: 6, 13: 6, 16: 6, 17: 6, 19: 6, 20: 6, 26: 6, 30: 6, 85: 6, 87: 6, 88: 6, 91: 6, 92: 6, 100: 6, 102: 6, 103: 6, 105: 6, 112: 6, 113: 6, 10: 7, 11: 7, 15: 7, 27: 7, 28: 7, 89: 7, 90: 7, 101: 7, 104: 7, 106: 7, 109: 7, 114: 7, 1: 8, 2: 8, 3: 8, 4: 8, 6: 8, 107: 8, 108: 8, 110: 8, 111: 8, 116: 8, 0: 9, 5: 9} \n",
            "49 {49: 0, 48: 1, 56: 1, 65: 2, 68: 2, 41: 2, 44: 2, 46: 2, 47: 2, 50: 2, 53: 2, 55: 2, 39: 3, 40: 3, 43: 3, 45: 3, 51: 3, 52: 3, 54: 3, 57: 3, 58: 3, 61: 3, 66: 3, 69: 3, 74: 3, 76: 3, 23: 4, 36: 4, 38: 4, 42: 4, 59: 4, 60: 4, 70: 4, 73: 4, 75: 4, 77: 4, 79: 4, 81: 4, 117: 4, 22: 5, 32: 5, 33: 5, 34: 5, 71: 5, 72: 5, 78: 5, 82: 5, 95: 5, 96: 5, 97: 5, 98: 5, 14: 6, 18: 6, 21: 6, 24: 6, 31: 6, 35: 6, 83: 6, 84: 6, 93: 6, 94: 6, 99: 6, 12: 7, 13: 7, 16: 7, 17: 7, 19: 7, 20: 7, 26: 7, 30: 7, 85: 7, 87: 7, 88: 7, 91: 7, 92: 7, 100: 7, 102: 7, 103: 7, 105: 7, 112: 7, 113: 7, 10: 8, 11: 8, 15: 8, 27: 8, 28: 8, 89: 8, 90: 8, 101: 8, 104: 8, 106: 8, 109: 8, 114: 8, 1: 9, 2: 9, 3: 9, 4: 9, 6: 9, 107: 9, 108: 9, 110: 9, 111: 9, 116: 9, 0: 10, 5: 10} \n",
            "50 {50: 0, 48: 1, 57: 1, 51: 1, 65: 2, 68: 2, 41: 2, 44: 2, 46: 2, 47: 2, 49: 2, 52: 2, 53: 2, 55: 2, 39: 3, 40: 3, 43: 3, 45: 3, 54: 3, 56: 3, 58: 3, 61: 3, 66: 3, 69: 3, 74: 3, 76: 3, 23: 4, 36: 4, 38: 4, 42: 4, 59: 4, 60: 4, 70: 4, 73: 4, 75: 4, 77: 4, 79: 4, 81: 4, 117: 4, 22: 5, 32: 5, 33: 5, 34: 5, 71: 5, 72: 5, 78: 5, 82: 5, 95: 5, 96: 5, 97: 5, 98: 5, 14: 6, 18: 6, 21: 6, 24: 6, 31: 6, 35: 6, 83: 6, 84: 6, 93: 6, 94: 6, 99: 6, 12: 7, 13: 7, 16: 7, 17: 7, 19: 7, 20: 7, 26: 7, 30: 7, 85: 7, 87: 7, 88: 7, 91: 7, 92: 7, 100: 7, 102: 7, 103: 7, 105: 7, 112: 7, 113: 7, 10: 8, 11: 8, 15: 8, 27: 8, 28: 8, 89: 8, 90: 8, 101: 8, 104: 8, 106: 8, 109: 8, 114: 8, 1: 9, 2: 9, 3: 9, 4: 9, 6: 9, 107: 9, 108: 9, 110: 9, 111: 9, 116: 9, 0: 10, 5: 10} \n",
            "51 {51: 0, 50: 1, 52: 1, 48: 2, 57: 2, 53: 2, 65: 3, 68: 3, 41: 3, 44: 3, 46: 3, 47: 3, 49: 3, 54: 3, 55: 3, 58: 3, 39: 4, 40: 4, 43: 4, 45: 4, 56: 4, 59: 4, 60: 4, 61: 4, 66: 4, 69: 4, 74: 4, 76: 4, 23: 5, 36: 5, 38: 5, 42: 5, 70: 5, 73: 5, 75: 5, 77: 5, 79: 5, 81: 5, 117: 5, 22: 6, 32: 6, 33: 6, 34: 6, 71: 6, 72: 6, 78: 6, 82: 6, 95: 6, 96: 6, 97: 6, 98: 6, 14: 7, 18: 7, 21: 7, 24: 7, 31: 7, 35: 7, 83: 7, 84: 7, 93: 7, 94: 7, 99: 7, 12: 8, 13: 8, 16: 8, 17: 8, 19: 8, 20: 8, 26: 8, 30: 8, 85: 8, 87: 8, 88: 8, 91: 8, 92: 8, 100: 8, 102: 8, 103: 8, 105: 8, 112: 8, 113: 8, 10: 9, 11: 9, 15: 9, 27: 9, 28: 9, 89: 9, 90: 9, 101: 9, 104: 9, 106: 9, 109: 9, 114: 9, 1: 10, 2: 10, 3: 10, 4: 10, 6: 10, 107: 10, 108: 10, 110: 10, 111: 10, 116: 10, 0: 11, 5: 11} \n",
            "52 {52: 0, 51: 1, 53: 1, 48: 2, 50: 2, 54: 2, 55: 2, 58: 2, 65: 3, 68: 3, 41: 3, 44: 3, 46: 3, 47: 3, 49: 3, 56: 3, 57: 3, 59: 3, 60: 3, 39: 4, 40: 4, 43: 4, 45: 4, 61: 4, 66: 4, 69: 4, 74: 4, 76: 4, 23: 5, 36: 5, 38: 5, 42: 5, 70: 5, 73: 5, 75: 5, 77: 5, 79: 5, 81: 5, 117: 5, 22: 6, 32: 6, 33: 6, 34: 6, 71: 6, 72: 6, 78: 6, 82: 6, 95: 6, 96: 6, 97: 6, 98: 6, 14: 7, 18: 7, 21: 7, 24: 7, 31: 7, 35: 7, 83: 7, 84: 7, 93: 7, 94: 7, 99: 7, 12: 8, 13: 8, 16: 8, 17: 8, 19: 8, 20: 8, 26: 8, 30: 8, 85: 8, 87: 8, 88: 8, 91: 8, 92: 8, 100: 8, 102: 8, 103: 8, 105: 8, 112: 8, 113: 8, 10: 9, 11: 9, 15: 9, 27: 9, 28: 9, 89: 9, 90: 9, 101: 9, 104: 9, 106: 9, 109: 9, 114: 9, 1: 10, 2: 10, 3: 10, 4: 10, 6: 10, 107: 10, 108: 10, 110: 10, 111: 10, 116: 10, 0: 11, 5: 11} \n",
            "53 {53: 0, 48: 1, 52: 1, 54: 1, 55: 1, 58: 1, 65: 2, 68: 2, 41: 2, 44: 2, 46: 2, 47: 2, 49: 2, 50: 2, 51: 2, 56: 2, 57: 2, 59: 2, 60: 2, 39: 3, 40: 3, 43: 3, 45: 3, 61: 3, 66: 3, 69: 3, 74: 3, 76: 3, 23: 4, 36: 4, 38: 4, 42: 4, 70: 4, 73: 4, 75: 4, 77: 4, 79: 4, 81: 4, 117: 4, 22: 5, 32: 5, 33: 5, 34: 5, 71: 5, 72: 5, 78: 5, 82: 5, 95: 5, 96: 5, 97: 5, 98: 5, 14: 6, 18: 6, 21: 6, 24: 6, 31: 6, 35: 6, 83: 6, 84: 6, 93: 6, 94: 6, 99: 6, 12: 7, 13: 7, 16: 7, 17: 7, 19: 7, 20: 7, 26: 7, 30: 7, 85: 7, 87: 7, 88: 7, 91: 7, 92: 7, 100: 7, 102: 7, 103: 7, 105: 7, 112: 7, 113: 7, 10: 8, 11: 8, 15: 8, 27: 8, 28: 8, 89: 8, 90: 8, 101: 8, 104: 8, 106: 8, 109: 8, 114: 8, 1: 9, 2: 9, 3: 9, 4: 9, 6: 9, 107: 9, 108: 9, 110: 9, 111: 9, 116: 9, 0: 10, 5: 10} \n",
            "54 {54: 0, 58: 1, 53: 1, 55: 1, 48: 2, 52: 2, 56: 2, 57: 2, 59: 2, 60: 2, 65: 3, 68: 3, 41: 3, 44: 3, 46: 3, 47: 3, 49: 3, 50: 3, 51: 3, 61: 3, 39: 4, 40: 4, 43: 4, 45: 4, 66: 4, 69: 4, 74: 4, 76: 4, 23: 5, 36: 5, 38: 5, 42: 5, 70: 5, 73: 5, 75: 5, 77: 5, 79: 5, 81: 5, 117: 5, 22: 6, 32: 6, 33: 6, 34: 6, 71: 6, 72: 6, 78: 6, 82: 6, 95: 6, 96: 6, 97: 6, 98: 6, 14: 7, 18: 7, 21: 7, 24: 7, 31: 7, 35: 7, 83: 7, 84: 7, 93: 7, 94: 7, 99: 7, 12: 8, 13: 8, 16: 8, 17: 8, 19: 8, 20: 8, 26: 8, 30: 8, 85: 8, 87: 8, 88: 8, 91: 8, 92: 8, 100: 8, 102: 8, 103: 8, 105: 8, 112: 8, 113: 8, 10: 9, 11: 9, 15: 9, 27: 9, 28: 9, 89: 9, 90: 9, 101: 9, 104: 9, 106: 9, 109: 9, 114: 9, 1: 10, 2: 10, 3: 10, 4: 10, 6: 10, 107: 10, 108: 10, 110: 10, 111: 10, 116: 10, 0: 11, 5: 11} \n",
            "55 {55: 0, 53: 1, 54: 1, 56: 1, 57: 1, 58: 1, 48: 2, 49: 2, 50: 2, 52: 2, 59: 2, 60: 2, 65: 3, 68: 3, 41: 3, 44: 3, 46: 3, 47: 3, 51: 3, 61: 3, 66: 4, 69: 4, 39: 4, 40: 4, 74: 4, 43: 4, 76: 4, 45: 4, 23: 5, 36: 5, 38: 5, 42: 5, 70: 5, 73: 5, 75: 5, 77: 5, 79: 5, 81: 5, 117: 5, 22: 6, 32: 6, 33: 6, 34: 6, 71: 6, 72: 6, 78: 6, 82: 6, 95: 6, 96: 6, 97: 6, 98: 6, 14: 7, 18: 7, 21: 7, 24: 7, 31: 7, 35: 7, 83: 7, 84: 7, 93: 7, 94: 7, 99: 7, 12: 8, 13: 8, 16: 8, 17: 8, 19: 8, 20: 8, 26: 8, 30: 8, 85: 8, 87: 8, 88: 8, 91: 8, 92: 8, 100: 8, 102: 8, 103: 8, 105: 8, 112: 8, 113: 8, 10: 9, 11: 9, 15: 9, 27: 9, 28: 9, 89: 9, 90: 9, 101: 9, 104: 9, 106: 9, 109: 9, 114: 9, 1: 10, 2: 10, 3: 10, 4: 10, 6: 10, 107: 10, 108: 10, 110: 10, 111: 10, 116: 10, 0: 11, 5: 11} \n",
            "56 {56: 0, 49: 1, 55: 1, 48: 2, 53: 2, 54: 2, 57: 2, 58: 2, 65: 3, 68: 3, 41: 3, 44: 3, 46: 3, 47: 3, 50: 3, 52: 3, 59: 3, 60: 3, 66: 4, 69: 4, 39: 4, 40: 4, 74: 4, 43: 4, 76: 4, 45: 4, 51: 4, 61: 4, 23: 5, 36: 5, 38: 5, 42: 5, 70: 5, 73: 5, 75: 5, 77: 5, 79: 5, 81: 5, 117: 5, 22: 6, 32: 6, 33: 6, 34: 6, 71: 6, 72: 6, 78: 6, 82: 6, 95: 6, 96: 6, 97: 6, 98: 6, 14: 7, 18: 7, 21: 7, 24: 7, 31: 7, 35: 7, 83: 7, 84: 7, 93: 7, 94: 7, 99: 7, 12: 8, 13: 8, 16: 8, 17: 8, 19: 8, 20: 8, 26: 8, 30: 8, 85: 8, 87: 8, 88: 8, 91: 8, 92: 8, 100: 8, 102: 8, 103: 8, 105: 8, 112: 8, 113: 8, 10: 9, 11: 9, 15: 9, 27: 9, 28: 9, 89: 9, 90: 9, 101: 9, 104: 9, 106: 9, 109: 9, 114: 9, 1: 10, 2: 10, 3: 10, 4: 10, 6: 10, 107: 10, 108: 10, 110: 10, 111: 10, 116: 10, 0: 11, 5: 11} \n",
            "57 {57: 0, 50: 1, 55: 1, 48: 2, 51: 2, 53: 2, 54: 2, 56: 2, 58: 2, 65: 3, 68: 3, 41: 3, 44: 3, 46: 3, 47: 3, 49: 3, 52: 3, 59: 3, 60: 3, 66: 4, 69: 4, 39: 4, 40: 4, 74: 4, 43: 4, 76: 4, 45: 4, 61: 4, 23: 5, 36: 5, 38: 5, 42: 5, 70: 5, 73: 5, 75: 5, 77: 5, 79: 5, 81: 5, 117: 5, 22: 6, 32: 6, 33: 6, 34: 6, 71: 6, 72: 6, 78: 6, 82: 6, 95: 6, 96: 6, 97: 6, 98: 6, 14: 7, 18: 7, 21: 7, 24: 7, 31: 7, 35: 7, 83: 7, 84: 7, 93: 7, 94: 7, 99: 7, 12: 8, 13: 8, 16: 8, 17: 8, 19: 8, 20: 8, 26: 8, 30: 8, 85: 8, 87: 8, 88: 8, 91: 8, 92: 8, 100: 8, 102: 8, 103: 8, 105: 8, 112: 8, 113: 8, 10: 9, 11: 9, 15: 9, 27: 9, 28: 9, 89: 9, 90: 9, 101: 9, 104: 9, 106: 9, 109: 9, 114: 9, 1: 10, 2: 10, 3: 10, 4: 10, 6: 10, 107: 10, 108: 10, 110: 10, 111: 10, 116: 10, 0: 11, 5: 11} \n",
            "58 {58: 0, 53: 1, 54: 1, 55: 1, 59: 1, 60: 1, 48: 2, 52: 2, 56: 2, 57: 2, 61: 2, 65: 3, 66: 3, 68: 3, 41: 3, 44: 3, 46: 3, 47: 3, 49: 3, 50: 3, 51: 3, 69: 4, 39: 4, 40: 4, 74: 4, 43: 4, 76: 4, 45: 4, 23: 5, 36: 5, 38: 5, 42: 5, 70: 5, 73: 5, 75: 5, 77: 5, 79: 5, 81: 5, 117: 5, 22: 6, 32: 6, 33: 6, 34: 6, 71: 6, 72: 6, 78: 6, 82: 6, 95: 6, 96: 6, 97: 6, 98: 6, 14: 7, 18: 7, 21: 7, 24: 7, 31: 7, 35: 7, 83: 7, 84: 7, 93: 7, 94: 7, 99: 7, 12: 8, 13: 8, 16: 8, 17: 8, 19: 8, 20: 8, 26: 8, 30: 8, 85: 8, 87: 8, 88: 8, 91: 8, 92: 8, 100: 8, 102: 8, 103: 8, 105: 8, 112: 8, 113: 8, 10: 9, 11: 9, 15: 9, 27: 9, 28: 9, 89: 9, 90: 9, 101: 9, 104: 9, 106: 9, 109: 9, 114: 9, 1: 10, 2: 10, 3: 10, 4: 10, 6: 10, 107: 10, 108: 10, 110: 10, 111: 10, 116: 10, 0: 11, 5: 11} \n",
            "59 {59: 0, 58: 1, 60: 1, 61: 1, 65: 2, 66: 2, 53: 2, 54: 2, 55: 2, 48: 3, 52: 3, 56: 3, 57: 3, 68: 4, 41: 4, 44: 4, 46: 4, 47: 4, 49: 4, 50: 4, 51: 4, 69: 5, 39: 5, 40: 5, 74: 5, 43: 5, 76: 5, 45: 5, 23: 6, 36: 6, 38: 6, 42: 6, 70: 6, 73: 6, 75: 6, 77: 6, 79: 6, 81: 6, 117: 6, 22: 7, 32: 7, 33: 7, 34: 7, 71: 7, 72: 7, 78: 7, 82: 7, 95: 7, 96: 7, 97: 7, 98: 7, 14: 8, 18: 8, 21: 8, 24: 8, 31: 8, 35: 8, 83: 8, 84: 8, 93: 8, 94: 8, 99: 8, 12: 9, 13: 9, 16: 9, 17: 9, 19: 9, 20: 9, 26: 9, 30: 9, 85: 9, 87: 9, 88: 9, 91: 9, 92: 9, 100: 9, 102: 9, 103: 9, 105: 9, 112: 9, 113: 9, 10: 10, 11: 10, 15: 10, 27: 10, 28: 10, 89: 10, 90: 10, 101: 10, 104: 10, 106: 10, 109: 10, 114: 10, 1: 11, 2: 11, 3: 11, 4: 11, 6: 11, 107: 11, 108: 11, 110: 11, 111: 11, 116: 11, 0: 12, 5: 12} \n",
            "60 {60: 0, 58: 1, 59: 1, 61: 1, 65: 2, 66: 2, 53: 2, 54: 2, 55: 2, 48: 3, 52: 3, 56: 3, 57: 3, 68: 4, 41: 4, 44: 4, 46: 4, 47: 4, 49: 4, 50: 4, 51: 4, 69: 5, 39: 5, 40: 5, 74: 5, 43: 5, 76: 5, 45: 5, 23: 6, 36: 6, 38: 6, 42: 6, 70: 6, 73: 6, 75: 6, 77: 6, 79: 6, 81: 6, 117: 6, 22: 7, 32: 7, 33: 7, 34: 7, 71: 7, 72: 7, 78: 7, 82: 7, 95: 7, 96: 7, 97: 7, 98: 7, 14: 8, 18: 8, 21: 8, 24: 8, 31: 8, 35: 8, 83: 8, 84: 8, 93: 8, 94: 8, 99: 8, 12: 9, 13: 9, 16: 9, 17: 9, 19: 9, 20: 9, 26: 9, 30: 9, 85: 9, 87: 9, 88: 9, 91: 9, 92: 9, 100: 9, 102: 9, 103: 9, 105: 9, 112: 9, 113: 9, 10: 10, 11: 10, 15: 10, 27: 10, 28: 10, 89: 10, 90: 10, 101: 10, 104: 10, 106: 10, 109: 10, 114: 10, 1: 11, 2: 11, 3: 11, 4: 11, 6: 11, 107: 11, 108: 11, 110: 11, 111: 11, 116: 11, 0: 12, 5: 12} \n",
            "61 {61: 0, 65: 1, 66: 1, 59: 1, 60: 1, 48: 2, 58: 2, 68: 3, 41: 3, 44: 3, 46: 3, 47: 3, 49: 3, 50: 3, 53: 3, 54: 3, 55: 3, 69: 4, 39: 4, 40: 4, 74: 4, 43: 4, 76: 4, 45: 4, 51: 4, 52: 4, 56: 4, 57: 4, 23: 5, 36: 5, 38: 5, 42: 5, 70: 5, 73: 5, 75: 5, 77: 5, 79: 5, 81: 5, 117: 5, 22: 6, 32: 6, 33: 6, 34: 6, 71: 6, 72: 6, 78: 6, 82: 6, 95: 6, 96: 6, 97: 6, 98: 6, 14: 7, 18: 7, 21: 7, 24: 7, 31: 7, 35: 7, 83: 7, 84: 7, 93: 7, 94: 7, 99: 7, 12: 8, 13: 8, 16: 8, 17: 8, 19: 8, 20: 8, 26: 8, 30: 8, 85: 8, 87: 8, 88: 8, 91: 8, 92: 8, 100: 8, 102: 8, 103: 8, 105: 8, 112: 8, 113: 8, 10: 9, 11: 9, 15: 9, 27: 9, 28: 9, 89: 9, 90: 9, 101: 9, 104: 9, 106: 9, 109: 9, 114: 9, 1: 10, 2: 10, 3: 10, 4: 10, 6: 10, 107: 10, 108: 10, 110: 10, 111: 10, 116: 10, 0: 11, 5: 11} \n",
            "62 {62: 0, 63: 1, 64: 2, 37: 3, 29: 4, 25: 5, 7: 5, 8: 6, 9: 7} \n",
            "63 {63: 0, 64: 1, 62: 1, 37: 2, 29: 3, 25: 4, 7: 4, 8: 5, 9: 6} \n",
            "64 {64: 0, 37: 1, 63: 1, 29: 2, 62: 2, 25: 3, 7: 3, 8: 4, 9: 5} \n",
            "65 {65: 0, 48: 1, 66: 1, 61: 1, 68: 2, 41: 2, 44: 2, 46: 2, 47: 2, 49: 2, 50: 2, 53: 2, 59: 2, 60: 2, 39: 3, 40: 3, 43: 3, 45: 3, 51: 3, 52: 3, 54: 3, 55: 3, 56: 3, 57: 3, 58: 3, 69: 3, 74: 3, 76: 3, 23: 4, 36: 4, 38: 4, 42: 4, 70: 4, 73: 4, 75: 4, 77: 4, 79: 4, 81: 4, 117: 4, 22: 5, 32: 5, 33: 5, 34: 5, 71: 5, 72: 5, 78: 5, 82: 5, 95: 5, 96: 5, 97: 5, 98: 5, 14: 6, 18: 6, 21: 6, 24: 6, 31: 6, 35: 6, 83: 6, 84: 6, 93: 6, 94: 6, 99: 6, 12: 7, 13: 7, 16: 7, 17: 7, 19: 7, 20: 7, 26: 7, 30: 7, 85: 7, 87: 7, 88: 7, 91: 7, 92: 7, 100: 7, 102: 7, 103: 7, 105: 7, 112: 7, 113: 7, 10: 8, 11: 8, 15: 8, 27: 8, 28: 8, 89: 8, 90: 8, 101: 8, 104: 8, 106: 8, 109: 8, 114: 8, 1: 9, 2: 9, 3: 9, 4: 9, 6: 9, 107: 9, 108: 9, 110: 9, 111: 9, 116: 9, 0: 10, 5: 10} \n",
            "66 {66: 0, 65: 1, 61: 1, 48: 2, 59: 2, 60: 2, 68: 3, 41: 3, 44: 3, 46: 3, 47: 3, 49: 3, 50: 3, 53: 3, 58: 3, 39: 4, 40: 4, 43: 4, 45: 4, 51: 4, 52: 4, 54: 4, 55: 4, 56: 4, 57: 4, 69: 4, 74: 4, 76: 4, 23: 5, 36: 5, 38: 5, 42: 5, 70: 5, 73: 5, 75: 5, 77: 5, 79: 5, 81: 5, 117: 5, 22: 6, 32: 6, 33: 6, 34: 6, 71: 6, 72: 6, 78: 6, 82: 6, 95: 6, 96: 6, 97: 6, 98: 6, 14: 7, 18: 7, 21: 7, 24: 7, 31: 7, 35: 7, 83: 7, 84: 7, 93: 7, 94: 7, 99: 7, 12: 8, 13: 8, 16: 8, 17: 8, 19: 8, 20: 8, 26: 8, 30: 8, 85: 8, 87: 8, 88: 8, 91: 8, 92: 8, 100: 8, 102: 8, 103: 8, 105: 8, 112: 8, 113: 8, 10: 9, 11: 9, 15: 9, 27: 9, 28: 9, 89: 9, 90: 9, 101: 9, 104: 9, 106: 9, 109: 9, 114: 9, 1: 10, 2: 10, 3: 10, 4: 10, 6: 10, 107: 10, 108: 10, 110: 10, 111: 10, 116: 10, 0: 11, 5: 11} \n",
            "68 {68: 0, 69: 1, 74: 1, 76: 1, 46: 1, 48: 1, 23: 2, 41: 2, 44: 2, 45: 2, 47: 2, 49: 2, 50: 2, 53: 2, 65: 2, 70: 2, 73: 2, 75: 2, 77: 2, 79: 2, 81: 2, 117: 2, 22: 3, 39: 3, 40: 3, 43: 3, 51: 3, 52: 3, 54: 3, 55: 3, 56: 3, 57: 3, 58: 3, 61: 3, 66: 3, 71: 3, 72: 3, 78: 3, 82: 3, 95: 3, 96: 3, 97: 3, 98: 3, 21: 4, 24: 4, 31: 4, 36: 4, 38: 4, 42: 4, 59: 4, 60: 4, 83: 4, 84: 4, 93: 4, 94: 4, 99: 4, 20: 5, 26: 5, 30: 5, 32: 5, 33: 5, 34: 5, 85: 5, 87: 5, 88: 5, 91: 5, 92: 5, 100: 5, 102: 5, 103: 5, 105: 5, 112: 5, 113: 5, 14: 6, 16: 6, 18: 6, 19: 6, 27: 6, 28: 6, 35: 6, 89: 6, 90: 6, 101: 6, 104: 6, 106: 6, 109: 6, 114: 6, 12: 7, 13: 7, 15: 7, 17: 7, 107: 7, 108: 7, 110: 7, 111: 7, 10: 8, 11: 8, 1: 9, 2: 9, 3: 9, 4: 9, 6: 9, 116: 9, 0: 10, 5: 10} \n",
            "69 {69: 0, 68: 1, 70: 1, 73: 1, 74: 1, 23: 1, 71: 2, 72: 2, 76: 2, 46: 2, 48: 2, 117: 2, 22: 2, 21: 3, 24: 3, 31: 3, 41: 3, 44: 3, 45: 3, 47: 3, 49: 3, 50: 3, 53: 3, 65: 3, 75: 3, 77: 3, 79: 3, 81: 3, 20: 4, 26: 4, 30: 4, 39: 4, 40: 4, 43: 4, 51: 4, 52: 4, 54: 4, 55: 4, 56: 4, 57: 4, 58: 4, 61: 4, 66: 4, 78: 4, 82: 4, 95: 4, 96: 4, 97: 4, 98: 4, 112: 4, 113: 4, 16: 5, 19: 5, 27: 5, 28: 5, 36: 5, 38: 5, 42: 5, 59: 5, 60: 5, 83: 5, 84: 5, 93: 5, 94: 5, 99: 5, 114: 5, 14: 6, 15: 6, 17: 6, 18: 6, 32: 6, 33: 6, 34: 6, 85: 6, 87: 6, 88: 6, 91: 6, 92: 6, 100: 6, 102: 6, 103: 6, 105: 6, 11: 7, 12: 7, 13: 7, 35: 7, 89: 7, 90: 7, 101: 7, 104: 7, 106: 7, 109: 7, 1: 8, 2: 8, 6: 8, 10: 8, 107: 8, 108: 8, 110: 8, 111: 8, 116: 8, 0: 9, 3: 9, 4: 9, 5: 9} \n",
            "70 {70: 0, 72: 1, 69: 1, 71: 1, 68: 2, 73: 2, 74: 2, 23: 2, 76: 3, 46: 3, 48: 3, 117: 3, 22: 3, 21: 4, 24: 4, 31: 4, 41: 4, 44: 4, 45: 4, 47: 4, 49: 4, 50: 4, 53: 4, 65: 4, 75: 4, 77: 4, 79: 4, 81: 4, 20: 5, 26: 5, 30: 5, 39: 5, 40: 5, 43: 5, 51: 5, 52: 5, 54: 5, 55: 5, 56: 5, 57: 5, 58: 5, 61: 5, 66: 5, 78: 5, 82: 5, 95: 5, 96: 5, 97: 5, 98: 5, 112: 5, 113: 5, 16: 6, 19: 6, 27: 6, 28: 6, 36: 6, 38: 6, 42: 6, 59: 6, 60: 6, 83: 6, 84: 6, 93: 6, 94: 6, 99: 6, 114: 6, 14: 7, 15: 7, 17: 7, 18: 7, 32: 7, 33: 7, 34: 7, 85: 7, 87: 7, 88: 7, 91: 7, 92: 7, 100: 7, 102: 7, 103: 7, 105: 7, 11: 8, 12: 8, 13: 8, 35: 8, 89: 8, 90: 8, 101: 8, 104: 8, 106: 8, 109: 8, 1: 9, 2: 9, 6: 9, 10: 9, 107: 9, 108: 9, 110: 9, 111: 9, 116: 9, 0: 10, 3: 10, 4: 10, 5: 10} \n",
            "71 {71: 0, 70: 1, 23: 1, 72: 2, 69: 2, 22: 2, 68: 3, 73: 3, 74: 3, 21: 3, 24: 3, 31: 3, 76: 4, 46: 4, 48: 4, 112: 4, 113: 4, 20: 4, 117: 4, 26: 4, 30: 4, 16: 5, 19: 5, 27: 5, 28: 5, 41: 5, 44: 5, 45: 5, 47: 5, 49: 5, 50: 5, 53: 5, 65: 5, 75: 5, 77: 5, 79: 5, 81: 5, 114: 5, 14: 6, 15: 6, 17: 6, 18: 6, 39: 6, 40: 6, 43: 6, 51: 6, 52: 6, 54: 6, 55: 6, 56: 6, 57: 6, 58: 6, 61: 6, 66: 6, 78: 6, 82: 6, 95: 6, 96: 6, 97: 6, 98: 6, 11: 7, 12: 7, 13: 7, 32: 7, 33: 7, 36: 7, 38: 7, 42: 7, 59: 7, 60: 7, 83: 7, 84: 7, 93: 7, 94: 7, 99: 7, 1: 8, 2: 8, 6: 8, 10: 8, 34: 8, 35: 8, 85: 8, 87: 8, 88: 8, 91: 8, 92: 8, 100: 8, 102: 8, 103: 8, 105: 8, 116: 8, 0: 9, 3: 9, 4: 9, 5: 9, 89: 9, 90: 9, 101: 9, 104: 9, 106: 9, 109: 9, 107: 10, 108: 10, 110: 10, 111: 10} \n",
            "72 {72: 0, 70: 1, 69: 2, 71: 2, 68: 3, 73: 3, 74: 3, 23: 3, 76: 4, 46: 4, 48: 4, 117: 4, 22: 4, 21: 5, 24: 5, 31: 5, 41: 5, 44: 5, 45: 5, 47: 5, 49: 5, 50: 5, 53: 5, 65: 5, 75: 5, 77: 5, 79: 5, 81: 5, 20: 6, 26: 6, 30: 6, 39: 6, 40: 6, 43: 6, 51: 6, 52: 6, 54: 6, 55: 6, 56: 6, 57: 6, 58: 6, 61: 6, 66: 6, 78: 6, 82: 6, 95: 6, 96: 6, 97: 6, 98: 6, 112: 6, 113: 6, 16: 7, 19: 7, 27: 7, 28: 7, 36: 7, 38: 7, 42: 7, 59: 7, 60: 7, 83: 7, 84: 7, 93: 7, 94: 7, 99: 7, 114: 7, 14: 8, 15: 8, 17: 8, 18: 8, 32: 8, 33: 8, 34: 8, 85: 8, 87: 8, 88: 8, 91: 8, 92: 8, 100: 8, 102: 8, 103: 8, 105: 8, 11: 9, 12: 9, 13: 9, 35: 9, 89: 9, 90: 9, 101: 9, 104: 9, 106: 9, 109: 9, 1: 10, 2: 10, 6: 10, 10: 10, 107: 10, 108: 10, 110: 10, 111: 10, 116: 10, 0: 11, 3: 11, 4: 11, 5: 11} \n",
            "73 {73: 0, 74: 1, 69: 1, 68: 2, 70: 2, 76: 2, 117: 2, 23: 2, 71: 3, 72: 3, 75: 3, 77: 3, 46: 3, 79: 3, 48: 3, 81: 3, 22: 3, 21: 4, 24: 4, 31: 4, 41: 4, 44: 4, 45: 4, 47: 4, 49: 4, 50: 4, 53: 4, 65: 4, 78: 4, 82: 4, 95: 4, 96: 4, 97: 4, 98: 4, 20: 5, 26: 5, 30: 5, 39: 5, 40: 5, 43: 5, 51: 5, 52: 5, 54: 5, 55: 5, 56: 5, 57: 5, 58: 5, 61: 5, 66: 5, 83: 5, 84: 5, 93: 5, 94: 5, 99: 5, 112: 5, 113: 5, 16: 6, 19: 6, 27: 6, 28: 6, 36: 6, 38: 6, 42: 6, 59: 6, 60: 6, 85: 6, 87: 6, 88: 6, 91: 6, 92: 6, 100: 6, 102: 6, 103: 6, 105: 6, 114: 6, 14: 7, 15: 7, 17: 7, 18: 7, 32: 7, 33: 7, 34: 7, 89: 7, 90: 7, 101: 7, 104: 7, 106: 7, 109: 7, 11: 8, 12: 8, 13: 8, 35: 8, 107: 8, 108: 8, 110: 8, 111: 8, 1: 9, 2: 9, 6: 9, 10: 9, 116: 9, 0: 10, 3: 10, 4: 10, 5: 10} \n",
            "74 {74: 0, 68: 1, 69: 1, 73: 1, 76: 1, 117: 1, 70: 2, 75: 2, 77: 2, 46: 2, 79: 2, 48: 2, 81: 2, 23: 2, 22: 3, 41: 3, 44: 3, 45: 3, 47: 3, 49: 3, 50: 3, 53: 3, 65: 3, 71: 3, 72: 3, 78: 3, 82: 3, 95: 3, 96: 3, 97: 3, 98: 3, 21: 4, 24: 4, 31: 4, 39: 4, 40: 4, 43: 4, 51: 4, 52: 4, 54: 4, 55: 4, 56: 4, 57: 4, 58: 4, 61: 4, 66: 4, 83: 4, 84: 4, 93: 4, 94: 4, 99: 4, 20: 5, 26: 5, 30: 5, 36: 5, 38: 5, 42: 5, 59: 5, 60: 5, 85: 5, 87: 5, 88: 5, 91: 5, 92: 5, 100: 5, 102: 5, 103: 5, 105: 5, 112: 5, 113: 5, 16: 6, 19: 6, 27: 6, 28: 6, 32: 6, 33: 6, 34: 6, 89: 6, 90: 6, 101: 6, 104: 6, 106: 6, 109: 6, 114: 6, 14: 7, 15: 7, 17: 7, 18: 7, 35: 7, 107: 7, 108: 7, 110: 7, 111: 7, 11: 8, 12: 8, 13: 8, 1: 9, 2: 9, 6: 9, 10: 9, 116: 9, 0: 10, 3: 10, 4: 10, 5: 10} \n",
            "75 {75: 0, 76: 1, 117: 1, 68: 2, 74: 2, 77: 2, 79: 2, 81: 2, 96: 3, 97: 3, 98: 3, 69: 3, 73: 3, 46: 3, 78: 3, 48: 3, 82: 3, 95: 3, 23: 4, 41: 4, 44: 4, 45: 4, 47: 4, 49: 4, 50: 4, 53: 4, 65: 4, 70: 4, 83: 4, 84: 4, 93: 4, 94: 4, 99: 4, 22: 5, 39: 5, 40: 5, 43: 5, 51: 5, 52: 5, 54: 5, 55: 5, 56: 5, 57: 5, 58: 5, 61: 5, 66: 5, 71: 5, 72: 5, 85: 5, 87: 5, 88: 5, 91: 5, 92: 5, 100: 5, 102: 5, 103: 5, 105: 5, 21: 6, 24: 6, 31: 6, 36: 6, 38: 6, 42: 6, 59: 6, 60: 6, 89: 6, 90: 6, 101: 6, 104: 6, 106: 6, 109: 6, 20: 7, 26: 7, 30: 7, 32: 7, 33: 7, 34: 7, 107: 7, 108: 7, 110: 7, 111: 7, 112: 7, 113: 7, 35: 8, 14: 8, 16: 8, 114: 8, 19: 8, 18: 8, 27: 8, 28: 8, 12: 9, 13: 9, 15: 9, 17: 9, 10: 10, 11: 10, 1: 11, 2: 11, 3: 11, 4: 11, 6: 11, 116: 11, 0: 12, 5: 12} \n",
            "76 {76: 0, 68: 1, 74: 1, 75: 1, 77: 1, 79: 1, 81: 1, 96: 2, 97: 2, 98: 2, 69: 2, 73: 2, 46: 2, 78: 2, 48: 2, 82: 2, 117: 2, 95: 2, 23: 3, 41: 3, 44: 3, 45: 3, 47: 3, 49: 3, 50: 3, 53: 3, 65: 3, 70: 3, 83: 3, 84: 3, 93: 3, 94: 3, 99: 3, 22: 4, 39: 4, 40: 4, 43: 4, 51: 4, 52: 4, 54: 4, 55: 4, 56: 4, 57: 4, 58: 4, 61: 4, 66: 4, 71: 4, 72: 4, 85: 4, 87: 4, 88: 4, 91: 4, 92: 4, 100: 4, 102: 4, 103: 4, 105: 4, 21: 5, 24: 5, 31: 5, 36: 5, 38: 5, 42: 5, 59: 5, 60: 5, 89: 5, 90: 5, 101: 5, 104: 5, 106: 5, 109: 5, 20: 6, 26: 6, 30: 6, 32: 6, 33: 6, 34: 6, 107: 6, 108: 6, 110: 6, 111: 6, 112: 6, 113: 6, 35: 7, 14: 7, 16: 7, 114: 7, 19: 7, 18: 7, 27: 7, 28: 7, 12: 8, 13: 8, 15: 8, 17: 8, 10: 9, 11: 9, 1: 10, 2: 10, 3: 10, 4: 10, 6: 10, 116: 10, 0: 11, 5: 11} \n",
            "77 {77: 0, 76: 1, 78: 1, 68: 2, 74: 2, 75: 2, 79: 2, 81: 2, 96: 3, 97: 3, 98: 3, 69: 3, 73: 3, 46: 3, 48: 3, 82: 3, 117: 3, 95: 3, 23: 4, 41: 4, 44: 4, 45: 4, 47: 4, 49: 4, 50: 4, 53: 4, 65: 4, 70: 4, 83: 4, 84: 4, 93: 4, 94: 4, 99: 4, 22: 5, 39: 5, 40: 5, 43: 5, 51: 5, 52: 5, 54: 5, 55: 5, 56: 5, 57: 5, 58: 5, 61: 5, 66: 5, 71: 5, 72: 5, 85: 5, 87: 5, 88: 5, 91: 5, 92: 5, 100: 5, 102: 5, 103: 5, 105: 5, 21: 6, 24: 6, 31: 6, 36: 6, 38: 6, 42: 6, 59: 6, 60: 6, 89: 6, 90: 6, 101: 6, 104: 6, 106: 6, 109: 6, 20: 7, 26: 7, 30: 7, 32: 7, 33: 7, 34: 7, 107: 7, 108: 7, 110: 7, 111: 7, 112: 7, 113: 7, 35: 8, 14: 8, 16: 8, 114: 8, 19: 8, 18: 8, 27: 8, 28: 8, 12: 9, 13: 9, 15: 9, 17: 9, 10: 10, 11: 10, 1: 11, 2: 11, 3: 11, 4: 11, 6: 11, 116: 11, 0: 12, 5: 12} \n",
            "78 {78: 0, 77: 1, 79: 1, 96: 2, 97: 2, 98: 2, 76: 2, 95: 2, 99: 3, 68: 3, 74: 3, 75: 3, 81: 3, 93: 3, 94: 3, 46: 4, 48: 4, 69: 4, 73: 4, 82: 4, 91: 4, 92: 4, 100: 4, 102: 4, 103: 4, 105: 4, 117: 4, 23: 5, 41: 5, 44: 5, 45: 5, 47: 5, 49: 5, 50: 5, 53: 5, 65: 5, 70: 5, 83: 5, 84: 5, 88: 5, 90: 5, 101: 5, 104: 5, 106: 5, 109: 5, 22: 6, 39: 6, 40: 6, 43: 6, 51: 6, 52: 6, 54: 6, 55: 6, 56: 6, 57: 6, 58: 6, 61: 6, 66: 6, 71: 6, 72: 6, 85: 6, 87: 6, 89: 6, 107: 6, 108: 6, 110: 6, 111: 6, 21: 7, 24: 7, 31: 7, 36: 7, 38: 7, 42: 7, 59: 7, 60: 7, 32: 8, 33: 8, 34: 8, 112: 8, 113: 8, 20: 8, 26: 8, 30: 8, 35: 9, 14: 9, 16: 9, 18: 9, 114: 9, 19: 9, 27: 9, 28: 9, 12: 10, 13: 10, 15: 10, 17: 10, 10: 11, 11: 11, 1: 12, 2: 12, 3: 12, 4: 12, 6: 12, 116: 12, 0: 13, 5: 13} \n",
            "79 {79: 0, 96: 1, 97: 1, 98: 1, 76: 1, 78: 1, 95: 1, 99: 2, 68: 2, 74: 2, 75: 2, 77: 2, 81: 2, 93: 2, 94: 2, 46: 3, 48: 3, 69: 3, 73: 3, 82: 3, 91: 3, 92: 3, 100: 3, 102: 3, 103: 3, 105: 3, 117: 3, 23: 4, 41: 4, 44: 4, 45: 4, 47: 4, 49: 4, 50: 4, 53: 4, 65: 4, 70: 4, 83: 4, 84: 4, 88: 4, 90: 4, 101: 4, 104: 4, 106: 4, 109: 4, 22: 5, 39: 5, 40: 5, 43: 5, 51: 5, 52: 5, 54: 5, 55: 5, 56: 5, 57: 5, 58: 5, 61: 5, 66: 5, 71: 5, 72: 5, 85: 5, 87: 5, 89: 5, 107: 5, 108: 5, 110: 5, 111: 5, 21: 6, 24: 6, 31: 6, 36: 6, 38: 6, 42: 6, 59: 6, 60: 6, 32: 7, 33: 7, 34: 7, 112: 7, 113: 7, 20: 7, 26: 7, 30: 7, 35: 8, 14: 8, 16: 8, 18: 8, 114: 8, 19: 8, 27: 8, 28: 8, 12: 9, 13: 9, 15: 9, 17: 9, 10: 10, 11: 10, 1: 11, 2: 11, 3: 11, 4: 11, 6: 11, 116: 11, 0: 12, 5: 12} \n",
            "81 {81: 0, 82: 1, 76: 1, 95: 1, 96: 2, 68: 2, 74: 2, 75: 2, 77: 2, 79: 2, 83: 2, 84: 2, 93: 2, 94: 2, 46: 3, 48: 3, 69: 3, 73: 3, 78: 3, 85: 3, 87: 3, 88: 3, 91: 3, 92: 3, 97: 3, 98: 3, 99: 3, 117: 3, 23: 4, 41: 4, 44: 4, 45: 4, 47: 4, 49: 4, 50: 4, 53: 4, 65: 4, 70: 4, 89: 4, 90: 4, 100: 4, 101: 4, 102: 4, 103: 4, 105: 4, 22: 5, 39: 5, 40: 5, 43: 5, 51: 5, 52: 5, 54: 5, 55: 5, 56: 5, 57: 5, 58: 5, 61: 5, 66: 5, 71: 5, 72: 5, 104: 5, 106: 5, 109: 5, 21: 6, 24: 6, 31: 6, 36: 6, 38: 6, 42: 6, 59: 6, 60: 6, 107: 6, 108: 6, 110: 6, 111: 6, 20: 7, 26: 7, 30: 7, 32: 7, 33: 7, 34: 7, 112: 7, 113: 7, 35: 8, 14: 8, 16: 8, 114: 8, 19: 8, 18: 8, 27: 8, 28: 8, 12: 9, 13: 9, 15: 9, 17: 9, 10: 10, 11: 10, 1: 11, 2: 11, 3: 11, 4: 11, 6: 11, 116: 11, 0: 12, 5: 12} \n",
            "82 {82: 0, 81: 1, 83: 1, 84: 1, 76: 2, 85: 2, 87: 2, 88: 2, 95: 2, 96: 3, 68: 3, 74: 3, 75: 3, 77: 3, 79: 3, 89: 3, 91: 3, 93: 3, 94: 3, 46: 4, 48: 4, 69: 4, 73: 4, 78: 4, 90: 4, 92: 4, 97: 4, 98: 4, 99: 4, 101: 4, 117: 4, 23: 5, 41: 5, 44: 5, 45: 5, 47: 5, 49: 5, 50: 5, 53: 5, 65: 5, 70: 5, 100: 5, 102: 5, 103: 5, 105: 5, 22: 6, 39: 6, 40: 6, 43: 6, 51: 6, 52: 6, 54: 6, 55: 6, 56: 6, 57: 6, 58: 6, 61: 6, 66: 6, 71: 6, 72: 6, 104: 6, 106: 6, 109: 6, 21: 7, 24: 7, 31: 7, 36: 7, 38: 7, 42: 7, 59: 7, 60: 7, 107: 7, 108: 7, 110: 7, 111: 7, 20: 8, 26: 8, 30: 8, 32: 8, 33: 8, 34: 8, 112: 8, 113: 8, 35: 9, 14: 9, 16: 9, 114: 9, 19: 9, 18: 9, 27: 9, 28: 9, 12: 10, 13: 10, 15: 10, 17: 10, 10: 11, 11: 11, 1: 12, 2: 12, 3: 12, 4: 12, 6: 12, 116: 12, 0: 13, 5: 13} \n",
            "83 {83: 0, 82: 1, 84: 1, 81: 2, 85: 2, 87: 2, 88: 2, 76: 3, 89: 3, 91: 3, 95: 3, 96: 4, 99: 4, 68: 4, 101: 4, 74: 4, 75: 4, 77: 4, 79: 4, 90: 4, 92: 4, 93: 4, 94: 4, 46: 5, 48: 5, 69: 5, 73: 5, 78: 5, 97: 5, 98: 5, 100: 5, 102: 5, 103: 5, 105: 5, 117: 5, 23: 6, 41: 6, 44: 6, 45: 6, 47: 6, 49: 6, 50: 6, 53: 6, 65: 6, 70: 6, 104: 6, 106: 6, 109: 6, 22: 7, 39: 7, 40: 7, 43: 7, 51: 7, 52: 7, 54: 7, 55: 7, 56: 7, 57: 7, 58: 7, 61: 7, 66: 7, 71: 7, 72: 7, 107: 7, 108: 7, 110: 7, 111: 7, 21: 8, 24: 8, 31: 8, 36: 8, 38: 8, 42: 8, 59: 8, 60: 8, 32: 9, 33: 9, 34: 9, 112: 9, 113: 9, 20: 9, 26: 9, 30: 9, 35: 10, 14: 10, 16: 10, 18: 10, 114: 10, 19: 10, 27: 10, 28: 10, 12: 11, 13: 11, 15: 11, 17: 11, 10: 12, 11: 12, 1: 13, 2: 13, 3: 13, 4: 13, 6: 13, 116: 13, 0: 14, 5: 14} \n",
            "84 {84: 0, 82: 1, 83: 1, 85: 1, 87: 1, 88: 1, 81: 2, 89: 2, 91: 2, 99: 3, 101: 3, 76: 3, 90: 3, 92: 3, 93: 3, 95: 3, 68: 4, 74: 4, 75: 4, 77: 4, 79: 4, 94: 4, 96: 4, 97: 4, 98: 4, 100: 4, 102: 4, 103: 4, 105: 4, 46: 5, 48: 5, 69: 5, 73: 5, 78: 5, 104: 5, 106: 5, 109: 5, 117: 5, 23: 6, 41: 6, 44: 6, 45: 6, 47: 6, 49: 6, 50: 6, 53: 6, 65: 6, 70: 6, 107: 6, 108: 6, 110: 6, 111: 6, 22: 7, 39: 7, 40: 7, 43: 7, 51: 7, 52: 7, 54: 7, 55: 7, 56: 7, 57: 7, 58: 7, 61: 7, 66: 7, 71: 7, 72: 7, 21: 8, 24: 8, 31: 8, 36: 8, 38: 8, 42: 8, 59: 8, 60: 8, 32: 9, 33: 9, 34: 9, 112: 9, 113: 9, 20: 9, 26: 9, 30: 9, 35: 10, 14: 10, 16: 10, 18: 10, 114: 10, 19: 10, 27: 10, 28: 10, 12: 11, 13: 11, 15: 11, 17: 11, 10: 12, 11: 12, 1: 13, 2: 13, 3: 13, 4: 13, 6: 13, 116: 13, 0: 14, 5: 14} \n",
            "85 {85: 0, 84: 1, 82: 2, 83: 2, 87: 2, 88: 2, 81: 3, 89: 3, 91: 3, 99: 4, 101: 4, 76: 4, 90: 4, 92: 4, 93: 4, 95: 4, 68: 5, 74: 5, 75: 5, 77: 5, 79: 5, 94: 5, 96: 5, 97: 5, 98: 5, 100: 5, 102: 5, 103: 5, 105: 5, 46: 6, 48: 6, 69: 6, 73: 6, 78: 6, 104: 6, 106: 6, 109: 6, 117: 6, 23: 7, 41: 7, 44: 7, 45: 7, 47: 7, 49: 7, 50: 7, 53: 7, 65: 7, 70: 7, 107: 7, 108: 7, 110: 7, 111: 7, 22: 8, 39: 8, 40: 8, 43: 8, 51: 8, 52: 8, 54: 8, 55: 8, 56: 8, 57: 8, 58: 8, 61: 8, 66: 8, 71: 8, 72: 8, 21: 9, 24: 9, 31: 9, 36: 9, 38: 9, 42: 9, 59: 9, 60: 9, 32: 10, 33: 10, 34: 10, 112: 10, 113: 10, 20: 10, 26: 10, 30: 10, 35: 11, 14: 11, 16: 11, 18: 11, 114: 11, 19: 11, 27: 11, 28: 11, 12: 12, 13: 12, 15: 12, 17: 12, 10: 13, 11: 13, 1: 14, 2: 14, 3: 14, 4: 14, 6: 14, 116: 14, 0: 15, 5: 15} \n",
            "87 {87: 0, 88: 1, 84: 1, 82: 2, 83: 2, 85: 2, 89: 2, 91: 2, 99: 3, 101: 3, 81: 3, 90: 3, 92: 3, 93: 3, 97: 4, 98: 4, 100: 4, 102: 4, 103: 4, 105: 4, 76: 4, 94: 4, 95: 4, 96: 5, 68: 5, 104: 5, 106: 5, 75: 5, 74: 5, 109: 5, 77: 5, 79: 5, 46: 6, 48: 6, 69: 6, 73: 6, 78: 6, 107: 6, 108: 6, 110: 6, 111: 6, 117: 6, 23: 7, 41: 7, 44: 7, 45: 7, 47: 7, 49: 7, 50: 7, 53: 7, 65: 7, 70: 7, 22: 8, 39: 8, 40: 8, 43: 8, 51: 8, 52: 8, 54: 8, 55: 8, 56: 8, 57: 8, 58: 8, 61: 8, 66: 8, 71: 8, 72: 8, 21: 9, 24: 9, 31: 9, 36: 9, 38: 9, 42: 9, 59: 9, 60: 9, 32: 10, 33: 10, 34: 10, 112: 10, 113: 10, 20: 10, 26: 10, 30: 10, 35: 11, 14: 11, 16: 11, 18: 11, 114: 11, 19: 11, 27: 11, 28: 11, 12: 12, 13: 12, 15: 12, 17: 12, 10: 13, 11: 13, 1: 14, 2: 14, 3: 14, 4: 14, 6: 14, 116: 14, 0: 15, 5: 15} \n",
            "88 {88: 0, 89: 1, 91: 1, 84: 1, 87: 1, 99: 2, 101: 2, 82: 2, 83: 2, 85: 2, 90: 2, 92: 2, 93: 2, 97: 3, 98: 3, 100: 3, 102: 3, 103: 3, 105: 3, 81: 3, 94: 3, 95: 3, 96: 4, 104: 4, 106: 4, 76: 4, 109: 4, 79: 4, 68: 5, 74: 5, 75: 5, 77: 5, 78: 5, 107: 5, 108: 5, 110: 5, 111: 5, 69: 6, 73: 6, 46: 6, 48: 6, 117: 6, 65: 7, 70: 7, 41: 7, 44: 7, 45: 7, 47: 7, 49: 7, 50: 7, 53: 7, 23: 7, 22: 8, 39: 8, 40: 8, 43: 8, 51: 8, 52: 8, 54: 8, 55: 8, 56: 8, 57: 8, 58: 8, 61: 8, 66: 8, 71: 8, 72: 8, 21: 9, 24: 9, 31: 9, 36: 9, 38: 9, 42: 9, 59: 9, 60: 9, 32: 10, 33: 10, 34: 10, 112: 10, 113: 10, 20: 10, 26: 10, 30: 10, 35: 11, 14: 11, 16: 11, 18: 11, 114: 11, 19: 11, 27: 11, 28: 11, 12: 12, 13: 12, 15: 12, 17: 12, 10: 13, 11: 13, 1: 14, 2: 14, 3: 14, 4: 14, 6: 14, 116: 14, 0: 15, 5: 15} \n",
            "89 {89: 0, 88: 1, 90: 1, 91: 2, 84: 2, 87: 2, 99: 3, 101: 3, 82: 3, 83: 3, 85: 3, 92: 3, 93: 3, 97: 4, 98: 4, 100: 4, 102: 4, 103: 4, 105: 4, 81: 4, 94: 4, 95: 4, 96: 5, 104: 5, 106: 5, 76: 5, 109: 5, 79: 5, 68: 6, 74: 6, 75: 6, 77: 6, 78: 6, 107: 6, 108: 6, 110: 6, 111: 6, 69: 7, 73: 7, 46: 7, 48: 7, 117: 7, 65: 8, 70: 8, 41: 8, 44: 8, 45: 8, 47: 8, 49: 8, 50: 8, 53: 8, 23: 8, 22: 9, 39: 9, 40: 9, 43: 9, 51: 9, 52: 9, 54: 9, 55: 9, 56: 9, 57: 9, 58: 9, 61: 9, 66: 9, 71: 9, 72: 9, 21: 10, 24: 10, 31: 10, 36: 10, 38: 10, 42: 10, 59: 10, 60: 10, 32: 11, 33: 11, 34: 11, 112: 11, 113: 11, 20: 11, 26: 11, 30: 11, 35: 12, 14: 12, 16: 12, 18: 12, 114: 12, 19: 12, 27: 12, 28: 12, 12: 13, 13: 13, 15: 13, 17: 13, 10: 14, 11: 14, 1: 15, 2: 15, 3: 15, 4: 15, 6: 15, 116: 15, 0: 16, 5: 16} \n",
            "90 {90: 0, 89: 1, 91: 1, 99: 2, 101: 2, 88: 2, 92: 2, 93: 2, 97: 3, 98: 3, 100: 3, 102: 3, 103: 3, 105: 3, 84: 3, 87: 3, 94: 3, 95: 3, 79: 4, 81: 4, 82: 4, 83: 4, 85: 4, 96: 4, 104: 4, 106: 4, 109: 4, 76: 5, 78: 5, 107: 5, 108: 5, 110: 5, 111: 5, 68: 6, 74: 6, 75: 6, 77: 6, 69: 7, 73: 7, 46: 7, 48: 7, 117: 7, 65: 8, 70: 8, 41: 8, 44: 8, 45: 8, 47: 8, 49: 8, 50: 8, 53: 8, 23: 8, 22: 9, 39: 9, 40: 9, 43: 9, 51: 9, 52: 9, 54: 9, 55: 9, 56: 9, 57: 9, 58: 9, 61: 9, 66: 9, 71: 9, 72: 9, 21: 10, 24: 10, 31: 10, 36: 10, 38: 10, 42: 10, 59: 10, 60: 10, 32: 11, 33: 11, 34: 11, 112: 11, 113: 11, 20: 11, 26: 11, 30: 11, 35: 12, 14: 12, 16: 12, 18: 12, 114: 12, 19: 12, 27: 12, 28: 12, 12: 13, 13: 13, 15: 13, 17: 13, 10: 14, 11: 14, 1: 15, 2: 15, 3: 15, 4: 15, 6: 15, 116: 15, 0: 16, 5: 16} \n",
            "91 {91: 0, 99: 1, 101: 1, 88: 1, 90: 1, 92: 1, 93: 1, 97: 2, 98: 2, 100: 2, 102: 2, 103: 2, 105: 2, 84: 2, 87: 2, 89: 2, 94: 2, 95: 2, 79: 3, 81: 3, 82: 3, 83: 3, 85: 3, 96: 3, 104: 3, 106: 3, 109: 3, 76: 4, 78: 4, 107: 4, 108: 4, 110: 4, 111: 4, 68: 5, 74: 5, 75: 5, 77: 5, 69: 6, 73: 6, 46: 6, 48: 6, 117: 6, 65: 7, 70: 7, 41: 7, 44: 7, 45: 7, 47: 7, 49: 7, 50: 7, 53: 7, 23: 7, 22: 8, 39: 8, 40: 8, 43: 8, 51: 8, 52: 8, 54: 8, 55: 8, 56: 8, 57: 8, 58: 8, 61: 8, 66: 8, 71: 8, 72: 8, 21: 9, 24: 9, 31: 9, 36: 9, 38: 9, 42: 9, 59: 9, 60: 9, 32: 10, 33: 10, 34: 10, 112: 10, 113: 10, 20: 10, 26: 10, 30: 10, 35: 11, 14: 11, 16: 11, 18: 11, 114: 11, 19: 11, 27: 11, 28: 11, 12: 12, 13: 12, 15: 12, 17: 12, 10: 13, 11: 13, 1: 14, 2: 14, 3: 14, 4: 14, 6: 14, 116: 14, 0: 15, 5: 15} \n",
            "92 {92: 0, 91: 1, 93: 1, 99: 2, 101: 2, 88: 2, 90: 2, 94: 2, 95: 2, 96: 3, 97: 3, 98: 3, 100: 3, 102: 3, 103: 3, 105: 3, 79: 3, 81: 3, 84: 3, 87: 3, 89: 3, 76: 4, 78: 4, 82: 4, 83: 4, 85: 4, 104: 4, 106: 4, 109: 4, 68: 5, 74: 5, 75: 5, 77: 5, 107: 5, 108: 5, 110: 5, 111: 5, 69: 6, 73: 6, 46: 6, 48: 6, 117: 6, 65: 7, 70: 7, 41: 7, 44: 7, 45: 7, 47: 7, 49: 7, 50: 7, 53: 7, 23: 7, 22: 8, 39: 8, 40: 8, 43: 8, 51: 8, 52: 8, 54: 8, 55: 8, 56: 8, 57: 8, 58: 8, 61: 8, 66: 8, 71: 8, 72: 8, 21: 9, 24: 9, 31: 9, 36: 9, 38: 9, 42: 9, 59: 9, 60: 9, 32: 10, 33: 10, 34: 10, 112: 10, 113: 10, 20: 10, 26: 10, 30: 10, 35: 11, 14: 11, 16: 11, 18: 11, 114: 11, 19: 11, 27: 11, 28: 11, 12: 12, 13: 12, 15: 12, 17: 12, 10: 13, 11: 13, 1: 14, 2: 14, 3: 14, 4: 14, 6: 14, 116: 14, 0: 15, 5: 15} \n",
            "93 {93: 0, 99: 1, 91: 1, 92: 1, 94: 1, 95: 1, 96: 2, 97: 2, 98: 2, 100: 2, 101: 2, 102: 2, 103: 2, 105: 2, 79: 2, 81: 2, 88: 2, 90: 2, 76: 3, 78: 3, 82: 3, 84: 3, 87: 3, 89: 3, 104: 3, 106: 3, 109: 3, 68: 4, 74: 4, 75: 4, 77: 4, 83: 4, 85: 4, 107: 4, 108: 4, 110: 4, 111: 4, 69: 5, 73: 5, 46: 5, 48: 5, 117: 5, 65: 6, 70: 6, 41: 6, 44: 6, 45: 6, 47: 6, 49: 6, 50: 6, 53: 6, 23: 6, 22: 7, 39: 7, 40: 7, 43: 7, 51: 7, 52: 7, 54: 7, 55: 7, 56: 7, 57: 7, 58: 7, 61: 7, 66: 7, 71: 7, 72: 7, 21: 8, 24: 8, 31: 8, 36: 8, 38: 8, 42: 8, 59: 8, 60: 8, 32: 9, 33: 9, 34: 9, 112: 9, 113: 9, 20: 9, 26: 9, 30: 9, 35: 10, 14: 10, 16: 10, 18: 10, 114: 10, 19: 10, 27: 10, 28: 10, 12: 11, 13: 11, 15: 11, 17: 11, 10: 12, 11: 12, 1: 13, 2: 13, 3: 13, 4: 13, 6: 13, 116: 13, 0: 14, 5: 14} \n",
            "94 {94: 0, 93: 1, 95: 1, 96: 2, 99: 2, 79: 2, 81: 2, 91: 2, 92: 2, 76: 3, 78: 3, 82: 3, 88: 3, 90: 3, 97: 3, 98: 3, 100: 3, 101: 3, 102: 3, 103: 3, 105: 3, 68: 4, 74: 4, 75: 4, 77: 4, 83: 4, 84: 4, 87: 4, 89: 4, 104: 4, 106: 4, 109: 4, 46: 5, 48: 5, 69: 5, 73: 5, 85: 5, 107: 5, 108: 5, 110: 5, 111: 5, 117: 5, 23: 6, 41: 6, 44: 6, 45: 6, 47: 6, 49: 6, 50: 6, 53: 6, 65: 6, 70: 6, 22: 7, 39: 7, 40: 7, 43: 7, 51: 7, 52: 7, 54: 7, 55: 7, 56: 7, 57: 7, 58: 7, 61: 7, 66: 7, 71: 7, 72: 7, 21: 8, 24: 8, 31: 8, 36: 8, 38: 8, 42: 8, 59: 8, 60: 8, 32: 9, 33: 9, 34: 9, 112: 9, 113: 9, 20: 9, 26: 9, 30: 9, 35: 10, 14: 10, 16: 10, 18: 10, 114: 10, 19: 10, 27: 10, 28: 10, 12: 11, 13: 11, 15: 11, 17: 11, 10: 12, 11: 12, 1: 13, 2: 13, 3: 13, 4: 13, 6: 13, 116: 13, 0: 14, 5: 14} \n",
            "95 {95: 0, 96: 1, 79: 1, 81: 1, 93: 1, 94: 1, 97: 2, 98: 2, 99: 2, 76: 2, 78: 2, 82: 2, 91: 2, 92: 2, 68: 3, 74: 3, 75: 3, 77: 3, 83: 3, 84: 3, 88: 3, 90: 3, 100: 3, 101: 3, 102: 3, 103: 3, 105: 3, 46: 4, 48: 4, 69: 4, 73: 4, 85: 4, 87: 4, 89: 4, 104: 4, 106: 4, 109: 4, 117: 4, 23: 5, 41: 5, 44: 5, 45: 5, 47: 5, 49: 5, 50: 5, 53: 5, 65: 5, 70: 5, 107: 5, 108: 5, 110: 5, 111: 5, 22: 6, 39: 6, 40: 6, 43: 6, 51: 6, 52: 6, 54: 6, 55: 6, 56: 6, 57: 6, 58: 6, 61: 6, 66: 6, 71: 6, 72: 6, 21: 7, 24: 7, 31: 7, 36: 7, 38: 7, 42: 7, 59: 7, 60: 7, 32: 8, 33: 8, 34: 8, 112: 8, 113: 8, 20: 8, 26: 8, 30: 8, 35: 9, 14: 9, 16: 9, 18: 9, 114: 9, 19: 9, 27: 9, 28: 9, 12: 10, 13: 10, 15: 10, 17: 10, 10: 11, 11: 11, 1: 12, 2: 12, 3: 12, 4: 12, 6: 12, 116: 12, 0: 13, 5: 13} \n",
            "96 {96: 0, 95: 1, 79: 1, 97: 2, 98: 2, 76: 2, 78: 2, 81: 2, 93: 2, 94: 2, 99: 3, 68: 3, 74: 3, 75: 3, 77: 3, 82: 3, 91: 3, 92: 3, 46: 4, 48: 4, 69: 4, 73: 4, 83: 4, 84: 4, 88: 4, 90: 4, 100: 4, 101: 4, 102: 4, 103: 4, 105: 4, 117: 4, 23: 5, 41: 5, 44: 5, 45: 5, 47: 5, 49: 5, 50: 5, 53: 5, 65: 5, 70: 5, 85: 5, 87: 5, 89: 5, 104: 5, 106: 5, 109: 5, 22: 6, 39: 6, 40: 6, 43: 6, 51: 6, 52: 6, 54: 6, 55: 6, 56: 6, 57: 6, 58: 6, 61: 6, 66: 6, 71: 6, 72: 6, 107: 6, 108: 6, 110: 6, 111: 6, 21: 7, 24: 7, 31: 7, 36: 7, 38: 7, 42: 7, 59: 7, 60: 7, 32: 8, 33: 8, 34: 8, 112: 8, 113: 8, 20: 8, 26: 8, 30: 8, 35: 9, 14: 9, 16: 9, 18: 9, 114: 9, 19: 9, 27: 9, 28: 9, 12: 10, 13: 10, 15: 10, 17: 10, 10: 11, 11: 11, 1: 12, 2: 12, 3: 12, 4: 12, 6: 12, 116: 12, 0: 13, 5: 13} \n",
            "97 {97: 0, 99: 1, 79: 1, 96: 2, 98: 2, 100: 2, 102: 2, 103: 2, 105: 2, 76: 2, 78: 2, 91: 2, 93: 2, 95: 2, 68: 3, 74: 3, 75: 3, 77: 3, 81: 3, 88: 3, 90: 3, 92: 3, 94: 3, 101: 3, 104: 3, 106: 3, 109: 3, 46: 4, 48: 4, 69: 4, 73: 4, 82: 4, 84: 4, 87: 4, 89: 4, 107: 4, 108: 4, 110: 4, 111: 4, 117: 4, 23: 5, 41: 5, 44: 5, 45: 5, 47: 5, 49: 5, 50: 5, 53: 5, 65: 5, 70: 5, 83: 5, 85: 5, 22: 6, 39: 6, 40: 6, 43: 6, 51: 6, 52: 6, 54: 6, 55: 6, 56: 6, 57: 6, 58: 6, 61: 6, 66: 6, 71: 6, 72: 6, 21: 7, 24: 7, 31: 7, 36: 7, 38: 7, 42: 7, 59: 7, 60: 7, 32: 8, 33: 8, 34: 8, 112: 8, 113: 8, 20: 8, 26: 8, 30: 8, 35: 9, 14: 9, 16: 9, 18: 9, 114: 9, 19: 9, 27: 9, 28: 9, 12: 10, 13: 10, 15: 10, 17: 10, 10: 11, 11: 11, 1: 12, 2: 12, 3: 12, 4: 12, 6: 12, 116: 12, 0: 13, 5: 13} \n",
            "98 {98: 0, 99: 1, 79: 1, 96: 2, 97: 2, 100: 2, 102: 2, 103: 2, 105: 2, 76: 2, 78: 2, 91: 2, 93: 2, 95: 2, 68: 3, 74: 3, 75: 3, 77: 3, 81: 3, 88: 3, 90: 3, 92: 3, 94: 3, 101: 3, 104: 3, 106: 3, 109: 3, 46: 4, 48: 4, 69: 4, 73: 4, 82: 4, 84: 4, 87: 4, 89: 4, 107: 4, 108: 4, 110: 4, 111: 4, 117: 4, 23: 5, 41: 5, 44: 5, 45: 5, 47: 5, 49: 5, 50: 5, 53: 5, 65: 5, 70: 5, 83: 5, 85: 5, 22: 6, 39: 6, 40: 6, 43: 6, 51: 6, 52: 6, 54: 6, 55: 6, 56: 6, 57: 6, 58: 6, 61: 6, 66: 6, 71: 6, 72: 6, 21: 7, 24: 7, 31: 7, 36: 7, 38: 7, 42: 7, 59: 7, 60: 7, 32: 8, 33: 8, 34: 8, 112: 8, 113: 8, 20: 8, 26: 8, 30: 8, 35: 9, 14: 9, 16: 9, 18: 9, 114: 9, 19: 9, 27: 9, 28: 9, 12: 10, 13: 10, 15: 10, 17: 10, 10: 11, 11: 11, 1: 12, 2: 12, 3: 12, 4: 12, 6: 12, 116: 12, 0: 13, 5: 13} \n",
            "99 {99: 0, 97: 1, 98: 1, 100: 1, 102: 1, 103: 1, 105: 1, 91: 1, 93: 1, 101: 2, 104: 2, 106: 2, 109: 2, 79: 2, 88: 2, 90: 2, 92: 2, 94: 2, 95: 2, 76: 3, 78: 3, 81: 3, 84: 3, 87: 3, 89: 3, 96: 3, 107: 3, 108: 3, 110: 3, 111: 3, 68: 4, 74: 4, 75: 4, 77: 4, 82: 4, 83: 4, 85: 4, 69: 5, 73: 5, 46: 5, 48: 5, 117: 5, 65: 6, 70: 6, 41: 6, 44: 6, 45: 6, 47: 6, 49: 6, 50: 6, 53: 6, 23: 6, 22: 7, 39: 7, 40: 7, 43: 7, 51: 7, 52: 7, 54: 7, 55: 7, 56: 7, 57: 7, 58: 7, 61: 7, 66: 7, 71: 7, 72: 7, 21: 8, 24: 8, 31: 8, 36: 8, 38: 8, 42: 8, 59: 8, 60: 8, 32: 9, 33: 9, 34: 9, 112: 9, 113: 9, 20: 9, 26: 9, 30: 9, 35: 10, 14: 10, 16: 10, 18: 10, 114: 10, 19: 10, 27: 10, 28: 10, 12: 11, 13: 11, 15: 11, 17: 11, 10: 12, 11: 12, 1: 13, 2: 13, 3: 13, 4: 13, 6: 13, 116: 13, 0: 14, 5: 14} \n",
            "100 {100: 0, 99: 1, 101: 1, 97: 2, 98: 2, 102: 2, 103: 2, 105: 2, 91: 2, 93: 2, 104: 3, 106: 3, 109: 3, 79: 3, 88: 3, 90: 3, 92: 3, 94: 3, 95: 3, 76: 4, 78: 4, 81: 4, 84: 4, 87: 4, 89: 4, 96: 4, 107: 4, 108: 4, 110: 4, 111: 4, 68: 5, 74: 5, 75: 5, 77: 5, 82: 5, 83: 5, 85: 5, 69: 6, 73: 6, 46: 6, 48: 6, 117: 6, 65: 7, 70: 7, 41: 7, 44: 7, 45: 7, 47: 7, 49: 7, 50: 7, 53: 7, 23: 7, 22: 8, 39: 8, 40: 8, 43: 8, 51: 8, 52: 8, 54: 8, 55: 8, 56: 8, 57: 8, 58: 8, 61: 8, 66: 8, 71: 8, 72: 8, 21: 9, 24: 9, 31: 9, 36: 9, 38: 9, 42: 9, 59: 9, 60: 9, 32: 10, 33: 10, 34: 10, 112: 10, 113: 10, 20: 10, 26: 10, 30: 10, 35: 11, 14: 11, 16: 11, 18: 11, 114: 11, 19: 11, 27: 11, 28: 11, 12: 12, 13: 12, 15: 12, 17: 12, 10: 13, 11: 13, 1: 14, 2: 14, 3: 14, 4: 14, 6: 14, 116: 14, 0: 15, 5: 15} \n",
            "101 {101: 0, 91: 1, 100: 1, 99: 2, 88: 2, 90: 2, 92: 2, 93: 2, 97: 3, 98: 3, 102: 3, 103: 3, 105: 3, 84: 3, 87: 3, 89: 3, 94: 3, 95: 3, 79: 4, 81: 4, 82: 4, 83: 4, 85: 4, 96: 4, 104: 4, 106: 4, 109: 4, 76: 5, 78: 5, 107: 5, 108: 5, 110: 5, 111: 5, 68: 6, 74: 6, 75: 6, 77: 6, 69: 7, 73: 7, 46: 7, 48: 7, 117: 7, 65: 8, 70: 8, 41: 8, 44: 8, 45: 8, 47: 8, 49: 8, 50: 8, 53: 8, 23: 8, 22: 9, 39: 9, 40: 9, 43: 9, 51: 9, 52: 9, 54: 9, 55: 9, 56: 9, 57: 9, 58: 9, 61: 9, 66: 9, 71: 9, 72: 9, 21: 10, 24: 10, 31: 10, 36: 10, 38: 10, 42: 10, 59: 10, 60: 10, 32: 11, 33: 11, 34: 11, 112: 11, 113: 11, 20: 11, 26: 11, 30: 11, 35: 12, 14: 12, 16: 12, 18: 12, 114: 12, 19: 12, 27: 12, 28: 12, 12: 13, 13: 13, 15: 13, 17: 13, 10: 14, 11: 14, 1: 15, 2: 15, 3: 15, 4: 15, 6: 15, 116: 15, 0: 16, 5: 16} \n",
            "102 {102: 0, 104: 1, 99: 1, 109: 1, 103: 1, 97: 2, 98: 2, 100: 2, 105: 2, 106: 2, 107: 2, 108: 2, 110: 2, 111: 2, 91: 2, 93: 2, 101: 3, 79: 3, 88: 3, 90: 3, 92: 3, 94: 3, 95: 3, 96: 4, 76: 4, 78: 4, 81: 4, 84: 4, 87: 4, 89: 4, 68: 5, 74: 5, 75: 5, 77: 5, 82: 5, 83: 5, 85: 5, 69: 6, 73: 6, 46: 6, 48: 6, 117: 6, 65: 7, 70: 7, 41: 7, 44: 7, 45: 7, 47: 7, 49: 7, 50: 7, 53: 7, 23: 7, 22: 8, 39: 8, 40: 8, 43: 8, 51: 8, 52: 8, 54: 8, 55: 8, 56: 8, 57: 8, 58: 8, 61: 8, 66: 8, 71: 8, 72: 8, 21: 9, 24: 9, 31: 9, 36: 9, 38: 9, 42: 9, 59: 9, 60: 9, 32: 10, 33: 10, 34: 10, 112: 10, 113: 10, 20: 10, 26: 10, 30: 10, 35: 11, 14: 11, 16: 11, 18: 11, 114: 11, 19: 11, 27: 11, 28: 11, 12: 12, 13: 12, 15: 12, 17: 12, 10: 13, 11: 13, 1: 14, 2: 14, 3: 14, 4: 14, 6: 14, 116: 14, 0: 15, 5: 15} \n",
            "103 {103: 0, 104: 1, 99: 1, 102: 1, 97: 2, 98: 2, 100: 2, 105: 2, 106: 2, 107: 2, 109: 2, 91: 2, 93: 2, 101: 3, 108: 3, 110: 3, 79: 3, 111: 3, 88: 3, 90: 3, 92: 3, 94: 3, 95: 3, 96: 4, 76: 4, 78: 4, 81: 4, 84: 4, 87: 4, 89: 4, 68: 5, 74: 5, 75: 5, 77: 5, 82: 5, 83: 5, 85: 5, 69: 6, 73: 6, 46: 6, 48: 6, 117: 6, 65: 7, 70: 7, 41: 7, 44: 7, 45: 7, 47: 7, 49: 7, 50: 7, 53: 7, 23: 7, 22: 8, 39: 8, 40: 8, 43: 8, 51: 8, 52: 8, 54: 8, 55: 8, 56: 8, 57: 8, 58: 8, 61: 8, 66: 8, 71: 8, 72: 8, 21: 9, 24: 9, 31: 9, 36: 9, 38: 9, 42: 9, 59: 9, 60: 9, 32: 10, 33: 10, 34: 10, 112: 10, 113: 10, 20: 10, 26: 10, 30: 10, 35: 11, 14: 11, 16: 11, 18: 11, 114: 11, 19: 11, 27: 11, 28: 11, 12: 12, 13: 12, 15: 12, 17: 12, 10: 13, 11: 13, 1: 14, 2: 14, 3: 14, 4: 14, 6: 14, 116: 14, 0: 15, 5: 15} \n",
            "104 {104: 0, 102: 1, 103: 1, 105: 1, 106: 1, 107: 1, 99: 2, 108: 2, 109: 2, 97: 3, 98: 3, 100: 3, 110: 3, 111: 3, 91: 3, 93: 3, 101: 4, 79: 4, 88: 4, 90: 4, 92: 4, 94: 4, 95: 4, 96: 5, 76: 5, 78: 5, 81: 5, 84: 5, 87: 5, 89: 5, 68: 6, 74: 6, 75: 6, 77: 6, 82: 6, 83: 6, 85: 6, 69: 7, 73: 7, 46: 7, 48: 7, 117: 7, 65: 8, 70: 8, 41: 8, 44: 8, 45: 8, 47: 8, 49: 8, 50: 8, 53: 8, 23: 8, 22: 9, 39: 9, 40: 9, 43: 9, 51: 9, 52: 9, 54: 9, 55: 9, 56: 9, 57: 9, 58: 9, 61: 9, 66: 9, 71: 9, 72: 9, 21: 10, 24: 10, 31: 10, 36: 10, 38: 10, 42: 10, 59: 10, 60: 10, 32: 11, 33: 11, 34: 11, 112: 11, 113: 11, 20: 11, 26: 11, 30: 11, 35: 12, 14: 12, 16: 12, 18: 12, 114: 12, 19: 12, 27: 12, 28: 12, 12: 13, 13: 13, 15: 13, 17: 13, 10: 14, 11: 14, 1: 15, 2: 15, 3: 15, 4: 15, 6: 15, 116: 15, 0: 16, 5: 16} \n",
            "105 {105: 0, 104: 1, 106: 1, 99: 1, 97: 2, 98: 2, 100: 2, 102: 2, 103: 2, 107: 2, 91: 2, 93: 2, 101: 3, 108: 3, 109: 3, 79: 3, 88: 3, 90: 3, 92: 3, 94: 3, 95: 3, 76: 4, 78: 4, 81: 4, 84: 4, 87: 4, 89: 4, 96: 4, 110: 4, 111: 4, 68: 5, 74: 5, 75: 5, 77: 5, 82: 5, 83: 5, 85: 5, 69: 6, 73: 6, 46: 6, 48: 6, 117: 6, 65: 7, 70: 7, 41: 7, 44: 7, 45: 7, 47: 7, 49: 7, 50: 7, 53: 7, 23: 7, 22: 8, 39: 8, 40: 8, 43: 8, 51: 8, 52: 8, 54: 8, 55: 8, 56: 8, 57: 8, 58: 8, 61: 8, 66: 8, 71: 8, 72: 8, 21: 9, 24: 9, 31: 9, 36: 9, 38: 9, 42: 9, 59: 9, 60: 9, 32: 10, 33: 10, 34: 10, 112: 10, 113: 10, 20: 10, 26: 10, 30: 10, 35: 11, 14: 11, 16: 11, 18: 11, 114: 11, 19: 11, 27: 11, 28: 11, 12: 12, 13: 12, 15: 12, 17: 12, 10: 13, 11: 13, 1: 14, 2: 14, 3: 14, 4: 14, 6: 14, 116: 14, 0: 15, 5: 15} \n",
            "106 {106: 0, 104: 1, 105: 1, 99: 2, 102: 2, 103: 2, 107: 2, 97: 3, 98: 3, 100: 3, 108: 3, 109: 3, 91: 3, 93: 3, 101: 4, 110: 4, 79: 4, 111: 4, 88: 4, 90: 4, 92: 4, 94: 4, 95: 4, 96: 5, 76: 5, 78: 5, 81: 5, 84: 5, 87: 5, 89: 5, 68: 6, 74: 6, 75: 6, 77: 6, 82: 6, 83: 6, 85: 6, 69: 7, 73: 7, 46: 7, 48: 7, 117: 7, 65: 8, 70: 8, 41: 8, 44: 8, 45: 8, 47: 8, 49: 8, 50: 8, 53: 8, 23: 8, 22: 9, 39: 9, 40: 9, 43: 9, 51: 9, 52: 9, 54: 9, 55: 9, 56: 9, 57: 9, 58: 9, 61: 9, 66: 9, 71: 9, 72: 9, 21: 10, 24: 10, 31: 10, 36: 10, 38: 10, 42: 10, 59: 10, 60: 10, 32: 11, 33: 11, 34: 11, 112: 11, 113: 11, 20: 11, 26: 11, 30: 11, 35: 12, 14: 12, 16: 12, 18: 12, 114: 12, 19: 12, 27: 12, 28: 12, 12: 13, 13: 13, 15: 13, 17: 13, 10: 14, 11: 14, 1: 15, 2: 15, 3: 15, 4: 15, 6: 15, 116: 15, 0: 16, 5: 16} \n",
            "107 {107: 0, 104: 1, 108: 1, 102: 2, 103: 2, 105: 2, 106: 2, 109: 2, 99: 3, 110: 3, 111: 3, 97: 4, 98: 4, 100: 4, 91: 4, 93: 4, 101: 5, 79: 5, 88: 5, 90: 5, 92: 5, 94: 5, 95: 5, 96: 6, 76: 6, 78: 6, 81: 6, 84: 6, 87: 6, 89: 6, 68: 7, 74: 7, 75: 7, 77: 7, 82: 7, 83: 7, 85: 7, 69: 8, 73: 8, 46: 8, 48: 8, 117: 8, 65: 9, 70: 9, 41: 9, 44: 9, 45: 9, 47: 9, 49: 9, 50: 9, 53: 9, 23: 9, 22: 10, 39: 10, 40: 10, 43: 10, 51: 10, 52: 10, 54: 10, 55: 10, 56: 10, 57: 10, 58: 10, 61: 10, 66: 10, 71: 10, 72: 10, 21: 11, 24: 11, 31: 11, 36: 11, 38: 11, 42: 11, 59: 11, 60: 11, 32: 12, 33: 12, 34: 12, 112: 12, 113: 12, 20: 12, 26: 12, 30: 12, 35: 13, 14: 13, 16: 13, 18: 13, 114: 13, 19: 13, 27: 13, 28: 13, 12: 14, 13: 14, 15: 14, 17: 14, 10: 15, 11: 15, 1: 16, 2: 16, 3: 16, 4: 16, 6: 16, 116: 16, 0: 17, 5: 17} \n",
            "108 {108: 0, 107: 1, 109: 1, 102: 2, 104: 2, 110: 2, 111: 2, 99: 3, 103: 3, 105: 3, 106: 3, 97: 4, 98: 4, 100: 4, 91: 4, 93: 4, 101: 5, 79: 5, 88: 5, 90: 5, 92: 5, 94: 5, 95: 5, 96: 6, 76: 6, 78: 6, 81: 6, 84: 6, 87: 6, 89: 6, 68: 7, 74: 7, 75: 7, 77: 7, 82: 7, 83: 7, 85: 7, 69: 8, 73: 8, 46: 8, 48: 8, 117: 8, 65: 9, 70: 9, 41: 9, 44: 9, 45: 9, 47: 9, 49: 9, 50: 9, 53: 9, 23: 9, 22: 10, 39: 10, 40: 10, 43: 10, 51: 10, 52: 10, 54: 10, 55: 10, 56: 10, 57: 10, 58: 10, 61: 10, 66: 10, 71: 10, 72: 10, 21: 11, 24: 11, 31: 11, 36: 11, 38: 11, 42: 11, 59: 11, 60: 11, 32: 12, 33: 12, 34: 12, 112: 12, 113: 12, 20: 12, 26: 12, 30: 12, 35: 13, 14: 13, 16: 13, 18: 13, 114: 13, 19: 13, 27: 13, 28: 13, 12: 14, 13: 14, 15: 14, 17: 14, 10: 15, 11: 15, 1: 16, 2: 16, 3: 16, 4: 16, 6: 16, 116: 16, 0: 17, 5: 17} \n",
            "109 {109: 0, 110: 1, 108: 1, 102: 1, 111: 1, 99: 2, 103: 2, 104: 2, 107: 2, 97: 3, 98: 3, 100: 3, 105: 3, 106: 3, 91: 3, 93: 3, 101: 4, 79: 4, 88: 4, 90: 4, 92: 4, 94: 4, 95: 4, 96: 5, 76: 5, 78: 5, 81: 5, 84: 5, 87: 5, 89: 5, 68: 6, 74: 6, 75: 6, 77: 6, 82: 6, 83: 6, 85: 6, 69: 7, 73: 7, 46: 7, 48: 7, 117: 7, 65: 8, 70: 8, 41: 8, 44: 8, 45: 8, 47: 8, 49: 8, 50: 8, 53: 8, 23: 8, 22: 9, 39: 9, 40: 9, 43: 9, 51: 9, 52: 9, 54: 9, 55: 9, 56: 9, 57: 9, 58: 9, 61: 9, 66: 9, 71: 9, 72: 9, 21: 10, 24: 10, 31: 10, 36: 10, 38: 10, 42: 10, 59: 10, 60: 10, 32: 11, 33: 11, 34: 11, 112: 11, 113: 11, 20: 11, 26: 11, 30: 11, 35: 12, 14: 12, 16: 12, 18: 12, 114: 12, 19: 12, 27: 12, 28: 12, 12: 13, 13: 13, 15: 13, 17: 13, 10: 14, 11: 14, 1: 15, 2: 15, 3: 15, 4: 15, 6: 15, 116: 15, 0: 16, 5: 16} \n",
            "110 {110: 0, 109: 1, 108: 2, 102: 2, 111: 2, 99: 3, 103: 3, 104: 3, 107: 3, 97: 4, 98: 4, 100: 4, 105: 4, 106: 4, 91: 4, 93: 4, 101: 5, 79: 5, 88: 5, 90: 5, 92: 5, 94: 5, 95: 5, 96: 6, 76: 6, 78: 6, 81: 6, 84: 6, 87: 6, 89: 6, 68: 7, 74: 7, 75: 7, 77: 7, 82: 7, 83: 7, 85: 7, 69: 8, 73: 8, 46: 8, 48: 8, 117: 8, 65: 9, 70: 9, 41: 9, 44: 9, 45: 9, 47: 9, 49: 9, 50: 9, 53: 9, 23: 9, 22: 10, 39: 10, 40: 10, 43: 10, 51: 10, 52: 10, 54: 10, 55: 10, 56: 10, 57: 10, 58: 10, 61: 10, 66: 10, 71: 10, 72: 10, 21: 11, 24: 11, 31: 11, 36: 11, 38: 11, 42: 11, 59: 11, 60: 11, 32: 12, 33: 12, 34: 12, 112: 12, 113: 12, 20: 12, 26: 12, 30: 12, 35: 13, 14: 13, 16: 13, 18: 13, 114: 13, 19: 13, 27: 13, 28: 13, 12: 14, 13: 14, 15: 14, 17: 14, 10: 15, 11: 15, 1: 16, 2: 16, 3: 16, 4: 16, 6: 16, 116: 16, 0: 17, 5: 17} \n",
            "111 {111: 0, 109: 1, 110: 2, 108: 2, 102: 2, 99: 3, 103: 3, 104: 3, 107: 3, 97: 4, 98: 4, 100: 4, 105: 4, 106: 4, 91: 4, 93: 4, 101: 5, 79: 5, 88: 5, 90: 5, 92: 5, 94: 5, 95: 5, 96: 6, 76: 6, 78: 6, 81: 6, 84: 6, 87: 6, 89: 6, 68: 7, 74: 7, 75: 7, 77: 7, 82: 7, 83: 7, 85: 7, 69: 8, 73: 8, 46: 8, 48: 8, 117: 8, 65: 9, 70: 9, 41: 9, 44: 9, 45: 9, 47: 9, 49: 9, 50: 9, 53: 9, 23: 9, 22: 10, 39: 10, 40: 10, 43: 10, 51: 10, 52: 10, 54: 10, 55: 10, 56: 10, 57: 10, 58: 10, 61: 10, 66: 10, 71: 10, 72: 10, 21: 11, 24: 11, 31: 11, 36: 11, 38: 11, 42: 11, 59: 11, 60: 11, 32: 12, 33: 12, 34: 12, 112: 12, 113: 12, 20: 12, 26: 12, 30: 12, 35: 13, 14: 13, 16: 13, 18: 13, 114: 13, 19: 13, 27: 13, 28: 13, 12: 14, 13: 14, 15: 14, 17: 14, 10: 15, 11: 15, 1: 16, 2: 16, 3: 16, 4: 16, 6: 16, 116: 16, 0: 17, 5: 17} \n",
            "112 {112: 0, 16: 1, 31: 1, 14: 2, 15: 2, 17: 2, 113: 2, 22: 2, 26: 2, 30: 2, 32: 3, 11: 3, 12: 3, 13: 3, 18: 3, 114: 3, 21: 3, 23: 3, 24: 3, 27: 3, 28: 3, 1: 4, 2: 4, 6: 4, 10: 4, 19: 4, 20: 4, 33: 4, 36: 4, 69: 4, 71: 4, 116: 4, 0: 5, 3: 5, 4: 5, 5: 5, 34: 5, 35: 5, 38: 5, 39: 5, 42: 5, 68: 5, 70: 5, 73: 5, 74: 5, 40: 6, 41: 6, 43: 6, 46: 6, 48: 6, 72: 6, 76: 6, 117: 6, 44: 7, 45: 7, 47: 7, 49: 7, 50: 7, 53: 7, 65: 7, 75: 7, 77: 7, 79: 7, 81: 7, 51: 8, 52: 8, 54: 8, 55: 8, 56: 8, 57: 8, 58: 8, 61: 8, 66: 8, 78: 8, 82: 8, 95: 8, 96: 8, 97: 8, 98: 8, 59: 9, 60: 9, 83: 9, 84: 9, 93: 9, 94: 9, 99: 9, 85: 10, 87: 10, 88: 10, 91: 10, 92: 10, 100: 10, 102: 10, 103: 10, 105: 10, 101: 11, 104: 11, 106: 11, 109: 11, 89: 11, 90: 11, 107: 12, 108: 12, 110: 12, 111: 12} \n",
            "113 {113: 0, 114: 1, 31: 1, 112: 2, 22: 2, 26: 2, 30: 2, 16: 3, 21: 3, 23: 3, 24: 3, 27: 3, 28: 3, 69: 4, 71: 4, 14: 4, 15: 4, 17: 4, 20: 4, 32: 5, 68: 5, 70: 5, 73: 5, 74: 5, 11: 5, 12: 5, 13: 5, 18: 5, 19: 5, 1: 6, 2: 6, 6: 6, 10: 6, 33: 6, 36: 6, 46: 6, 48: 6, 72: 6, 76: 6, 116: 6, 117: 6, 0: 7, 3: 7, 4: 7, 5: 7, 34: 7, 35: 7, 38: 7, 39: 7, 41: 7, 42: 7, 44: 7, 45: 7, 47: 7, 49: 7, 50: 7, 53: 7, 65: 7, 75: 7, 77: 7, 79: 7, 81: 7, 40: 8, 43: 8, 51: 8, 52: 8, 54: 8, 55: 8, 56: 8, 57: 8, 58: 8, 61: 8, 66: 8, 78: 8, 82: 8, 95: 8, 96: 8, 97: 8, 98: 8, 59: 9, 60: 9, 83: 9, 84: 9, 93: 9, 94: 9, 99: 9, 85: 10, 87: 10, 88: 10, 91: 10, 92: 10, 100: 10, 102: 10, 103: 10, 105: 10, 101: 11, 104: 11, 106: 11, 109: 11, 89: 11, 90: 11, 107: 12, 108: 12, 110: 12, 111: 12} \n",
            "114 {114: 0, 113: 1, 26: 1, 24: 2, 27: 2, 31: 2, 112: 3, 22: 3, 28: 3, 30: 3, 16: 4, 21: 4, 23: 4, 69: 5, 71: 5, 14: 5, 15: 5, 17: 5, 20: 5, 32: 6, 68: 6, 70: 6, 73: 6, 74: 6, 11: 6, 12: 6, 13: 6, 18: 6, 19: 6, 1: 7, 2: 7, 6: 7, 10: 7, 33: 7, 36: 7, 46: 7, 48: 7, 72: 7, 76: 7, 116: 7, 117: 7, 0: 8, 3: 8, 4: 8, 5: 8, 34: 8, 35: 8, 38: 8, 39: 8, 41: 8, 42: 8, 44: 8, 45: 8, 47: 8, 49: 8, 50: 8, 53: 8, 65: 8, 75: 8, 77: 8, 79: 8, 81: 8, 40: 9, 43: 9, 51: 9, 52: 9, 54: 9, 55: 9, 56: 9, 57: 9, 58: 9, 61: 9, 66: 9, 78: 9, 82: 9, 95: 9, 96: 9, 97: 9, 98: 9, 59: 10, 60: 10, 83: 10, 84: 10, 93: 10, 94: 10, 99: 10, 85: 11, 87: 11, 88: 11, 91: 11, 92: 11, 100: 11, 102: 11, 103: 11, 105: 11, 101: 12, 104: 12, 106: 12, 109: 12, 89: 12, 90: 12, 107: 13, 108: 13, 110: 13, 111: 13} \n",
            "116 {116: 0, 11: 1, 1: 2, 2: 2, 6: 2, 10: 2, 13: 2, 15: 2, 0: 3, 3: 3, 4: 3, 5: 3, 12: 3, 14: 3, 16: 3, 32: 4, 17: 4, 18: 4, 112: 4, 30: 4, 33: 5, 36: 5, 19: 5, 28: 5, 31: 5, 34: 6, 35: 6, 38: 6, 39: 6, 42: 6, 113: 6, 20: 6, 22: 6, 26: 6, 27: 6, 40: 7, 41: 7, 43: 7, 114: 7, 21: 7, 23: 7, 24: 7, 69: 8, 71: 8, 44: 8, 48: 8, 65: 9, 68: 9, 70: 9, 73: 9, 74: 9, 45: 9, 46: 9, 47: 9, 49: 9, 50: 9, 53: 9, 51: 10, 52: 10, 54: 10, 55: 10, 56: 10, 57: 10, 58: 10, 61: 10, 66: 10, 72: 10, 76: 10, 117: 10, 59: 11, 60: 11, 75: 11, 77: 11, 79: 11, 81: 11, 96: 12, 97: 12, 98: 12, 78: 12, 82: 12, 95: 12, 99: 13, 83: 13, 84: 13, 93: 13, 94: 13, 100: 14, 102: 14, 103: 14, 105: 14, 85: 14, 87: 14, 88: 14, 91: 14, 92: 14, 101: 15, 104: 15, 106: 15, 109: 15, 89: 15, 90: 15, 107: 16, 108: 16, 110: 16, 111: 16} \n",
            "117 {117: 0, 74: 1, 75: 1, 68: 2, 69: 2, 73: 2, 76: 2, 70: 3, 77: 3, 46: 3, 79: 3, 48: 3, 81: 3, 23: 3, 22: 4, 41: 4, 44: 4, 45: 4, 47: 4, 49: 4, 50: 4, 53: 4, 65: 4, 71: 4, 72: 4, 78: 4, 82: 4, 95: 4, 96: 4, 97: 4, 98: 4, 21: 5, 24: 5, 31: 5, 39: 5, 40: 5, 43: 5, 51: 5, 52: 5, 54: 5, 55: 5, 56: 5, 57: 5, 58: 5, 61: 5, 66: 5, 83: 5, 84: 5, 93: 5, 94: 5, 99: 5, 20: 6, 26: 6, 30: 6, 36: 6, 38: 6, 42: 6, 59: 6, 60: 6, 85: 6, 87: 6, 88: 6, 91: 6, 92: 6, 100: 6, 102: 6, 103: 6, 105: 6, 112: 6, 113: 6, 16: 7, 19: 7, 27: 7, 28: 7, 32: 7, 33: 7, 34: 7, 89: 7, 90: 7, 101: 7, 104: 7, 106: 7, 109: 7, 114: 7, 14: 8, 15: 8, 17: 8, 18: 8, 35: 8, 107: 8, 108: 8, 110: 8, 111: 8, 11: 9, 12: 9, 13: 9, 1: 10, 2: 10, 6: 10, 10: 10, 116: 10, 0: 11, 3: 11, 4: 11, 5: 11} \n",
            "\n",
            "average shortest path length 6.679632631010265\n",
            "\n",
            "with lenght X we have y path\n",
            "0 114\n",
            "1 332\n",
            "2 674\n",
            "3 952\n",
            "4 1104\n",
            "5 1204\n",
            "6 1244\n",
            "7 1220\n",
            "8 1134\n",
            "9 932\n",
            "10 724\n",
            "11 496\n",
            "12 348\n",
            "13 232\n",
            "14 184\n",
            "15 124\n",
            "16 72\n",
            "17 16\n"
          ]
        },
        {
          "output_type": "error",
          "ename": "NetworkXError",
          "evalue": "ignored",
          "traceback": [
            "\u001b[0;31m---------------------------------------------------------------------------\u001b[0m",
            "\u001b[0;31mNetworkXError\u001b[0m                             Traceback (most recent call last)",
            "\u001b[0;32m<ipython-input-158-bb8baf36726b>\u001b[0m in \u001b[0;36m<module>\u001b[0;34m()\u001b[0m\n\u001b[1;32m     27\u001b[0m     \u001b[0mprint\u001b[0m\u001b[0;34m(\u001b[0m\u001b[0;34mf\"{d} {dist[d]}\"\u001b[0m\u001b[0;34m)\u001b[0m\u001b[0;34m\u001b[0m\u001b[0;34m\u001b[0m\u001b[0m\n\u001b[1;32m     28\u001b[0m \u001b[0;34m\u001b[0m\u001b[0m\n\u001b[0;32m---> 29\u001b[0;31m \u001b[0mprint\u001b[0m\u001b[0;34m(\u001b[0m\u001b[0;34mf\"radius: {nx.radius(G)}\"\u001b[0m\u001b[0;34m)\u001b[0m\u001b[0;34m\u001b[0m\u001b[0;34m\u001b[0m\u001b[0m\n\u001b[0m\u001b[1;32m     30\u001b[0m \u001b[0mprint\u001b[0m\u001b[0;34m(\u001b[0m\u001b[0;34mf\"diameter: {nx.diameter(G)}\"\u001b[0m\u001b[0;34m)\u001b[0m \u001b[0;31m#maximum lenght\u001b[0m\u001b[0;34m\u001b[0m\u001b[0;34m\u001b[0m\u001b[0m\n\u001b[1;32m     31\u001b[0m \u001b[0mprint\u001b[0m\u001b[0;34m(\u001b[0m\u001b[0;34mf\"eccentricity: {nx.eccentricity(G)}\"\u001b[0m\u001b[0;34m)\u001b[0m\u001b[0;34m\u001b[0m\u001b[0;34m\u001b[0m\u001b[0m\n",
            "\u001b[0;32m/usr/local/lib/python3.7/dist-packages/networkx/algorithms/distance_measures.py\u001b[0m in \u001b[0;36mradius\u001b[0;34m(G, e, usebounds)\u001b[0m\n\u001b[1;32m    354\u001b[0m         \u001b[0;32mreturn\u001b[0m \u001b[0mextrema_bounding\u001b[0m\u001b[0;34m(\u001b[0m\u001b[0mG\u001b[0m\u001b[0;34m,\u001b[0m \u001b[0mcompute\u001b[0m\u001b[0;34m=\u001b[0m\u001b[0;34m\"radius\"\u001b[0m\u001b[0;34m)\u001b[0m\u001b[0;34m\u001b[0m\u001b[0;34m\u001b[0m\u001b[0m\n\u001b[1;32m    355\u001b[0m     \u001b[0;32mif\u001b[0m \u001b[0me\u001b[0m \u001b[0;32mis\u001b[0m \u001b[0;32mNone\u001b[0m\u001b[0;34m:\u001b[0m\u001b[0;34m\u001b[0m\u001b[0;34m\u001b[0m\u001b[0m\n\u001b[0;32m--> 356\u001b[0;31m         \u001b[0me\u001b[0m \u001b[0;34m=\u001b[0m \u001b[0meccentricity\u001b[0m\u001b[0;34m(\u001b[0m\u001b[0mG\u001b[0m\u001b[0;34m)\u001b[0m\u001b[0;34m\u001b[0m\u001b[0;34m\u001b[0m\u001b[0m\n\u001b[0m\u001b[1;32m    357\u001b[0m     \u001b[0;32mreturn\u001b[0m \u001b[0mmin\u001b[0m\u001b[0;34m(\u001b[0m\u001b[0me\u001b[0m\u001b[0;34m.\u001b[0m\u001b[0mvalues\u001b[0m\u001b[0;34m(\u001b[0m\u001b[0;34m)\u001b[0m\u001b[0;34m)\u001b[0m\u001b[0;34m\u001b[0m\u001b[0;34m\u001b[0m\u001b[0m\n\u001b[1;32m    358\u001b[0m \u001b[0;34m\u001b[0m\u001b[0m\n",
            "\u001b[0;32m/usr/local/lib/python3.7/dist-packages/networkx/algorithms/distance_measures.py\u001b[0m in \u001b[0;36meccentricity\u001b[0;34m(G, v, sp)\u001b[0m\n\u001b[1;32m    262\u001b[0m             \u001b[0;32melse\u001b[0m\u001b[0;34m:\u001b[0m\u001b[0;34m\u001b[0m\u001b[0;34m\u001b[0m\u001b[0m\n\u001b[1;32m    263\u001b[0m                 \u001b[0mmsg\u001b[0m \u001b[0;34m=\u001b[0m \u001b[0;34m\"Found infinite path length because the graph is not\"\u001b[0m \u001b[0;34m\" connected\"\u001b[0m\u001b[0;34m\u001b[0m\u001b[0;34m\u001b[0m\u001b[0m\n\u001b[0;32m--> 264\u001b[0;31m             \u001b[0;32mraise\u001b[0m \u001b[0mnx\u001b[0m\u001b[0;34m.\u001b[0m\u001b[0mNetworkXError\u001b[0m\u001b[0;34m(\u001b[0m\u001b[0mmsg\u001b[0m\u001b[0;34m)\u001b[0m\u001b[0;34m\u001b[0m\u001b[0;34m\u001b[0m\u001b[0m\n\u001b[0m\u001b[1;32m    265\u001b[0m \u001b[0;34m\u001b[0m\u001b[0m\n\u001b[1;32m    266\u001b[0m         \u001b[0me\u001b[0m\u001b[0;34m[\u001b[0m\u001b[0mn\u001b[0m\u001b[0;34m]\u001b[0m \u001b[0;34m=\u001b[0m \u001b[0mmax\u001b[0m\u001b[0;34m(\u001b[0m\u001b[0mlength\u001b[0m\u001b[0;34m.\u001b[0m\u001b[0mvalues\u001b[0m\u001b[0;34m(\u001b[0m\u001b[0;34m)\u001b[0m\u001b[0;34m)\u001b[0m\u001b[0;34m\u001b[0m\u001b[0;34m\u001b[0m\u001b[0m\n",
            "\u001b[0;31mNetworkXError\u001b[0m: Found infinite path length because the graph is not connected"
          ]
        }
      ]
    }
  ]
}