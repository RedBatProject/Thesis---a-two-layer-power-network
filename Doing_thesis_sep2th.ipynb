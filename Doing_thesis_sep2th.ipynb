{
  "nbformat": 4,
  "nbformat_minor": 0,
  "metadata": {
    "colab": {
      "provenance": [],
      "collapsed_sections": [
        "7llohALuqDBj"
      ],
      "authorship_tag": "ABX9TyOVohW7TJjH1ce44Nv/4WyH",
      "include_colab_link": true
    },
    "kernelspec": {
      "name": "python3",
      "display_name": "Python 3"
    },
    "language_info": {
      "name": "python"
    }
  },
  "cells": [
    {
      "cell_type": "markdown",
      "metadata": {
        "id": "view-in-github",
        "colab_type": "text"
      },
      "source": [
        "<a href=\"https://colab.research.google.com/github/RedBatProject/Thesis---a-two-layer-power-network/blob/main/Doing_thesis_sep2th.ipynb\" target=\"_parent\"><img src=\"https://colab.research.google.com/assets/colab-badge.svg\" alt=\"Open In Colab\"/></a>"
      ]
    },
    {
      "cell_type": "markdown",
      "source": [
        "# All the imports here"
      ],
      "metadata": {
        "id": "7llohALuqDBj"
      }
    },
    {
      "cell_type": "code",
      "execution_count": 2,
      "metadata": {
        "colab": {
          "base_uri": "https://localhost:8080/"
        },
        "id": "sA2vARFxpl5F",
        "outputId": "4aa06e3d-bef7-4f25-b095-0de678adaddf"
      },
      "outputs": [
        {
          "output_type": "stream",
          "name": "stdout",
          "text": [
            "Collecting pandapower\n",
            "  Downloading pandapower-2.13.1.zip (10.8 MB)\n",
            "\u001b[2K     \u001b[90m━━━━━━━━━━━━━━━━━━━━━━━━━━━━━━━━━━━━━━━━\u001b[0m \u001b[32m10.8/10.8 MB\u001b[0m \u001b[31m20.2 MB/s\u001b[0m eta \u001b[36m0:00:00\u001b[0m\n",
            "\u001b[?25h  Preparing metadata (setup.py) ... \u001b[?25l\u001b[?25hdone\n",
            "Requirement already satisfied: pandas>=1.0 in /usr/local/lib/python3.10/dist-packages (from pandapower) (1.5.3)\n",
            "Requirement already satisfied: networkx>=2.5 in /usr/local/lib/python3.10/dist-packages (from pandapower) (3.1)\n",
            "Requirement already satisfied: scipy in /usr/local/lib/python3.10/dist-packages (from pandapower) (1.10.1)\n",
            "Requirement already satisfied: numpy in /usr/local/lib/python3.10/dist-packages (from pandapower) (1.23.5)\n",
            "Requirement already satisfied: packaging in /usr/local/lib/python3.10/dist-packages (from pandapower) (23.1)\n",
            "Requirement already satisfied: tqdm in /usr/local/lib/python3.10/dist-packages (from pandapower) (4.66.1)\n",
            "Collecting deepdiff (from pandapower)\n",
            "  Downloading deepdiff-6.4.1-py3-none-any.whl (70 kB)\n",
            "\u001b[2K     \u001b[90m━━━━━━━━━━━━━━━━━━━━━━━━━━━━━━━━━━━━━━━━\u001b[0m \u001b[32m70.9/70.9 kB\u001b[0m \u001b[31m8.1 MB/s\u001b[0m eta \u001b[36m0:00:00\u001b[0m\n",
            "\u001b[?25hRequirement already satisfied: python-dateutil>=2.8.1 in /usr/local/lib/python3.10/dist-packages (from pandas>=1.0->pandapower) (2.8.2)\n",
            "Requirement already satisfied: pytz>=2020.1 in /usr/local/lib/python3.10/dist-packages (from pandas>=1.0->pandapower) (2023.3)\n",
            "Collecting ordered-set<4.2.0,>=4.0.2 (from deepdiff->pandapower)\n",
            "  Downloading ordered_set-4.1.0-py3-none-any.whl (7.6 kB)\n",
            "Requirement already satisfied: six>=1.5 in /usr/local/lib/python3.10/dist-packages (from python-dateutil>=2.8.1->pandas>=1.0->pandapower) (1.16.0)\n",
            "Building wheels for collected packages: pandapower\n",
            "  Building wheel for pandapower (setup.py) ... \u001b[?25l\u001b[?25hdone\n",
            "  Created wheel for pandapower: filename=pandapower-2.13.1-py3-none-any.whl size=10803675 sha256=7583df4264c32069f4863ef76c32452b371e59f2f4266f96e0486fdf18822885\n",
            "  Stored in directory: /root/.cache/pip/wheels/6b/58/fb/c5c16044f0046e905e2fe55de3af6c0a43bfcc3219ed5d3af8\n",
            "Successfully built pandapower\n",
            "Installing collected packages: ordered-set, deepdiff, pandapower\n",
            "Successfully installed deepdiff-6.4.1 ordered-set-4.1.0 pandapower-2.13.1\n"
          ]
        }
      ],
      "source": [
        "%pip install pandapower\n",
        "import pandapower as pp\n",
        "import networkx as nx\n",
        "import pandapower.networks as pn\n",
        "import pandas as pd\n",
        "import matplotlib.pyplot as plt\n",
        "import numpy as np\n",
        "import pandapower.topology as top\n",
        "# import networkx as nx\n",
        "from pandapower import plotting\n",
        "from pandapower.plotting import simple_plot, pf_res_plotly,simple_plotly\n",
        "import random as rn\n",
        "import matplotlib.pyplot as plt\n",
        "import numpy as np\n",
        "import pandas as pd\n",
        "import numba\n",
        "# plt.rcParams['figure.dpi'] = 100\n",
        "# plt.rcParams['savefig.dpi'] = 100"
      ]
    },
    {
      "cell_type": "code",
      "source": [
        "import time"
      ],
      "metadata": {
        "id": "mfp0gFqfq6DZ"
      },
      "execution_count": 3,
      "outputs": []
    },
    {
      "cell_type": "code",
      "source": [
        "from google.colab import drive\n",
        "drive.mount('/content/drive')"
      ],
      "metadata": {
        "colab": {
          "base_uri": "https://localhost:8080/"
        },
        "id": "JqDTti1QqGOD",
        "outputId": "866f0b92-186e-45a7-bb46-6dfba9a443cb"
      },
      "execution_count": 4,
      "outputs": [
        {
          "output_type": "stream",
          "name": "stdout",
          "text": [
            "Mounted at /content/drive\n"
          ]
        }
      ]
    },
    {
      "cell_type": "code",
      "source": [
        "seed = 1537\n",
        "alpha = 0.39\n",
        "beta = 0.1\n",
        "gamma = 1-(alpha + beta)\n",
        "alpha,beta,gamma\n",
        "np.random.seed(seed)\n",
        "\n",
        "\n",
        "nodes=101\n",
        "k=4\n",
        "# seed=seed\n",
        "# np.random.seed(seed)\n",
        "\n",
        "p=0.2\n",
        "types=0\n",
        "# G = nx.watts_strogatz_graph(nodes,k,p=p,seed=seed)\n",
        "# edges = list(G.edges())"
      ],
      "metadata": {
        "id": "H5FUxRgHqwqs"
      },
      "execution_count": 5,
      "outputs": []
    },
    {
      "cell_type": "markdown",
      "source": [
        "# The Code"
      ],
      "metadata": {
        "id": "i1-3JF98qfVh"
      }
    },
    {
      "cell_type": "code",
      "source": [
        "set_of_nodes_by_list(30,0.3,8,0)"
      ],
      "metadata": {
        "colab": {
          "base_uri": "https://localhost:8080/"
        },
        "id": "3XGsiSUbLOzP",
        "outputId": "c7580163-01c1-4988-ee1a-f9615da7fc3c"
      },
      "execution_count": 101,
      "outputs": [
        {
          "output_type": "execute_result",
          "data": {
            "text/plain": [
              "array([[12, 15, 21,  3, 27,  7,  9, 19, 18],\n",
              "       [ 4, 23,  6, 24, 12, 26,  1,  7, 14],\n",
              "       [24, 17,  5, 25, 13,  8,  9, 20, 19],\n",
              "       [16, 19,  5, 15, 18,  3, 24, 17, 29],\n",
              "       [19, 14,  7,  1,  9, 25, 10, 20, 23],\n",
              "       [ 3, 11, 18, 23, 28,  2,  4, 21,  5],\n",
              "       [ 6,  8, 20, 17, 15,  4,  9, 10, 26],\n",
              "       [24,  1,  7,  9, 25,  3,  6, 23, 11]])"
            ]
          },
          "metadata": {},
          "execution_count": 101
        }
      ]
    },
    {
      "cell_type": "code",
      "source": [
        "def set_of_nodes_by_list(numer_of_nodes,of_set,num_iter,seed):\n",
        "    np.random.seed(seed)\n",
        "    P_ = list()\n",
        "    while len(P_) < num_iter:\n",
        "        p_ = list()\n",
        "        f_ = int(numer_of_nodes * of_set)\n",
        "        while len(p_) < f_:\n",
        "            f1_ = np.random.randint(0,numer_of_nodes)\n",
        "            if f1_ not in p_ and f1_ != target:\n",
        "                p_.append(f1_)\n",
        "        P_.append(p_)\n",
        "    return np.array(P_)\n",
        "\n",
        "def remove_by_fraction(numer_of_nodes,of_set):\n",
        "    p_ = list()\n",
        "    f_ = int(numer_of_nodes * of_set)\n",
        "    while len(p_) < f_:\n",
        "        f1_ = np.random.randint(0,numer_of_nodes)\n",
        "        if f1_ not in p_ and f1_ != target:\n",
        "            p_.append(f1_)\n",
        "    return p_\n",
        "\n",
        "def remove_by_number(numer_of_nodes,of_set):\n",
        "    p_ = list()\n",
        "    f_ = int(of_set)\n",
        "    while len(p_) < f_:\n",
        "        f1_ = np.random.randint(0,numer_of_nodes)\n",
        "        if f1_ not in p_ and f1_ != target:\n",
        "            p_.append(f1_)\n",
        "    return p_\n",
        "\n",
        "# define set of nodes which you want to remove\n",
        "def set_of_nodes(numer_of_nodes,of_set):\n",
        "    if of_set <= 1:\n",
        "        p_frac = remove_by_fraction(numer_of_nodes,of_set)\n",
        "    if of_set > 1:\n",
        "        p_frac = remove_by_number(numer_of_nodes,of_set)\n",
        "    return np.array(p_frac)\n",
        "\n",
        "\n"
      ],
      "metadata": {
        "id": "CLn2WD-tqjAv"
      },
      "execution_count": 97,
      "outputs": []
    },
    {
      "cell_type": "code",
      "source": [
        "numer_of_nodes,num_iter,of_set =\n",
        "f1_ = np.random.randint(0,numer_of_nodes,(num_iter,int(of_set)))"
      ],
      "metadata": {
        "id": "Ex0Ala1MH0PZ"
      },
      "execution_count": null,
      "outputs": []
    },
    {
      "cell_type": "code",
      "source": [
        "numer_of_nodes,num_iter = 4,4\n",
        "np.random.seed(seed)\n",
        "np.random.randint(0,numer_of_nodes,num_iter)"
      ],
      "metadata": {
        "colab": {
          "base_uri": "https://localhost:8080/"
        },
        "id": "Z-wPiHP4HGut",
        "outputId": "5f5088c0-8f0a-43f5-a33a-027e50a87e41"
      },
      "execution_count": 22,
      "outputs": [
        {
          "output_type": "execute_result",
          "data": {
            "text/plain": [
              "array([1, 3, 2, 3])"
            ]
          },
          "metadata": {},
          "execution_count": 22
        }
      ]
    },
    {
      "cell_type": "code",
      "source": [
        "# Ok, we have a Net, no we want to create the communication network, for this we use our written model from before\n",
        "def create_net(net):\n",
        "    # np.random.seed(seed)\n",
        "\n",
        "    Net = net\n",
        "    G_power = top.create_nxgraph(net=Net)\n",
        "    # extract some feature for future\n",
        "    G_power_nodes = G_power.nodes()\n",
        "    G_power_nodes_Number = len(G_power_nodes)\n",
        "    G_power_edges = G_power.edges()\n",
        "    target = int(Net.ext_grid['bus'][0])\n",
        "    Static_node_of_power = len(Net.bus)\n",
        "    G_scale_free = nx.scale_free_graph(n= Static_node_of_power, alpha= alpha, beta= beta, gamma= gamma, seed= seed, delta_in=1, delta_out=1 )\n",
        "        # create Com from Scale free\n",
        "    # print(set(G_scale_free.nodes()))\n",
        "    G_com_edges = G_scale_free.edges()\n",
        "    G_com_edges_set = set(G_com_edges)\n",
        "    G_com_edges_set_non_redundancy = []\n",
        "    # print(set(G_com.nodes()))\n",
        "    for G_edge in G_com_edges_set:\n",
        "        if (G_edge[1],G_edge[0]) and (G_edge[0],G_edge[1]) not in G_com_edges_set_non_redundancy:\n",
        "            if G_edge[1] != G_edge[0]:\n",
        "                G_com_edges_set_non_redundancy.append(G_edge)\n",
        "    G_com = nx.MultiGraph()\n",
        "    # print(set(G_com.nodes()))\n",
        "    G_com.add_edges_from(G_com_edges_set_non_redundancy);\n",
        "    if len(set(G_scale_free.nodes() - set(G_com.nodes))) > 0:\n",
        "        for ij in list(set(G_scale_free.nodes() - set(G_com.nodes))):\n",
        "            G_com.add_edges_from([(ij,np.random.randint(len(G_power.nodes())))])\n",
        "    # print(set(G_com.nodes()))\n",
        "        # add a few work to this\n",
        "    mapping = {0:target,target:0}\n",
        "    G_com = nx.relabel_nodes(G_com, mapping)\n",
        "\n",
        "        # extract initial information\n",
        "    G_com_nodes = G_com.nodes()\n",
        "    # print(set(G_com.nodes()))\n",
        "    G_com_edges = G_com.edges()\n",
        "    # print(\"Networks settings are Done!\")\n",
        "    return G_com,Net,G_power,target,G_power_nodes_Number"
      ],
      "metadata": {
        "id": "dcSg8kXGqmUD"
      },
      "execution_count": 7,
      "outputs": []
    },
    {
      "cell_type": "code",
      "source": [
        "net = pn.case30()\n",
        "# nodes = 300\n",
        "G_com,Net,G_power,target,G_power_nodes_Number = create_net(net)"
      ],
      "metadata": {
        "id": "xxA2z9Ttqonr"
      },
      "execution_count": 8,
      "outputs": []
    },
    {
      "cell_type": "code",
      "source": [
        "nodes_from_both = {'power':set(G_power.nodes),'communication':set(G_com.nodes),'disabled':set()}\n",
        "# nodes_from_both"
      ],
      "metadata": {
        "id": "IWfbMJ3zqqli"
      },
      "execution_count": 9,
      "outputs": []
    },
    {
      "cell_type": "code",
      "source": [
        "# we sould find the largest component\n",
        "# we use this code from networkx\n",
        "def Largest_component_with_target(G,target_node):\n",
        "    # np.random.seed(seed)\n",
        "\n",
        "    # check the largest components\n",
        "    components_of_groph = sorted(nx.connected_components(G), key=len, reverse=True)\n",
        "    for component in components_of_groph:\n",
        "        if target_node in component:\n",
        "            G = G.subgraph(component)\n",
        "            G = nx.MultiGraph(G)\n",
        "    return G"
      ],
      "metadata": {
        "id": "8VwvYYiGq2bZ"
      },
      "execution_count": 10,
      "outputs": []
    },
    {
      "cell_type": "code",
      "source": [
        "# Again we write a code for casecading failure in this time\n",
        "# here are what we should do\n",
        "# 1: drop the removed_nodes from power network\n",
        "# 2: drop the coupled_nodes from communication network\n",
        "# 3: modify the power network\n",
        "# 4: let the casecade goes and see where it could go\n",
        "# 5: evaluate\n",
        "\n",
        "# initiate the p_frac\n",
        "def phase_0(p_frac):\n",
        "    # print('im in phase 0')\n",
        "    if len(p_frac) == 0:\n",
        "        # self.node = instance_nodes - nodes\n",
        "        busses = []\n",
        "    elif len(p_frac) == 1:\n",
        "        busses = p_frac\n",
        "    else:\n",
        "\n",
        "        busses = list(p_frac)\n",
        "    return busses\n",
        "\n",
        "\n",
        "# first time removing nodes\n",
        "def phase_0_1(Net,busses):\n",
        "    # print('im in phase 0_1')\n",
        "    # try:\n",
        "    pp.drop_buses(Net,buses=busses,drop_elements = True)\n",
        "    # except:print('[SOMETHING HAPPENED!]')\n",
        "    return Net\n",
        "# removing nodes from power network\n",
        "def phase_1(Net):\n",
        "    # print('im in phase 1')\n",
        "    # we run power for the first time\n",
        "    pp.rundcpp(Net)\n",
        "    # drop all droped element relevants\n",
        "    drop_lines = pp.overloaded_lines(Net)\n",
        "    # drop the lines\n",
        "    pp.drop_lines(Net,drop_lines)\n",
        "    # create a nx network from power network\n",
        "    g_inst_power = top.create_nxgraph(Net)\n",
        "    # look for largest copunent\n",
        "    g_inst_2_power = Largest_component_with_target(g_inst_power,target)\n",
        "    # which nodes are remvoved from network?\n",
        "    set_nodes_2 = set(g_inst_power) - set(g_inst_2_power)\n",
        "    pp.drop_buses(Net,set_nodes_2,drop_elements = True)\n",
        "    return Net,g_inst_2_power,set_nodes_2\n",
        "\n",
        "# now we know what nodes from communication part should get remove\n",
        "def phase_2(G_com,to_com):\n",
        "    # print('im in phase 2')\n",
        "    G_com.remove_nodes_from(to_com)\n",
        "    g_inst_2 = Largest_component_with_target(G_com,target)\n",
        "    set_nodes_2 = set(G_com.nodes) - set(g_inst_2.nodes)\n",
        "    return g_inst_2,set_nodes_2\n",
        "\n",
        "# now the modification part (no 1)\n",
        "# def phase_3(net,gen_frac,pow_frac,is_not_in):\n",
        "    print('max_gen: {} now_gen: {} max_load: {} now_load: {}'.format(max_gen,np.sum(net['gen']['p_mw']),max_load,np.sum(net['load']['p_mw'])))\n",
        "    # print('im in phase 3')\n",
        "    imp_gen = list(net.gen['p_mw'].sort_values(ascending=False).index)\n",
        "    if gen_frac <= 1:\n",
        "        s_number = int(len(imp_gen) * gen_frac)\n",
        "    else:\n",
        "        s_number = int(gen_frac)\n",
        "    # for i in imp_gen[0:s_number]:\n",
        "    for i in range(0,s_number):\n",
        "        if i not in is_not_in:\n",
        "            # print(i)\n",
        "            # print(imp_gen)\n",
        "            # print(imp_gen[i])\n",
        "            net.gen['p_mw'].loc[imp_gen[i]] *= 1 + pow_frac\n",
        "            # print(f\"oh, {i} is modified!\")\n",
        "        else:\n",
        "            pass\n",
        "            # print(\"cant modify {} cause we cant reach it\".format(i))\n",
        "    print('max_gen: {} now_gen: {} max_load: {} now_load: {}'.format(max_gen,np.sum(net['gen']['p_mw']),max_load,np.sum(net['load']['p_mw'])))\n",
        "    print('---------------------------')\n",
        "    return net\n",
        "\n",
        "\n",
        "# now the modification part (no 2)\n",
        "def phase_3(net,gen_frac,pow_frac,is_not_in):\n",
        "    # print('max_gen: {} now_gen: {} max_load: {} now_load: {}'.format(max_gen,np.sum(net['gen']['p_mw']),max_load,np.sum(net['load']['p_mw'])))\n",
        "    # print('now_res_gen: {} now_res_load: {}'.format(np.sum(net['res_gen']['p_mw']),np.sum(net['res_load']['p_mw'])))\n",
        "    if gen_frac > 0:\n",
        "        # ---------------------------------------------------\n",
        "        # modification based on what we need and not what we want\n",
        "        what_we_need = np.sum(net['gen']['p_mw']) - np.sum(net['load']['p_mw'])\n",
        "        # print(what_we_need)\n",
        "        # -----------------------------------------------------\n",
        "        imp_gen = list(net.gen['p_mw'].sort_values(ascending=False).index)\n",
        "        # -----------------------------------------------------\n",
        "        # if we have more power then we should lower the total power in all gens\n",
        "        if np.sum(net['gen']['p_mw']) > 0:\n",
        "            if what_we_need > 0:\n",
        "                pow_frac =   - what_we_need / np.sum(net['gen']['p_mw'])\n",
        "                # print('we will reduce it by {}'.format(pow_frac))\n",
        "\n",
        "            else:\n",
        "                # pass\n",
        "                pow_frac =   - what_we_need / np.sum(net['gen']['p_mw'])\n",
        "                # print('we will add it by {}'.format(pow_frac))\n",
        "        else:\n",
        "            pow_frac = 0\n",
        "\n",
        "\n",
        "        if gen_frac <= 1:\n",
        "            s_number = int(len(imp_gen) * gen_frac)\n",
        "        else:\n",
        "            s_number = int(gen_frac)\n",
        "        # for i in imp_gen[0:s_number]:\n",
        "        for i in range(0,s_number):\n",
        "            if i not in is_not_in:\n",
        "                # print(i)\n",
        "                # print(imp_gen)\n",
        "                # print(imp_gen[i])\n",
        "                net.gen['p_mw'].loc[imp_gen[i]] *= 1 + pow_frac\n",
        "                # print(f\"oh, {i} is modified!\")\n",
        "            else:\n",
        "                pass\n",
        "                # print(\"cant modify {} cause we cant reach it\".format(i))\n",
        "        pp.rundcpp(net)\n",
        "        # print('max_gen: {} now_gen: {} max_load: {} now_load: {}'.format(max_gen,np.sum(net['gen']['p_mw']),max_load,np.sum(net['load']['p_mw'])))\n",
        "        # print('now_res_gen: {} now_res_load: {}'.format(np.sum(net['res_gen']['p_mw']),np.sum(net['res_load']['p_mw'])))\n",
        "\n",
        "        # print('---------------------------')\n",
        "        return net\n",
        "    else:\n",
        "        # print('bare foot')\n",
        "        return net\n",
        "\n",
        "# now we should continue the casecading failure\n",
        "def phase_4(Net,G_power,G_com):\n",
        "    # print('im in phase 4')\n",
        "    Net,G_power,to_com = phase_1(Net)\n",
        "    while len(list(to_com)) != 0:\n",
        "        Net,G_power,to_com = phase_1(Net)\n",
        "        # print(to_com)\n",
        "        # G_com,to_power = phase_2(G_com,to_com)\n",
        "    return Net,G_power,G_com\n",
        "def casecading_version_2(Net,G_com,G_power,p_frac,fraction_gen,fraction_power):\n",
        "    nodes_from_both = {'power':set(G_power.nodes),'communication':set(G_com.nodes),'disabled':set()}\n",
        "\n",
        "    busses = phase_0(p_frac)\n",
        "    # remove nodes from power\n",
        "    Net = phase_0_1(Net,busses)\n",
        "    # remove nodes from power network\n",
        "    Net,G_power,to_com = phase_1(Net)\n",
        "    # set the power reminded node\n",
        "    nodes_from_both['power'] = set(G_power.nodes)\n",
        "    # we should remove them from communiaction network too\n",
        "    if len(list(to_com)) != 0:\n",
        "        # remove nodes from communication network\n",
        "        G_com,to_power = phase_2(G_com,to_com)\n",
        "        # set the communication reminded nodes\n",
        "        nodes_from_both['communication'] = set(G_com.nodes)\n",
        "        # set the disabled nodes\n",
        "        nodes_from_both['disabled'] = nodes_from_both['communication'] - nodes_from_both['power']\n",
        "        # modification\n",
        "        Net = phase_3(Net,fraction_gen,fraction_power,nodes_from_both['disabled'])\n",
        "        Net,G_power,G_com = phase_4(Net,G_power,G_com)\n",
        "        return Net,G_power,G_com\n",
        "    else:\n",
        "        return Net,G_power,G_com\n",
        "\n",
        "\n",
        "\n"
      ],
      "metadata": {
        "id": "8I82Dh19q3pg"
      },
      "execution_count": 241,
      "outputs": []
    },
    {
      "cell_type": "code",
      "source": [
        "#"
      ],
      "metadata": {
        "id": "sivRJtVubqGd"
      },
      "execution_count": 242,
      "outputs": []
    },
    {
      "cell_type": "code",
      "source": [
        "np.sum(net['res_gen']['p_mw'])"
      ],
      "metadata": {
        "colab": {
          "base_uri": "https://localhost:8080/"
        },
        "id": "_aTW-Y1SVcDW",
        "outputId": "70f1f1d9-7c70-442a-8804-ed6167c297f1"
      },
      "execution_count": 243,
      "outputs": [
        {
          "output_type": "execute_result",
          "data": {
            "text/plain": [
              "79.62550093872674"
            ]
          },
          "metadata": {},
          "execution_count": 243
        }
      ]
    },
    {
      "cell_type": "code",
      "source": [
        "net = pn.case30()\n",
        "G_com,Net,G_power,target,G_power_nodes_Number = create_net(net)\n",
        "numer_of_nodes,of_set = Net.bus.shape[0], 0.2\n",
        "p_frac = set_of_nodes(numer_of_nodes,of_set)\n",
        "fraction_gen, fraction_power = 1,5\n",
        "Net,G_power,G_com = casecading_version_2(Net,G_com,G_power,p_frac,fraction_gen,fraction_power)\n",
        "print(Net.bus.shape[0])\n",
        "pp.rundcpp(net)"
      ],
      "metadata": {
        "colab": {
          "base_uri": "https://localhost:8080/"
        },
        "id": "E6wjHUJ9q8an",
        "outputId": "e25661e0-3bbc-4124-ba28-f85b6378d92b"
      },
      "execution_count": 244,
      "outputs": [
        {
          "output_type": "stream",
          "name": "stdout",
          "text": [
            "24\n"
          ]
        }
      ]
    },
    {
      "cell_type": "code",
      "source": [
        "max_gen = np.sum(net['gen']['p_mw'])"
      ],
      "metadata": {
        "id": "cQtRm81ATFms"
      },
      "execution_count": 248,
      "outputs": []
    },
    {
      "cell_type": "code",
      "source": [
        "max_load = np.sum(net['load']['p_mw'])"
      ],
      "metadata": {
        "id": "nGZz0HLYTYCn"
      },
      "execution_count": 249,
      "outputs": []
    },
    {
      "cell_type": "code",
      "source": [
        "num_iter = 200\n",
        "net = pn.case30()\n",
        "pp.rundcpp(net)\n",
        "numer_of_nodes,of_set = net.bus.shape[0], 0.3\n",
        "C = set_of_nodes_by_list(numer_of_nodes,of_set,num_iter,0)"
      ],
      "metadata": {
        "id": "eaI_d19fGbkz"
      },
      "execution_count": 261,
      "outputs": []
    },
    {
      "cell_type": "code",
      "source": [
        "for j in range(1,10):\n",
        "    # num_iter *= 1 + j/10\n",
        "    # num_iter = int(num_iter)\n",
        "    # -------------------------------------------------------------\n",
        "    net = pn.case30()\n",
        "    numer_of_nodes,of_set = net.bus.shape[0], j/10\n",
        "    C = set_of_nodes_by_list(numer_of_nodes,of_set,num_iter,1)\n",
        "    # ------------------------------------------------------\n",
        "    # num_iter = 400 #it will goes to upper cell\n",
        "    for i in range(2):\n",
        "        k1 = []\n",
        "        for ii in range(num_iter):\n",
        "            net = pn.case30()\n",
        "            G_com,Net,G_power,target,G_power_nodes_Number = create_net(net)\n",
        "            # numer_of_nodes,of_set = Net.bus.shape[0], 0.2 #this also goes to upper cell\n",
        "            # p_frac = set_of_nodes(numer_of_nodes,of_set) # this line is for making a fraction to remove its randomly\n",
        "            p_frac = C[ii] # this line is for removing a set of nodes and its working like we can repeat it tomarrow\n",
        "            # fraction_gen, fraction_power = 1,i/10 #for phase 3 no 1\n",
        "            fraction_gen, fraction_power = i,_ # for phase 3 no 2\n",
        "\n",
        "            Net,G_power,G_com = casecading_version_2(Net,G_com,G_power,p_frac,fraction_gen,fraction_power)\n",
        "            k1.append(Net.bus.shape[0])\n",
        "            # if ii%int(num_iter * 0.1) == 0:\n",
        "                # print(\"oh we reached the {:.5}\".format(ii/num_iter))\n",
        "        print('with use modification: ',i,'and fraction of loss: ',j/10,'we have: ',np.mean(k1)/numer_of_nodes)"
      ],
      "metadata": {
        "colab": {
          "base_uri": "https://localhost:8080/"
        },
        "id": "HeBkbaLhrFxW",
        "outputId": "b3e89f66-4e76-46fc-f222-aa445bb54e31"
      },
      "execution_count": 262,
      "outputs": [
        {
          "output_type": "stream",
          "name": "stdout",
          "text": [
            "with use modification:  0 and fraction of loss:  0.1 we have:  0.8146666666666668\n",
            "with use modification:  1 and fraction of loss:  0.1 we have:  0.8116666666666668\n",
            "with use modification:  0 and fraction of loss:  0.2 we have:  0.5723333333333334\n",
            "with use modification:  1 and fraction of loss:  0.2 we have:  0.5643333333333334\n",
            "with use modification:  0 and fraction of loss:  0.3 we have:  0.39149999999999996\n",
            "with use modification:  1 and fraction of loss:  0.3 we have:  0.38999999999999996\n",
            "with use modification:  0 and fraction of loss:  0.4 we have:  0.23866666666666667\n",
            "with use modification:  1 and fraction of loss:  0.4 we have:  0.23683333333333334\n",
            "with use modification:  0 and fraction of loss:  0.5 we have:  0.16483333333333333\n",
            "with use modification:  1 and fraction of loss:  0.5 we have:  0.162\n",
            "with use modification:  0 and fraction of loss:  0.6 we have:  0.10633333333333334\n",
            "with use modification:  1 and fraction of loss:  0.6 we have:  0.10633333333333334\n",
            "with use modification:  0 and fraction of loss:  0.7 we have:  0.06816666666666667\n",
            "with use modification:  1 and fraction of loss:  0.7 we have:  0.06816666666666667\n",
            "with use modification:  0 and fraction of loss:  0.8 we have:  0.05083333333333333\n",
            "with use modification:  1 and fraction of loss:  0.8 we have:  0.05083333333333333\n",
            "with use modification:  0 and fraction of loss:  0.9 we have:  0.037333333333333336\n",
            "with use modification:  1 and fraction of loss:  0.9 we have:  0.037333333333333336\n"
          ]
        }
      ]
    },
    {
      "cell_type": "code",
      "source": [
        "np.mean(k1)\n"
      ],
      "metadata": {
        "colab": {
          "base_uri": "https://localhost:8080/"
        },
        "id": "cNMNnQccM21y",
        "outputId": "b4d907f7-8f7d-46c7-dc85-a13cb20edd1f"
      },
      "execution_count": 258,
      "outputs": [
        {
          "output_type": "execute_result",
          "data": {
            "text/plain": [
              "1.487546369899311"
            ]
          },
          "metadata": {},
          "execution_count": 258
        }
      ]
    },
    {
      "cell_type": "code",
      "source": [
        "np.mean(k1)"
      ],
      "metadata": {
        "colab": {
          "base_uri": "https://localhost:8080/"
        },
        "id": "IKL1KDa6rKdB",
        "outputId": "1f0727db-75e2-4717-96da-0ff15a315b87"
      },
      "execution_count": 259,
      "outputs": [
        {
          "output_type": "execute_result",
          "data": {
            "text/plain": [
              "1.487546369899311"
            ]
          },
          "metadata": {},
          "execution_count": 259
        }
      ]
    },
    {
      "cell_type": "code",
      "source": [],
      "metadata": {
        "id": "hjX7V4PJ3XaX"
      },
      "execution_count": null,
      "outputs": []
    }
  ]
}