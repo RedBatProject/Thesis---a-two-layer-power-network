{
  "nbformat": 4,
  "nbformat_minor": 0,
  "metadata": {
    "colab": {
      "name": "intro_with_pandapower.ipynb",
      "provenance": [],
      "collapsed_sections": [],
      "authorship_tag": "ABX9TyM0+5BA7zRDUcForitC8VVX",
      "include_colab_link": true
    },
    "kernelspec": {
      "name": "python3",
      "display_name": "Python 3"
    },
    "language_info": {
      "name": "python"
    }
  },
  "cells": [
    {
      "cell_type": "markdown",
      "metadata": {
        "id": "view-in-github",
        "colab_type": "text"
      },
      "source": [
        "<a href=\"https://colab.research.google.com/github/rizzaesh/Thesis---a-two-layer-power-network/blob/main/intro_with_pandapower.ipynb\" target=\"_parent\"><img src=\"https://colab.research.google.com/assets/colab-badge.svg\" alt=\"Open In Colab\"/></a>"
      ]
    },
    {
      "cell_type": "code",
      "execution_count": 1,
      "metadata": {
        "colab": {
          "base_uri": "https://localhost:8080/"
        },
        "id": "BffCF3hYP4qX",
        "outputId": "a06743db-524b-4f09-8758-0db56fd808f5"
      },
      "outputs": [
        {
          "output_type": "stream",
          "name": "stdout",
          "text": [
            "Collecting pandapower\n",
            "  Downloading pandapower-2.8.0.zip (5.9 MB)\n",
            "\u001b[K     |████████████████████████████████| 5.9 MB 3.6 MB/s \n",
            "\u001b[?25hRequirement already satisfied: pandas>=0.17 in /usr/local/lib/python3.7/dist-packages (from pandapower) (1.3.5)\n",
            "Requirement already satisfied: networkx>=2.5 in /usr/local/lib/python3.7/dist-packages (from pandapower) (2.6.3)\n",
            "Requirement already satisfied: scipy in /usr/local/lib/python3.7/dist-packages (from pandapower) (1.4.1)\n",
            "Requirement already satisfied: numpy>=0.11 in /usr/local/lib/python3.7/dist-packages (from pandapower) (1.21.5)\n",
            "Requirement already satisfied: packaging in /usr/local/lib/python3.7/dist-packages (from pandapower) (21.3)\n",
            "Requirement already satisfied: python-dateutil>=2.7.3 in /usr/local/lib/python3.7/dist-packages (from pandas>=0.17->pandapower) (2.8.2)\n",
            "Requirement already satisfied: pytz>=2017.3 in /usr/local/lib/python3.7/dist-packages (from pandas>=0.17->pandapower) (2018.9)\n",
            "Requirement already satisfied: six>=1.5 in /usr/local/lib/python3.7/dist-packages (from python-dateutil>=2.7.3->pandas>=0.17->pandapower) (1.15.0)\n",
            "Requirement already satisfied: pyparsing!=3.0.5,>=2.0.2 in /usr/local/lib/python3.7/dist-packages (from packaging->pandapower) (3.0.7)\n",
            "Building wheels for collected packages: pandapower\n",
            "  Building wheel for pandapower (setup.py) ... \u001b[?25l\u001b[?25hdone\n",
            "  Created wheel for pandapower: filename=pandapower-2.8.0-py3-none-any.whl size=5881019 sha256=ace5f5abb8dc532ba8c5ab6a3098f02c421326a1262f6c76809ee0f439bf7253\n",
            "  Stored in directory: /root/.cache/pip/wheels/8a/ce/91/cb5881926915c6c131434bde7bb43a9f9e1c7a54951ebd3dee\n",
            "Successfully built pandapower\n",
            "Installing collected packages: pandapower\n",
            "Successfully installed pandapower-2.8.0\n"
          ]
        }
      ],
      "source": [
        "pip install pandapower"
      ]
    },
    {
      "cell_type": "code",
      "source": [
        "import pandapower as pp"
      ],
      "metadata": {
        "id": "m1YxBVgRP_w1"
      },
      "execution_count": 2,
      "outputs": []
    },
    {
      "cell_type": "code",
      "source": [
        "net = pp.create_empty_network(name=\"power\")"
      ],
      "metadata": {
        "id": "gnXdRhjCQDeS"
      },
      "execution_count": 3,
      "outputs": []
    },
    {
      "cell_type": "code",
      "source": [
        "net"
      ],
      "metadata": {
        "colab": {
          "base_uri": "https://localhost:8080/"
        },
        "id": "FhE4r6CEQN-b",
        "outputId": "dbef960d-74c9-4092-aee1-e5a33ba68b33"
      },
      "execution_count": 4,
      "outputs": [
        {
          "output_type": "execute_result",
          "data": {
            "text/plain": [
              "This pandapower network includes the following parameter tables:"
            ]
          },
          "metadata": {},
          "execution_count": 4
        }
      ]
    },
    {
      "cell_type": "code",
      "source": [
        "pp.create_bus(net=net,name='bus1',vn_kv=-1)"
      ],
      "metadata": {
        "colab": {
          "base_uri": "https://localhost:8080/"
        },
        "id": "Lod4ECM5QS41",
        "outputId": "f253809f-a38b-40c7-c6df-2d8b50627f88"
      },
      "execution_count": 17,
      "outputs": [
        {
          "output_type": "execute_result",
          "data": {
            "text/plain": [
              "5"
            ]
          },
          "metadata": {},
          "execution_count": 17
        }
      ]
    },
    {
      "cell_type": "code",
      "source": [
        "net"
      ],
      "metadata": {
        "colab": {
          "base_uri": "https://localhost:8080/"
        },
        "id": "yBd2kYjBRFBr",
        "outputId": "0d712f5b-4a6c-49f7-c95a-fb6159939fc7"
      },
      "execution_count": 11,
      "outputs": [
        {
          "output_type": "execute_result",
          "data": {
            "text/plain": [
              "This pandapower network includes the following parameter tables:\n",
              "   - bus (4 elements)"
            ]
          },
          "metadata": {},
          "execution_count": 11
        }
      ]
    },
    {
      "cell_type": "code",
      "source": [
        "pp.create_line(net=net,from_bus=3,to_bus=5,length_km=1,std_type='NAYY 4x50 SE')"
      ],
      "metadata": {
        "colab": {
          "base_uri": "https://localhost:8080/"
        },
        "id": "8QSCI_ONRG_J",
        "outputId": "ef0c3e70-7073-4931-9e62-aa7c59709006"
      },
      "execution_count": 30,
      "outputs": [
        {
          "output_type": "execute_result",
          "data": {
            "text/plain": [
              "7"
            ]
          },
          "metadata": {},
          "execution_count": 30
        }
      ]
    },
    {
      "cell_type": "code",
      "source": [
        "pp.create_load(net=net,bus=5,p_mw=2)"
      ],
      "metadata": {
        "colab": {
          "base_uri": "https://localhost:8080/"
        },
        "id": "2xAEF1BATZEs",
        "outputId": "8c656682-8195-4f3f-b8ca-a90cf45e729c"
      },
      "execution_count": 38,
      "outputs": [
        {
          "output_type": "execute_result",
          "data": {
            "text/plain": [
              "5"
            ]
          },
          "metadata": {},
          "execution_count": 38
        }
      ]
    },
    {
      "cell_type": "code",
      "source": [
        "net"
      ],
      "metadata": {
        "colab": {
          "base_uri": "https://localhost:8080/"
        },
        "id": "TX6ZrS9bTvyw",
        "outputId": "bf9d71cd-4bef-483a-f0c5-ba78735bc3b0"
      },
      "execution_count": 52,
      "outputs": [
        {
          "output_type": "execute_result",
          "data": {
            "text/plain": [
              "This pandapower network includes the following parameter tables:\n",
              "   - bus (6 elements)\n",
              "   - load (6 elements)\n",
              "   - motor (1 element)\n",
              "   - gen (3 elements)\n",
              "   - line (8 elements)\n",
              " and the following results tables:\n",
              "   - res_bus (6 elements)\n",
              "   - res_line (8 elements)\n",
              "   - res_load (6 elements)\n",
              "   - res_motor (1 element)\n",
              "   - res_gen (1 element)"
            ]
          },
          "metadata": {},
          "execution_count": 52
        }
      ]
    },
    {
      "cell_type": "code",
      "source": [
        "pp.create_motor(net=net, bus=0, pn_mech_mw=1,cos_phi=0.9)"
      ],
      "metadata": {
        "colab": {
          "base_uri": "https://localhost:8080/"
        },
        "id": "Z-xllLA5W0Zk",
        "outputId": "7c8abee8-4f3c-4adb-b5c2-7a7acbe9294c"
      },
      "execution_count": 43,
      "outputs": [
        {
          "output_type": "execute_result",
          "data": {
            "text/plain": [
              "0"
            ]
          },
          "metadata": {},
          "execution_count": 43
        }
      ]
    },
    {
      "cell_type": "code",
      "source": [
        "pp.create_gen(net=net,bus=3,p_mw=4,slack=True)"
      ],
      "metadata": {
        "colab": {
          "base_uri": "https://localhost:8080/"
        },
        "id": "chNcCBaTYjFO",
        "outputId": "683350a8-e09d-4566-f05b-c6f04bbc8860"
      },
      "execution_count": 54,
      "outputs": [
        {
          "output_type": "execute_result",
          "data": {
            "text/plain": [
              "3"
            ]
          },
          "metadata": {},
          "execution_count": 54
        }
      ]
    },
    {
      "cell_type": "code",
      "source": [
        "pp.rundcpp(net=net)"
      ],
      "metadata": {
        "id": "2xnsk6qoXQ-C"
      },
      "execution_count": 61,
      "outputs": []
    },
    {
      "cell_type": "code",
      "source": [
        ""
      ],
      "metadata": {
        "colab": {
          "base_uri": "https://localhost:8080/",
          "height": 49
        },
        "id": "rFwj9o2sZdsp",
        "outputId": "e3e10da3-7b99-44ae-b7ff-e386bc7ce9ef"
      },
      "execution_count": 60,
      "outputs": [
        {
          "output_type": "execute_result",
          "data": {
            "text/plain": [
              "Empty DataFrame\n",
              "Columns: [p_hv_mw, q_hv_mvar, p_lv_mw, q_lv_mvar, pl_mw, ql_mvar, i_hv_ka, i_lv_ka, vm_hv_pu, va_hv_degree, vm_lv_pu, va_lv_degree, loading_percent]\n",
              "Index: []"
            ],
            "text/html": [
              "\n",
              "  <div id=\"df-c5543c7b-f258-455b-a93c-46dadb648f3a\">\n",
              "    <div class=\"colab-df-container\">\n",
              "      <div>\n",
              "<style scoped>\n",
              "    .dataframe tbody tr th:only-of-type {\n",
              "        vertical-align: middle;\n",
              "    }\n",
              "\n",
              "    .dataframe tbody tr th {\n",
              "        vertical-align: top;\n",
              "    }\n",
              "\n",
              "    .dataframe thead th {\n",
              "        text-align: right;\n",
              "    }\n",
              "</style>\n",
              "<table border=\"1\" class=\"dataframe\">\n",
              "  <thead>\n",
              "    <tr style=\"text-align: right;\">\n",
              "      <th></th>\n",
              "      <th>p_hv_mw</th>\n",
              "      <th>q_hv_mvar</th>\n",
              "      <th>p_lv_mw</th>\n",
              "      <th>q_lv_mvar</th>\n",
              "      <th>pl_mw</th>\n",
              "      <th>ql_mvar</th>\n",
              "      <th>i_hv_ka</th>\n",
              "      <th>i_lv_ka</th>\n",
              "      <th>vm_hv_pu</th>\n",
              "      <th>va_hv_degree</th>\n",
              "      <th>vm_lv_pu</th>\n",
              "      <th>va_lv_degree</th>\n",
              "      <th>loading_percent</th>\n",
              "    </tr>\n",
              "  </thead>\n",
              "  <tbody>\n",
              "  </tbody>\n",
              "</table>\n",
              "</div>\n",
              "      <button class=\"colab-df-convert\" onclick=\"convertToInteractive('df-c5543c7b-f258-455b-a93c-46dadb648f3a')\"\n",
              "              title=\"Convert this dataframe to an interactive table.\"\n",
              "              style=\"display:none;\">\n",
              "        \n",
              "  <svg xmlns=\"http://www.w3.org/2000/svg\" height=\"24px\"viewBox=\"0 0 24 24\"\n",
              "       width=\"24px\">\n",
              "    <path d=\"M0 0h24v24H0V0z\" fill=\"none\"/>\n",
              "    <path d=\"M18.56 5.44l.94 2.06.94-2.06 2.06-.94-2.06-.94-.94-2.06-.94 2.06-2.06.94zm-11 1L8.5 8.5l.94-2.06 2.06-.94-2.06-.94L8.5 2.5l-.94 2.06-2.06.94zm10 10l.94 2.06.94-2.06 2.06-.94-2.06-.94-.94-2.06-.94 2.06-2.06.94z\"/><path d=\"M17.41 7.96l-1.37-1.37c-.4-.4-.92-.59-1.43-.59-.52 0-1.04.2-1.43.59L10.3 9.45l-7.72 7.72c-.78.78-.78 2.05 0 2.83L4 21.41c.39.39.9.59 1.41.59.51 0 1.02-.2 1.41-.59l7.78-7.78 2.81-2.81c.8-.78.8-2.07 0-2.86zM5.41 20L4 18.59l7.72-7.72 1.47 1.35L5.41 20z\"/>\n",
              "  </svg>\n",
              "      </button>\n",
              "      \n",
              "  <style>\n",
              "    .colab-df-container {\n",
              "      display:flex;\n",
              "      flex-wrap:wrap;\n",
              "      gap: 12px;\n",
              "    }\n",
              "\n",
              "    .colab-df-convert {\n",
              "      background-color: #E8F0FE;\n",
              "      border: none;\n",
              "      border-radius: 50%;\n",
              "      cursor: pointer;\n",
              "      display: none;\n",
              "      fill: #1967D2;\n",
              "      height: 32px;\n",
              "      padding: 0 0 0 0;\n",
              "      width: 32px;\n",
              "    }\n",
              "\n",
              "    .colab-df-convert:hover {\n",
              "      background-color: #E2EBFA;\n",
              "      box-shadow: 0px 1px 2px rgba(60, 64, 67, 0.3), 0px 1px 3px 1px rgba(60, 64, 67, 0.15);\n",
              "      fill: #174EA6;\n",
              "    }\n",
              "\n",
              "    [theme=dark] .colab-df-convert {\n",
              "      background-color: #3B4455;\n",
              "      fill: #D2E3FC;\n",
              "    }\n",
              "\n",
              "    [theme=dark] .colab-df-convert:hover {\n",
              "      background-color: #434B5C;\n",
              "      box-shadow: 0px 1px 3px 1px rgba(0, 0, 0, 0.15);\n",
              "      filter: drop-shadow(0px 1px 2px rgba(0, 0, 0, 0.3));\n",
              "      fill: #FFFFFF;\n",
              "    }\n",
              "  </style>\n",
              "\n",
              "      <script>\n",
              "        const buttonEl =\n",
              "          document.querySelector('#df-c5543c7b-f258-455b-a93c-46dadb648f3a button.colab-df-convert');\n",
              "        buttonEl.style.display =\n",
              "          google.colab.kernel.accessAllowed ? 'block' : 'none';\n",
              "\n",
              "        async function convertToInteractive(key) {\n",
              "          const element = document.querySelector('#df-c5543c7b-f258-455b-a93c-46dadb648f3a');\n",
              "          const dataTable =\n",
              "            await google.colab.kernel.invokeFunction('convertToInteractive',\n",
              "                                                     [key], {});\n",
              "          if (!dataTable) return;\n",
              "\n",
              "          const docLinkHtml = 'Like what you see? Visit the ' +\n",
              "            '<a target=\"_blank\" href=https://colab.research.google.com/notebooks/data_table.ipynb>data table notebook</a>'\n",
              "            + ' to learn more about interactive tables.';\n",
              "          element.innerHTML = '';\n",
              "          dataTable['output_type'] = 'display_data';\n",
              "          await google.colab.output.renderOutput(dataTable, element);\n",
              "          const docLink = document.createElement('div');\n",
              "          docLink.innerHTML = docLinkHtml;\n",
              "          element.appendChild(docLink);\n",
              "        }\n",
              "      </script>\n",
              "    </div>\n",
              "  </div>\n",
              "  "
            ]
          },
          "metadata": {},
          "execution_count": 60
        }
      ]
    },
    {
      "cell_type": "code",
      "source": [
        "import pandapower.networks as pn"
      ],
      "metadata": {
        "id": "TBKGhiP5dXMV"
      },
      "execution_count": 62,
      "outputs": []
    },
    {
      "cell_type": "code",
      "source": [
        "Net = pn.case118()"
      ],
      "metadata": {
        "id": "6f-VDcFndvRP"
      },
      "execution_count": 63,
      "outputs": []
    },
    {
      "cell_type": "code",
      "source": [
        "pp.rundcpp(net=Net)"
      ],
      "metadata": {
        "id": "7SMUFW6Id0La"
      },
      "execution_count": 65,
      "outputs": []
    },
    {
      "cell_type": "code",
      "source": [
        "Net"
      ],
      "metadata": {
        "colab": {
          "base_uri": "https://localhost:8080/"
        },
        "id": "otjH9p-Fd_uI",
        "outputId": "2c3aa114-89a0-4f80-a278-9f96bf9b14bd"
      },
      "execution_count": 72,
      "outputs": [
        {
          "output_type": "execute_result",
          "data": {
            "text/plain": [
              "This pandapower network includes the following parameter tables:\n",
              "   - bus (118 elements)\n",
              "   - load (99 elements)\n",
              "   - gen (53 elements)\n",
              "   - shunt (14 elements)\n",
              "   - ext_grid (1 element)\n",
              "   - line (173 elements)\n",
              "   - trafo (13 elements)\n",
              "   - poly_cost (54 elements)\n",
              "   - bus_geodata (118 elements)\n",
              " and the following results tables:\n",
              "   - res_bus (118 elements)\n",
              "   - res_line (173 elements)\n",
              "   - res_trafo (13 elements)\n",
              "   - res_ext_grid (1 element)\n",
              "   - res_load (99 elements)\n",
              "   - res_shunt (14 elements)\n",
              "   - res_gen (53 elements)"
            ]
          },
          "metadata": {},
          "execution_count": 72
        }
      ]
    },
    {
      "cell_type": "code",
      "source": [
        "X[2]"
      ],
      "metadata": {
        "colab": {
          "base_uri": "https://localhost:8080/",
          "height": 49
        },
        "id": "q3e5UwicgQFC",
        "outputId": "1e5ec927-4a8d-49b8-cc8f-824703eb2b24"
      },
      "execution_count": 98,
      "outputs": [
        {
          "output_type": "execute_result",
          "data": {
            "text/plain": [
              "Empty DataFrame\n",
              "Columns: [name, bus, p_mw, q_mvar, sn_mva, scaling, in_service, type, current_source]\n",
              "Index: []"
            ],
            "text/html": [
              "\n",
              "  <div id=\"df-1c6a994e-9f86-48c9-8223-5840986e31b8\">\n",
              "    <div class=\"colab-df-container\">\n",
              "      <div>\n",
              "<style scoped>\n",
              "    .dataframe tbody tr th:only-of-type {\n",
              "        vertical-align: middle;\n",
              "    }\n",
              "\n",
              "    .dataframe tbody tr th {\n",
              "        vertical-align: top;\n",
              "    }\n",
              "\n",
              "    .dataframe thead th {\n",
              "        text-align: right;\n",
              "    }\n",
              "</style>\n",
              "<table border=\"1\" class=\"dataframe\">\n",
              "  <thead>\n",
              "    <tr style=\"text-align: right;\">\n",
              "      <th></th>\n",
              "      <th>name</th>\n",
              "      <th>bus</th>\n",
              "      <th>p_mw</th>\n",
              "      <th>q_mvar</th>\n",
              "      <th>sn_mva</th>\n",
              "      <th>scaling</th>\n",
              "      <th>in_service</th>\n",
              "      <th>type</th>\n",
              "      <th>current_source</th>\n",
              "    </tr>\n",
              "  </thead>\n",
              "  <tbody>\n",
              "  </tbody>\n",
              "</table>\n",
              "</div>\n",
              "      <button class=\"colab-df-convert\" onclick=\"convertToInteractive('df-1c6a994e-9f86-48c9-8223-5840986e31b8')\"\n",
              "              title=\"Convert this dataframe to an interactive table.\"\n",
              "              style=\"display:none;\">\n",
              "        \n",
              "  <svg xmlns=\"http://www.w3.org/2000/svg\" height=\"24px\"viewBox=\"0 0 24 24\"\n",
              "       width=\"24px\">\n",
              "    <path d=\"M0 0h24v24H0V0z\" fill=\"none\"/>\n",
              "    <path d=\"M18.56 5.44l.94 2.06.94-2.06 2.06-.94-2.06-.94-.94-2.06-.94 2.06-2.06.94zm-11 1L8.5 8.5l.94-2.06 2.06-.94-2.06-.94L8.5 2.5l-.94 2.06-2.06.94zm10 10l.94 2.06.94-2.06 2.06-.94-2.06-.94-.94-2.06-.94 2.06-2.06.94z\"/><path d=\"M17.41 7.96l-1.37-1.37c-.4-.4-.92-.59-1.43-.59-.52 0-1.04.2-1.43.59L10.3 9.45l-7.72 7.72c-.78.78-.78 2.05 0 2.83L4 21.41c.39.39.9.59 1.41.59.51 0 1.02-.2 1.41-.59l7.78-7.78 2.81-2.81c.8-.78.8-2.07 0-2.86zM5.41 20L4 18.59l7.72-7.72 1.47 1.35L5.41 20z\"/>\n",
              "  </svg>\n",
              "      </button>\n",
              "      \n",
              "  <style>\n",
              "    .colab-df-container {\n",
              "      display:flex;\n",
              "      flex-wrap:wrap;\n",
              "      gap: 12px;\n",
              "    }\n",
              "\n",
              "    .colab-df-convert {\n",
              "      background-color: #E8F0FE;\n",
              "      border: none;\n",
              "      border-radius: 50%;\n",
              "      cursor: pointer;\n",
              "      display: none;\n",
              "      fill: #1967D2;\n",
              "      height: 32px;\n",
              "      padding: 0 0 0 0;\n",
              "      width: 32px;\n",
              "    }\n",
              "\n",
              "    .colab-df-convert:hover {\n",
              "      background-color: #E2EBFA;\n",
              "      box-shadow: 0px 1px 2px rgba(60, 64, 67, 0.3), 0px 1px 3px 1px rgba(60, 64, 67, 0.15);\n",
              "      fill: #174EA6;\n",
              "    }\n",
              "\n",
              "    [theme=dark] .colab-df-convert {\n",
              "      background-color: #3B4455;\n",
              "      fill: #D2E3FC;\n",
              "    }\n",
              "\n",
              "    [theme=dark] .colab-df-convert:hover {\n",
              "      background-color: #434B5C;\n",
              "      box-shadow: 0px 1px 3px 1px rgba(0, 0, 0, 0.15);\n",
              "      filter: drop-shadow(0px 1px 2px rgba(0, 0, 0, 0.3));\n",
              "      fill: #FFFFFF;\n",
              "    }\n",
              "  </style>\n",
              "\n",
              "      <script>\n",
              "        const buttonEl =\n",
              "          document.querySelector('#df-1c6a994e-9f86-48c9-8223-5840986e31b8 button.colab-df-convert');\n",
              "        buttonEl.style.display =\n",
              "          google.colab.kernel.accessAllowed ? 'block' : 'none';\n",
              "\n",
              "        async function convertToInteractive(key) {\n",
              "          const element = document.querySelector('#df-1c6a994e-9f86-48c9-8223-5840986e31b8');\n",
              "          const dataTable =\n",
              "            await google.colab.kernel.invokeFunction('convertToInteractive',\n",
              "                                                     [key], {});\n",
              "          if (!dataTable) return;\n",
              "\n",
              "          const docLinkHtml = 'Like what you see? Visit the ' +\n",
              "            '<a target=\"_blank\" href=https://colab.research.google.com/notebooks/data_table.ipynb>data table notebook</a>'\n",
              "            + ' to learn more about interactive tables.';\n",
              "          element.innerHTML = '';\n",
              "          dataTable['output_type'] = 'display_data';\n",
              "          await google.colab.output.renderOutput(dataTable, element);\n",
              "          const docLink = document.createElement('div');\n",
              "          docLink.innerHTML = docLinkHtml;\n",
              "          element.appendChild(docLink);\n",
              "        }\n",
              "      </script>\n",
              "    </div>\n",
              "  </div>\n",
              "  "
            ]
          },
          "metadata": {},
          "execution_count": 98
        }
      ]
    },
    {
      "cell_type": "code",
      "source": [
        "net.values()"
      ],
      "metadata": {
        "id": "gEq8AEXweDaL"
      },
      "execution_count": null,
      "outputs": []
    },
    {
      "cell_type": "code",
      "source": [
        "y = list(net.values())"
      ],
      "metadata": {
        "id": "xsk5xbi6fjP7"
      },
      "execution_count": 143,
      "outputs": []
    },
    {
      "cell_type": "code",
      "source": [
        "y[64].describe()"
      ],
      "metadata": {
        "colab": {
          "base_uri": "https://localhost:8080/",
          "height": 300
        },
        "id": "Snhe866giYMq",
        "outputId": "ad4902af-41e0-4525-e1da-b44229c7ee77"
      },
      "execution_count": 145,
      "outputs": [
        {
          "output_type": "execute_result",
          "data": {
            "text/plain": [
              "       p_from_mw  q_from_mvar   p_to_mw  q_to_mvar  pl_mw  ql_mvar  i_from_ka  \\\n",
              "count   8.000000          8.0  8.000000        8.0    8.0      8.0   8.000000   \n",
              "mean    1.850000          0.0 -1.850000        0.0    0.0      0.0   0.197261   \n",
              "std     3.649266          0.0  3.649266        0.0    0.0      0.0   0.162569   \n",
              "min    -4.900000          0.0 -8.100000        0.0    0.0      0.0   0.006415   \n",
              "25%     0.475000          0.0 -3.125000        0.0    0.0      0.0   0.105848   \n",
              "50%     2.300000          0.0 -2.300000        0.0    0.0      0.0   0.182828   \n",
              "75%     3.125000          0.0 -0.475000        0.0    0.0      0.0   0.232544   \n",
              "max     8.100000          0.0  4.900000        0.0    0.0      0.0   0.519615   \n",
              "\n",
              "        i_to_ka      i_ka  vm_from_pu  va_from_degree  vm_to_pu  va_to_degree  \\\n",
              "count  8.000000  8.000000         8.0        8.000000       8.0      8.000000   \n",
              "mean  -0.781027  0.197261         1.0        0.396296       1.0      0.287681   \n",
              "std    1.205600  0.162569         0.0        0.168706       0.0      0.132066   \n",
              "min   -2.829016  0.006415         1.0        0.000000       1.0      0.000000   \n",
              "25%   -1.804220  0.105848         1.0        0.432990       1.0      0.287681   \n",
              "50%   -0.237355  0.182828         1.0        0.475555       1.0      0.287681   \n",
              "75%    0.046509  0.232544         1.0        0.475555       1.0      0.331714   \n",
              "max    0.519615  0.519615         1.0        0.475555       1.0      0.469684   \n",
              "\n",
              "       loading_percent  \n",
              "count         8.000000  \n",
              "mean        138.916438  \n",
              "std         114.484977  \n",
              "min           4.517608  \n",
              "25%          74.540528  \n",
              "50%         128.751821  \n",
              "75%         163.763281  \n",
              "max         365.926227  "
            ],
            "text/html": [
              "\n",
              "  <div id=\"df-62715bea-e448-4a9e-b66b-618d6a232ced\">\n",
              "    <div class=\"colab-df-container\">\n",
              "      <div>\n",
              "<style scoped>\n",
              "    .dataframe tbody tr th:only-of-type {\n",
              "        vertical-align: middle;\n",
              "    }\n",
              "\n",
              "    .dataframe tbody tr th {\n",
              "        vertical-align: top;\n",
              "    }\n",
              "\n",
              "    .dataframe thead th {\n",
              "        text-align: right;\n",
              "    }\n",
              "</style>\n",
              "<table border=\"1\" class=\"dataframe\">\n",
              "  <thead>\n",
              "    <tr style=\"text-align: right;\">\n",
              "      <th></th>\n",
              "      <th>p_from_mw</th>\n",
              "      <th>q_from_mvar</th>\n",
              "      <th>p_to_mw</th>\n",
              "      <th>q_to_mvar</th>\n",
              "      <th>pl_mw</th>\n",
              "      <th>ql_mvar</th>\n",
              "      <th>i_from_ka</th>\n",
              "      <th>i_to_ka</th>\n",
              "      <th>i_ka</th>\n",
              "      <th>vm_from_pu</th>\n",
              "      <th>va_from_degree</th>\n",
              "      <th>vm_to_pu</th>\n",
              "      <th>va_to_degree</th>\n",
              "      <th>loading_percent</th>\n",
              "    </tr>\n",
              "  </thead>\n",
              "  <tbody>\n",
              "    <tr>\n",
              "      <th>count</th>\n",
              "      <td>8.000000</td>\n",
              "      <td>8.0</td>\n",
              "      <td>8.000000</td>\n",
              "      <td>8.0</td>\n",
              "      <td>8.0</td>\n",
              "      <td>8.0</td>\n",
              "      <td>8.000000</td>\n",
              "      <td>8.000000</td>\n",
              "      <td>8.000000</td>\n",
              "      <td>8.0</td>\n",
              "      <td>8.000000</td>\n",
              "      <td>8.0</td>\n",
              "      <td>8.000000</td>\n",
              "      <td>8.000000</td>\n",
              "    </tr>\n",
              "    <tr>\n",
              "      <th>mean</th>\n",
              "      <td>1.850000</td>\n",
              "      <td>0.0</td>\n",
              "      <td>-1.850000</td>\n",
              "      <td>0.0</td>\n",
              "      <td>0.0</td>\n",
              "      <td>0.0</td>\n",
              "      <td>0.197261</td>\n",
              "      <td>-0.781027</td>\n",
              "      <td>0.197261</td>\n",
              "      <td>1.0</td>\n",
              "      <td>0.396296</td>\n",
              "      <td>1.0</td>\n",
              "      <td>0.287681</td>\n",
              "      <td>138.916438</td>\n",
              "    </tr>\n",
              "    <tr>\n",
              "      <th>std</th>\n",
              "      <td>3.649266</td>\n",
              "      <td>0.0</td>\n",
              "      <td>3.649266</td>\n",
              "      <td>0.0</td>\n",
              "      <td>0.0</td>\n",
              "      <td>0.0</td>\n",
              "      <td>0.162569</td>\n",
              "      <td>1.205600</td>\n",
              "      <td>0.162569</td>\n",
              "      <td>0.0</td>\n",
              "      <td>0.168706</td>\n",
              "      <td>0.0</td>\n",
              "      <td>0.132066</td>\n",
              "      <td>114.484977</td>\n",
              "    </tr>\n",
              "    <tr>\n",
              "      <th>min</th>\n",
              "      <td>-4.900000</td>\n",
              "      <td>0.0</td>\n",
              "      <td>-8.100000</td>\n",
              "      <td>0.0</td>\n",
              "      <td>0.0</td>\n",
              "      <td>0.0</td>\n",
              "      <td>0.006415</td>\n",
              "      <td>-2.829016</td>\n",
              "      <td>0.006415</td>\n",
              "      <td>1.0</td>\n",
              "      <td>0.000000</td>\n",
              "      <td>1.0</td>\n",
              "      <td>0.000000</td>\n",
              "      <td>4.517608</td>\n",
              "    </tr>\n",
              "    <tr>\n",
              "      <th>25%</th>\n",
              "      <td>0.475000</td>\n",
              "      <td>0.0</td>\n",
              "      <td>-3.125000</td>\n",
              "      <td>0.0</td>\n",
              "      <td>0.0</td>\n",
              "      <td>0.0</td>\n",
              "      <td>0.105848</td>\n",
              "      <td>-1.804220</td>\n",
              "      <td>0.105848</td>\n",
              "      <td>1.0</td>\n",
              "      <td>0.432990</td>\n",
              "      <td>1.0</td>\n",
              "      <td>0.287681</td>\n",
              "      <td>74.540528</td>\n",
              "    </tr>\n",
              "    <tr>\n",
              "      <th>50%</th>\n",
              "      <td>2.300000</td>\n",
              "      <td>0.0</td>\n",
              "      <td>-2.300000</td>\n",
              "      <td>0.0</td>\n",
              "      <td>0.0</td>\n",
              "      <td>0.0</td>\n",
              "      <td>0.182828</td>\n",
              "      <td>-0.237355</td>\n",
              "      <td>0.182828</td>\n",
              "      <td>1.0</td>\n",
              "      <td>0.475555</td>\n",
              "      <td>1.0</td>\n",
              "      <td>0.287681</td>\n",
              "      <td>128.751821</td>\n",
              "    </tr>\n",
              "    <tr>\n",
              "      <th>75%</th>\n",
              "      <td>3.125000</td>\n",
              "      <td>0.0</td>\n",
              "      <td>-0.475000</td>\n",
              "      <td>0.0</td>\n",
              "      <td>0.0</td>\n",
              "      <td>0.0</td>\n",
              "      <td>0.232544</td>\n",
              "      <td>0.046509</td>\n",
              "      <td>0.232544</td>\n",
              "      <td>1.0</td>\n",
              "      <td>0.475555</td>\n",
              "      <td>1.0</td>\n",
              "      <td>0.331714</td>\n",
              "      <td>163.763281</td>\n",
              "    </tr>\n",
              "    <tr>\n",
              "      <th>max</th>\n",
              "      <td>8.100000</td>\n",
              "      <td>0.0</td>\n",
              "      <td>4.900000</td>\n",
              "      <td>0.0</td>\n",
              "      <td>0.0</td>\n",
              "      <td>0.0</td>\n",
              "      <td>0.519615</td>\n",
              "      <td>0.519615</td>\n",
              "      <td>0.519615</td>\n",
              "      <td>1.0</td>\n",
              "      <td>0.475555</td>\n",
              "      <td>1.0</td>\n",
              "      <td>0.469684</td>\n",
              "      <td>365.926227</td>\n",
              "    </tr>\n",
              "  </tbody>\n",
              "</table>\n",
              "</div>\n",
              "      <button class=\"colab-df-convert\" onclick=\"convertToInteractive('df-62715bea-e448-4a9e-b66b-618d6a232ced')\"\n",
              "              title=\"Convert this dataframe to an interactive table.\"\n",
              "              style=\"display:none;\">\n",
              "        \n",
              "  <svg xmlns=\"http://www.w3.org/2000/svg\" height=\"24px\"viewBox=\"0 0 24 24\"\n",
              "       width=\"24px\">\n",
              "    <path d=\"M0 0h24v24H0V0z\" fill=\"none\"/>\n",
              "    <path d=\"M18.56 5.44l.94 2.06.94-2.06 2.06-.94-2.06-.94-.94-2.06-.94 2.06-2.06.94zm-11 1L8.5 8.5l.94-2.06 2.06-.94-2.06-.94L8.5 2.5l-.94 2.06-2.06.94zm10 10l.94 2.06.94-2.06 2.06-.94-2.06-.94-.94-2.06-.94 2.06-2.06.94z\"/><path d=\"M17.41 7.96l-1.37-1.37c-.4-.4-.92-.59-1.43-.59-.52 0-1.04.2-1.43.59L10.3 9.45l-7.72 7.72c-.78.78-.78 2.05 0 2.83L4 21.41c.39.39.9.59 1.41.59.51 0 1.02-.2 1.41-.59l7.78-7.78 2.81-2.81c.8-.78.8-2.07 0-2.86zM5.41 20L4 18.59l7.72-7.72 1.47 1.35L5.41 20z\"/>\n",
              "  </svg>\n",
              "      </button>\n",
              "      \n",
              "  <style>\n",
              "    .colab-df-container {\n",
              "      display:flex;\n",
              "      flex-wrap:wrap;\n",
              "      gap: 12px;\n",
              "    }\n",
              "\n",
              "    .colab-df-convert {\n",
              "      background-color: #E8F0FE;\n",
              "      border: none;\n",
              "      border-radius: 50%;\n",
              "      cursor: pointer;\n",
              "      display: none;\n",
              "      fill: #1967D2;\n",
              "      height: 32px;\n",
              "      padding: 0 0 0 0;\n",
              "      width: 32px;\n",
              "    }\n",
              "\n",
              "    .colab-df-convert:hover {\n",
              "      background-color: #E2EBFA;\n",
              "      box-shadow: 0px 1px 2px rgba(60, 64, 67, 0.3), 0px 1px 3px 1px rgba(60, 64, 67, 0.15);\n",
              "      fill: #174EA6;\n",
              "    }\n",
              "\n",
              "    [theme=dark] .colab-df-convert {\n",
              "      background-color: #3B4455;\n",
              "      fill: #D2E3FC;\n",
              "    }\n",
              "\n",
              "    [theme=dark] .colab-df-convert:hover {\n",
              "      background-color: #434B5C;\n",
              "      box-shadow: 0px 1px 3px 1px rgba(0, 0, 0, 0.15);\n",
              "      filter: drop-shadow(0px 1px 2px rgba(0, 0, 0, 0.3));\n",
              "      fill: #FFFFFF;\n",
              "    }\n",
              "  </style>\n",
              "\n",
              "      <script>\n",
              "        const buttonEl =\n",
              "          document.querySelector('#df-62715bea-e448-4a9e-b66b-618d6a232ced button.colab-df-convert');\n",
              "        buttonEl.style.display =\n",
              "          google.colab.kernel.accessAllowed ? 'block' : 'none';\n",
              "\n",
              "        async function convertToInteractive(key) {\n",
              "          const element = document.querySelector('#df-62715bea-e448-4a9e-b66b-618d6a232ced');\n",
              "          const dataTable =\n",
              "            await google.colab.kernel.invokeFunction('convertToInteractive',\n",
              "                                                     [key], {});\n",
              "          if (!dataTable) return;\n",
              "\n",
              "          const docLinkHtml = 'Like what you see? Visit the ' +\n",
              "            '<a target=\"_blank\" href=https://colab.research.google.com/notebooks/data_table.ipynb>data table notebook</a>'\n",
              "            + ' to learn more about interactive tables.';\n",
              "          element.innerHTML = '';\n",
              "          dataTable['output_type'] = 'display_data';\n",
              "          await google.colab.output.renderOutput(dataTable, element);\n",
              "          const docLink = document.createElement('div');\n",
              "          docLink.innerHTML = docLinkHtml;\n",
              "          element.appendChild(docLink);\n",
              "        }\n",
              "      </script>\n",
              "    </div>\n",
              "  </div>\n",
              "  "
            ]
          },
          "metadata": {},
          "execution_count": 145
        }
      ]
    },
    {
      "cell_type": "code",
      "source": [
        "X[64]"
      ],
      "metadata": {
        "colab": {
          "base_uri": "https://localhost:8080/",
          "height": 424
        },
        "id": "UtPJ_SLJf6GW",
        "outputId": "cdb3b639-6794-489e-dcb7-c02cd679fd66"
      },
      "execution_count": 141,
      "outputs": [
        {
          "output_type": "execute_result",
          "data": {
            "text/plain": [
              "      p_from_mw  q_from_mvar     p_to_mw  q_to_mvar  pl_mw  ql_mvar  \\\n",
              "0    -11.766082          0.0   11.766082        0.0    0.0      0.0   \n",
              "1    -39.233918          0.0   39.233918        0.0    0.0      0.0   \n",
              "2   -103.794382          0.0  103.794382        0.0    0.0      0.0   \n",
              "3    -69.054517          0.0   69.054517        0.0    0.0      0.0   \n",
              "4     87.176321          0.0  -87.176321        0.0    0.0      0.0   \n",
              "..          ...          ...         ...        ...    ...      ...   \n",
              "168   21.416899          0.0  -21.416899        0.0    0.0      0.0   \n",
              "169    0.583101          0.0   -0.583101        0.0    0.0      0.0   \n",
              "170   20.000000          0.0  -20.000000        0.0    0.0      0.0   \n",
              "171   36.206491          0.0  -36.206491        0.0    0.0      0.0   \n",
              "172   -3.206491          0.0    3.206491        0.0    0.0      0.0   \n",
              "\n",
              "     i_from_ka   i_to_ka      i_ka  vm_from_pu  va_from_degree  vm_to_pu  \\\n",
              "0     0.051545  0.049226  0.051545       0.955       14.706511      1.00   \n",
              "1     0.171877  0.164143  0.171877       0.955       14.706511      1.00   \n",
              "2     0.435115  0.434244  0.435115       0.998       19.458123      1.00   \n",
              "3     0.288903  0.288903  0.288903       1.000       15.659637      1.00   \n",
              "4     0.364719  0.368403  0.368403       1.000       19.932692      0.99   \n",
              "..         ...       ...       ...         ...             ...       ...   \n",
              "168   0.092564  0.089602  0.092564       0.968       18.795034      1.00   \n",
              "169   0.002440  0.002440  0.002440       1.000       17.889229      1.00   \n",
              "170   0.084519  0.083674  0.084519       0.990       16.501142      1.00   \n",
              "171   0.151477  0.151477  0.151477       1.000       23.263347      1.00   \n",
              "172   0.014226  0.013415  0.014226       0.943       22.165580      1.00   \n",
              "\n",
              "     va_to_degree  loading_percent  \n",
              "0       15.379984         0.124450  \n",
              "1       15.659637         0.414976  \n",
              "2       19.932692         1.050529  \n",
              "3       19.932692         0.697520  \n",
              "4       17.235481         0.889464  \n",
              "..            ...              ...  \n",
              "168     17.885754         0.223484  \n",
              "169     17.885754         0.005890  \n",
              "170     14.896860         0.204061  \n",
              "171     22.265522         0.365722  \n",
              "172     22.265522         0.034347  \n",
              "\n",
              "[173 rows x 14 columns]"
            ],
            "text/html": [
              "\n",
              "  <div id=\"df-becba733-b230-4171-b1b5-c95d27d84760\">\n",
              "    <div class=\"colab-df-container\">\n",
              "      <div>\n",
              "<style scoped>\n",
              "    .dataframe tbody tr th:only-of-type {\n",
              "        vertical-align: middle;\n",
              "    }\n",
              "\n",
              "    .dataframe tbody tr th {\n",
              "        vertical-align: top;\n",
              "    }\n",
              "\n",
              "    .dataframe thead th {\n",
              "        text-align: right;\n",
              "    }\n",
              "</style>\n",
              "<table border=\"1\" class=\"dataframe\">\n",
              "  <thead>\n",
              "    <tr style=\"text-align: right;\">\n",
              "      <th></th>\n",
              "      <th>p_from_mw</th>\n",
              "      <th>q_from_mvar</th>\n",
              "      <th>p_to_mw</th>\n",
              "      <th>q_to_mvar</th>\n",
              "      <th>pl_mw</th>\n",
              "      <th>ql_mvar</th>\n",
              "      <th>i_from_ka</th>\n",
              "      <th>i_to_ka</th>\n",
              "      <th>i_ka</th>\n",
              "      <th>vm_from_pu</th>\n",
              "      <th>va_from_degree</th>\n",
              "      <th>vm_to_pu</th>\n",
              "      <th>va_to_degree</th>\n",
              "      <th>loading_percent</th>\n",
              "    </tr>\n",
              "  </thead>\n",
              "  <tbody>\n",
              "    <tr>\n",
              "      <th>0</th>\n",
              "      <td>-11.766082</td>\n",
              "      <td>0.0</td>\n",
              "      <td>11.766082</td>\n",
              "      <td>0.0</td>\n",
              "      <td>0.0</td>\n",
              "      <td>0.0</td>\n",
              "      <td>0.051545</td>\n",
              "      <td>0.049226</td>\n",
              "      <td>0.051545</td>\n",
              "      <td>0.955</td>\n",
              "      <td>14.706511</td>\n",
              "      <td>1.00</td>\n",
              "      <td>15.379984</td>\n",
              "      <td>0.124450</td>\n",
              "    </tr>\n",
              "    <tr>\n",
              "      <th>1</th>\n",
              "      <td>-39.233918</td>\n",
              "      <td>0.0</td>\n",
              "      <td>39.233918</td>\n",
              "      <td>0.0</td>\n",
              "      <td>0.0</td>\n",
              "      <td>0.0</td>\n",
              "      <td>0.171877</td>\n",
              "      <td>0.164143</td>\n",
              "      <td>0.171877</td>\n",
              "      <td>0.955</td>\n",
              "      <td>14.706511</td>\n",
              "      <td>1.00</td>\n",
              "      <td>15.659637</td>\n",
              "      <td>0.414976</td>\n",
              "    </tr>\n",
              "    <tr>\n",
              "      <th>2</th>\n",
              "      <td>-103.794382</td>\n",
              "      <td>0.0</td>\n",
              "      <td>103.794382</td>\n",
              "      <td>0.0</td>\n",
              "      <td>0.0</td>\n",
              "      <td>0.0</td>\n",
              "      <td>0.435115</td>\n",
              "      <td>0.434244</td>\n",
              "      <td>0.435115</td>\n",
              "      <td>0.998</td>\n",
              "      <td>19.458123</td>\n",
              "      <td>1.00</td>\n",
              "      <td>19.932692</td>\n",
              "      <td>1.050529</td>\n",
              "    </tr>\n",
              "    <tr>\n",
              "      <th>3</th>\n",
              "      <td>-69.054517</td>\n",
              "      <td>0.0</td>\n",
              "      <td>69.054517</td>\n",
              "      <td>0.0</td>\n",
              "      <td>0.0</td>\n",
              "      <td>0.0</td>\n",
              "      <td>0.288903</td>\n",
              "      <td>0.288903</td>\n",
              "      <td>0.288903</td>\n",
              "      <td>1.000</td>\n",
              "      <td>15.659637</td>\n",
              "      <td>1.00</td>\n",
              "      <td>19.932692</td>\n",
              "      <td>0.697520</td>\n",
              "    </tr>\n",
              "    <tr>\n",
              "      <th>4</th>\n",
              "      <td>87.176321</td>\n",
              "      <td>0.0</td>\n",
              "      <td>-87.176321</td>\n",
              "      <td>0.0</td>\n",
              "      <td>0.0</td>\n",
              "      <td>0.0</td>\n",
              "      <td>0.364719</td>\n",
              "      <td>0.368403</td>\n",
              "      <td>0.368403</td>\n",
              "      <td>1.000</td>\n",
              "      <td>19.932692</td>\n",
              "      <td>0.99</td>\n",
              "      <td>17.235481</td>\n",
              "      <td>0.889464</td>\n",
              "    </tr>\n",
              "    <tr>\n",
              "      <th>...</th>\n",
              "      <td>...</td>\n",
              "      <td>...</td>\n",
              "      <td>...</td>\n",
              "      <td>...</td>\n",
              "      <td>...</td>\n",
              "      <td>...</td>\n",
              "      <td>...</td>\n",
              "      <td>...</td>\n",
              "      <td>...</td>\n",
              "      <td>...</td>\n",
              "      <td>...</td>\n",
              "      <td>...</td>\n",
              "      <td>...</td>\n",
              "      <td>...</td>\n",
              "    </tr>\n",
              "    <tr>\n",
              "      <th>168</th>\n",
              "      <td>21.416899</td>\n",
              "      <td>0.0</td>\n",
              "      <td>-21.416899</td>\n",
              "      <td>0.0</td>\n",
              "      <td>0.0</td>\n",
              "      <td>0.0</td>\n",
              "      <td>0.092564</td>\n",
              "      <td>0.089602</td>\n",
              "      <td>0.092564</td>\n",
              "      <td>0.968</td>\n",
              "      <td>18.795034</td>\n",
              "      <td>1.00</td>\n",
              "      <td>17.885754</td>\n",
              "      <td>0.223484</td>\n",
              "    </tr>\n",
              "    <tr>\n",
              "      <th>169</th>\n",
              "      <td>0.583101</td>\n",
              "      <td>0.0</td>\n",
              "      <td>-0.583101</td>\n",
              "      <td>0.0</td>\n",
              "      <td>0.0</td>\n",
              "      <td>0.0</td>\n",
              "      <td>0.002440</td>\n",
              "      <td>0.002440</td>\n",
              "      <td>0.002440</td>\n",
              "      <td>1.000</td>\n",
              "      <td>17.889229</td>\n",
              "      <td>1.00</td>\n",
              "      <td>17.885754</td>\n",
              "      <td>0.005890</td>\n",
              "    </tr>\n",
              "    <tr>\n",
              "      <th>170</th>\n",
              "      <td>20.000000</td>\n",
              "      <td>0.0</td>\n",
              "      <td>-20.000000</td>\n",
              "      <td>0.0</td>\n",
              "      <td>0.0</td>\n",
              "      <td>0.0</td>\n",
              "      <td>0.084519</td>\n",
              "      <td>0.083674</td>\n",
              "      <td>0.084519</td>\n",
              "      <td>0.990</td>\n",
              "      <td>16.501142</td>\n",
              "      <td>1.00</td>\n",
              "      <td>14.896860</td>\n",
              "      <td>0.204061</td>\n",
              "    </tr>\n",
              "    <tr>\n",
              "      <th>171</th>\n",
              "      <td>36.206491</td>\n",
              "      <td>0.0</td>\n",
              "      <td>-36.206491</td>\n",
              "      <td>0.0</td>\n",
              "      <td>0.0</td>\n",
              "      <td>0.0</td>\n",
              "      <td>0.151477</td>\n",
              "      <td>0.151477</td>\n",
              "      <td>0.151477</td>\n",
              "      <td>1.000</td>\n",
              "      <td>23.263347</td>\n",
              "      <td>1.00</td>\n",
              "      <td>22.265522</td>\n",
              "      <td>0.365722</td>\n",
              "    </tr>\n",
              "    <tr>\n",
              "      <th>172</th>\n",
              "      <td>-3.206491</td>\n",
              "      <td>0.0</td>\n",
              "      <td>3.206491</td>\n",
              "      <td>0.0</td>\n",
              "      <td>0.0</td>\n",
              "      <td>0.0</td>\n",
              "      <td>0.014226</td>\n",
              "      <td>0.013415</td>\n",
              "      <td>0.014226</td>\n",
              "      <td>0.943</td>\n",
              "      <td>22.165580</td>\n",
              "      <td>1.00</td>\n",
              "      <td>22.265522</td>\n",
              "      <td>0.034347</td>\n",
              "    </tr>\n",
              "  </tbody>\n",
              "</table>\n",
              "<p>173 rows × 14 columns</p>\n",
              "</div>\n",
              "      <button class=\"colab-df-convert\" onclick=\"convertToInteractive('df-becba733-b230-4171-b1b5-c95d27d84760')\"\n",
              "              title=\"Convert this dataframe to an interactive table.\"\n",
              "              style=\"display:none;\">\n",
              "        \n",
              "  <svg xmlns=\"http://www.w3.org/2000/svg\" height=\"24px\"viewBox=\"0 0 24 24\"\n",
              "       width=\"24px\">\n",
              "    <path d=\"M0 0h24v24H0V0z\" fill=\"none\"/>\n",
              "    <path d=\"M18.56 5.44l.94 2.06.94-2.06 2.06-.94-2.06-.94-.94-2.06-.94 2.06-2.06.94zm-11 1L8.5 8.5l.94-2.06 2.06-.94-2.06-.94L8.5 2.5l-.94 2.06-2.06.94zm10 10l.94 2.06.94-2.06 2.06-.94-2.06-.94-.94-2.06-.94 2.06-2.06.94z\"/><path d=\"M17.41 7.96l-1.37-1.37c-.4-.4-.92-.59-1.43-.59-.52 0-1.04.2-1.43.59L10.3 9.45l-7.72 7.72c-.78.78-.78 2.05 0 2.83L4 21.41c.39.39.9.59 1.41.59.51 0 1.02-.2 1.41-.59l7.78-7.78 2.81-2.81c.8-.78.8-2.07 0-2.86zM5.41 20L4 18.59l7.72-7.72 1.47 1.35L5.41 20z\"/>\n",
              "  </svg>\n",
              "      </button>\n",
              "      \n",
              "  <style>\n",
              "    .colab-df-container {\n",
              "      display:flex;\n",
              "      flex-wrap:wrap;\n",
              "      gap: 12px;\n",
              "    }\n",
              "\n",
              "    .colab-df-convert {\n",
              "      background-color: #E8F0FE;\n",
              "      border: none;\n",
              "      border-radius: 50%;\n",
              "      cursor: pointer;\n",
              "      display: none;\n",
              "      fill: #1967D2;\n",
              "      height: 32px;\n",
              "      padding: 0 0 0 0;\n",
              "      width: 32px;\n",
              "    }\n",
              "\n",
              "    .colab-df-convert:hover {\n",
              "      background-color: #E2EBFA;\n",
              "      box-shadow: 0px 1px 2px rgba(60, 64, 67, 0.3), 0px 1px 3px 1px rgba(60, 64, 67, 0.15);\n",
              "      fill: #174EA6;\n",
              "    }\n",
              "\n",
              "    [theme=dark] .colab-df-convert {\n",
              "      background-color: #3B4455;\n",
              "      fill: #D2E3FC;\n",
              "    }\n",
              "\n",
              "    [theme=dark] .colab-df-convert:hover {\n",
              "      background-color: #434B5C;\n",
              "      box-shadow: 0px 1px 3px 1px rgba(0, 0, 0, 0.15);\n",
              "      filter: drop-shadow(0px 1px 2px rgba(0, 0, 0, 0.3));\n",
              "      fill: #FFFFFF;\n",
              "    }\n",
              "  </style>\n",
              "\n",
              "      <script>\n",
              "        const buttonEl =\n",
              "          document.querySelector('#df-becba733-b230-4171-b1b5-c95d27d84760 button.colab-df-convert');\n",
              "        buttonEl.style.display =\n",
              "          google.colab.kernel.accessAllowed ? 'block' : 'none';\n",
              "\n",
              "        async function convertToInteractive(key) {\n",
              "          const element = document.querySelector('#df-becba733-b230-4171-b1b5-c95d27d84760');\n",
              "          const dataTable =\n",
              "            await google.colab.kernel.invokeFunction('convertToInteractive',\n",
              "                                                     [key], {});\n",
              "          if (!dataTable) return;\n",
              "\n",
              "          const docLinkHtml = 'Like what you see? Visit the ' +\n",
              "            '<a target=\"_blank\" href=https://colab.research.google.com/notebooks/data_table.ipynb>data table notebook</a>'\n",
              "            + ' to learn more about interactive tables.';\n",
              "          element.innerHTML = '';\n",
              "          dataTable['output_type'] = 'display_data';\n",
              "          await google.colab.output.renderOutput(dataTable, element);\n",
              "          const docLink = document.createElement('div');\n",
              "          docLink.innerHTML = docLinkHtml;\n",
              "          element.appendChild(docLink);\n",
              "        }\n",
              "      </script>\n",
              "    </div>\n",
              "  </div>\n",
              "  "
            ]
          },
          "metadata": {},
          "execution_count": 141
        }
      ]
    }
  ]
}