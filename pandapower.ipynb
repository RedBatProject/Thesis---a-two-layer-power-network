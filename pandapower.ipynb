{
  "nbformat": 4,
  "nbformat_minor": 0,
  "metadata": {
    "colab": {
      "name": "pandapower.ipynb",
      "provenance": [],
      "collapsed_sections": [],
      "authorship_tag": "ABX9TyMS67Y8LE8mtPMPSbZzj7hO",
      "include_colab_link": true
    },
    "kernelspec": {
      "name": "python3",
      "display_name": "Python 3"
    },
    "language_info": {
      "name": "python"
    }
  },
  "cells": [
    {
      "cell_type": "markdown",
      "metadata": {
        "id": "view-in-github",
        "colab_type": "text"
      },
      "source": [
        "<a href=\"https://colab.research.google.com/github/rizzaesh/Thesis---a-two-layer-power-network/blob/main/pandapower.ipynb\" target=\"_parent\"><img src=\"https://colab.research.google.com/assets/colab-badge.svg\" alt=\"Open In Colab\"/></a>"
      ]
    },
    {
      "cell_type": "code",
      "execution_count": 2,
      "metadata": {
        "id": "Pw29YMiXUBZ0"
      },
      "outputs": [],
      "source": [
        "import numpy as np"
      ]
    },
    {
      "cell_type": "code",
      "source": [
        "A = np.array([[1,1,1,0,0],[0,0,-1,1,-1]])\n",
        "b = np.array([0,0,0])"
      ],
      "metadata": {
        "id": "Y6Qx1fGXUIcR"
      },
      "execution_count": 14,
      "outputs": []
    },
    {
      "cell_type": "code",
      "source": [
        "A"
      ],
      "metadata": {
        "colab": {
          "base_uri": "https://localhost:8080/"
        },
        "id": "3MmGc5cJY0Lf",
        "outputId": "a406f91c-3e19-46aa-8ba4-e13d6def4b57"
      },
      "execution_count": 9,
      "outputs": [
        {
          "output_type": "execute_result",
          "data": {
            "text/plain": [
              "array([[ 1,  1,  1,  0,  0],\n",
              "       [ 0,  0, -1,  1, -1]])"
            ]
          },
          "metadata": {},
          "execution_count": 9
        }
      ]
    },
    {
      "cell_type": "code",
      "source": [
        "b"
      ],
      "metadata": {
        "colab": {
          "base_uri": "https://localhost:8080/"
        },
        "id": "-aryOOLzZHHt",
        "outputId": "3bdb6704-9955-4dd7-b14d-401ff812eb2d"
      },
      "execution_count": 12,
      "outputs": [
        {
          "output_type": "execute_result",
          "data": {
            "text/plain": [
              "array([0, 0])"
            ]
          },
          "metadata": {},
          "execution_count": 12
        }
      ]
    },
    {
      "cell_type": "code",
      "source": [
        "c = np.linalg.solve(A,b)"
      ],
      "metadata": {
        "id": "3RdRvKGoUXqu"
      },
      "execution_count": null,
      "outputs": []
    },
    {
      "cell_type": "code",
      "source": [
        "a = np.array([[1,5 ,6], [3, 5,2]])\n",
        "b = np.array([1,1 ,5])\n",
        "x = np.linalg.solve(a, b)\n",
        "x"
      ],
      "metadata": {
        "id": "JIvBZbinZpST"
      },
      "execution_count": null,
      "outputs": []
    },
    {
      "cell_type": "code",
      "source": [
        "a = np.eye(2*3*4)\n",
        "a.shape = (2*3, 4, 2, 3, 4)\n",
        "b = np.random.randn(2*3, 4)\n",
        "# a = np.array([[1,5 ,6], [3, 5,2]])\n",
        "# b = np.array([1,1 ,5])\n",
        "x = np.linalg.tensorsolve(a, b)\n",
        "x.shape"
      ],
      "metadata": {
        "colab": {
          "base_uri": "https://localhost:8080/"
        },
        "id": "RF5-1nf4bOXc",
        "outputId": "ba7caebc-41a5-459b-f4d0-4572f4ca2590"
      },
      "execution_count": 44,
      "outputs": [
        {
          "output_type": "execute_result",
          "data": {
            "text/plain": [
              "(2, 3, 4)"
            ]
          },
          "metadata": {},
          "execution_count": 44
        }
      ]
    },
    {
      "cell_type": "code",
      "source": [
        "R = np.matrix('50 0 -30; 0 40 -20; -30 -20 100')\n",
        "V = np.matrix('80; 80; 0')\n",
        "I = np.linalg.inv(R) * V\n",
        "print(I)"
      ],
      "metadata": {
        "colab": {
          "base_uri": "https://localhost:8080/"
        },
        "id": "iQIUKO1kaBhG",
        "outputId": "f23d92ef-a729-440f-818a-65a4b36bf73f"
      },
      "execution_count": 46,
      "outputs": [
        {
          "output_type": "stream",
          "name": "stdout",
          "text": [
            "[[2.33333333]\n",
            " [2.61111111]\n",
            " [1.22222222]]\n"
          ]
        }
      ]
    },
    {
      "cell_type": "code",
      "source": [
        "pip install pandapower"
      ],
      "metadata": {
        "id": "NevEm5q8AfBm"
      },
      "execution_count": null,
      "outputs": []
    },
    {
      "cell_type": "code",
      "source": [
        "from pandapower.auxiliary import *\n",
        "from pandapower.convert_format import *\n",
        "from pandapower.create import *\n",
        "from pandapower.diagnostic import *\n",
        "from pandapower.file_io import *\n",
        "from pandapower.run import *\n",
        "from pandapower.runpm import *\n",
        "from pandapower.std_types import *\n",
        "from pandapower.toolbox import *\n",
        "from pandapower.powerflow import *\n",
        "from pandapower.opf import *\n",
        "from pandapower.optimal_powerflow import OPFNotConverged\n",
        "from pandapower.pf.runpp_3ph import runpp_3ph\n",
        "import pandas as pd"
      ],
      "metadata": {
        "id": "NaYAq1UUAF_N"
      },
      "execution_count": 11,
      "outputs": []
    },
    {
      "cell_type": "code",
      "source": [
        "pandapower.create_line(from_bus=1,to_bus=3)"
      ],
      "metadata": {
        "colab": {
          "base_uri": "https://localhost:8080/",
          "height": 167
        },
        "id": "Yuzgt0ybAkyc",
        "outputId": "91a7813b-da8f-4adb-a4a6-574156a570ce"
      },
      "execution_count": 10,
      "outputs": [
        {
          "output_type": "error",
          "ename": "TypeError",
          "evalue": "ignored",
          "traceback": [
            "\u001b[0;31m---------------------------------------------------------------------------\u001b[0m",
            "\u001b[0;31mTypeError\u001b[0m                                 Traceback (most recent call last)",
            "\u001b[0;32m<ipython-input-10-50012763fe16>\u001b[0m in \u001b[0;36m<module>\u001b[0;34m()\u001b[0m\n\u001b[0;32m----> 1\u001b[0;31m \u001b[0mpandapower\u001b[0m\u001b[0;34m.\u001b[0m\u001b[0mcreate_line\u001b[0m\u001b[0;34m(\u001b[0m\u001b[0mfrom_bus\u001b[0m\u001b[0;34m=\u001b[0m\u001b[0;36m1\u001b[0m\u001b[0;34m,\u001b[0m\u001b[0mto_bus\u001b[0m\u001b[0;34m=\u001b[0m\u001b[0;36m3\u001b[0m\u001b[0;34m)\u001b[0m\u001b[0;34m\u001b[0m\u001b[0;34m\u001b[0m\u001b[0m\n\u001b[0m",
            "\u001b[0;31mTypeError\u001b[0m: create_line() missing 3 required positional arguments: 'net', 'length_km', and 'std_type'"
          ]
        }
      ]
    }
  ]
}